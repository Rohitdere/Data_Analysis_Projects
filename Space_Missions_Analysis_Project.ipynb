{
 "cells": [
  {
   "cell_type": "markdown",
   "metadata": {
    "id": "ka_FkvXBiABo"
   },
   "source": [
    "# Introduction"
   ]
  },
  {
   "cell_type": "markdown",
   "metadata": {
    "id": "AWaMmfxXa-p0",
    "papermill": {
     "duration": 0.035434,
     "end_time": "2020-10-20T21:34:01.886225",
     "exception": false,
     "start_time": "2020-10-20T21:34:01.850791",
     "status": "completed"
    },
    "tags": []
   },
   "source": [
    "\n",
    "This dataset was scraped from [nextspaceflight.com](https://nextspaceflight.com/launches/past/?page=1) and includes all the space missions since the beginning of Space Race between the USA and the Soviet Union in 1957!"
   ]
  },
  {
   "cell_type": "markdown",
   "metadata": {
    "id": "ErFDBihUi1jN"
   },
   "source": [
    "### Import Statements"
   ]
  },
  {
   "cell_type": "code",
   "execution_count": 317,
   "metadata": {
    "_cell_guid": "b1076dfc-b9ad-4769-8c92-a6c4dae69d19",
    "_kg_hide-input": true,
    "_kg_hide-output": true,
    "_uuid": "8f2839f25d086af736a60e9eeb907d3b93b6e0e5",
    "colab": {
     "base_uri": "https://localhost:8080/"
    },
    "id": "xdolY0-Sa-p1",
    "outputId": "7142dedb-82e9-457d-db44-cea4e121bdfe",
    "papermill": {
     "duration": 1.665326,
     "end_time": "2020-10-20T21:34:03.726995",
     "exception": false,
     "start_time": "2020-10-20T21:34:02.061669",
     "status": "completed"
    },
    "tags": []
   },
   "outputs": [],
   "source": [
    "import pandas as pd\n",
    "import plotly.express as px\n",
    "from datetime import datetime, timedelta"
   ]
  },
  {
   "cell_type": "markdown",
   "metadata": {
    "id": "lovGPRgKxIgo"
   },
   "source": [
    "### Notebook Presentation"
   ]
  },
  {
   "cell_type": "code",
   "execution_count": 318,
   "metadata": {
    "id": "DHEULCOjxIIm"
   },
   "outputs": [],
   "source": [
    "pd.options.display.float_format = '{:,.2f}'.format"
   ]
  },
  {
   "cell_type": "markdown",
   "metadata": {
    "id": "yaT3QbjEa-p4",
    "papermill": {
     "duration": 0.034606,
     "end_time": "2020-10-20T21:34:03.798396",
     "exception": false,
     "start_time": "2020-10-20T21:34:03.763790",
     "status": "completed"
    },
    "tags": []
   },
   "source": [
    "### Load the Data"
   ]
  },
  {
   "cell_type": "code",
   "execution_count": 319,
   "metadata": {
    "_cell_guid": "79c7e3d0-c299-4dcb-8224-4455121ee9b0",
    "_kg_hide-input": true,
    "_uuid": "d629ff2d2480ee46fbb7e2d37f6b5fab8052498a",
    "id": "0lDOu8aka-p4",
    "papermill": {
     "duration": 0.08876,
     "end_time": "2020-10-20T21:34:03.922028",
     "exception": false,
     "start_time": "2020-10-20T21:34:03.833268",
     "status": "completed"
    },
    "tags": []
   },
   "outputs": [],
   "source": [
    "df_data = pd.read_csv('mission_launches.csv')"
   ]
  },
  {
   "cell_type": "markdown",
   "metadata": {
    "id": "jAnMiVcVjuKB"
   },
   "source": [
    "# Preliminary Data Exploration"
   ]
  },
  {
   "cell_type": "code",
   "execution_count": 320,
   "metadata": {
    "id": "0tIuYcYNlPFQ",
    "scrolled": true
   },
   "outputs": [
    {
     "name": "stdout",
     "output_type": "stream",
     "text": [
      "(4324, 9)\n",
      "Index(['Unnamed: 0.1', 'Unnamed: 0', 'Organisation', 'Location', 'Date',\n",
      "       'Detail', 'Rocket_Status', 'Price', 'Mission_Status'],\n",
      "      dtype='object')\n"
     ]
    }
   ],
   "source": [
    "print(df_data.shape)\n",
    "print(df_data.columns)\n"
   ]
  },
  {
   "cell_type": "code",
   "execution_count": 321,
   "metadata": {
    "id": "0dw2hd9UlPmP"
   },
   "outputs": [
    {
     "data": {
      "text/html": [
       "<div>\n",
       "<style scoped>\n",
       "    .dataframe tbody tr th:only-of-type {\n",
       "        vertical-align: middle;\n",
       "    }\n",
       "\n",
       "    .dataframe tbody tr th {\n",
       "        vertical-align: top;\n",
       "    }\n",
       "\n",
       "    .dataframe thead th {\n",
       "        text-align: right;\n",
       "    }\n",
       "</style>\n",
       "<table border=\"1\" class=\"dataframe\">\n",
       "  <thead>\n",
       "    <tr style=\"text-align: right;\">\n",
       "      <th></th>\n",
       "      <th>Unnamed: 0.1</th>\n",
       "      <th>Unnamed: 0</th>\n",
       "      <th>Organisation</th>\n",
       "      <th>Location</th>\n",
       "      <th>Date</th>\n",
       "      <th>Detail</th>\n",
       "      <th>Rocket_Status</th>\n",
       "      <th>Price</th>\n",
       "      <th>Mission_Status</th>\n",
       "    </tr>\n",
       "  </thead>\n",
       "  <tbody>\n",
       "    <tr>\n",
       "      <th>0</th>\n",
       "      <td>0</td>\n",
       "      <td>0</td>\n",
       "      <td>SpaceX</td>\n",
       "      <td>LC-39A, Kennedy Space Center, Florida, USA</td>\n",
       "      <td>Fri Aug 07, 2020 05:12 UTC</td>\n",
       "      <td>Falcon 9 Block 5 | Starlink V1 L9 &amp; BlackSky</td>\n",
       "      <td>StatusActive</td>\n",
       "      <td>50.0</td>\n",
       "      <td>Success</td>\n",
       "    </tr>\n",
       "    <tr>\n",
       "      <th>1</th>\n",
       "      <td>1</td>\n",
       "      <td>1</td>\n",
       "      <td>CASC</td>\n",
       "      <td>Site 9401 (SLS-2), Jiuquan Satellite Launch Ce...</td>\n",
       "      <td>Thu Aug 06, 2020 04:01 UTC</td>\n",
       "      <td>Long March 2D | Gaofen-9 04 &amp; Q-SAT</td>\n",
       "      <td>StatusActive</td>\n",
       "      <td>29.75</td>\n",
       "      <td>Success</td>\n",
       "    </tr>\n",
       "    <tr>\n",
       "      <th>2</th>\n",
       "      <td>2</td>\n",
       "      <td>2</td>\n",
       "      <td>SpaceX</td>\n",
       "      <td>Pad A, Boca Chica, Texas, USA</td>\n",
       "      <td>Tue Aug 04, 2020 23:57 UTC</td>\n",
       "      <td>Starship Prototype | 150 Meter Hop</td>\n",
       "      <td>StatusActive</td>\n",
       "      <td>NaN</td>\n",
       "      <td>Success</td>\n",
       "    </tr>\n",
       "    <tr>\n",
       "      <th>3</th>\n",
       "      <td>3</td>\n",
       "      <td>3</td>\n",
       "      <td>Roscosmos</td>\n",
       "      <td>Site 200/39, Baikonur Cosmodrome, Kazakhstan</td>\n",
       "      <td>Thu Jul 30, 2020 21:25 UTC</td>\n",
       "      <td>Proton-M/Briz-M | Ekspress-80 &amp; Ekspress-103</td>\n",
       "      <td>StatusActive</td>\n",
       "      <td>65.0</td>\n",
       "      <td>Success</td>\n",
       "    </tr>\n",
       "    <tr>\n",
       "      <th>4</th>\n",
       "      <td>4</td>\n",
       "      <td>4</td>\n",
       "      <td>ULA</td>\n",
       "      <td>SLC-41, Cape Canaveral AFS, Florida, USA</td>\n",
       "      <td>Thu Jul 30, 2020 11:50 UTC</td>\n",
       "      <td>Atlas V 541 | Perseverance</td>\n",
       "      <td>StatusActive</td>\n",
       "      <td>145.0</td>\n",
       "      <td>Success</td>\n",
       "    </tr>\n",
       "  </tbody>\n",
       "</table>\n",
       "</div>"
      ],
      "text/plain": [
       "   Unnamed: 0.1  Unnamed: 0 Organisation  \\\n",
       "0             0           0       SpaceX   \n",
       "1             1           1         CASC   \n",
       "2             2           2       SpaceX   \n",
       "3             3           3    Roscosmos   \n",
       "4             4           4          ULA   \n",
       "\n",
       "                                            Location  \\\n",
       "0         LC-39A, Kennedy Space Center, Florida, USA   \n",
       "1  Site 9401 (SLS-2), Jiuquan Satellite Launch Ce...   \n",
       "2                      Pad A, Boca Chica, Texas, USA   \n",
       "3       Site 200/39, Baikonur Cosmodrome, Kazakhstan   \n",
       "4           SLC-41, Cape Canaveral AFS, Florida, USA   \n",
       "\n",
       "                         Date                                        Detail  \\\n",
       "0  Fri Aug 07, 2020 05:12 UTC  Falcon 9 Block 5 | Starlink V1 L9 & BlackSky   \n",
       "1  Thu Aug 06, 2020 04:01 UTC           Long March 2D | Gaofen-9 04 & Q-SAT   \n",
       "2  Tue Aug 04, 2020 23:57 UTC            Starship Prototype | 150 Meter Hop   \n",
       "3  Thu Jul 30, 2020 21:25 UTC  Proton-M/Briz-M | Ekspress-80 & Ekspress-103   \n",
       "4  Thu Jul 30, 2020 11:50 UTC                    Atlas V 541 | Perseverance   \n",
       "\n",
       "  Rocket_Status  Price Mission_Status  \n",
       "0  StatusActive   50.0        Success  \n",
       "1  StatusActive  29.75        Success  \n",
       "2  StatusActive    NaN        Success  \n",
       "3  StatusActive   65.0        Success  \n",
       "4  StatusActive  145.0        Success  "
      ]
     },
     "execution_count": 321,
     "metadata": {},
     "output_type": "execute_result"
    }
   ],
   "source": [
    "df_data.head(5)"
   ]
  },
  {
   "cell_type": "markdown",
   "metadata": {
    "id": "KUN30y6ja-p9",
    "papermill": {
     "duration": 0.05406,
     "end_time": "2020-10-20T21:34:04.149973",
     "exception": false,
     "start_time": "2020-10-20T21:34:04.095913",
     "status": "completed"
    },
    "tags": []
   },
   "source": [
    "## Data Cleaning - Check for Missing Values and Duplicates\n",
    " "
   ]
  },
  {
   "cell_type": "code",
   "execution_count": 355,
   "metadata": {
    "id": "wWQvnJb0k2Ig"
   },
   "outputs": [
    {
     "name": "stdout",
     "output_type": "stream",
     "text": [
      "False\n",
      "False\n",
      "(964, 8)\n"
     ]
    }
   ],
   "source": [
    "cleaned_data = df_data.dropna().reset_index()\n",
    "cleaned_data.isna().values.any()\n",
    "print(cleaned_data.isnull().values.any())\n",
    "print(cleaned_data.duplicated().values.any())\n",
    "cleaned_data = cleaned_data.drop(columns=['Unnamed: 0.1','Unnamed: 0'])\n",
    "print(cleaned_data.shape)"
   ]
  },
  {
   "cell_type": "code",
   "execution_count": 323,
   "metadata": {
    "id": "SfxVooCYk2As"
   },
   "outputs": [
    {
     "data": {
      "text/html": [
       "<div>\n",
       "<style scoped>\n",
       "    .dataframe tbody tr th:only-of-type {\n",
       "        vertical-align: middle;\n",
       "    }\n",
       "\n",
       "    .dataframe tbody tr th {\n",
       "        vertical-align: top;\n",
       "    }\n",
       "\n",
       "    .dataframe thead th {\n",
       "        text-align: right;\n",
       "    }\n",
       "</style>\n",
       "<table border=\"1\" class=\"dataframe\">\n",
       "  <thead>\n",
       "    <tr style=\"text-align: right;\">\n",
       "      <th></th>\n",
       "      <th>index</th>\n",
       "      <th>Organisation</th>\n",
       "      <th>Location</th>\n",
       "      <th>Date</th>\n",
       "      <th>Detail</th>\n",
       "      <th>Rocket_Status</th>\n",
       "      <th>Price</th>\n",
       "      <th>Mission_Status</th>\n",
       "    </tr>\n",
       "  </thead>\n",
       "  <tbody>\n",
       "    <tr>\n",
       "      <th>959</th>\n",
       "      <td>3855</td>\n",
       "      <td>US Air Force</td>\n",
       "      <td>SLC-4W, Vandenberg AFB, California, USA</td>\n",
       "      <td>Fri Jul 29, 1966 18:43 UTC</td>\n",
       "      <td>Titan IIIB | KH-8</td>\n",
       "      <td>StatusRetired</td>\n",
       "      <td>59.0</td>\n",
       "      <td>Success</td>\n",
       "    </tr>\n",
       "    <tr>\n",
       "      <th>960</th>\n",
       "      <td>3971</td>\n",
       "      <td>US Air Force</td>\n",
       "      <td>SLC-20, Cape Canaveral AFS, Florida, USA</td>\n",
       "      <td>Thu May 06, 1965 15:00 UTC</td>\n",
       "      <td>Titan IIIA | LES 2 &amp; LCS 1</td>\n",
       "      <td>StatusRetired</td>\n",
       "      <td>63.23</td>\n",
       "      <td>Success</td>\n",
       "    </tr>\n",
       "    <tr>\n",
       "      <th>961</th>\n",
       "      <td>3993</td>\n",
       "      <td>US Air Force</td>\n",
       "      <td>SLC-20, Cape Canaveral AFS, Florida, USA</td>\n",
       "      <td>Thu Feb 11, 1965 15:19 UTC</td>\n",
       "      <td>Titan IIIA | LES 1</td>\n",
       "      <td>StatusRetired</td>\n",
       "      <td>63.23</td>\n",
       "      <td>Success</td>\n",
       "    </tr>\n",
       "    <tr>\n",
       "      <th>962</th>\n",
       "      <td>4000</td>\n",
       "      <td>US Air Force</td>\n",
       "      <td>SLC-20, Cape Canaveral AFS, Florida, USA</td>\n",
       "      <td>Thu Dec 10, 1964 16:52 UTC</td>\n",
       "      <td>Titan IIIA | Transtage 2</td>\n",
       "      <td>StatusRetired</td>\n",
       "      <td>63.23</td>\n",
       "      <td>Success</td>\n",
       "    </tr>\n",
       "    <tr>\n",
       "      <th>963</th>\n",
       "      <td>4020</td>\n",
       "      <td>US Air Force</td>\n",
       "      <td>SLC-20, Cape Canaveral AFS, Florida, USA</td>\n",
       "      <td>Tue Sep 01, 1964 15:00 UTC</td>\n",
       "      <td>Titan IIIA | Transtage 1</td>\n",
       "      <td>StatusRetired</td>\n",
       "      <td>63.23</td>\n",
       "      <td>Failure</td>\n",
       "    </tr>\n",
       "  </tbody>\n",
       "</table>\n",
       "</div>"
      ],
      "text/plain": [
       "     index  Organisation                                  Location  \\\n",
       "959   3855  US Air Force   SLC-4W, Vandenberg AFB, California, USA   \n",
       "960   3971  US Air Force  SLC-20, Cape Canaveral AFS, Florida, USA   \n",
       "961   3993  US Air Force  SLC-20, Cape Canaveral AFS, Florida, USA   \n",
       "962   4000  US Air Force  SLC-20, Cape Canaveral AFS, Florida, USA   \n",
       "963   4020  US Air Force  SLC-20, Cape Canaveral AFS, Florida, USA   \n",
       "\n",
       "                           Date                      Detail  Rocket_Status  \\\n",
       "959  Fri Jul 29, 1966 18:43 UTC           Titan IIIB | KH-8  StatusRetired   \n",
       "960  Thu May 06, 1965 15:00 UTC  Titan IIIA | LES 2 & LCS 1  StatusRetired   \n",
       "961  Thu Feb 11, 1965 15:19 UTC          Titan IIIA | LES 1  StatusRetired   \n",
       "962  Thu Dec 10, 1964 16:52 UTC    Titan IIIA | Transtage 2  StatusRetired   \n",
       "963  Tue Sep 01, 1964 15:00 UTC    Titan IIIA | Transtage 1  StatusRetired   \n",
       "\n",
       "     Price Mission_Status  \n",
       "959   59.0        Success  \n",
       "960  63.23        Success  \n",
       "961  63.23        Success  \n",
       "962  63.23        Success  \n",
       "963  63.23        Failure  "
      ]
     },
     "execution_count": 323,
     "metadata": {},
     "output_type": "execute_result"
    }
   ],
   "source": [
    "cleaned_data.tail(5)"
   ]
  },
  {
   "cell_type": "markdown",
   "metadata": {
    "id": "QHon_T5sa-p_",
    "papermill": {
     "duration": 0.036712,
     "end_time": "2020-10-20T21:34:05.227032",
     "exception": false,
     "start_time": "2020-10-20T21:34:05.190320",
     "status": "completed"
    },
    "tags": []
   },
   "source": [
    "## Descriptive Statistics"
   ]
  },
  {
   "cell_type": "code",
   "execution_count": 324,
   "metadata": {
    "id": "Fh1-libjkJIK"
   },
   "outputs": [
    {
     "name": "stdout",
     "output_type": "stream",
     "text": [
      "index              int64\n",
      "Organisation      object\n",
      "Location          object\n",
      "Date              object\n",
      "Detail            object\n",
      "Rocket_Status     object\n",
      "Price             object\n",
      "Mission_Status    object\n",
      "dtype: object\n"
     ]
    },
    {
     "data": {
      "text/html": [
       "<div>\n",
       "<style scoped>\n",
       "    .dataframe tbody tr th:only-of-type {\n",
       "        vertical-align: middle;\n",
       "    }\n",
       "\n",
       "    .dataframe tbody tr th {\n",
       "        vertical-align: top;\n",
       "    }\n",
       "\n",
       "    .dataframe thead th {\n",
       "        text-align: right;\n",
       "    }\n",
       "</style>\n",
       "<table border=\"1\" class=\"dataframe\">\n",
       "  <thead>\n",
       "    <tr style=\"text-align: right;\">\n",
       "      <th></th>\n",
       "      <th>index</th>\n",
       "    </tr>\n",
       "  </thead>\n",
       "  <tbody>\n",
       "    <tr>\n",
       "      <th>count</th>\n",
       "      <td>964.00</td>\n",
       "    </tr>\n",
       "    <tr>\n",
       "      <th>mean</th>\n",
       "      <td>858.49</td>\n",
       "    </tr>\n",
       "    <tr>\n",
       "      <th>std</th>\n",
       "      <td>784.21</td>\n",
       "    </tr>\n",
       "    <tr>\n",
       "      <th>min</th>\n",
       "      <td>0.00</td>\n",
       "    </tr>\n",
       "    <tr>\n",
       "      <th>25%</th>\n",
       "      <td>324.75</td>\n",
       "    </tr>\n",
       "    <tr>\n",
       "      <th>50%</th>\n",
       "      <td>660.50</td>\n",
       "    </tr>\n",
       "    <tr>\n",
       "      <th>75%</th>\n",
       "      <td>1,112.00</td>\n",
       "    </tr>\n",
       "    <tr>\n",
       "      <th>max</th>\n",
       "      <td>4,020.00</td>\n",
       "    </tr>\n",
       "  </tbody>\n",
       "</table>\n",
       "</div>"
      ],
      "text/plain": [
       "         index\n",
       "count   964.00\n",
       "mean    858.49\n",
       "std     784.21\n",
       "min       0.00\n",
       "25%     324.75\n",
       "50%     660.50\n",
       "75%   1,112.00\n",
       "max   4,020.00"
      ]
     },
     "execution_count": 324,
     "metadata": {},
     "output_type": "execute_result"
    }
   ],
   "source": [
    "print(cleaned_data.dtypes)\n",
    "cleaned_data.describe()"
   ]
  },
  {
   "cell_type": "code",
   "execution_count": 325,
   "metadata": {
    "id": "dGZa5HdbkJBT"
   },
   "outputs": [],
   "source": [
    "cleaned_data[\"Price\"] = pd.to_numeric(cleaned_data[\"Price\"].str.replace(\",\",\"\",regex=False))\n",
    "cleaned_data['Price'] = cleaned_data['Price'].round(2)"
   ]
  },
  {
   "cell_type": "markdown",
   "metadata": {
    "id": "cgCjcpeUkKPW"
   },
   "source": [
    "# Number of Launches per Company"
   ]
  },
  {
   "cell_type": "code",
   "execution_count": 326,
   "metadata": {
    "id": "rxvcIrtskxYB"
   },
   "outputs": [
    {
     "data": {
      "text/html": [
       "<div>\n",
       "<style scoped>\n",
       "    .dataframe tbody tr th:only-of-type {\n",
       "        vertical-align: middle;\n",
       "    }\n",
       "\n",
       "    .dataframe tbody tr th {\n",
       "        vertical-align: top;\n",
       "    }\n",
       "\n",
       "    .dataframe thead th {\n",
       "        text-align: right;\n",
       "    }\n",
       "</style>\n",
       "<table border=\"1\" class=\"dataframe\">\n",
       "  <thead>\n",
       "    <tr style=\"text-align: right;\">\n",
       "      <th></th>\n",
       "      <th>Organisation</th>\n",
       "      <th>index</th>\n",
       "      <th>Location</th>\n",
       "      <th>Date</th>\n",
       "      <th>Detail</th>\n",
       "      <th>Rocket_Status</th>\n",
       "      <th>Price</th>\n",
       "      <th>Mission_Status</th>\n",
       "    </tr>\n",
       "  </thead>\n",
       "  <tbody>\n",
       "    <tr>\n",
       "      <th>0</th>\n",
       "      <td>CASC</td>\n",
       "      <td>158</td>\n",
       "      <td>158</td>\n",
       "      <td>158</td>\n",
       "      <td>158</td>\n",
       "      <td>158</td>\n",
       "      <td>158</td>\n",
       "      <td>158</td>\n",
       "    </tr>\n",
       "    <tr>\n",
       "      <th>1</th>\n",
       "      <td>NASA</td>\n",
       "      <td>149</td>\n",
       "      <td>149</td>\n",
       "      <td>149</td>\n",
       "      <td>149</td>\n",
       "      <td>149</td>\n",
       "      <td>149</td>\n",
       "      <td>149</td>\n",
       "    </tr>\n",
       "  </tbody>\n",
       "</table>\n",
       "</div>"
      ],
      "text/plain": [
       "  Organisation  index  Location  Date  Detail  Rocket_Status  Price  \\\n",
       "0         CASC    158       158   158     158            158    158   \n",
       "1         NASA    149       149   149     149            149    149   \n",
       "\n",
       "   Mission_Status  \n",
       "0             158  \n",
       "1             149  "
      ]
     },
     "execution_count": 326,
     "metadata": {},
     "output_type": "execute_result"
    }
   ],
   "source": [
    "launches_per_company = cleaned_data.groupby(\"Organisation\").count().sort_values(by=\"index\",ascending=False).reset_index()\n",
    "launches_per_company.head(2)"
   ]
  },
  {
   "cell_type": "code",
   "execution_count": 327,
   "metadata": {
    "id": "qgneHUbWkw5v"
   },
   "outputs": [
    {
     "data": {
      "application/vnd.plotly.v1+json": {
       "config": {
        "plotlyServerURL": "https://plot.ly"
       },
       "data": [
        {
         "hovertemplate": "x=%{x}<br>y=%{y}<extra></extra>",
         "legendgroup": "",
         "marker": {
          "color": "#636efa",
          "pattern": {
           "shape": ""
          }
         },
         "name": "",
         "orientation": "v",
         "showlegend": false,
         "textposition": "outside",
         "texttemplate": "%{y}",
         "type": "bar",
         "x": [
          "CASC",
          "NASA",
          "SpaceX",
          "ULA",
          "Arianespace",
          "Northrop",
          "ISRO",
          "MHI",
          "VKS RF",
          "US Air Force",
          "Roscosmos",
          "Kosmotras",
          "ILS",
          "Eurockot",
          "Rocket Lab",
          "Martin Marietta",
          "Lockheed",
          "Boeing",
          "JAXA",
          "RVSN USSR",
          "ESA",
          "EER",
          "Sandia",
          "ExPace",
          "Virgin Orbit"
         ],
         "xaxis": "x",
         "y": {
          "_inputArray": {
           "0": 158,
           "1": 149,
           "10": 23,
           "11": 22,
           "12": 13,
           "13": 13,
           "14": 13,
           "15": 9,
           "16": 8,
           "17": 7,
           "18": 3,
           "19": 2,
           "2": 99,
           "20": 1,
           "21": 1,
           "22": 1,
           "23": 1,
           "24": 1,
           "3": 98,
           "4": 96,
           "5": 83,
           "6": 67,
           "7": 37,
           "8": 33,
           "9": 26,
           "bdata": "ngCVAGMAYgBgAFMAQwAlACEAGgAXABYADQANAA0ACQAIAAcAAwACAAEAAQABAAEAAQA=",
           "dtype": "i2",
           "shape": "25"
          },
          "bdata": "ngCVAGMAYgBgAFMAQwAlACEAGgAXABYADQANAA0ACQAIAAcAAwACAAEAAQABAAEAAQA=",
          "dtype": "i2"
         },
         "yaxis": "y"
        }
       ],
       "layout": {
        "barmode": "relative",
        "height": 600,
        "legend": {
         "tracegroupgap": 0
        },
        "template": {
         "data": {
          "bar": [
           {
            "error_x": {
             "color": "#2a3f5f"
            },
            "error_y": {
             "color": "#2a3f5f"
            },
            "marker": {
             "line": {
              "color": "white",
              "width": 0.5
             },
             "pattern": {
              "fillmode": "overlay",
              "size": 10,
              "solidity": 0.2
             }
            },
            "type": "bar"
           }
          ],
          "barpolar": [
           {
            "marker": {
             "line": {
              "color": "white",
              "width": 0.5
             },
             "pattern": {
              "fillmode": "overlay",
              "size": 10,
              "solidity": 0.2
             }
            },
            "type": "barpolar"
           }
          ],
          "carpet": [
           {
            "aaxis": {
             "endlinecolor": "#2a3f5f",
             "gridcolor": "#C8D4E3",
             "linecolor": "#C8D4E3",
             "minorgridcolor": "#C8D4E3",
             "startlinecolor": "#2a3f5f"
            },
            "baxis": {
             "endlinecolor": "#2a3f5f",
             "gridcolor": "#C8D4E3",
             "linecolor": "#C8D4E3",
             "minorgridcolor": "#C8D4E3",
             "startlinecolor": "#2a3f5f"
            },
            "type": "carpet"
           }
          ],
          "choropleth": [
           {
            "colorbar": {
             "outlinewidth": 0,
             "ticks": ""
            },
            "type": "choropleth"
           }
          ],
          "contour": [
           {
            "colorbar": {
             "outlinewidth": 0,
             "ticks": ""
            },
            "colorscale": [
             [
              0,
              "#0d0887"
             ],
             [
              0.1111111111111111,
              "#46039f"
             ],
             [
              0.2222222222222222,
              "#7201a8"
             ],
             [
              0.3333333333333333,
              "#9c179e"
             ],
             [
              0.4444444444444444,
              "#bd3786"
             ],
             [
              0.5555555555555556,
              "#d8576b"
             ],
             [
              0.6666666666666666,
              "#ed7953"
             ],
             [
              0.7777777777777778,
              "#fb9f3a"
             ],
             [
              0.8888888888888888,
              "#fdca26"
             ],
             [
              1,
              "#f0f921"
             ]
            ],
            "type": "contour"
           }
          ],
          "contourcarpet": [
           {
            "colorbar": {
             "outlinewidth": 0,
             "ticks": ""
            },
            "type": "contourcarpet"
           }
          ],
          "heatmap": [
           {
            "colorbar": {
             "outlinewidth": 0,
             "ticks": ""
            },
            "colorscale": [
             [
              0,
              "#0d0887"
             ],
             [
              0.1111111111111111,
              "#46039f"
             ],
             [
              0.2222222222222222,
              "#7201a8"
             ],
             [
              0.3333333333333333,
              "#9c179e"
             ],
             [
              0.4444444444444444,
              "#bd3786"
             ],
             [
              0.5555555555555556,
              "#d8576b"
             ],
             [
              0.6666666666666666,
              "#ed7953"
             ],
             [
              0.7777777777777778,
              "#fb9f3a"
             ],
             [
              0.8888888888888888,
              "#fdca26"
             ],
             [
              1,
              "#f0f921"
             ]
            ],
            "type": "heatmap"
           }
          ],
          "histogram": [
           {
            "marker": {
             "pattern": {
              "fillmode": "overlay",
              "size": 10,
              "solidity": 0.2
             }
            },
            "type": "histogram"
           }
          ],
          "histogram2d": [
           {
            "colorbar": {
             "outlinewidth": 0,
             "ticks": ""
            },
            "colorscale": [
             [
              0,
              "#0d0887"
             ],
             [
              0.1111111111111111,
              "#46039f"
             ],
             [
              0.2222222222222222,
              "#7201a8"
             ],
             [
              0.3333333333333333,
              "#9c179e"
             ],
             [
              0.4444444444444444,
              "#bd3786"
             ],
             [
              0.5555555555555556,
              "#d8576b"
             ],
             [
              0.6666666666666666,
              "#ed7953"
             ],
             [
              0.7777777777777778,
              "#fb9f3a"
             ],
             [
              0.8888888888888888,
              "#fdca26"
             ],
             [
              1,
              "#f0f921"
             ]
            ],
            "type": "histogram2d"
           }
          ],
          "histogram2dcontour": [
           {
            "colorbar": {
             "outlinewidth": 0,
             "ticks": ""
            },
            "colorscale": [
             [
              0,
              "#0d0887"
             ],
             [
              0.1111111111111111,
              "#46039f"
             ],
             [
              0.2222222222222222,
              "#7201a8"
             ],
             [
              0.3333333333333333,
              "#9c179e"
             ],
             [
              0.4444444444444444,
              "#bd3786"
             ],
             [
              0.5555555555555556,
              "#d8576b"
             ],
             [
              0.6666666666666666,
              "#ed7953"
             ],
             [
              0.7777777777777778,
              "#fb9f3a"
             ],
             [
              0.8888888888888888,
              "#fdca26"
             ],
             [
              1,
              "#f0f921"
             ]
            ],
            "type": "histogram2dcontour"
           }
          ],
          "mesh3d": [
           {
            "colorbar": {
             "outlinewidth": 0,
             "ticks": ""
            },
            "type": "mesh3d"
           }
          ],
          "parcoords": [
           {
            "line": {
             "colorbar": {
              "outlinewidth": 0,
              "ticks": ""
             }
            },
            "type": "parcoords"
           }
          ],
          "pie": [
           {
            "automargin": true,
            "type": "pie"
           }
          ],
          "scatter": [
           {
            "fillpattern": {
             "fillmode": "overlay",
             "size": 10,
             "solidity": 0.2
            },
            "type": "scatter"
           }
          ],
          "scatter3d": [
           {
            "line": {
             "colorbar": {
              "outlinewidth": 0,
              "ticks": ""
             }
            },
            "marker": {
             "colorbar": {
              "outlinewidth": 0,
              "ticks": ""
             }
            },
            "type": "scatter3d"
           }
          ],
          "scattercarpet": [
           {
            "marker": {
             "colorbar": {
              "outlinewidth": 0,
              "ticks": ""
             }
            },
            "type": "scattercarpet"
           }
          ],
          "scattergeo": [
           {
            "marker": {
             "colorbar": {
              "outlinewidth": 0,
              "ticks": ""
             }
            },
            "type": "scattergeo"
           }
          ],
          "scattergl": [
           {
            "marker": {
             "colorbar": {
              "outlinewidth": 0,
              "ticks": ""
             }
            },
            "type": "scattergl"
           }
          ],
          "scattermap": [
           {
            "marker": {
             "colorbar": {
              "outlinewidth": 0,
              "ticks": ""
             }
            },
            "type": "scattermap"
           }
          ],
          "scattermapbox": [
           {
            "marker": {
             "colorbar": {
              "outlinewidth": 0,
              "ticks": ""
             }
            },
            "type": "scattermapbox"
           }
          ],
          "scatterpolar": [
           {
            "marker": {
             "colorbar": {
              "outlinewidth": 0,
              "ticks": ""
             }
            },
            "type": "scatterpolar"
           }
          ],
          "scatterpolargl": [
           {
            "marker": {
             "colorbar": {
              "outlinewidth": 0,
              "ticks": ""
             }
            },
            "type": "scatterpolargl"
           }
          ],
          "scatterternary": [
           {
            "marker": {
             "colorbar": {
              "outlinewidth": 0,
              "ticks": ""
             }
            },
            "type": "scatterternary"
           }
          ],
          "surface": [
           {
            "colorbar": {
             "outlinewidth": 0,
             "ticks": ""
            },
            "colorscale": [
             [
              0,
              "#0d0887"
             ],
             [
              0.1111111111111111,
              "#46039f"
             ],
             [
              0.2222222222222222,
              "#7201a8"
             ],
             [
              0.3333333333333333,
              "#9c179e"
             ],
             [
              0.4444444444444444,
              "#bd3786"
             ],
             [
              0.5555555555555556,
              "#d8576b"
             ],
             [
              0.6666666666666666,
              "#ed7953"
             ],
             [
              0.7777777777777778,
              "#fb9f3a"
             ],
             [
              0.8888888888888888,
              "#fdca26"
             ],
             [
              1,
              "#f0f921"
             ]
            ],
            "type": "surface"
           }
          ],
          "table": [
           {
            "cells": {
             "fill": {
              "color": "#EBF0F8"
             },
             "line": {
              "color": "white"
             }
            },
            "header": {
             "fill": {
              "color": "#C8D4E3"
             },
             "line": {
              "color": "white"
             }
            },
            "type": "table"
           }
          ]
         },
         "layout": {
          "annotationdefaults": {
           "arrowcolor": "#2a3f5f",
           "arrowhead": 0,
           "arrowwidth": 1
          },
          "autotypenumbers": "strict",
          "coloraxis": {
           "colorbar": {
            "outlinewidth": 0,
            "ticks": ""
           }
          },
          "colorscale": {
           "diverging": [
            [
             0,
             "#8e0152"
            ],
            [
             0.1,
             "#c51b7d"
            ],
            [
             0.2,
             "#de77ae"
            ],
            [
             0.3,
             "#f1b6da"
            ],
            [
             0.4,
             "#fde0ef"
            ],
            [
             0.5,
             "#f7f7f7"
            ],
            [
             0.6,
             "#e6f5d0"
            ],
            [
             0.7,
             "#b8e186"
            ],
            [
             0.8,
             "#7fbc41"
            ],
            [
             0.9,
             "#4d9221"
            ],
            [
             1,
             "#276419"
            ]
           ],
           "sequential": [
            [
             0,
             "#0d0887"
            ],
            [
             0.1111111111111111,
             "#46039f"
            ],
            [
             0.2222222222222222,
             "#7201a8"
            ],
            [
             0.3333333333333333,
             "#9c179e"
            ],
            [
             0.4444444444444444,
             "#bd3786"
            ],
            [
             0.5555555555555556,
             "#d8576b"
            ],
            [
             0.6666666666666666,
             "#ed7953"
            ],
            [
             0.7777777777777778,
             "#fb9f3a"
            ],
            [
             0.8888888888888888,
             "#fdca26"
            ],
            [
             1,
             "#f0f921"
            ]
           ],
           "sequentialminus": [
            [
             0,
             "#0d0887"
            ],
            [
             0.1111111111111111,
             "#46039f"
            ],
            [
             0.2222222222222222,
             "#7201a8"
            ],
            [
             0.3333333333333333,
             "#9c179e"
            ],
            [
             0.4444444444444444,
             "#bd3786"
            ],
            [
             0.5555555555555556,
             "#d8576b"
            ],
            [
             0.6666666666666666,
             "#ed7953"
            ],
            [
             0.7777777777777778,
             "#fb9f3a"
            ],
            [
             0.8888888888888888,
             "#fdca26"
            ],
            [
             1,
             "#f0f921"
            ]
           ]
          },
          "colorway": [
           "#636efa",
           "#EF553B",
           "#00cc96",
           "#ab63fa",
           "#FFA15A",
           "#19d3f3",
           "#FF6692",
           "#B6E880",
           "#FF97FF",
           "#FECB52"
          ],
          "font": {
           "color": "#2a3f5f"
          },
          "geo": {
           "bgcolor": "white",
           "lakecolor": "white",
           "landcolor": "white",
           "showlakes": true,
           "showland": true,
           "subunitcolor": "#C8D4E3"
          },
          "hoverlabel": {
           "align": "left"
          },
          "hovermode": "closest",
          "mapbox": {
           "style": "light"
          },
          "paper_bgcolor": "white",
          "plot_bgcolor": "white",
          "polar": {
           "angularaxis": {
            "gridcolor": "#EBF0F8",
            "linecolor": "#EBF0F8",
            "ticks": ""
           },
           "bgcolor": "white",
           "radialaxis": {
            "gridcolor": "#EBF0F8",
            "linecolor": "#EBF0F8",
            "ticks": ""
           }
          },
          "scene": {
           "xaxis": {
            "backgroundcolor": "white",
            "gridcolor": "#DFE8F3",
            "gridwidth": 2,
            "linecolor": "#EBF0F8",
            "showbackground": true,
            "ticks": "",
            "zerolinecolor": "#EBF0F8"
           },
           "yaxis": {
            "backgroundcolor": "white",
            "gridcolor": "#DFE8F3",
            "gridwidth": 2,
            "linecolor": "#EBF0F8",
            "showbackground": true,
            "ticks": "",
            "zerolinecolor": "#EBF0F8"
           },
           "zaxis": {
            "backgroundcolor": "white",
            "gridcolor": "#DFE8F3",
            "gridwidth": 2,
            "linecolor": "#EBF0F8",
            "showbackground": true,
            "ticks": "",
            "zerolinecolor": "#EBF0F8"
           }
          },
          "shapedefaults": {
           "line": {
            "color": "#2a3f5f"
           }
          },
          "ternary": {
           "aaxis": {
            "gridcolor": "#DFE8F3",
            "linecolor": "#A2B1C6",
            "ticks": ""
           },
           "baxis": {
            "gridcolor": "#DFE8F3",
            "linecolor": "#A2B1C6",
            "ticks": ""
           },
           "bgcolor": "white",
           "caxis": {
            "gridcolor": "#DFE8F3",
            "linecolor": "#A2B1C6",
            "ticks": ""
           }
          },
          "title": {
           "x": 0.05
          },
          "xaxis": {
           "automargin": true,
           "gridcolor": "#EBF0F8",
           "linecolor": "#EBF0F8",
           "ticks": "",
           "title": {
            "standoff": 15
           },
           "zerolinecolor": "#EBF0F8",
           "zerolinewidth": 2
          },
          "yaxis": {
           "automargin": true,
           "gridcolor": "#EBF0F8",
           "linecolor": "#EBF0F8",
           "ticks": "",
           "title": {
            "standoff": 15
           },
           "zerolinecolor": "#EBF0F8",
           "zerolinewidth": 2
          }
         }
        },
        "title": {
         "text": "Number of Launches per Company"
        },
        "width": 900,
        "xaxis": {
         "anchor": "y",
         "autorange": true,
         "domain": [
          0,
          1
         ],
         "range": [
          -0.5,
          24.5
         ],
         "tickangle": 65,
         "title": {
          "text": "Organisations"
         },
         "type": "category"
        },
        "yaxis": {
         "anchor": "x",
         "autorange": true,
         "domain": [
          0,
          1
         ],
         "range": [
          0,
          166.31578947368422
         ],
         "title": {
          "text": "number of launches"
         },
         "type": "linear"
        }
       }
      }
     },
     "metadata": {},
     "output_type": "display_data"
    }
   ],
   "source": [
    "fig = px.bar(x= launches_per_company[\"Organisation\"], y= launches_per_company[\"index\"], title=\"Number of Launches per Company\")\n",
    "fig.update_traces(texttemplate='%{y}', textposition='outside')\n",
    "fig.update_xaxes(title_text=\"Organisations\",tickangle=65)\n",
    "fig.update_yaxes(title_text=\"number of launches\")\n",
    "fig.update_layout(\n",
    "    height=600, \n",
    "    width=900,\n",
    "    template=\"plotly_white\"\n",
    ")\n",
    "\n",
    "fig.show()"
   ]
  },
  {
   "cell_type": "markdown",
   "metadata": {
    "id": "7Gwteht2kR_h"
   },
   "source": [
    "# Number of Active versus Retired Rockets"
   ]
  },
  {
   "cell_type": "code",
   "execution_count": 328,
   "metadata": {
    "id": "SxmOWS9cmTq6"
   },
   "outputs": [
    {
     "data": {
      "text/html": [
       "<div>\n",
       "<style scoped>\n",
       "    .dataframe tbody tr th:only-of-type {\n",
       "        vertical-align: middle;\n",
       "    }\n",
       "\n",
       "    .dataframe tbody tr th {\n",
       "        vertical-align: top;\n",
       "    }\n",
       "\n",
       "    .dataframe thead th {\n",
       "        text-align: right;\n",
       "    }\n",
       "</style>\n",
       "<table border=\"1\" class=\"dataframe\">\n",
       "  <thead>\n",
       "    <tr style=\"text-align: right;\">\n",
       "      <th></th>\n",
       "      <th>Rocket_Status</th>\n",
       "      <th>Count</th>\n",
       "    </tr>\n",
       "  </thead>\n",
       "  <tbody>\n",
       "    <tr>\n",
       "      <th>0</th>\n",
       "      <td>StatusActive</td>\n",
       "      <td>586</td>\n",
       "    </tr>\n",
       "    <tr>\n",
       "      <th>1</th>\n",
       "      <td>StatusRetired</td>\n",
       "      <td>378</td>\n",
       "    </tr>\n",
       "  </tbody>\n",
       "</table>\n",
       "</div>"
      ],
      "text/plain": [
       "   Rocket_Status  Count\n",
       "0   StatusActive    586\n",
       "1  StatusRetired    378"
      ]
     },
     "execution_count": 328,
     "metadata": {},
     "output_type": "execute_result"
    }
   ],
   "source": [
    "active_vs_retired = cleaned_data.groupby(\"Rocket_Status\").agg({\"index\":\"count\"})\n",
    "active_vs_retired = active_vs_retired.rename(columns={\"index\":\"Count\"}).reset_index()\n",
    "active_vs_retired"
   ]
  },
  {
   "cell_type": "markdown",
   "metadata": {
    "id": "y9WtP5xWkYkp"
   },
   "source": [
    "# Distribution of Mission Status"
   ]
  },
  {
   "cell_type": "code",
   "execution_count": 329,
   "metadata": {
    "id": "83kY1alqmUhb"
   },
   "outputs": [
    {
     "data": {
      "text/html": [
       "<div>\n",
       "<style scoped>\n",
       "    .dataframe tbody tr th:only-of-type {\n",
       "        vertical-align: middle;\n",
       "    }\n",
       "\n",
       "    .dataframe tbody tr th {\n",
       "        vertical-align: top;\n",
       "    }\n",
       "\n",
       "    .dataframe thead th {\n",
       "        text-align: right;\n",
       "    }\n",
       "</style>\n",
       "<table border=\"1\" class=\"dataframe\">\n",
       "  <thead>\n",
       "    <tr style=\"text-align: right;\">\n",
       "      <th></th>\n",
       "      <th>Mission_Status</th>\n",
       "      <th>Count</th>\n",
       "    </tr>\n",
       "  </thead>\n",
       "  <tbody>\n",
       "    <tr>\n",
       "      <th>0</th>\n",
       "      <td>Failure</td>\n",
       "      <td>36</td>\n",
       "    </tr>\n",
       "    <tr>\n",
       "      <th>1</th>\n",
       "      <td>Partial Failure</td>\n",
       "      <td>17</td>\n",
       "    </tr>\n",
       "    <tr>\n",
       "      <th>2</th>\n",
       "      <td>Prelaunch Failure</td>\n",
       "      <td>1</td>\n",
       "    </tr>\n",
       "    <tr>\n",
       "      <th>3</th>\n",
       "      <td>Success</td>\n",
       "      <td>910</td>\n",
       "    </tr>\n",
       "  </tbody>\n",
       "</table>\n",
       "</div>"
      ],
      "text/plain": [
       "      Mission_Status  Count\n",
       "0            Failure     36\n",
       "1    Partial Failure     17\n",
       "2  Prelaunch Failure      1\n",
       "3            Success    910"
      ]
     },
     "execution_count": 329,
     "metadata": {},
     "output_type": "execute_result"
    }
   ],
   "source": [
    "mission_status = cleaned_data.groupby(\"Mission_Status\").agg({\"index\":\"count\"})\n",
    "mission_status = mission_status.rename(columns={\"index\":\"Count\"}).reset_index()\n",
    "mission_status"
   ]
  },
  {
   "cell_type": "markdown",
   "metadata": {
    "id": "jgTCihuoa-qH",
    "papermill": {
     "duration": 0.03854,
     "end_time": "2020-10-20T21:34:05.968626",
     "exception": false,
     "start_time": "2020-10-20T21:34:05.930086",
     "status": "completed"
    },
    "tags": []
   },
   "source": [
    "# How Expensive are the Launches? "
   ]
  },
  {
   "cell_type": "code",
   "execution_count": 330,
   "metadata": {
    "id": "PLOMhzZFnSCO"
   },
   "outputs": [],
   "source": [
    "\n",
    "launch_cost = cleaned_data.groupby(\"Mission_Status\").agg({\"index\":\"count\",\n",
    "                                                            \"Price\":\"sum\"})\n",
    "launch_cost = launch_cost.rename(columns={\"index\":\"Count\"}).reset_index()"
   ]
  },
  {
   "cell_type": "code",
   "execution_count": 331,
   "metadata": {
    "id": "ru0IcY4nnSFU"
   },
   "outputs": [
    {
     "data": {
      "application/vnd.plotly.v1+json": {
       "config": {
        "plotlyServerURL": "https://plot.ly"
       },
       "data": [
        {
         "bingroup": "x",
         "hovertemplate": "Price=%{x}<br>count=%{y}<extra></extra>",
         "legendgroup": "",
         "marker": {
          "color": "#636efa",
          "pattern": {
           "shape": ""
          }
         },
         "name": "",
         "nbinsx": 50,
         "orientation": "v",
         "showlegend": false,
         "type": "histogram",
         "x": {
          "_inputArray": {
           "0": 50,
           "1": 29.75,
           "10": 29.15,
           "100": 5.3,
           "101": 65,
           "102": 50,
           "103": 64.68,
           "104": 21,
           "105": 7.5,
           "106": 50,
           "107": 64.68,
           "108": 29.15,
           "109": 85,
           "11": 29.75,
           "110": 90,
           "111": 48.5,
           "112": 21,
           "113": 29.15,
           "114": 7.5,
           "115": 37,
           "116": 29.15,
           "117": 50,
           "118": 50,
           "119": 200,
           "12": 7.5,
           "120": 5.3,
           "121": 350,
           "122": 39,
           "123": 50,
           "124": 29.15,
           "125": 48.5,
           "126": 50,
           "127": 5.3,
           "128": 65,
           "129": 47,
           "13": 64.68,
           "130": 7.5,
           "131": 29.15,
           "132": 29.75,
           "133": 50,
           "134": 200,
           "135": 50,
           "136": 41.8,
           "137": 21,
           "138": 37,
           "139": 29.75,
           "14": 50,
           "140": 85,
           "141": 50,
           "142": 62,
           "143": 7.5,
           "144": 48.5,
           "145": 29.15,
           "146": 90,
           "147": 30.8,
           "148": 35,
           "149": 64.68,
           "15": 29.15,
           "150": 200,
           "151": 153,
           "152": 30.8,
           "153": 50,
           "154": 200,
           "155": 112.5,
           "156": 21,
           "157": 50,
           "158": 30.8,
           "159": 37,
           "16": 29.75,
           "160": 350,
           "161": 50,
           "162": 64.68,
           "163": 50,
           "164": 50,
           "165": 48.5,
           "166": 69.7,
           "167": 30.8,
           "168": 62,
           "169": 30.8,
           "17": 50,
           "170": 90,
           "171": 69.7,
           "172": 62,
           "173": 29.75,
           "174": 62,
           "175": 85,
           "176": 64.68,
           "177": 50,
           "178": 64.68,
           "179": 109,
           "18": 7.5,
           "180": 29.15,
           "181": 5.3,
           "182": 41.8,
           "183": 62,
           "184": 65,
           "185": 153,
           "186": 31,
           "187": 64.68,
           "188": 200,
           "189": 62,
           "19": 30.8,
           "190": 64.68,
           "191": 62,
           "192": 47,
           "193": 29.75,
           "194": 62,
           "195": 145,
           "196": 90,
           "197": 62,
           "198": 48.5,
           "199": 90,
           "2": 65,
           "20": 50,
           "200": 29.75,
           "201": 48.5,
           "202": 62,
           "203": 200,
           "204": 30.8,
           "205": 7.5,
           "206": 115,
           "207": 5.3,
           "208": 39,
           "209": 29.75,
           "21": 29.75,
           "210": 31,
           "211": 29.75,
           "212": 62,
           "213": 30.8,
           "214": 29.75,
           "215": 62,
           "216": 90,
           "217": 62,
           "218": 29.15,
           "219": 29.75,
           "22": 50,
           "220": 35,
           "221": 30.8,
           "222": 64.68,
           "223": 85,
           "224": 37,
           "225": 45,
           "226": 62,
           "227": 123,
           "228": 48.5,
           "229": 41.8,
           "23": 5.3,
           "230": 62,
           "231": 90,
           "232": 62,
           "233": 29.75,
           "234": 200,
           "235": 30.8,
           "236": 65,
           "237": 145,
           "238": 65,
           "239": 62,
           "24": 12,
           "240": 31,
           "241": 46,
           "242": 62,
           "243": 109,
           "244": 65,
           "245": 62,
           "246": 37,
           "247": 48.5,
           "248": 62,
           "249": 200,
           "25": 112.5,
           "250": 62,
           "251": 62,
           "252": 31,
           "253": 29.15,
           "254": 64.68,
           "255": 48.5,
           "256": 65,
           "257": 62,
           "258": 62,
           "259": 200,
           "26": 120,
           "260": 90,
           "261": 7.5,
           "262": 62,
           "263": 47,
           "264": 200,
           "265": 62,
           "266": 109,
           "267": 29.15,
           "268": 62,
           "269": 90,
           "27": 48.5,
           "270": 62,
           "271": 37,
           "272": 109,
           "273": 62,
           "274": 31,
           "275": 200,
           "276": 109,
           "277": 62,
           "278": 29.15,
           "279": 29.75,
           "28": 50,
           "280": 200,
           "281": 29.75,
           "282": 130,
           "283": 40,
           "284": 29.15,
           "285": 112.5,
           "286": 31,
           "287": 37,
           "288": 145,
           "289": 29.75,
           "29": 29.15,
           "290": 109,
           "291": 5.3,
           "292": 90,
           "293": 85,
           "294": 200,
           "295": 25,
           "296": 37,
           "297": 115,
           "298": 47,
           "299": 62,
           "3": 145,
           "30": 48.5,
           "300": 64.68,
           "301": 200,
           "302": 164,
           "303": 29.75,
           "304": 62,
           "305": 64.68,
           "306": 29.15,
           "307": 123,
           "308": 62,
           "309": 64.68,
           "31": 153,
           "310": 153,
           "311": 31,
           "312": 200,
           "313": 62,
           "314": 350,
           "315": 65,
           "316": 41.8,
           "317": 64.68,
           "318": 48.5,
           "319": 62,
           "32": 30.8,
           "320": 29.75,
           "321": 62,
           "322": 31,
           "323": 62,
           "324": 29.75,
           "325": 48.5,
           "326": 69.7,
           "327": 48.5,
           "328": 109,
           "329": 65,
           "33": 48.5,
           "330": 35,
           "331": 31,
           "332": 200,
           "333": 62,
           "334": 90,
           "335": 41.8,
           "336": 48.5,
           "337": 109,
           "338": 65,
           "339": 200,
           "34": 50,
           "340": 31,
           "341": 56.5,
           "342": 29.15,
           "343": 62,
           "344": 21,
           "345": 109,
           "346": 37,
           "347": 200,
           "348": 15,
           "349": 109,
           "35": 29.15,
           "350": 109,
           "351": 123,
           "352": 200,
           "353": 31,
           "354": 5.3,
           "355": 41.8,
           "356": 153,
           "357": 47,
           "358": 200,
           "359": 112.5,
           "36": 50,
           "360": 200,
           "361": 109,
           "362": 31,
           "363": 56.5,
           "364": 37,
           "365": 200,
           "366": 120,
           "367": 56.5,
           "368": 200,
           "369": 56.5,
           "37": 48.5,
           "370": 41.8,
           "371": 31,
           "372": 90,
           "373": 29,
           "374": 164,
           "375": 123,
           "376": 56.5,
           "377": 56.5,
           "378": 37,
           "379": 90,
           "38": 29.75,
           "380": 153,
           "381": 56.5,
           "382": 62,
           "383": 145,
           "384": 200,
           "385": 350,
           "386": 90,
           "387": 29,
           "388": 109,
           "389": 80,
           "39": 200,
           "390": 200,
           "391": 31,
           "392": 90,
           "393": 56.5,
           "394": 109,
           "395": 200,
           "396": 56.5,
           "397": 109,
           "398": 56.5,
           "399": 109,
           "4": 64.68,
           "40": 50,
           "400": 164,
           "401": 56.5,
           "402": 80,
           "403": 41.8,
           "404": 21,
           "405": 29,
           "406": 90,
           "407": 41.8,
           "408": 109,
           "409": 164,
           "41": 85,
           "410": 37,
           "411": 56.5,
           "412": 145,
           "413": 31,
           "414": 109,
           "415": 200,
           "416": 90,
           "417": 164,
           "418": 200,
           "419": 109,
           "42": 115,
           "420": 80,
           "421": 56.5,
           "422": 47,
           "423": 41.8,
           "424": 120,
           "425": 56.5,
           "426": 41.8,
           "427": 29,
           "428": 40,
           "429": 109,
           "43": 90,
           "430": 31,
           "431": 56.5,
           "432": 140,
           "433": 80,
           "434": 41.8,
           "435": 55,
           "436": 200,
           "437": 350,
           "438": 29,
           "439": 112.5,
           "44": 48.5,
           "440": 200,
           "441": 153,
           "442": 65,
           "443": 31,
           "444": 40,
           "445": 109,
           "446": 37,
           "447": 80,
           "448": 109,
           "449": 59.5,
           "45": 7.5,
           "450": 21,
           "451": 109,
           "452": 200,
           "453": 109,
           "454": 90,
           "455": 41.8,
           "456": 200,
           "457": 120,
           "458": 80,
           "459": 200,
           "46": 50,
           "460": 59.5,
           "461": 164,
           "462": 200,
           "463": 109,
           "464": 21,
           "465": 109,
           "466": 200,
           "467": 41.8,
           "468": 112.5,
           "469": 200,
           "47": 50,
           "470": 350,
           "471": 109,
           "472": 40,
           "473": 59.5,
           "474": 90,
           "475": 200,
           "476": 140,
           "477": 31,
           "478": 31,
           "479": 153,
           "48": 200,
           "480": 37,
           "481": 80,
           "482": 90,
           "483": 145,
           "484": 21,
           "485": 46,
           "486": 90,
           "487": 200,
           "488": 90,
           "489": 29,
           "49": 29.75,
           "490": 200,
           "491": 153,
           "492": 164,
           "493": 31,
           "494": 450,
           "495": 40,
           "496": 200,
           "497": 450,
           "498": 109,
           "499": 200,
           "5": 48.5,
           "50": 29.15,
           "500": 25,
           "501": 115,
           "502": 164,
           "503": 120,
           "504": 45,
           "505": 450,
           "506": 40,
           "507": 41.8,
           "508": 112.5,
           "509": 350,
           "51": 50,
           "510": 200,
           "511": 47,
           "512": 59.5,
           "513": 200,
           "514": 350,
           "515": 46,
           "516": 200,
           "517": 46,
           "518": 120,
           "519": 41.8,
           "52": 41.8,
           "520": 140,
           "521": 200,
           "522": 21,
           "523": 200,
           "524": 29,
           "525": 29,
           "526": 59.5,
           "527": 41.8,
           "528": 164,
           "529": 200,
           "53": 65,
           "530": 450,
           "531": 90,
           "532": 120,
           "533": 47,
           "534": 29,
           "535": 450,
           "536": 164,
           "537": 109,
           "538": 450,
           "539": 90,
           "54": 64.68,
           "540": 130,
           "541": 450,
           "542": 41.8,
           "543": 200,
           "544": 450,
           "545": 109,
           "546": 200,
           "547": 21,
           "548": 112.5,
           "549": 109,
           "55": 50,
           "550": 450,
           "551": 200,
           "552": 29,
           "553": 450,
           "554": 7,
           "555": 41.8,
           "556": 200,
           "557": 164,
           "558": 123,
           "559": 40,
           "56": 21,
           "560": 200,
           "561": 450,
           "562": 21,
           "563": 123,
           "564": 41.8,
           "565": 450,
           "566": 45,
           "567": 200,
           "568": 90,
           "569": 350,
           "57": 48.5,
           "570": 200,
           "571": 450,
           "572": 29.75,
           "573": 29.75,
           "574": 29.15,
           "575": 64.68,
           "576": 31,
           "577": 40,
           "578": 29,
           "579": 7,
           "58": 48.5,
           "580": 29,
           "581": 200,
           "582": 7,
           "583": 200,
           "584": 200,
           "585": 450,
           "586": 64.68,
           "587": 41.8,
           "588": 21,
           "589": 20.14,
           "59": 7.5,
           "590": 200,
           "591": 40,
           "592": 123,
           "593": 115,
           "594": 450,
           "595": 90,
           "596": 450,
           "597": 21,
           "598": 109,
           "599": 200,
           "6": 50,
           "60": 50,
           "600": 64.68,
           "601": 350,
           "602": 450,
           "603": 123,
           "604": 64.68,
           "605": 47,
           "606": 200,
           "607": 450,
           "608": 29,
           "609": 109,
           "61": 64.68,
           "610": 29,
           "611": 450,
           "612": 69.7,
           "613": 29.75,
           "614": 29.15,
           "615": 200,
           "616": 40,
           "617": 40,
           "618": 21,
           "619": 29,
           "62": 31,
           "620": 69.7,
           "621": 30.8,
           "622": 7,
           "623": 200,
           "624": 109,
           "625": 69.7,
           "626": 25,
           "627": 40,
           "628": 450,
           "629": 200,
           "63": 200,
           "630": 69.7,
           "631": 133,
           "632": 64.68,
           "633": 200,
           "634": 69.7,
           "635": 90,
           "636": 450,
           "637": 30.8,
           "638": 200,
           "639": 41.8,
           "64": 50,
           "640": 29,
           "641": 29,
           "642": 47,
           "643": 450,
           "644": 164,
           "645": 200,
           "646": 164,
           "647": 64.68,
           "648": 115,
           "649": 40,
           "65": 29.15,
           "650": 40,
           "651": 7,
           "652": 200,
           "653": 153,
           "654": 200,
           "655": 41.8,
           "656": 40,
           "657": 29.75,
           "658": 41.8,
           "659": 29,
           "66": 64.68,
           "660": 109,
           "661": 30.8,
           "662": 450,
           "663": 29.75,
           "664": 25,
           "665": 40,
           "666": 40,
           "667": 130,
           "668": 200,
           "669": 350,
           "67": 85,
           "670": 190,
           "671": 135,
           "672": 30.8,
           "673": 48.5,
           "674": 64.68,
           "675": 69.7,
           "676": 29.75,
           "677": 47,
           "678": 64.68,
           "679": 30.8,
           "68": 29.15,
           "680": 30.8,
           "681": 190,
           "682": 29,
           "683": 45,
           "684": 30.8,
           "685": 190,
           "686": 30.8,
           "687": 69.7,
           "688": 29.75,
           "689": 41.8,
           "69": 7.5,
           "690": 64.68,
           "691": 35,
           "692": 25,
           "693": 133,
           "694": 40,
           "695": 135,
           "696": 41.8,
           "697": 40,
           "698": 69.7,
           "699": 109,
           "7": 90,
           "70": 40,
           "700": 47,
           "701": 40,
           "702": 133,
           "703": 40,
           "704": 450,
           "705": 35,
           "706": 29,
           "707": 90,
           "708": 200,
           "709": 450,
           "71": 65,
           "710": 164,
           "711": 64.68,
           "712": 450,
           "713": 25,
           "714": 109,
           "715": 35,
           "716": 41.8,
           "717": 450,
           "718": 64.68,
           "719": 450,
           "72": 64.68,
           "720": 41.8,
           "721": 450,
           "722": 40,
           "723": 450,
           "724": 25,
           "725": 45,
           "726": 90,
           "727": 450,
           "728": 450,
           "729": 450,
           "73": 48.5,
           "730": 47,
           "731": 450,
           "732": 450,
           "733": 69.7,
           "734": 450,
           "735": 69.7,
           "736": 450,
           "737": 40,
           "738": 29,
           "739": 35,
           "74": 29.75,
           "740": 450,
           "741": 40,
           "742": 40,
           "743": 450,
           "744": 41.8,
           "745": 45,
           "746": 450,
           "747": 40,
           "748": 69.7,
           "749": 45,
           "75": 112.5,
           "750": 450,
           "751": 35,
           "752": 40,
           "753": 64.68,
           "754": 450,
           "755": 35,
           "756": 30.8,
           "757": 25,
           "758": 450,
           "759": 40,
           "76": 5.3,
           "760": 64.68,
           "761": 29,
           "762": 40,
           "763": 30.8,
           "764": 40,
           "765": 450,
           "766": 450,
           "767": 40,
           "768": 45,
           "769": 40,
           "77": 64.68,
           "770": 30.8,
           "771": 40,
           "772": 450,
           "773": 35,
           "774": 30.8,
           "775": 450,
           "776": 40,
           "777": 30.8,
           "778": 40,
           "779": 45,
           "78": 41.8,
           "780": 450,
           "781": 40,
           "782": 30.8,
           "783": 450,
           "784": 40,
           "785": 25,
           "786": 450,
           "787": 30.8,
           "788": 40,
           "789": 450,
           "79": 164,
           "790": 40,
           "791": 450,
           "792": 450,
           "793": 69.7,
           "794": 40,
           "795": 450,
           "796": 35,
           "797": 450,
           "798": 450,
           "799": 450,
           "8": 46,
           "80": 48.5,
           "800": 40,
           "801": 29.75,
           "802": 450,
           "803": 40,
           "804": 40,
           "805": 450,
           "806": 450,
           "807": 40,
           "808": 450,
           "809": 25,
           "81": 7.5,
           "810": 40,
           "811": 450,
           "812": 450,
           "813": 450,
           "814": 20,
           "815": 450,
           "816": 450,
           "817": 450,
           "818": 450,
           "819": 40,
           "82": 29.15,
           "820": 40,
           "821": 450,
           "822": 450,
           "823": 69.7,
           "824": 450,
           "825": 25,
           "826": 450,
           "827": 450,
           "828": 40,
           "829": 450,
           "83": 7.5,
           "830": 29.75,
           "831": 40,
           "832": 40,
           "833": 450,
           "834": 45,
           "835": 450,
           "836": 69.7,
           "837": 450,
           "838": 35,
           "839": 450,
           "84": 153,
           "840": 450,
           "841": 30.8,
           "842": 35,
           "843": 25,
           "844": 450,
           "845": 450,
           "846": 450,
           "847": 40,
           "848": 450,
           "849": 40,
           "85": 50,
           "850": 450,
           "851": 450,
           "852": 450,
           "853": 30.8,
           "854": 136.6,
           "855": 450,
           "856": 29.75,
           "857": 450,
           "858": 450,
           "859": 450,
           "86": 200,
           "860": 35,
           "861": 450,
           "862": 450,
           "863": 450,
           "864": 450,
           "865": 450,
           "866": 40,
           "867": 450,
           "868": 450,
           "869": 450,
           "87": 65,
           "870": 450,
           "871": 450,
           "872": 450,
           "873": 30.8,
           "874": 136.6,
           "875": 450,
           "876": 40,
           "877": 136.6,
           "878": 450,
           "879": 450,
           "88": 48.5,
           "880": 136.6,
           "881": 450,
           "882": 450,
           "883": 35,
           "884": 450,
           "885": 450,
           "886": 450,
           "887": 450,
           "888": 450,
           "889": 35,
           "89": 48.5,
           "890": 30.8,
           "891": 30.8,
           "892": 30.8,
           "893": 30.8,
           "894": 450,
           "895": 450,
           "896": 450,
           "897": 450,
           "898": 30.8,
           "899": 450,
           "9": 28.3,
           "90": 30.8,
           "900": 450,
           "901": 450,
           "902": 450,
           "903": 450,
           "904": 450,
           "905": 450,
           "906": 450,
           "907": 450,
           "908": 30.8,
           "909": 450,
           "91": 50,
           "910": 450,
           "911": 450,
           "912": 450,
           "913": 450,
           "914": 30.8,
           "915": 450,
           "916": 450,
           "917": 450,
           "918": 30.8,
           "919": 450,
           "92": 62,
           "920": 450,
           "921": 450,
           "922": 450,
           "923": 59,
           "924": 59,
           "925": 59,
           "926": 59,
           "927": 59,
           "928": 59,
           "929": 59,
           "93": 65,
           "930": 59,
           "931": 59,
           "932": 59,
           "933": 59,
           "934": 59,
           "935": 59,
           "936": 59,
           "937": 59,
           "938": 59,
           "939": 59,
           "94": 37,
           "940": 59,
           "941": 59,
           "942": 59,
           "943": 59,
           "944": 59,
           "945": 63.23,
           "946": 63.23,
           "947": 63.23,
           "948": 63.23,
           "95": 7.5,
           "96": 90,
           "97": 29.15,
           "98": 200,
           "99": 50,
           "bdata": "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",
           "dtype": "f8",
           "shape": "949"
          },
          "bdata": "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",
          "dtype": "f8"
         },
         "xaxis": "x",
         "yaxis": "y"
        }
       ],
       "layout": {
        "autosize": true,
        "bargap": 0.1,
        "barmode": "relative",
        "legend": {
         "tracegroupgap": 0
        },
        "template": {
         "data": {
          "bar": [
           {
            "error_x": {
             "color": "#2a3f5f"
            },
            "error_y": {
             "color": "#2a3f5f"
            },
            "marker": {
             "line": {
              "color": "white",
              "width": 0.5
             },
             "pattern": {
              "fillmode": "overlay",
              "size": 10,
              "solidity": 0.2
             }
            },
            "type": "bar"
           }
          ],
          "barpolar": [
           {
            "marker": {
             "line": {
              "color": "white",
              "width": 0.5
             },
             "pattern": {
              "fillmode": "overlay",
              "size": 10,
              "solidity": 0.2
             }
            },
            "type": "barpolar"
           }
          ],
          "carpet": [
           {
            "aaxis": {
             "endlinecolor": "#2a3f5f",
             "gridcolor": "#C8D4E3",
             "linecolor": "#C8D4E3",
             "minorgridcolor": "#C8D4E3",
             "startlinecolor": "#2a3f5f"
            },
            "baxis": {
             "endlinecolor": "#2a3f5f",
             "gridcolor": "#C8D4E3",
             "linecolor": "#C8D4E3",
             "minorgridcolor": "#C8D4E3",
             "startlinecolor": "#2a3f5f"
            },
            "type": "carpet"
           }
          ],
          "choropleth": [
           {
            "colorbar": {
             "outlinewidth": 0,
             "ticks": ""
            },
            "type": "choropleth"
           }
          ],
          "contour": [
           {
            "colorbar": {
             "outlinewidth": 0,
             "ticks": ""
            },
            "colorscale": [
             [
              0,
              "#0d0887"
             ],
             [
              0.1111111111111111,
              "#46039f"
             ],
             [
              0.2222222222222222,
              "#7201a8"
             ],
             [
              0.3333333333333333,
              "#9c179e"
             ],
             [
              0.4444444444444444,
              "#bd3786"
             ],
             [
              0.5555555555555556,
              "#d8576b"
             ],
             [
              0.6666666666666666,
              "#ed7953"
             ],
             [
              0.7777777777777778,
              "#fb9f3a"
             ],
             [
              0.8888888888888888,
              "#fdca26"
             ],
             [
              1,
              "#f0f921"
             ]
            ],
            "type": "contour"
           }
          ],
          "contourcarpet": [
           {
            "colorbar": {
             "outlinewidth": 0,
             "ticks": ""
            },
            "type": "contourcarpet"
           }
          ],
          "heatmap": [
           {
            "colorbar": {
             "outlinewidth": 0,
             "ticks": ""
            },
            "colorscale": [
             [
              0,
              "#0d0887"
             ],
             [
              0.1111111111111111,
              "#46039f"
             ],
             [
              0.2222222222222222,
              "#7201a8"
             ],
             [
              0.3333333333333333,
              "#9c179e"
             ],
             [
              0.4444444444444444,
              "#bd3786"
             ],
             [
              0.5555555555555556,
              "#d8576b"
             ],
             [
              0.6666666666666666,
              "#ed7953"
             ],
             [
              0.7777777777777778,
              "#fb9f3a"
             ],
             [
              0.8888888888888888,
              "#fdca26"
             ],
             [
              1,
              "#f0f921"
             ]
            ],
            "type": "heatmap"
           }
          ],
          "histogram": [
           {
            "marker": {
             "pattern": {
              "fillmode": "overlay",
              "size": 10,
              "solidity": 0.2
             }
            },
            "type": "histogram"
           }
          ],
          "histogram2d": [
           {
            "colorbar": {
             "outlinewidth": 0,
             "ticks": ""
            },
            "colorscale": [
             [
              0,
              "#0d0887"
             ],
             [
              0.1111111111111111,
              "#46039f"
             ],
             [
              0.2222222222222222,
              "#7201a8"
             ],
             [
              0.3333333333333333,
              "#9c179e"
             ],
             [
              0.4444444444444444,
              "#bd3786"
             ],
             [
              0.5555555555555556,
              "#d8576b"
             ],
             [
              0.6666666666666666,
              "#ed7953"
             ],
             [
              0.7777777777777778,
              "#fb9f3a"
             ],
             [
              0.8888888888888888,
              "#fdca26"
             ],
             [
              1,
              "#f0f921"
             ]
            ],
            "type": "histogram2d"
           }
          ],
          "histogram2dcontour": [
           {
            "colorbar": {
             "outlinewidth": 0,
             "ticks": ""
            },
            "colorscale": [
             [
              0,
              "#0d0887"
             ],
             [
              0.1111111111111111,
              "#46039f"
             ],
             [
              0.2222222222222222,
              "#7201a8"
             ],
             [
              0.3333333333333333,
              "#9c179e"
             ],
             [
              0.4444444444444444,
              "#bd3786"
             ],
             [
              0.5555555555555556,
              "#d8576b"
             ],
             [
              0.6666666666666666,
              "#ed7953"
             ],
             [
              0.7777777777777778,
              "#fb9f3a"
             ],
             [
              0.8888888888888888,
              "#fdca26"
             ],
             [
              1,
              "#f0f921"
             ]
            ],
            "type": "histogram2dcontour"
           }
          ],
          "mesh3d": [
           {
            "colorbar": {
             "outlinewidth": 0,
             "ticks": ""
            },
            "type": "mesh3d"
           }
          ],
          "parcoords": [
           {
            "line": {
             "colorbar": {
              "outlinewidth": 0,
              "ticks": ""
             }
            },
            "type": "parcoords"
           }
          ],
          "pie": [
           {
            "automargin": true,
            "type": "pie"
           }
          ],
          "scatter": [
           {
            "fillpattern": {
             "fillmode": "overlay",
             "size": 10,
             "solidity": 0.2
            },
            "type": "scatter"
           }
          ],
          "scatter3d": [
           {
            "line": {
             "colorbar": {
              "outlinewidth": 0,
              "ticks": ""
             }
            },
            "marker": {
             "colorbar": {
              "outlinewidth": 0,
              "ticks": ""
             }
            },
            "type": "scatter3d"
           }
          ],
          "scattercarpet": [
           {
            "marker": {
             "colorbar": {
              "outlinewidth": 0,
              "ticks": ""
             }
            },
            "type": "scattercarpet"
           }
          ],
          "scattergeo": [
           {
            "marker": {
             "colorbar": {
              "outlinewidth": 0,
              "ticks": ""
             }
            },
            "type": "scattergeo"
           }
          ],
          "scattergl": [
           {
            "marker": {
             "colorbar": {
              "outlinewidth": 0,
              "ticks": ""
             }
            },
            "type": "scattergl"
           }
          ],
          "scattermap": [
           {
            "marker": {
             "colorbar": {
              "outlinewidth": 0,
              "ticks": ""
             }
            },
            "type": "scattermap"
           }
          ],
          "scattermapbox": [
           {
            "marker": {
             "colorbar": {
              "outlinewidth": 0,
              "ticks": ""
             }
            },
            "type": "scattermapbox"
           }
          ],
          "scatterpolar": [
           {
            "marker": {
             "colorbar": {
              "outlinewidth": 0,
              "ticks": ""
             }
            },
            "type": "scatterpolar"
           }
          ],
          "scatterpolargl": [
           {
            "marker": {
             "colorbar": {
              "outlinewidth": 0,
              "ticks": ""
             }
            },
            "type": "scatterpolargl"
           }
          ],
          "scatterternary": [
           {
            "marker": {
             "colorbar": {
              "outlinewidth": 0,
              "ticks": ""
             }
            },
            "type": "scatterternary"
           }
          ],
          "surface": [
           {
            "colorbar": {
             "outlinewidth": 0,
             "ticks": ""
            },
            "colorscale": [
             [
              0,
              "#0d0887"
             ],
             [
              0.1111111111111111,
              "#46039f"
             ],
             [
              0.2222222222222222,
              "#7201a8"
             ],
             [
              0.3333333333333333,
              "#9c179e"
             ],
             [
              0.4444444444444444,
              "#bd3786"
             ],
             [
              0.5555555555555556,
              "#d8576b"
             ],
             [
              0.6666666666666666,
              "#ed7953"
             ],
             [
              0.7777777777777778,
              "#fb9f3a"
             ],
             [
              0.8888888888888888,
              "#fdca26"
             ],
             [
              1,
              "#f0f921"
             ]
            ],
            "type": "surface"
           }
          ],
          "table": [
           {
            "cells": {
             "fill": {
              "color": "#EBF0F8"
             },
             "line": {
              "color": "white"
             }
            },
            "header": {
             "fill": {
              "color": "#C8D4E3"
             },
             "line": {
              "color": "white"
             }
            },
            "type": "table"
           }
          ]
         },
         "layout": {
          "annotationdefaults": {
           "arrowcolor": "#2a3f5f",
           "arrowhead": 0,
           "arrowwidth": 1
          },
          "autotypenumbers": "strict",
          "coloraxis": {
           "colorbar": {
            "outlinewidth": 0,
            "ticks": ""
           }
          },
          "colorscale": {
           "diverging": [
            [
             0,
             "#8e0152"
            ],
            [
             0.1,
             "#c51b7d"
            ],
            [
             0.2,
             "#de77ae"
            ],
            [
             0.3,
             "#f1b6da"
            ],
            [
             0.4,
             "#fde0ef"
            ],
            [
             0.5,
             "#f7f7f7"
            ],
            [
             0.6,
             "#e6f5d0"
            ],
            [
             0.7,
             "#b8e186"
            ],
            [
             0.8,
             "#7fbc41"
            ],
            [
             0.9,
             "#4d9221"
            ],
            [
             1,
             "#276419"
            ]
           ],
           "sequential": [
            [
             0,
             "#0d0887"
            ],
            [
             0.1111111111111111,
             "#46039f"
            ],
            [
             0.2222222222222222,
             "#7201a8"
            ],
            [
             0.3333333333333333,
             "#9c179e"
            ],
            [
             0.4444444444444444,
             "#bd3786"
            ],
            [
             0.5555555555555556,
             "#d8576b"
            ],
            [
             0.6666666666666666,
             "#ed7953"
            ],
            [
             0.7777777777777778,
             "#fb9f3a"
            ],
            [
             0.8888888888888888,
             "#fdca26"
            ],
            [
             1,
             "#f0f921"
            ]
           ],
           "sequentialminus": [
            [
             0,
             "#0d0887"
            ],
            [
             0.1111111111111111,
             "#46039f"
            ],
            [
             0.2222222222222222,
             "#7201a8"
            ],
            [
             0.3333333333333333,
             "#9c179e"
            ],
            [
             0.4444444444444444,
             "#bd3786"
            ],
            [
             0.5555555555555556,
             "#d8576b"
            ],
            [
             0.6666666666666666,
             "#ed7953"
            ],
            [
             0.7777777777777778,
             "#fb9f3a"
            ],
            [
             0.8888888888888888,
             "#fdca26"
            ],
            [
             1,
             "#f0f921"
            ]
           ]
          },
          "colorway": [
           "#636efa",
           "#EF553B",
           "#00cc96",
           "#ab63fa",
           "#FFA15A",
           "#19d3f3",
           "#FF6692",
           "#B6E880",
           "#FF97FF",
           "#FECB52"
          ],
          "font": {
           "color": "#2a3f5f"
          },
          "geo": {
           "bgcolor": "white",
           "lakecolor": "white",
           "landcolor": "white",
           "showlakes": true,
           "showland": true,
           "subunitcolor": "#C8D4E3"
          },
          "hoverlabel": {
           "align": "left"
          },
          "hovermode": "closest",
          "mapbox": {
           "style": "light"
          },
          "paper_bgcolor": "white",
          "plot_bgcolor": "white",
          "polar": {
           "angularaxis": {
            "gridcolor": "#EBF0F8",
            "linecolor": "#EBF0F8",
            "ticks": ""
           },
           "bgcolor": "white",
           "radialaxis": {
            "gridcolor": "#EBF0F8",
            "linecolor": "#EBF0F8",
            "ticks": ""
           }
          },
          "scene": {
           "xaxis": {
            "backgroundcolor": "white",
            "gridcolor": "#DFE8F3",
            "gridwidth": 2,
            "linecolor": "#EBF0F8",
            "showbackground": true,
            "ticks": "",
            "zerolinecolor": "#EBF0F8"
           },
           "yaxis": {
            "backgroundcolor": "white",
            "gridcolor": "#DFE8F3",
            "gridwidth": 2,
            "linecolor": "#EBF0F8",
            "showbackground": true,
            "ticks": "",
            "zerolinecolor": "#EBF0F8"
           },
           "zaxis": {
            "backgroundcolor": "white",
            "gridcolor": "#DFE8F3",
            "gridwidth": 2,
            "linecolor": "#EBF0F8",
            "showbackground": true,
            "ticks": "",
            "zerolinecolor": "#EBF0F8"
           }
          },
          "shapedefaults": {
           "line": {
            "color": "#2a3f5f"
           }
          },
          "ternary": {
           "aaxis": {
            "gridcolor": "#DFE8F3",
            "linecolor": "#A2B1C6",
            "ticks": ""
           },
           "baxis": {
            "gridcolor": "#DFE8F3",
            "linecolor": "#A2B1C6",
            "ticks": ""
           },
           "bgcolor": "white",
           "caxis": {
            "gridcolor": "#DFE8F3",
            "linecolor": "#A2B1C6",
            "ticks": ""
           }
          },
          "title": {
           "x": 0.05
          },
          "xaxis": {
           "automargin": true,
           "gridcolor": "#EBF0F8",
           "linecolor": "#EBF0F8",
           "ticks": "",
           "title": {
            "standoff": 15
           },
           "zerolinecolor": "#EBF0F8",
           "zerolinewidth": 2
          },
          "yaxis": {
           "automargin": true,
           "gridcolor": "#EBF0F8",
           "linecolor": "#EBF0F8",
           "ticks": "",
           "title": {
            "standoff": 15
           },
           "zerolinecolor": "#EBF0F8",
           "zerolinewidth": 2
          }
         }
        },
        "title": {
         "text": "Distribution of Rocket Launch Prices (USD Millions)"
        },
        "xaxis": {
         "anchor": "y",
         "autorange": true,
         "domain": [
          0,
          1
         ],
         "range": [
          5,
          455
         ],
         "title": {
          "text": "Price"
         },
         "type": "linear"
        },
        "yaxis": {
         "anchor": "x",
         "autorange": true,
         "domain": [
          0,
          1
         ],
         "range": [
          0,
          161.05263157894737
         ],
         "title": {
          "text": "count"
         }
        }
       }
      }
     },
     "metadata": {},
     "output_type": "display_data"
    }
   ],
   "source": [
    "fig = px.histogram(\n",
    "    cleaned_data[cleaned_data['Price'] < 1000],  \n",
    "    x=\"Price\",\n",
    "    nbins=50,\n",
    "    title=\"Distribution of Rocket Launch Prices (USD Millions)\"\n",
    ")\n",
    "fig.update_layout(bargap=0.1, template=\"plotly_white\")\n",
    "fig.show()"
   ]
  },
  {
   "cell_type": "markdown",
   "metadata": {
    "id": "QiNtigQDne3E"
   },
   "source": [
    "# Choropleth Map to Show the Number of Launches by Country"
   ]
  },
  {
   "cell_type": "code",
   "execution_count": 332,
   "metadata": {
    "id": "Y46-4GHrozhF"
   },
   "outputs": [],
   "source": [
    "cleaned_data[\"Country\"] = cleaned_data[\"Location\"].str.extract(r',\\s*([^,]+)$')\n",
    "\n",
    "\n",
    "cleaned_data[\"Country\"] = cleaned_data[\"Country\"].str.strip()\n",
    "cleaned_data[\"Country_code\"] = cleaned_data[\"Country\"]\n",
    "\n",
    "\n",
    "name_change_dict = {\n",
    "    \"Russia\": \"Russian Federation\",\n",
    "    \"New Mexico\": \"USA\",\n",
    "    \"Shahrud Missile Test Site\": \"Iran\",\n",
    "    \"Yellow Sea\": \"China\",\n",
    "    \"Pacific Missile Range Facility\": \"USA\",\n",
    "    \"Barents Sea\": \"Russian Federation\",\n",
    "    \"Gran Canaria\": \"USA\"\n",
    "}\n",
    "\n",
    "for name, new_name in name_change_dict.items():\n",
    "    cleaned_data[\"Country\"] = cleaned_data[\"Country\"].str.replace(name, new_name, regex=True)\n",
    "\n",
    "cleaned_data[\"Country\"] = cleaned_data[\"Country\"].str.strip()\n",
    "cleaned_data[\"Country_code\"] = cleaned_data[\"Country\"]\n",
    "\n",
    "\n",
    "country_code_dict = {\n",
    "    'China': 'CHN',\n",
    "    'France': 'FRA',\n",
    "    'India': 'IND',\n",
    "    'Japan': 'JPN',\n",
    "    'Kazakhstan': 'KAZ',\n",
    "    'New Zealand': 'NZL',\n",
    "    'Russian Federation': 'RUS',\n",
    "    'USA': 'USA'\n",
    "}\n",
    "\n",
    "for name, code in country_code_dict.items():\n",
    "    cleaned_data[\"Country_code\"] = cleaned_data[\"Country_code\"].str.replace(name, code, regex=True)\n",
    "number_of_launches_by_country = cleaned_data.groupby('Country_code').agg({\"index\":\"count\"}).reset_index()"
   ]
  },
  {
   "cell_type": "code",
   "execution_count": 333,
   "metadata": {
    "id": "ESGRWiX6ozZG"
   },
   "outputs": [
    {
     "data": {
      "application/vnd.plotly.v1+json": {
       "config": {
        "plotlyServerURL": "https://plot.ly"
       },
       "data": [
        {
         "coloraxis": "coloraxis",
         "geo": "geo",
         "hovertemplate": "Country_code=%{location}<br>Number of lunches=%{z}<extra></extra>",
         "locations": [
          "CHN",
          "FRA",
          "IND",
          "JPN",
          "KAZ",
          "NZL",
          "RUS",
          "USA"
         ],
         "name": "",
         "type": "choropleth",
         "z": {
          "_inputArray": {
           "0": 159,
           "1": 95,
           "2": 67,
           "3": 40,
           "4": 46,
           "5": 13,
           "6": 54,
           "7": 490,
           "bdata": "nwBfAEMAKAAuAA0ANgDqAQ==",
           "dtype": "i2",
           "shape": "8"
          },
          "bdata": "nwBfAEMAKAAuAA0ANgDqAQ==",
          "dtype": "i2"
         }
        }
       ],
       "layout": {
        "autosize": true,
        "coloraxis": {
         "cmax": 500,
         "cmin": 0,
         "colorbar": {
          "title": {
           "text": "Number of lunches"
          }
         },
         "colorscale": [
          [
           0,
           "#440154"
          ],
          [
           0.1111111111111111,
           "#482878"
          ],
          [
           0.2222222222222222,
           "#3e4989"
          ],
          [
           0.3333333333333333,
           "#31688e"
          ],
          [
           0.4444444444444444,
           "#26828e"
          ],
          [
           0.5555555555555556,
           "#1f9e89"
          ],
          [
           0.6666666666666666,
           "#35b779"
          ],
          [
           0.7777777777777778,
           "#6ece58"
          ],
          [
           0.8888888888888888,
           "#b5de2b"
          ],
          [
           1,
           "#fde725"
          ]
         ]
        },
        "geo": {
         "center": {
          "lat": -76.14564292879672,
          "lon": 84.47725170986007
         },
         "domain": {
          "x": [
           0,
           1
          ],
          "y": [
           0,
           1
          ]
         },
         "projection": {
          "rotation": {
           "lon": 84.47725170986007
          },
          "scale": 0.5358867312681466
         }
        },
        "legend": {
         "tracegroupgap": 0
        },
        "margin": {
         "b": 0,
         "l": 0,
         "r": 0,
         "t": 0
        },
        "template": {
         "data": {
          "bar": [
           {
            "error_x": {
             "color": "#2a3f5f"
            },
            "error_y": {
             "color": "#2a3f5f"
            },
            "marker": {
             "line": {
              "color": "#E5ECF6",
              "width": 0.5
             },
             "pattern": {
              "fillmode": "overlay",
              "size": 10,
              "solidity": 0.2
             }
            },
            "type": "bar"
           }
          ],
          "barpolar": [
           {
            "marker": {
             "line": {
              "color": "#E5ECF6",
              "width": 0.5
             },
             "pattern": {
              "fillmode": "overlay",
              "size": 10,
              "solidity": 0.2
             }
            },
            "type": "barpolar"
           }
          ],
          "carpet": [
           {
            "aaxis": {
             "endlinecolor": "#2a3f5f",
             "gridcolor": "white",
             "linecolor": "white",
             "minorgridcolor": "white",
             "startlinecolor": "#2a3f5f"
            },
            "baxis": {
             "endlinecolor": "#2a3f5f",
             "gridcolor": "white",
             "linecolor": "white",
             "minorgridcolor": "white",
             "startlinecolor": "#2a3f5f"
            },
            "type": "carpet"
           }
          ],
          "choropleth": [
           {
            "colorbar": {
             "outlinewidth": 0,
             "ticks": ""
            },
            "type": "choropleth"
           }
          ],
          "contour": [
           {
            "colorbar": {
             "outlinewidth": 0,
             "ticks": ""
            },
            "colorscale": [
             [
              0,
              "#0d0887"
             ],
             [
              0.1111111111111111,
              "#46039f"
             ],
             [
              0.2222222222222222,
              "#7201a8"
             ],
             [
              0.3333333333333333,
              "#9c179e"
             ],
             [
              0.4444444444444444,
              "#bd3786"
             ],
             [
              0.5555555555555556,
              "#d8576b"
             ],
             [
              0.6666666666666666,
              "#ed7953"
             ],
             [
              0.7777777777777778,
              "#fb9f3a"
             ],
             [
              0.8888888888888888,
              "#fdca26"
             ],
             [
              1,
              "#f0f921"
             ]
            ],
            "type": "contour"
           }
          ],
          "contourcarpet": [
           {
            "colorbar": {
             "outlinewidth": 0,
             "ticks": ""
            },
            "type": "contourcarpet"
           }
          ],
          "heatmap": [
           {
            "colorbar": {
             "outlinewidth": 0,
             "ticks": ""
            },
            "colorscale": [
             [
              0,
              "#0d0887"
             ],
             [
              0.1111111111111111,
              "#46039f"
             ],
             [
              0.2222222222222222,
              "#7201a8"
             ],
             [
              0.3333333333333333,
              "#9c179e"
             ],
             [
              0.4444444444444444,
              "#bd3786"
             ],
             [
              0.5555555555555556,
              "#d8576b"
             ],
             [
              0.6666666666666666,
              "#ed7953"
             ],
             [
              0.7777777777777778,
              "#fb9f3a"
             ],
             [
              0.8888888888888888,
              "#fdca26"
             ],
             [
              1,
              "#f0f921"
             ]
            ],
            "type": "heatmap"
           }
          ],
          "histogram": [
           {
            "marker": {
             "pattern": {
              "fillmode": "overlay",
              "size": 10,
              "solidity": 0.2
             }
            },
            "type": "histogram"
           }
          ],
          "histogram2d": [
           {
            "colorbar": {
             "outlinewidth": 0,
             "ticks": ""
            },
            "colorscale": [
             [
              0,
              "#0d0887"
             ],
             [
              0.1111111111111111,
              "#46039f"
             ],
             [
              0.2222222222222222,
              "#7201a8"
             ],
             [
              0.3333333333333333,
              "#9c179e"
             ],
             [
              0.4444444444444444,
              "#bd3786"
             ],
             [
              0.5555555555555556,
              "#d8576b"
             ],
             [
              0.6666666666666666,
              "#ed7953"
             ],
             [
              0.7777777777777778,
              "#fb9f3a"
             ],
             [
              0.8888888888888888,
              "#fdca26"
             ],
             [
              1,
              "#f0f921"
             ]
            ],
            "type": "histogram2d"
           }
          ],
          "histogram2dcontour": [
           {
            "colorbar": {
             "outlinewidth": 0,
             "ticks": ""
            },
            "colorscale": [
             [
              0,
              "#0d0887"
             ],
             [
              0.1111111111111111,
              "#46039f"
             ],
             [
              0.2222222222222222,
              "#7201a8"
             ],
             [
              0.3333333333333333,
              "#9c179e"
             ],
             [
              0.4444444444444444,
              "#bd3786"
             ],
             [
              0.5555555555555556,
              "#d8576b"
             ],
             [
              0.6666666666666666,
              "#ed7953"
             ],
             [
              0.7777777777777778,
              "#fb9f3a"
             ],
             [
              0.8888888888888888,
              "#fdca26"
             ],
             [
              1,
              "#f0f921"
             ]
            ],
            "type": "histogram2dcontour"
           }
          ],
          "mesh3d": [
           {
            "colorbar": {
             "outlinewidth": 0,
             "ticks": ""
            },
            "type": "mesh3d"
           }
          ],
          "parcoords": [
           {
            "line": {
             "colorbar": {
              "outlinewidth": 0,
              "ticks": ""
             }
            },
            "type": "parcoords"
           }
          ],
          "pie": [
           {
            "automargin": true,
            "type": "pie"
           }
          ],
          "scatter": [
           {
            "fillpattern": {
             "fillmode": "overlay",
             "size": 10,
             "solidity": 0.2
            },
            "type": "scatter"
           }
          ],
          "scatter3d": [
           {
            "line": {
             "colorbar": {
              "outlinewidth": 0,
              "ticks": ""
             }
            },
            "marker": {
             "colorbar": {
              "outlinewidth": 0,
              "ticks": ""
             }
            },
            "type": "scatter3d"
           }
          ],
          "scattercarpet": [
           {
            "marker": {
             "colorbar": {
              "outlinewidth": 0,
              "ticks": ""
             }
            },
            "type": "scattercarpet"
           }
          ],
          "scattergeo": [
           {
            "marker": {
             "colorbar": {
              "outlinewidth": 0,
              "ticks": ""
             }
            },
            "type": "scattergeo"
           }
          ],
          "scattergl": [
           {
            "marker": {
             "colorbar": {
              "outlinewidth": 0,
              "ticks": ""
             }
            },
            "type": "scattergl"
           }
          ],
          "scattermap": [
           {
            "marker": {
             "colorbar": {
              "outlinewidth": 0,
              "ticks": ""
             }
            },
            "type": "scattermap"
           }
          ],
          "scattermapbox": [
           {
            "marker": {
             "colorbar": {
              "outlinewidth": 0,
              "ticks": ""
             }
            },
            "type": "scattermapbox"
           }
          ],
          "scatterpolar": [
           {
            "marker": {
             "colorbar": {
              "outlinewidth": 0,
              "ticks": ""
             }
            },
            "type": "scatterpolar"
           }
          ],
          "scatterpolargl": [
           {
            "marker": {
             "colorbar": {
              "outlinewidth": 0,
              "ticks": ""
             }
            },
            "type": "scatterpolargl"
           }
          ],
          "scatterternary": [
           {
            "marker": {
             "colorbar": {
              "outlinewidth": 0,
              "ticks": ""
             }
            },
            "type": "scatterternary"
           }
          ],
          "surface": [
           {
            "colorbar": {
             "outlinewidth": 0,
             "ticks": ""
            },
            "colorscale": [
             [
              0,
              "#0d0887"
             ],
             [
              0.1111111111111111,
              "#46039f"
             ],
             [
              0.2222222222222222,
              "#7201a8"
             ],
             [
              0.3333333333333333,
              "#9c179e"
             ],
             [
              0.4444444444444444,
              "#bd3786"
             ],
             [
              0.5555555555555556,
              "#d8576b"
             ],
             [
              0.6666666666666666,
              "#ed7953"
             ],
             [
              0.7777777777777778,
              "#fb9f3a"
             ],
             [
              0.8888888888888888,
              "#fdca26"
             ],
             [
              1,
              "#f0f921"
             ]
            ],
            "type": "surface"
           }
          ],
          "table": [
           {
            "cells": {
             "fill": {
              "color": "#EBF0F8"
             },
             "line": {
              "color": "white"
             }
            },
            "header": {
             "fill": {
              "color": "#C8D4E3"
             },
             "line": {
              "color": "white"
             }
            },
            "type": "table"
           }
          ]
         },
         "layout": {
          "annotationdefaults": {
           "arrowcolor": "#2a3f5f",
           "arrowhead": 0,
           "arrowwidth": 1
          },
          "autotypenumbers": "strict",
          "coloraxis": {
           "colorbar": {
            "outlinewidth": 0,
            "ticks": ""
           }
          },
          "colorscale": {
           "diverging": [
            [
             0,
             "#8e0152"
            ],
            [
             0.1,
             "#c51b7d"
            ],
            [
             0.2,
             "#de77ae"
            ],
            [
             0.3,
             "#f1b6da"
            ],
            [
             0.4,
             "#fde0ef"
            ],
            [
             0.5,
             "#f7f7f7"
            ],
            [
             0.6,
             "#e6f5d0"
            ],
            [
             0.7,
             "#b8e186"
            ],
            [
             0.8,
             "#7fbc41"
            ],
            [
             0.9,
             "#4d9221"
            ],
            [
             1,
             "#276419"
            ]
           ],
           "sequential": [
            [
             0,
             "#0d0887"
            ],
            [
             0.1111111111111111,
             "#46039f"
            ],
            [
             0.2222222222222222,
             "#7201a8"
            ],
            [
             0.3333333333333333,
             "#9c179e"
            ],
            [
             0.4444444444444444,
             "#bd3786"
            ],
            [
             0.5555555555555556,
             "#d8576b"
            ],
            [
             0.6666666666666666,
             "#ed7953"
            ],
            [
             0.7777777777777778,
             "#fb9f3a"
            ],
            [
             0.8888888888888888,
             "#fdca26"
            ],
            [
             1,
             "#f0f921"
            ]
           ],
           "sequentialminus": [
            [
             0,
             "#0d0887"
            ],
            [
             0.1111111111111111,
             "#46039f"
            ],
            [
             0.2222222222222222,
             "#7201a8"
            ],
            [
             0.3333333333333333,
             "#9c179e"
            ],
            [
             0.4444444444444444,
             "#bd3786"
            ],
            [
             0.5555555555555556,
             "#d8576b"
            ],
            [
             0.6666666666666666,
             "#ed7953"
            ],
            [
             0.7777777777777778,
             "#fb9f3a"
            ],
            [
             0.8888888888888888,
             "#fdca26"
            ],
            [
             1,
             "#f0f921"
            ]
           ]
          },
          "colorway": [
           "#636efa",
           "#EF553B",
           "#00cc96",
           "#ab63fa",
           "#FFA15A",
           "#19d3f3",
           "#FF6692",
           "#B6E880",
           "#FF97FF",
           "#FECB52"
          ],
          "font": {
           "color": "#2a3f5f"
          },
          "geo": {
           "bgcolor": "white",
           "lakecolor": "white",
           "landcolor": "#E5ECF6",
           "showlakes": true,
           "showland": true,
           "subunitcolor": "white"
          },
          "hoverlabel": {
           "align": "left"
          },
          "hovermode": "closest",
          "mapbox": {
           "style": "light"
          },
          "paper_bgcolor": "white",
          "plot_bgcolor": "#E5ECF6",
          "polar": {
           "angularaxis": {
            "gridcolor": "white",
            "linecolor": "white",
            "ticks": ""
           },
           "bgcolor": "#E5ECF6",
           "radialaxis": {
            "gridcolor": "white",
            "linecolor": "white",
            "ticks": ""
           }
          },
          "scene": {
           "xaxis": {
            "backgroundcolor": "#E5ECF6",
            "gridcolor": "white",
            "gridwidth": 2,
            "linecolor": "white",
            "showbackground": true,
            "ticks": "",
            "zerolinecolor": "white"
           },
           "yaxis": {
            "backgroundcolor": "#E5ECF6",
            "gridcolor": "white",
            "gridwidth": 2,
            "linecolor": "white",
            "showbackground": true,
            "ticks": "",
            "zerolinecolor": "white"
           },
           "zaxis": {
            "backgroundcolor": "#E5ECF6",
            "gridcolor": "white",
            "gridwidth": 2,
            "linecolor": "white",
            "showbackground": true,
            "ticks": "",
            "zerolinecolor": "white"
           }
          },
          "shapedefaults": {
           "line": {
            "color": "#2a3f5f"
           }
          },
          "ternary": {
           "aaxis": {
            "gridcolor": "white",
            "linecolor": "white",
            "ticks": ""
           },
           "baxis": {
            "gridcolor": "white",
            "linecolor": "white",
            "ticks": ""
           },
           "bgcolor": "#E5ECF6",
           "caxis": {
            "gridcolor": "white",
            "linecolor": "white",
            "ticks": ""
           }
          },
          "title": {
           "x": 0.05
          },
          "xaxis": {
           "automargin": true,
           "gridcolor": "white",
           "linecolor": "white",
           "ticks": "",
           "title": {
            "standoff": 15
           },
           "zerolinecolor": "white",
           "zerolinewidth": 2
          },
          "yaxis": {
           "automargin": true,
           "gridcolor": "white",
           "linecolor": "white",
           "ticks": "",
           "title": {
            "standoff": 15
           },
           "zerolinecolor": "white",
           "zerolinewidth": 2
          }
         }
        }
       }
      }
     },
     "metadata": {},
     "output_type": "display_data"
    }
   ],
   "source": [
    "fig = px.choropleth(number_of_launches_by_country, locations='Country_code', color='index',\n",
    "                           color_continuous_scale=\"Viridis\",\n",
    "                           range_color=(0, 500),\n",
    "                           labels={'index':'Number of lunches'}\n",
    "                          )\n",
    "fig.update_layout(margin={\"r\":0,\"t\":0,\"l\":0,\"b\":0})\n",
    "fig.show()"
   ]
  },
  {
   "cell_type": "markdown",
   "metadata": {
    "id": "F3pwYSUlo_AK"
   },
   "source": [
    "# Choropleth Map to Show the Number of Failures by Country\n"
   ]
  },
  {
   "cell_type": "code",
   "execution_count": 334,
   "metadata": {
    "id": "8BH4ICtro9I0"
   },
   "outputs": [
    {
     "data": {
      "application/vnd.plotly.v1+json": {
       "config": {
        "plotlyServerURL": "https://plot.ly"
       },
       "data": [
        {
         "coloraxis": "coloraxis",
         "geo": "geo",
         "hovertemplate": "Country_code=%{location}<br>index=%{z}<extra></extra>",
         "locations": [
          "CHN",
          "FRA",
          "IND",
          "KAZ",
          "NZL",
          "RUS",
          "USA"
         ],
         "name": "",
         "type": "choropleth",
         "z": {
          "_inputArray": {
           "0": 4,
           "1": 2,
           "2": 5,
           "3": 2,
           "4": 2,
           "5": 1,
           "6": 20,
           "bdata": "BAIFAgIBFA==",
           "dtype": "i1",
           "shape": "7"
          },
          "bdata": "BAIFAgIBFA==",
          "dtype": "i1"
         }
        }
       ],
       "layout": {
        "autosize": true,
        "coloraxis": {
         "cmax": 20,
         "cmin": 0,
         "colorbar": {
          "title": {
           "text": "index"
          }
         },
         "colorscale": [
          [
           0,
           "rgb(255,245,240)"
          ],
          [
           0.125,
           "rgb(254,224,210)"
          ],
          [
           0.25,
           "rgb(252,187,161)"
          ],
          [
           0.375,
           "rgb(252,146,114)"
          ],
          [
           0.5,
           "rgb(251,106,74)"
          ],
          [
           0.625,
           "rgb(239,59,44)"
          ],
          [
           0.75,
           "rgb(203,24,29)"
          ],
          [
           0.875,
           "rgb(165,15,21)"
          ],
          [
           1,
           "rgb(103,0,13)"
          ]
         ]
        },
        "geo": {
         "center": {},
         "domain": {
          "x": [
           0,
           1
          ],
          "y": [
           0,
           1
          ]
         }
        },
        "legend": {
         "tracegroupgap": 0
        },
        "margin": {
         "t": 60
        },
        "template": {
         "data": {
          "bar": [
           {
            "error_x": {
             "color": "#2a3f5f"
            },
            "error_y": {
             "color": "#2a3f5f"
            },
            "marker": {
             "line": {
              "color": "#E5ECF6",
              "width": 0.5
             },
             "pattern": {
              "fillmode": "overlay",
              "size": 10,
              "solidity": 0.2
             }
            },
            "type": "bar"
           }
          ],
          "barpolar": [
           {
            "marker": {
             "line": {
              "color": "#E5ECF6",
              "width": 0.5
             },
             "pattern": {
              "fillmode": "overlay",
              "size": 10,
              "solidity": 0.2
             }
            },
            "type": "barpolar"
           }
          ],
          "carpet": [
           {
            "aaxis": {
             "endlinecolor": "#2a3f5f",
             "gridcolor": "white",
             "linecolor": "white",
             "minorgridcolor": "white",
             "startlinecolor": "#2a3f5f"
            },
            "baxis": {
             "endlinecolor": "#2a3f5f",
             "gridcolor": "white",
             "linecolor": "white",
             "minorgridcolor": "white",
             "startlinecolor": "#2a3f5f"
            },
            "type": "carpet"
           }
          ],
          "choropleth": [
           {
            "colorbar": {
             "outlinewidth": 0,
             "ticks": ""
            },
            "type": "choropleth"
           }
          ],
          "contour": [
           {
            "colorbar": {
             "outlinewidth": 0,
             "ticks": ""
            },
            "colorscale": [
             [
              0,
              "#0d0887"
             ],
             [
              0.1111111111111111,
              "#46039f"
             ],
             [
              0.2222222222222222,
              "#7201a8"
             ],
             [
              0.3333333333333333,
              "#9c179e"
             ],
             [
              0.4444444444444444,
              "#bd3786"
             ],
             [
              0.5555555555555556,
              "#d8576b"
             ],
             [
              0.6666666666666666,
              "#ed7953"
             ],
             [
              0.7777777777777778,
              "#fb9f3a"
             ],
             [
              0.8888888888888888,
              "#fdca26"
             ],
             [
              1,
              "#f0f921"
             ]
            ],
            "type": "contour"
           }
          ],
          "contourcarpet": [
           {
            "colorbar": {
             "outlinewidth": 0,
             "ticks": ""
            },
            "type": "contourcarpet"
           }
          ],
          "heatmap": [
           {
            "colorbar": {
             "outlinewidth": 0,
             "ticks": ""
            },
            "colorscale": [
             [
              0,
              "#0d0887"
             ],
             [
              0.1111111111111111,
              "#46039f"
             ],
             [
              0.2222222222222222,
              "#7201a8"
             ],
             [
              0.3333333333333333,
              "#9c179e"
             ],
             [
              0.4444444444444444,
              "#bd3786"
             ],
             [
              0.5555555555555556,
              "#d8576b"
             ],
             [
              0.6666666666666666,
              "#ed7953"
             ],
             [
              0.7777777777777778,
              "#fb9f3a"
             ],
             [
              0.8888888888888888,
              "#fdca26"
             ],
             [
              1,
              "#f0f921"
             ]
            ],
            "type": "heatmap"
           }
          ],
          "histogram": [
           {
            "marker": {
             "pattern": {
              "fillmode": "overlay",
              "size": 10,
              "solidity": 0.2
             }
            },
            "type": "histogram"
           }
          ],
          "histogram2d": [
           {
            "colorbar": {
             "outlinewidth": 0,
             "ticks": ""
            },
            "colorscale": [
             [
              0,
              "#0d0887"
             ],
             [
              0.1111111111111111,
              "#46039f"
             ],
             [
              0.2222222222222222,
              "#7201a8"
             ],
             [
              0.3333333333333333,
              "#9c179e"
             ],
             [
              0.4444444444444444,
              "#bd3786"
             ],
             [
              0.5555555555555556,
              "#d8576b"
             ],
             [
              0.6666666666666666,
              "#ed7953"
             ],
             [
              0.7777777777777778,
              "#fb9f3a"
             ],
             [
              0.8888888888888888,
              "#fdca26"
             ],
             [
              1,
              "#f0f921"
             ]
            ],
            "type": "histogram2d"
           }
          ],
          "histogram2dcontour": [
           {
            "colorbar": {
             "outlinewidth": 0,
             "ticks": ""
            },
            "colorscale": [
             [
              0,
              "#0d0887"
             ],
             [
              0.1111111111111111,
              "#46039f"
             ],
             [
              0.2222222222222222,
              "#7201a8"
             ],
             [
              0.3333333333333333,
              "#9c179e"
             ],
             [
              0.4444444444444444,
              "#bd3786"
             ],
             [
              0.5555555555555556,
              "#d8576b"
             ],
             [
              0.6666666666666666,
              "#ed7953"
             ],
             [
              0.7777777777777778,
              "#fb9f3a"
             ],
             [
              0.8888888888888888,
              "#fdca26"
             ],
             [
              1,
              "#f0f921"
             ]
            ],
            "type": "histogram2dcontour"
           }
          ],
          "mesh3d": [
           {
            "colorbar": {
             "outlinewidth": 0,
             "ticks": ""
            },
            "type": "mesh3d"
           }
          ],
          "parcoords": [
           {
            "line": {
             "colorbar": {
              "outlinewidth": 0,
              "ticks": ""
             }
            },
            "type": "parcoords"
           }
          ],
          "pie": [
           {
            "automargin": true,
            "type": "pie"
           }
          ],
          "scatter": [
           {
            "fillpattern": {
             "fillmode": "overlay",
             "size": 10,
             "solidity": 0.2
            },
            "type": "scatter"
           }
          ],
          "scatter3d": [
           {
            "line": {
             "colorbar": {
              "outlinewidth": 0,
              "ticks": ""
             }
            },
            "marker": {
             "colorbar": {
              "outlinewidth": 0,
              "ticks": ""
             }
            },
            "type": "scatter3d"
           }
          ],
          "scattercarpet": [
           {
            "marker": {
             "colorbar": {
              "outlinewidth": 0,
              "ticks": ""
             }
            },
            "type": "scattercarpet"
           }
          ],
          "scattergeo": [
           {
            "marker": {
             "colorbar": {
              "outlinewidth": 0,
              "ticks": ""
             }
            },
            "type": "scattergeo"
           }
          ],
          "scattergl": [
           {
            "marker": {
             "colorbar": {
              "outlinewidth": 0,
              "ticks": ""
             }
            },
            "type": "scattergl"
           }
          ],
          "scattermap": [
           {
            "marker": {
             "colorbar": {
              "outlinewidth": 0,
              "ticks": ""
             }
            },
            "type": "scattermap"
           }
          ],
          "scattermapbox": [
           {
            "marker": {
             "colorbar": {
              "outlinewidth": 0,
              "ticks": ""
             }
            },
            "type": "scattermapbox"
           }
          ],
          "scatterpolar": [
           {
            "marker": {
             "colorbar": {
              "outlinewidth": 0,
              "ticks": ""
             }
            },
            "type": "scatterpolar"
           }
          ],
          "scatterpolargl": [
           {
            "marker": {
             "colorbar": {
              "outlinewidth": 0,
              "ticks": ""
             }
            },
            "type": "scatterpolargl"
           }
          ],
          "scatterternary": [
           {
            "marker": {
             "colorbar": {
              "outlinewidth": 0,
              "ticks": ""
             }
            },
            "type": "scatterternary"
           }
          ],
          "surface": [
           {
            "colorbar": {
             "outlinewidth": 0,
             "ticks": ""
            },
            "colorscale": [
             [
              0,
              "#0d0887"
             ],
             [
              0.1111111111111111,
              "#46039f"
             ],
             [
              0.2222222222222222,
              "#7201a8"
             ],
             [
              0.3333333333333333,
              "#9c179e"
             ],
             [
              0.4444444444444444,
              "#bd3786"
             ],
             [
              0.5555555555555556,
              "#d8576b"
             ],
             [
              0.6666666666666666,
              "#ed7953"
             ],
             [
              0.7777777777777778,
              "#fb9f3a"
             ],
             [
              0.8888888888888888,
              "#fdca26"
             ],
             [
              1,
              "#f0f921"
             ]
            ],
            "type": "surface"
           }
          ],
          "table": [
           {
            "cells": {
             "fill": {
              "color": "#EBF0F8"
             },
             "line": {
              "color": "white"
             }
            },
            "header": {
             "fill": {
              "color": "#C8D4E3"
             },
             "line": {
              "color": "white"
             }
            },
            "type": "table"
           }
          ]
         },
         "layout": {
          "annotationdefaults": {
           "arrowcolor": "#2a3f5f",
           "arrowhead": 0,
           "arrowwidth": 1
          },
          "autotypenumbers": "strict",
          "coloraxis": {
           "colorbar": {
            "outlinewidth": 0,
            "ticks": ""
           }
          },
          "colorscale": {
           "diverging": [
            [
             0,
             "#8e0152"
            ],
            [
             0.1,
             "#c51b7d"
            ],
            [
             0.2,
             "#de77ae"
            ],
            [
             0.3,
             "#f1b6da"
            ],
            [
             0.4,
             "#fde0ef"
            ],
            [
             0.5,
             "#f7f7f7"
            ],
            [
             0.6,
             "#e6f5d0"
            ],
            [
             0.7,
             "#b8e186"
            ],
            [
             0.8,
             "#7fbc41"
            ],
            [
             0.9,
             "#4d9221"
            ],
            [
             1,
             "#276419"
            ]
           ],
           "sequential": [
            [
             0,
             "#0d0887"
            ],
            [
             0.1111111111111111,
             "#46039f"
            ],
            [
             0.2222222222222222,
             "#7201a8"
            ],
            [
             0.3333333333333333,
             "#9c179e"
            ],
            [
             0.4444444444444444,
             "#bd3786"
            ],
            [
             0.5555555555555556,
             "#d8576b"
            ],
            [
             0.6666666666666666,
             "#ed7953"
            ],
            [
             0.7777777777777778,
             "#fb9f3a"
            ],
            [
             0.8888888888888888,
             "#fdca26"
            ],
            [
             1,
             "#f0f921"
            ]
           ],
           "sequentialminus": [
            [
             0,
             "#0d0887"
            ],
            [
             0.1111111111111111,
             "#46039f"
            ],
            [
             0.2222222222222222,
             "#7201a8"
            ],
            [
             0.3333333333333333,
             "#9c179e"
            ],
            [
             0.4444444444444444,
             "#bd3786"
            ],
            [
             0.5555555555555556,
             "#d8576b"
            ],
            [
             0.6666666666666666,
             "#ed7953"
            ],
            [
             0.7777777777777778,
             "#fb9f3a"
            ],
            [
             0.8888888888888888,
             "#fdca26"
            ],
            [
             1,
             "#f0f921"
            ]
           ]
          },
          "colorway": [
           "#636efa",
           "#EF553B",
           "#00cc96",
           "#ab63fa",
           "#FFA15A",
           "#19d3f3",
           "#FF6692",
           "#B6E880",
           "#FF97FF",
           "#FECB52"
          ],
          "font": {
           "color": "#2a3f5f"
          },
          "geo": {
           "bgcolor": "white",
           "lakecolor": "white",
           "landcolor": "#E5ECF6",
           "showlakes": true,
           "showland": true,
           "subunitcolor": "white"
          },
          "hoverlabel": {
           "align": "left"
          },
          "hovermode": "closest",
          "mapbox": {
           "style": "light"
          },
          "paper_bgcolor": "white",
          "plot_bgcolor": "#E5ECF6",
          "polar": {
           "angularaxis": {
            "gridcolor": "white",
            "linecolor": "white",
            "ticks": ""
           },
           "bgcolor": "#E5ECF6",
           "radialaxis": {
            "gridcolor": "white",
            "linecolor": "white",
            "ticks": ""
           }
          },
          "scene": {
           "xaxis": {
            "backgroundcolor": "#E5ECF6",
            "gridcolor": "white",
            "gridwidth": 2,
            "linecolor": "white",
            "showbackground": true,
            "ticks": "",
            "zerolinecolor": "white"
           },
           "yaxis": {
            "backgroundcolor": "#E5ECF6",
            "gridcolor": "white",
            "gridwidth": 2,
            "linecolor": "white",
            "showbackground": true,
            "ticks": "",
            "zerolinecolor": "white"
           },
           "zaxis": {
            "backgroundcolor": "#E5ECF6",
            "gridcolor": "white",
            "gridwidth": 2,
            "linecolor": "white",
            "showbackground": true,
            "ticks": "",
            "zerolinecolor": "white"
           }
          },
          "shapedefaults": {
           "line": {
            "color": "#2a3f5f"
           }
          },
          "ternary": {
           "aaxis": {
            "gridcolor": "white",
            "linecolor": "white",
            "ticks": ""
           },
           "baxis": {
            "gridcolor": "white",
            "linecolor": "white",
            "ticks": ""
           },
           "bgcolor": "#E5ECF6",
           "caxis": {
            "gridcolor": "white",
            "linecolor": "white",
            "ticks": ""
           }
          },
          "title": {
           "x": 0.05
          },
          "xaxis": {
           "automargin": true,
           "gridcolor": "white",
           "linecolor": "white",
           "ticks": "",
           "title": {
            "standoff": 15
           },
           "zerolinecolor": "white",
           "zerolinewidth": 2
          },
          "yaxis": {
           "automargin": true,
           "gridcolor": "white",
           "linecolor": "white",
           "ticks": "",
           "title": {
            "standoff": 15
           },
           "zerolinecolor": "white",
           "zerolinewidth": 2
          }
         }
        }
       }
      }
     },
     "metadata": {},
     "output_type": "display_data"
    }
   ],
   "source": [
    "failures_by_country = cleaned_data.loc[cleaned_data['Mission_Status'] == 'Failure'].groupby('Country_code').agg({'index':'count'}).reset_index()\n",
    "fig = px.choropleth(failures_by_country, locations='Country_code',color='index',\n",
    "                   color_continuous_scale=\"Reds\", range_color=(0,20))\n",
    "fig.show()"
   ]
  },
  {
   "cell_type": "markdown",
   "metadata": {
    "id": "9LqcqSrKa-qN",
    "papermill": {
     "duration": 0.039343,
     "end_time": "2020-10-20T21:34:06.591694",
     "exception": false,
     "start_time": "2020-10-20T21:34:06.552351",
     "status": "completed"
    },
    "tags": []
   },
   "source": [
    "# Plotly Sunburst Chart of the countries, organisations, and mission status. "
   ]
  },
  {
   "cell_type": "code",
   "execution_count": 335,
   "metadata": {
    "id": "MwUfpoByo3_J"
   },
   "outputs": [
    {
     "data": {
      "application/vnd.plotly.v1+json": {
       "config": {
        "plotlyServerURL": "https://plot.ly"
       },
       "data": [
        {
         "branchvalues": "total",
         "domain": {
          "x": [
           0,
           1
          ],
          "y": [
           0,
           1
          ]
         },
         "hovertemplate": "labels=%{label}<br>Price=%{value}<br>parent=%{parent}<br>id=%{id}<extra></extra>",
         "ids": [
          "USA/SpaceX/Success",
          "China/CASC/Success",
          "Kazakhstan/Roscosmos/Success",
          "USA/ULA/Success",
          "Japan/JAXA/Success",
          "USA/Northrop/Success",
          "China/ExPace/Failure",
          "New Zealand/Rocket Lab/Failure",
          "New Zealand/Rocket Lab/Success",
          "USA/Virgin Orbit/Failure",
          "Japan/MHI/Success",
          "China/CASC/Failure",
          "Kazakhstan/Arianespace/Success",
          "Russian Federation/VKS RF/Success",
          "France/Arianespace/Success",
          "India/ISRO/Success",
          "Kazakhstan/ILS/Success",
          "France/Arianespace/Failure",
          "Russian Federation/Roscosmos/Success",
          "Kazakhstan/VKS RF/Success",
          "Russian Federation/Eurockot/Success",
          "France/Arianespace/Partial Failure",
          "India/ISRO/Failure",
          "Kazakhstan/Roscosmos/Partial Failure",
          "China/CASC/Partial Failure",
          "USA/SpaceX/Prelaunch Failure",
          "USA/Sandia/Failure",
          "USA/SpaceX/Failure",
          "Russian Federation/Kosmotras/Success",
          "USA/Northrop/Failure",
          "Kazakhstan/VKS RF/Failure",
          "Russian Federation/VKS RF/Partial Failure",
          "USA/SpaceX/Partial Failure",
          "France/ESA/Success",
          "USA/NASA/Success",
          "Kazakhstan/Kosmotras/Success",
          "India/ISRO/Partial Failure",
          "USA/ULA/Partial Failure",
          "USA/Boeing/Success",
          "Kazakhstan/Kosmotras/Failure",
          "USA/ILS/Success",
          "Russian Federation/Eurockot/Failure",
          "USA/Boeing/Partial Failure",
          "USA/Lockheed/Success",
          "USA/NASA/Failure",
          "USA/EER/Failure",
          "USA/Northrop/Partial Failure",
          "USA/Martin Marietta/Success",
          "USA/Martin Marietta/Failure",
          "Kazakhstan/RVSN USSR/Success",
          "USA/US Air Force/Success",
          "USA/NASA/Partial Failure",
          "USA/US Air Force/Partial Failure",
          "USA/US Air Force/Failure",
          "USA/SpaceX",
          "China/CASC",
          "Kazakhstan/Roscosmos",
          "USA/ULA",
          "Japan/JAXA",
          "USA/Northrop",
          "China/ExPace",
          "New Zealand/Rocket Lab",
          "USA/Virgin Orbit",
          "Japan/MHI",
          "Kazakhstan/Arianespace",
          "Russian Federation/VKS RF",
          "France/Arianespace",
          "India/ISRO",
          "Kazakhstan/ILS",
          "Russian Federation/Roscosmos",
          "Kazakhstan/VKS RF",
          "Russian Federation/Eurockot",
          "USA/Sandia",
          "Russian Federation/Kosmotras",
          "France/ESA",
          "USA/NASA",
          "Kazakhstan/Kosmotras",
          "USA/Boeing",
          "USA/ILS",
          "USA/Lockheed",
          "USA/EER",
          "USA/Martin Marietta",
          "Kazakhstan/RVSN USSR",
          "USA/US Air Force",
          "USA",
          "China",
          "Kazakhstan",
          "Japan",
          "New Zealand",
          "Russian Federation",
          "France",
          "India"
         ],
         "labels": [
          "Success",
          "Success",
          "Success",
          "Success",
          "Success",
          "Success",
          "Failure",
          "Failure",
          "Success",
          "Failure",
          "Success",
          "Failure",
          "Success",
          "Success",
          "Success",
          "Success",
          "Success",
          "Failure",
          "Success",
          "Success",
          "Success",
          "Partial Failure",
          "Failure",
          "Partial Failure",
          "Partial Failure",
          "Prelaunch Failure",
          "Failure",
          "Failure",
          "Success",
          "Failure",
          "Failure",
          "Partial Failure",
          "Partial Failure",
          "Success",
          "Success",
          "Success",
          "Partial Failure",
          "Partial Failure",
          "Success",
          "Failure",
          "Success",
          "Failure",
          "Partial Failure",
          "Success",
          "Failure",
          "Failure",
          "Partial Failure",
          "Success",
          "Failure",
          "Success",
          "Success",
          "Partial Failure",
          "Partial Failure",
          "Failure",
          "SpaceX",
          "CASC",
          "Roscosmos",
          "ULA",
          "JAXA",
          "Northrop",
          "ExPace",
          "Rocket Lab",
          "Virgin Orbit",
          "MHI",
          "Arianespace",
          "VKS RF",
          "Arianespace",
          "ISRO",
          "ILS",
          "Roscosmos",
          "VKS RF",
          "Eurockot",
          "Sandia",
          "Kosmotras",
          "ESA",
          "NASA",
          "Kosmotras",
          "Boeing",
          "ILS",
          "Lockheed",
          "EER",
          "Martin Marietta",
          "RVSN USSR",
          "US Air Force",
          "USA",
          "China",
          "Kazakhstan",
          "Japan",
          "New Zealand",
          "Russian Federation",
          "France",
          "India"
         ],
         "name": "",
         "parents": [
          "USA/SpaceX",
          "China/CASC",
          "Kazakhstan/Roscosmos",
          "USA/ULA",
          "Japan/JAXA",
          "USA/Northrop",
          "China/ExPace",
          "New Zealand/Rocket Lab",
          "New Zealand/Rocket Lab",
          "USA/Virgin Orbit",
          "Japan/MHI",
          "China/CASC",
          "Kazakhstan/Arianespace",
          "Russian Federation/VKS RF",
          "France/Arianespace",
          "India/ISRO",
          "Kazakhstan/ILS",
          "France/Arianespace",
          "Russian Federation/Roscosmos",
          "Kazakhstan/VKS RF",
          "Russian Federation/Eurockot",
          "France/Arianespace",
          "India/ISRO",
          "Kazakhstan/Roscosmos",
          "China/CASC",
          "USA/SpaceX",
          "USA/Sandia",
          "USA/SpaceX",
          "Russian Federation/Kosmotras",
          "USA/Northrop",
          "Kazakhstan/VKS RF",
          "Russian Federation/VKS RF",
          "USA/SpaceX",
          "France/ESA",
          "USA/NASA",
          "Kazakhstan/Kosmotras",
          "India/ISRO",
          "USA/ULA",
          "USA/Boeing",
          "Kazakhstan/Kosmotras",
          "USA/ILS",
          "Russian Federation/Eurockot",
          "USA/Boeing",
          "USA/Lockheed",
          "USA/NASA",
          "USA/EER",
          "USA/Northrop",
          "USA/Martin Marietta",
          "USA/Martin Marietta",
          "Kazakhstan/RVSN USSR",
          "USA/US Air Force",
          "USA/NASA",
          "USA/US Air Force",
          "USA/US Air Force",
          "USA",
          "China",
          "Kazakhstan",
          "USA",
          "Japan",
          "USA",
          "China",
          "New Zealand",
          "USA",
          "Japan",
          "Kazakhstan",
          "Russian Federation",
          "France",
          "India",
          "Kazakhstan",
          "Russian Federation",
          "Kazakhstan",
          "Russian Federation",
          "USA",
          "Russian Federation",
          "France",
          "USA",
          "Kazakhstan",
          "USA",
          "USA",
          "USA",
          "USA",
          "USA",
          "Kazakhstan",
          "USA",
          "",
          "",
          "",
          "",
          "",
          "",
          "",
          ""
         ],
         "type": "sunburst",
         "values": {
          "_inputArray": {
           "0": 5245,
           "1": 6053.150000000001,
           "10": 3532.5,
           "11": 158.51000000000002,
           "12": 97,
           "13": 1140.3,
           "14": 15811,
           "15": 1861,
           "16": 325,
           "17": 237,
           "18": 132,
           "19": 260,
           "2": 1007,
           "20": 501.59999999999997,
           "21": 200,
           "22": 197,
           "23": 48.5,
           "24": 128.6,
           "25": 62,
           "26": 15,
           "27": 77.5,
           "28": 290,
           "29": 335,
           "3": 14689,
           "30": 65,
           "31": 83.6,
           "32": 59.5,
           "33": 37,
           "34": 74220,
           "35": 319,
           "36": 119,
           "37": 109,
           "38": 891,
           "39": 29,
           "4": 168,
           "40": 995,
           "41": 41.8,
           "42": 350,
           "43": 280,
           "44": 900,
           "45": 20,
           "46": 80,
           "47": 549.8,
           "48": 171.6,
           "49": 10000,
           "5": 3515,
           "50": 1369.69,
           "51": 1160,
           "52": 59,
           "53": 122.22999999999999,
           "54": 5444,
           "55": 6340.26,
           "56": 1055.5,
           "57": 14798,
           "58": 168,
           "59": 3930,
           "6": 28.3,
           "60": 28.3,
           "61": 97.5,
           "62": 12,
           "63": 3532.5,
           "64": 97,
           "65": 1223.8999999999999,
           "66": 16248,
           "67": 2177,
           "68": 325,
           "69": 132,
           "7": 15,
           "70": 325,
           "71": 543.4,
           "72": 15,
           "73": 290,
           "74": 37,
           "75": 76280,
           "76": 348,
           "77": 1241,
           "78": 995,
           "79": 280,
           "8": 82.5,
           "80": 20,
           "81": 721.4,
           "82": 10000,
           "83": 1550.92,
           "84": 105287.32,
           "85": 6368.56,
           "86": 12150.5,
           "87": 3700.5,
           "88": 97.5,
           "89": 2189.2999999999997,
           "9": 12,
           "90": 16285,
           "91": 2177,
           "bdata": "AAAAAAB9tEBnZmZmJqW3QAAAAAAAeI9AAAAAAICwzEAAAAAAAABlQAAAAAAAdqtAzczMzMxMPEAAAAAAAAAuQAAAAAAAoFRAAAAAAAAAKEAAAAAAAJmrQLkehetR0GNAAAAAAABAWEAzMzMzM9GRQAAAAACA4c5AAAAAAAAUnUAAAAAAAFB0QAAAAAAAoG1AAAAAAACAYEAAAAAAAEBwQJmZmZmZWX9AAAAAAAAAaUAAAAAAAKBoQAAAAAAAQEhAMzMzMzMTYEAAAAAAAABPQAAAAAAAAC5AAAAAAABgU0AAAAAAACByQAAAAAAA8HRAAAAAAABAUEBmZmZmZuZUQAAAAAAAwE1AAAAAAACAQkAAAAAAwB7yQAAAAAAA8HNAAAAAAADAXUAAAAAAAEBbQAAAAAAA2ItAAAAAAAAAPUAAAAAAABiPQGZmZmZm5kRAAAAAAADgdUAAAAAAAIBxQAAAAAAAIIxAAAAAAAAANEAAAAAAAABUQGZmZmZmLoFAMzMzMzNzZUAAAAAAAIjDQPYoXI/CZpVAAAAAAAAgkkAAAAAAAIBNQB6F61G4jl5AAAAAAABEtUD2KFyPQsS4QAAAAAAAfpBAAAAAAADnzEAAAAAAAABlQAAAAAAAtK5AzczMzMxMPEAAAAAAAGBYQAAAAAAAAChAAAAAAACZq0AAAAAAAEBYQJmZmZmZH5NAAAAAAAC8z0AAAAAAAAKhQAAAAAAAUHRAAAAAAACAYEAAAAAAAFB0QDMzMzMz+4BAAAAAAAAALkAAAAAAACByQAAAAAAAgEJAAAAAAICf8kAAAAAAAMB1QAAAAAAAZJNAAAAAAAAYj0AAAAAAAIBxQAAAAAAAADRAMzMzMzOLhkAAAAAAAIjDQEjhehSuO5hA7FG4HnW0+UDD9Shcj+C4QAAAAABAu8dAAAAAAADprEAAAAAAAGBYQJmZmZmZGqFAAAAAAIDOz0AAAAAAAAKhQA==",
           "dtype": "f8",
           "shape": "92"
          },
          "bdata": "AAAAAAB9tEBnZmZmJqW3QAAAAAAAeI9AAAAAAICwzEAAAAAAAABlQAAAAAAAdqtAzczMzMxMPEAAAAAAAAAuQAAAAAAAoFRAAAAAAAAAKEAAAAAAAJmrQLkehetR0GNAAAAAAABAWEAzMzMzM9GRQAAAAACA4c5AAAAAAAAUnUAAAAAAAFB0QAAAAAAAoG1AAAAAAACAYEAAAAAAAEBwQJmZmZmZWX9AAAAAAAAAaUAAAAAAAKBoQAAAAAAAQEhAMzMzMzMTYEAAAAAAAABPQAAAAAAAAC5AAAAAAABgU0AAAAAAACByQAAAAAAA8HRAAAAAAABAUEBmZmZmZuZUQAAAAAAAwE1AAAAAAACAQkAAAAAAwB7yQAAAAAAA8HNAAAAAAADAXUAAAAAAAEBbQAAAAAAA2ItAAAAAAAAAPUAAAAAAABiPQGZmZmZm5kRAAAAAAADgdUAAAAAAAIBxQAAAAAAAIIxAAAAAAAAANEAAAAAAAABUQGZmZmZmLoFAMzMzMzNzZUAAAAAAAIjDQPYoXI/CZpVAAAAAAAAgkkAAAAAAAIBNQB6F61G4jl5AAAAAAABEtUD2KFyPQsS4QAAAAAAAfpBAAAAAAADnzEAAAAAAAABlQAAAAAAAtK5AzczMzMxMPEAAAAAAAGBYQAAAAAAAAChAAAAAAACZq0AAAAAAAEBYQJmZmZmZH5NAAAAAAAC8z0AAAAAAAAKhQAAAAAAAUHRAAAAAAACAYEAAAAAAAFB0QDMzMzMz+4BAAAAAAAAALkAAAAAAACByQAAAAAAAgEJAAAAAAICf8kAAAAAAAMB1QAAAAAAAZJNAAAAAAAAYj0AAAAAAAIBxQAAAAAAAADRAMzMzMzOLhkAAAAAAAIjDQEjhehSuO5hA7FG4HnW0+UDD9Shcj+C4QAAAAABAu8dAAAAAAADprEAAAAAAAGBYQJmZmZmZGqFAAAAAAIDOz0AAAAAAAAKhQA==",
          "dtype": "f8"
         }
        }
       ],
       "layout": {
        "autosize": true,
        "legend": {
         "tracegroupgap": 0
        },
        "margin": {
         "t": 60
        },
        "template": {
         "data": {
          "bar": [
           {
            "error_x": {
             "color": "#2a3f5f"
            },
            "error_y": {
             "color": "#2a3f5f"
            },
            "marker": {
             "line": {
              "color": "#E5ECF6",
              "width": 0.5
             },
             "pattern": {
              "fillmode": "overlay",
              "size": 10,
              "solidity": 0.2
             }
            },
            "type": "bar"
           }
          ],
          "barpolar": [
           {
            "marker": {
             "line": {
              "color": "#E5ECF6",
              "width": 0.5
             },
             "pattern": {
              "fillmode": "overlay",
              "size": 10,
              "solidity": 0.2
             }
            },
            "type": "barpolar"
           }
          ],
          "carpet": [
           {
            "aaxis": {
             "endlinecolor": "#2a3f5f",
             "gridcolor": "white",
             "linecolor": "white",
             "minorgridcolor": "white",
             "startlinecolor": "#2a3f5f"
            },
            "baxis": {
             "endlinecolor": "#2a3f5f",
             "gridcolor": "white",
             "linecolor": "white",
             "minorgridcolor": "white",
             "startlinecolor": "#2a3f5f"
            },
            "type": "carpet"
           }
          ],
          "choropleth": [
           {
            "colorbar": {
             "outlinewidth": 0,
             "ticks": ""
            },
            "type": "choropleth"
           }
          ],
          "contour": [
           {
            "colorbar": {
             "outlinewidth": 0,
             "ticks": ""
            },
            "colorscale": [
             [
              0,
              "#0d0887"
             ],
             [
              0.1111111111111111,
              "#46039f"
             ],
             [
              0.2222222222222222,
              "#7201a8"
             ],
             [
              0.3333333333333333,
              "#9c179e"
             ],
             [
              0.4444444444444444,
              "#bd3786"
             ],
             [
              0.5555555555555556,
              "#d8576b"
             ],
             [
              0.6666666666666666,
              "#ed7953"
             ],
             [
              0.7777777777777778,
              "#fb9f3a"
             ],
             [
              0.8888888888888888,
              "#fdca26"
             ],
             [
              1,
              "#f0f921"
             ]
            ],
            "type": "contour"
           }
          ],
          "contourcarpet": [
           {
            "colorbar": {
             "outlinewidth": 0,
             "ticks": ""
            },
            "type": "contourcarpet"
           }
          ],
          "heatmap": [
           {
            "colorbar": {
             "outlinewidth": 0,
             "ticks": ""
            },
            "colorscale": [
             [
              0,
              "#0d0887"
             ],
             [
              0.1111111111111111,
              "#46039f"
             ],
             [
              0.2222222222222222,
              "#7201a8"
             ],
             [
              0.3333333333333333,
              "#9c179e"
             ],
             [
              0.4444444444444444,
              "#bd3786"
             ],
             [
              0.5555555555555556,
              "#d8576b"
             ],
             [
              0.6666666666666666,
              "#ed7953"
             ],
             [
              0.7777777777777778,
              "#fb9f3a"
             ],
             [
              0.8888888888888888,
              "#fdca26"
             ],
             [
              1,
              "#f0f921"
             ]
            ],
            "type": "heatmap"
           }
          ],
          "histogram": [
           {
            "marker": {
             "pattern": {
              "fillmode": "overlay",
              "size": 10,
              "solidity": 0.2
             }
            },
            "type": "histogram"
           }
          ],
          "histogram2d": [
           {
            "colorbar": {
             "outlinewidth": 0,
             "ticks": ""
            },
            "colorscale": [
             [
              0,
              "#0d0887"
             ],
             [
              0.1111111111111111,
              "#46039f"
             ],
             [
              0.2222222222222222,
              "#7201a8"
             ],
             [
              0.3333333333333333,
              "#9c179e"
             ],
             [
              0.4444444444444444,
              "#bd3786"
             ],
             [
              0.5555555555555556,
              "#d8576b"
             ],
             [
              0.6666666666666666,
              "#ed7953"
             ],
             [
              0.7777777777777778,
              "#fb9f3a"
             ],
             [
              0.8888888888888888,
              "#fdca26"
             ],
             [
              1,
              "#f0f921"
             ]
            ],
            "type": "histogram2d"
           }
          ],
          "histogram2dcontour": [
           {
            "colorbar": {
             "outlinewidth": 0,
             "ticks": ""
            },
            "colorscale": [
             [
              0,
              "#0d0887"
             ],
             [
              0.1111111111111111,
              "#46039f"
             ],
             [
              0.2222222222222222,
              "#7201a8"
             ],
             [
              0.3333333333333333,
              "#9c179e"
             ],
             [
              0.4444444444444444,
              "#bd3786"
             ],
             [
              0.5555555555555556,
              "#d8576b"
             ],
             [
              0.6666666666666666,
              "#ed7953"
             ],
             [
              0.7777777777777778,
              "#fb9f3a"
             ],
             [
              0.8888888888888888,
              "#fdca26"
             ],
             [
              1,
              "#f0f921"
             ]
            ],
            "type": "histogram2dcontour"
           }
          ],
          "mesh3d": [
           {
            "colorbar": {
             "outlinewidth": 0,
             "ticks": ""
            },
            "type": "mesh3d"
           }
          ],
          "parcoords": [
           {
            "line": {
             "colorbar": {
              "outlinewidth": 0,
              "ticks": ""
             }
            },
            "type": "parcoords"
           }
          ],
          "pie": [
           {
            "automargin": true,
            "type": "pie"
           }
          ],
          "scatter": [
           {
            "fillpattern": {
             "fillmode": "overlay",
             "size": 10,
             "solidity": 0.2
            },
            "type": "scatter"
           }
          ],
          "scatter3d": [
           {
            "line": {
             "colorbar": {
              "outlinewidth": 0,
              "ticks": ""
             }
            },
            "marker": {
             "colorbar": {
              "outlinewidth": 0,
              "ticks": ""
             }
            },
            "type": "scatter3d"
           }
          ],
          "scattercarpet": [
           {
            "marker": {
             "colorbar": {
              "outlinewidth": 0,
              "ticks": ""
             }
            },
            "type": "scattercarpet"
           }
          ],
          "scattergeo": [
           {
            "marker": {
             "colorbar": {
              "outlinewidth": 0,
              "ticks": ""
             }
            },
            "type": "scattergeo"
           }
          ],
          "scattergl": [
           {
            "marker": {
             "colorbar": {
              "outlinewidth": 0,
              "ticks": ""
             }
            },
            "type": "scattergl"
           }
          ],
          "scattermap": [
           {
            "marker": {
             "colorbar": {
              "outlinewidth": 0,
              "ticks": ""
             }
            },
            "type": "scattermap"
           }
          ],
          "scattermapbox": [
           {
            "marker": {
             "colorbar": {
              "outlinewidth": 0,
              "ticks": ""
             }
            },
            "type": "scattermapbox"
           }
          ],
          "scatterpolar": [
           {
            "marker": {
             "colorbar": {
              "outlinewidth": 0,
              "ticks": ""
             }
            },
            "type": "scatterpolar"
           }
          ],
          "scatterpolargl": [
           {
            "marker": {
             "colorbar": {
              "outlinewidth": 0,
              "ticks": ""
             }
            },
            "type": "scatterpolargl"
           }
          ],
          "scatterternary": [
           {
            "marker": {
             "colorbar": {
              "outlinewidth": 0,
              "ticks": ""
             }
            },
            "type": "scatterternary"
           }
          ],
          "surface": [
           {
            "colorbar": {
             "outlinewidth": 0,
             "ticks": ""
            },
            "colorscale": [
             [
              0,
              "#0d0887"
             ],
             [
              0.1111111111111111,
              "#46039f"
             ],
             [
              0.2222222222222222,
              "#7201a8"
             ],
             [
              0.3333333333333333,
              "#9c179e"
             ],
             [
              0.4444444444444444,
              "#bd3786"
             ],
             [
              0.5555555555555556,
              "#d8576b"
             ],
             [
              0.6666666666666666,
              "#ed7953"
             ],
             [
              0.7777777777777778,
              "#fb9f3a"
             ],
             [
              0.8888888888888888,
              "#fdca26"
             ],
             [
              1,
              "#f0f921"
             ]
            ],
            "type": "surface"
           }
          ],
          "table": [
           {
            "cells": {
             "fill": {
              "color": "#EBF0F8"
             },
             "line": {
              "color": "white"
             }
            },
            "header": {
             "fill": {
              "color": "#C8D4E3"
             },
             "line": {
              "color": "white"
             }
            },
            "type": "table"
           }
          ]
         },
         "layout": {
          "annotationdefaults": {
           "arrowcolor": "#2a3f5f",
           "arrowhead": 0,
           "arrowwidth": 1
          },
          "autotypenumbers": "strict",
          "coloraxis": {
           "colorbar": {
            "outlinewidth": 0,
            "ticks": ""
           }
          },
          "colorscale": {
           "diverging": [
            [
             0,
             "#8e0152"
            ],
            [
             0.1,
             "#c51b7d"
            ],
            [
             0.2,
             "#de77ae"
            ],
            [
             0.3,
             "#f1b6da"
            ],
            [
             0.4,
             "#fde0ef"
            ],
            [
             0.5,
             "#f7f7f7"
            ],
            [
             0.6,
             "#e6f5d0"
            ],
            [
             0.7,
             "#b8e186"
            ],
            [
             0.8,
             "#7fbc41"
            ],
            [
             0.9,
             "#4d9221"
            ],
            [
             1,
             "#276419"
            ]
           ],
           "sequential": [
            [
             0,
             "#0d0887"
            ],
            [
             0.1111111111111111,
             "#46039f"
            ],
            [
             0.2222222222222222,
             "#7201a8"
            ],
            [
             0.3333333333333333,
             "#9c179e"
            ],
            [
             0.4444444444444444,
             "#bd3786"
            ],
            [
             0.5555555555555556,
             "#d8576b"
            ],
            [
             0.6666666666666666,
             "#ed7953"
            ],
            [
             0.7777777777777778,
             "#fb9f3a"
            ],
            [
             0.8888888888888888,
             "#fdca26"
            ],
            [
             1,
             "#f0f921"
            ]
           ],
           "sequentialminus": [
            [
             0,
             "#0d0887"
            ],
            [
             0.1111111111111111,
             "#46039f"
            ],
            [
             0.2222222222222222,
             "#7201a8"
            ],
            [
             0.3333333333333333,
             "#9c179e"
            ],
            [
             0.4444444444444444,
             "#bd3786"
            ],
            [
             0.5555555555555556,
             "#d8576b"
            ],
            [
             0.6666666666666666,
             "#ed7953"
            ],
            [
             0.7777777777777778,
             "#fb9f3a"
            ],
            [
             0.8888888888888888,
             "#fdca26"
            ],
            [
             1,
             "#f0f921"
            ]
           ]
          },
          "colorway": [
           "#636efa",
           "#EF553B",
           "#00cc96",
           "#ab63fa",
           "#FFA15A",
           "#19d3f3",
           "#FF6692",
           "#B6E880",
           "#FF97FF",
           "#FECB52"
          ],
          "font": {
           "color": "#2a3f5f"
          },
          "geo": {
           "bgcolor": "white",
           "lakecolor": "white",
           "landcolor": "#E5ECF6",
           "showlakes": true,
           "showland": true,
           "subunitcolor": "white"
          },
          "hoverlabel": {
           "align": "left"
          },
          "hovermode": "closest",
          "mapbox": {
           "style": "light"
          },
          "paper_bgcolor": "white",
          "plot_bgcolor": "#E5ECF6",
          "polar": {
           "angularaxis": {
            "gridcolor": "white",
            "linecolor": "white",
            "ticks": ""
           },
           "bgcolor": "#E5ECF6",
           "radialaxis": {
            "gridcolor": "white",
            "linecolor": "white",
            "ticks": ""
           }
          },
          "scene": {
           "xaxis": {
            "backgroundcolor": "#E5ECF6",
            "gridcolor": "white",
            "gridwidth": 2,
            "linecolor": "white",
            "showbackground": true,
            "ticks": "",
            "zerolinecolor": "white"
           },
           "yaxis": {
            "backgroundcolor": "#E5ECF6",
            "gridcolor": "white",
            "gridwidth": 2,
            "linecolor": "white",
            "showbackground": true,
            "ticks": "",
            "zerolinecolor": "white"
           },
           "zaxis": {
            "backgroundcolor": "#E5ECF6",
            "gridcolor": "white",
            "gridwidth": 2,
            "linecolor": "white",
            "showbackground": true,
            "ticks": "",
            "zerolinecolor": "white"
           }
          },
          "shapedefaults": {
           "line": {
            "color": "#2a3f5f"
           }
          },
          "ternary": {
           "aaxis": {
            "gridcolor": "white",
            "linecolor": "white",
            "ticks": ""
           },
           "baxis": {
            "gridcolor": "white",
            "linecolor": "white",
            "ticks": ""
           },
           "bgcolor": "#E5ECF6",
           "caxis": {
            "gridcolor": "white",
            "linecolor": "white",
            "ticks": ""
           }
          },
          "title": {
           "x": 0.05
          },
          "xaxis": {
           "automargin": true,
           "gridcolor": "white",
           "linecolor": "white",
           "ticks": "",
           "title": {
            "standoff": 15
           },
           "zerolinecolor": "white",
           "zerolinewidth": 2
          },
          "yaxis": {
           "automargin": true,
           "gridcolor": "white",
           "linecolor": "white",
           "ticks": "",
           "title": {
            "standoff": 15
           },
           "zerolinecolor": "white",
           "zerolinewidth": 2
          }
         }
        }
       }
      }
     },
     "metadata": {},
     "output_type": "display_data"
    }
   ],
   "source": [
    "fig = px.sunburst(cleaned_data, path=['Country', 'Organisation', 'Mission_Status'], values='Price')\n",
    "fig.show()"
   ]
  },
  {
   "cell_type": "markdown",
   "metadata": {
    "id": "70pG1BCZa-qY",
    "papermill": {
     "duration": 0.062712,
     "end_time": "2020-10-20T21:34:07.951200",
     "exception": false,
     "start_time": "2020-10-20T21:34:07.888488",
     "status": "completed"
    },
    "tags": []
   },
   "source": [
    "# Total Amount of Money Spent by Organisation on Space Missions"
   ]
  },
  {
   "cell_type": "code",
   "execution_count": 336,
   "metadata": {
    "id": "IaJYxwEVpKHy"
   },
   "outputs": [
    {
     "data": {
      "application/vnd.plotly.v1+json": {
       "config": {
        "plotlyServerURL": "https://plot.ly"
       },
       "data": [
        {
         "hovertemplate": "x=%{x}<br>y=%{y}<extra></extra>",
         "legendgroup": "",
         "marker": {
          "color": "#636efa",
          "pattern": {
           "shape": ""
          }
         },
         "name": "",
         "orientation": "v",
         "showlegend": false,
         "textposition": "outside",
         "texttemplate": "%{y}",
         "type": "bar",
         "x": [
          "Arianespace",
          "Boeing",
          "CASC",
          "EER",
          "ESA",
          "Eurockot",
          "ExPace",
          "ILS",
          "ISRO",
          "JAXA",
          "Kosmotras",
          "Lockheed",
          "MHI",
          "Martin Marietta",
          "NASA",
          "Northrop",
          "RVSN USSR",
          "Rocket Lab",
          "Roscosmos",
          "Sandia",
          "SpaceX",
          "ULA",
          "US Air Force",
          "VKS RF",
          "Virgin Orbit"
         ],
         "xaxis": "x",
         "y": {
          "_inputArray": {
           "0": 16345,
           "1": 1241,
           "10": 638,
           "11": 280,
           "12": 3532.5,
           "13": 721.4,
           "14": 76280,
           "15": 3930,
           "16": 10000,
           "17": 97.5,
           "18": 1187.5,
           "19": 15,
           "2": 6340.26,
           "20": 5444,
           "21": 14798,
           "22": 1550.92,
           "23": 1548.8999999999999,
           "24": 12,
           "3": 20,
           "4": 37,
           "5": 543.4,
           "6": 28.3,
           "7": 1320,
           "8": 2177,
           "9": 168,
           "bdata": "AAAAAIDsz0AAAAAAAGSTQPYoXI9CxLhAAAAAAAAANEAAAAAAAIBCQDMzMzMz+4BAzczMzMxMPEAAAAAAAKCUQAAAAAAAAqFAAAAAAAAAZUAAAAAAAPCDQAAAAAAAgHFAAAAAAACZq0AzMzMzM4uGQAAAAACAn/JAAAAAAAC0rkAAAAAAAIjDQAAAAAAAYFhAAAAAAACOkkAAAAAAAAAuQAAAAAAARLVAAAAAAADnzEBI4XoUrjuYQJmZmZmZM5hAAAAAAAAAKEA=",
           "dtype": "f8",
           "shape": "25"
          },
          "bdata": "AAAAAIDsz0AAAAAAAGSTQPYoXI9CxLhAAAAAAAAANEAAAAAAAIBCQDMzMzMz+4BAzczMzMxMPEAAAAAAAKCUQAAAAAAAAqFAAAAAAAAAZUAAAAAAAPCDQAAAAAAAgHFAAAAAAACZq0AzMzMzM4uGQAAAAACAn/JAAAAAAAC0rkAAAAAAAIjDQAAAAAAAYFhAAAAAAACOkkAAAAAAAAAuQAAAAAAARLVAAAAAAADnzEBI4XoUrjuYQJmZmZmZM5hAAAAAAAAAKEA=",
          "dtype": "f8"
         },
         "yaxis": "y"
        }
       ],
       "layout": {
        "barmode": "relative",
        "height": 600,
        "legend": {
         "tracegroupgap": 0
        },
        "template": {
         "data": {
          "bar": [
           {
            "error_x": {
             "color": "#2a3f5f"
            },
            "error_y": {
             "color": "#2a3f5f"
            },
            "marker": {
             "line": {
              "color": "white",
              "width": 0.5
             },
             "pattern": {
              "fillmode": "overlay",
              "size": 10,
              "solidity": 0.2
             }
            },
            "type": "bar"
           }
          ],
          "barpolar": [
           {
            "marker": {
             "line": {
              "color": "white",
              "width": 0.5
             },
             "pattern": {
              "fillmode": "overlay",
              "size": 10,
              "solidity": 0.2
             }
            },
            "type": "barpolar"
           }
          ],
          "carpet": [
           {
            "aaxis": {
             "endlinecolor": "#2a3f5f",
             "gridcolor": "#C8D4E3",
             "linecolor": "#C8D4E3",
             "minorgridcolor": "#C8D4E3",
             "startlinecolor": "#2a3f5f"
            },
            "baxis": {
             "endlinecolor": "#2a3f5f",
             "gridcolor": "#C8D4E3",
             "linecolor": "#C8D4E3",
             "minorgridcolor": "#C8D4E3",
             "startlinecolor": "#2a3f5f"
            },
            "type": "carpet"
           }
          ],
          "choropleth": [
           {
            "colorbar": {
             "outlinewidth": 0,
             "ticks": ""
            },
            "type": "choropleth"
           }
          ],
          "contour": [
           {
            "colorbar": {
             "outlinewidth": 0,
             "ticks": ""
            },
            "colorscale": [
             [
              0,
              "#0d0887"
             ],
             [
              0.1111111111111111,
              "#46039f"
             ],
             [
              0.2222222222222222,
              "#7201a8"
             ],
             [
              0.3333333333333333,
              "#9c179e"
             ],
             [
              0.4444444444444444,
              "#bd3786"
             ],
             [
              0.5555555555555556,
              "#d8576b"
             ],
             [
              0.6666666666666666,
              "#ed7953"
             ],
             [
              0.7777777777777778,
              "#fb9f3a"
             ],
             [
              0.8888888888888888,
              "#fdca26"
             ],
             [
              1,
              "#f0f921"
             ]
            ],
            "type": "contour"
           }
          ],
          "contourcarpet": [
           {
            "colorbar": {
             "outlinewidth": 0,
             "ticks": ""
            },
            "type": "contourcarpet"
           }
          ],
          "heatmap": [
           {
            "colorbar": {
             "outlinewidth": 0,
             "ticks": ""
            },
            "colorscale": [
             [
              0,
              "#0d0887"
             ],
             [
              0.1111111111111111,
              "#46039f"
             ],
             [
              0.2222222222222222,
              "#7201a8"
             ],
             [
              0.3333333333333333,
              "#9c179e"
             ],
             [
              0.4444444444444444,
              "#bd3786"
             ],
             [
              0.5555555555555556,
              "#d8576b"
             ],
             [
              0.6666666666666666,
              "#ed7953"
             ],
             [
              0.7777777777777778,
              "#fb9f3a"
             ],
             [
              0.8888888888888888,
              "#fdca26"
             ],
             [
              1,
              "#f0f921"
             ]
            ],
            "type": "heatmap"
           }
          ],
          "histogram": [
           {
            "marker": {
             "pattern": {
              "fillmode": "overlay",
              "size": 10,
              "solidity": 0.2
             }
            },
            "type": "histogram"
           }
          ],
          "histogram2d": [
           {
            "colorbar": {
             "outlinewidth": 0,
             "ticks": ""
            },
            "colorscale": [
             [
              0,
              "#0d0887"
             ],
             [
              0.1111111111111111,
              "#46039f"
             ],
             [
              0.2222222222222222,
              "#7201a8"
             ],
             [
              0.3333333333333333,
              "#9c179e"
             ],
             [
              0.4444444444444444,
              "#bd3786"
             ],
             [
              0.5555555555555556,
              "#d8576b"
             ],
             [
              0.6666666666666666,
              "#ed7953"
             ],
             [
              0.7777777777777778,
              "#fb9f3a"
             ],
             [
              0.8888888888888888,
              "#fdca26"
             ],
             [
              1,
              "#f0f921"
             ]
            ],
            "type": "histogram2d"
           }
          ],
          "histogram2dcontour": [
           {
            "colorbar": {
             "outlinewidth": 0,
             "ticks": ""
            },
            "colorscale": [
             [
              0,
              "#0d0887"
             ],
             [
              0.1111111111111111,
              "#46039f"
             ],
             [
              0.2222222222222222,
              "#7201a8"
             ],
             [
              0.3333333333333333,
              "#9c179e"
             ],
             [
              0.4444444444444444,
              "#bd3786"
             ],
             [
              0.5555555555555556,
              "#d8576b"
             ],
             [
              0.6666666666666666,
              "#ed7953"
             ],
             [
              0.7777777777777778,
              "#fb9f3a"
             ],
             [
              0.8888888888888888,
              "#fdca26"
             ],
             [
              1,
              "#f0f921"
             ]
            ],
            "type": "histogram2dcontour"
           }
          ],
          "mesh3d": [
           {
            "colorbar": {
             "outlinewidth": 0,
             "ticks": ""
            },
            "type": "mesh3d"
           }
          ],
          "parcoords": [
           {
            "line": {
             "colorbar": {
              "outlinewidth": 0,
              "ticks": ""
             }
            },
            "type": "parcoords"
           }
          ],
          "pie": [
           {
            "automargin": true,
            "type": "pie"
           }
          ],
          "scatter": [
           {
            "fillpattern": {
             "fillmode": "overlay",
             "size": 10,
             "solidity": 0.2
            },
            "type": "scatter"
           }
          ],
          "scatter3d": [
           {
            "line": {
             "colorbar": {
              "outlinewidth": 0,
              "ticks": ""
             }
            },
            "marker": {
             "colorbar": {
              "outlinewidth": 0,
              "ticks": ""
             }
            },
            "type": "scatter3d"
           }
          ],
          "scattercarpet": [
           {
            "marker": {
             "colorbar": {
              "outlinewidth": 0,
              "ticks": ""
             }
            },
            "type": "scattercarpet"
           }
          ],
          "scattergeo": [
           {
            "marker": {
             "colorbar": {
              "outlinewidth": 0,
              "ticks": ""
             }
            },
            "type": "scattergeo"
           }
          ],
          "scattergl": [
           {
            "marker": {
             "colorbar": {
              "outlinewidth": 0,
              "ticks": ""
             }
            },
            "type": "scattergl"
           }
          ],
          "scattermap": [
           {
            "marker": {
             "colorbar": {
              "outlinewidth": 0,
              "ticks": ""
             }
            },
            "type": "scattermap"
           }
          ],
          "scattermapbox": [
           {
            "marker": {
             "colorbar": {
              "outlinewidth": 0,
              "ticks": ""
             }
            },
            "type": "scattermapbox"
           }
          ],
          "scatterpolar": [
           {
            "marker": {
             "colorbar": {
              "outlinewidth": 0,
              "ticks": ""
             }
            },
            "type": "scatterpolar"
           }
          ],
          "scatterpolargl": [
           {
            "marker": {
             "colorbar": {
              "outlinewidth": 0,
              "ticks": ""
             }
            },
            "type": "scatterpolargl"
           }
          ],
          "scatterternary": [
           {
            "marker": {
             "colorbar": {
              "outlinewidth": 0,
              "ticks": ""
             }
            },
            "type": "scatterternary"
           }
          ],
          "surface": [
           {
            "colorbar": {
             "outlinewidth": 0,
             "ticks": ""
            },
            "colorscale": [
             [
              0,
              "#0d0887"
             ],
             [
              0.1111111111111111,
              "#46039f"
             ],
             [
              0.2222222222222222,
              "#7201a8"
             ],
             [
              0.3333333333333333,
              "#9c179e"
             ],
             [
              0.4444444444444444,
              "#bd3786"
             ],
             [
              0.5555555555555556,
              "#d8576b"
             ],
             [
              0.6666666666666666,
              "#ed7953"
             ],
             [
              0.7777777777777778,
              "#fb9f3a"
             ],
             [
              0.8888888888888888,
              "#fdca26"
             ],
             [
              1,
              "#f0f921"
             ]
            ],
            "type": "surface"
           }
          ],
          "table": [
           {
            "cells": {
             "fill": {
              "color": "#EBF0F8"
             },
             "line": {
              "color": "white"
             }
            },
            "header": {
             "fill": {
              "color": "#C8D4E3"
             },
             "line": {
              "color": "white"
             }
            },
            "type": "table"
           }
          ]
         },
         "layout": {
          "annotationdefaults": {
           "arrowcolor": "#2a3f5f",
           "arrowhead": 0,
           "arrowwidth": 1
          },
          "autotypenumbers": "strict",
          "coloraxis": {
           "colorbar": {
            "outlinewidth": 0,
            "ticks": ""
           }
          },
          "colorscale": {
           "diverging": [
            [
             0,
             "#8e0152"
            ],
            [
             0.1,
             "#c51b7d"
            ],
            [
             0.2,
             "#de77ae"
            ],
            [
             0.3,
             "#f1b6da"
            ],
            [
             0.4,
             "#fde0ef"
            ],
            [
             0.5,
             "#f7f7f7"
            ],
            [
             0.6,
             "#e6f5d0"
            ],
            [
             0.7,
             "#b8e186"
            ],
            [
             0.8,
             "#7fbc41"
            ],
            [
             0.9,
             "#4d9221"
            ],
            [
             1,
             "#276419"
            ]
           ],
           "sequential": [
            [
             0,
             "#0d0887"
            ],
            [
             0.1111111111111111,
             "#46039f"
            ],
            [
             0.2222222222222222,
             "#7201a8"
            ],
            [
             0.3333333333333333,
             "#9c179e"
            ],
            [
             0.4444444444444444,
             "#bd3786"
            ],
            [
             0.5555555555555556,
             "#d8576b"
            ],
            [
             0.6666666666666666,
             "#ed7953"
            ],
            [
             0.7777777777777778,
             "#fb9f3a"
            ],
            [
             0.8888888888888888,
             "#fdca26"
            ],
            [
             1,
             "#f0f921"
            ]
           ],
           "sequentialminus": [
            [
             0,
             "#0d0887"
            ],
            [
             0.1111111111111111,
             "#46039f"
            ],
            [
             0.2222222222222222,
             "#7201a8"
            ],
            [
             0.3333333333333333,
             "#9c179e"
            ],
            [
             0.4444444444444444,
             "#bd3786"
            ],
            [
             0.5555555555555556,
             "#d8576b"
            ],
            [
             0.6666666666666666,
             "#ed7953"
            ],
            [
             0.7777777777777778,
             "#fb9f3a"
            ],
            [
             0.8888888888888888,
             "#fdca26"
            ],
            [
             1,
             "#f0f921"
            ]
           ]
          },
          "colorway": [
           "#636efa",
           "#EF553B",
           "#00cc96",
           "#ab63fa",
           "#FFA15A",
           "#19d3f3",
           "#FF6692",
           "#B6E880",
           "#FF97FF",
           "#FECB52"
          ],
          "font": {
           "color": "#2a3f5f"
          },
          "geo": {
           "bgcolor": "white",
           "lakecolor": "white",
           "landcolor": "white",
           "showlakes": true,
           "showland": true,
           "subunitcolor": "#C8D4E3"
          },
          "hoverlabel": {
           "align": "left"
          },
          "hovermode": "closest",
          "mapbox": {
           "style": "light"
          },
          "paper_bgcolor": "white",
          "plot_bgcolor": "white",
          "polar": {
           "angularaxis": {
            "gridcolor": "#EBF0F8",
            "linecolor": "#EBF0F8",
            "ticks": ""
           },
           "bgcolor": "white",
           "radialaxis": {
            "gridcolor": "#EBF0F8",
            "linecolor": "#EBF0F8",
            "ticks": ""
           }
          },
          "scene": {
           "xaxis": {
            "backgroundcolor": "white",
            "gridcolor": "#DFE8F3",
            "gridwidth": 2,
            "linecolor": "#EBF0F8",
            "showbackground": true,
            "ticks": "",
            "zerolinecolor": "#EBF0F8"
           },
           "yaxis": {
            "backgroundcolor": "white",
            "gridcolor": "#DFE8F3",
            "gridwidth": 2,
            "linecolor": "#EBF0F8",
            "showbackground": true,
            "ticks": "",
            "zerolinecolor": "#EBF0F8"
           },
           "zaxis": {
            "backgroundcolor": "white",
            "gridcolor": "#DFE8F3",
            "gridwidth": 2,
            "linecolor": "#EBF0F8",
            "showbackground": true,
            "ticks": "",
            "zerolinecolor": "#EBF0F8"
           }
          },
          "shapedefaults": {
           "line": {
            "color": "#2a3f5f"
           }
          },
          "ternary": {
           "aaxis": {
            "gridcolor": "#DFE8F3",
            "linecolor": "#A2B1C6",
            "ticks": ""
           },
           "baxis": {
            "gridcolor": "#DFE8F3",
            "linecolor": "#A2B1C6",
            "ticks": ""
           },
           "bgcolor": "white",
           "caxis": {
            "gridcolor": "#DFE8F3",
            "linecolor": "#A2B1C6",
            "ticks": ""
           }
          },
          "title": {
           "x": 0.05
          },
          "xaxis": {
           "automargin": true,
           "gridcolor": "#EBF0F8",
           "linecolor": "#EBF0F8",
           "ticks": "",
           "title": {
            "standoff": 15
           },
           "zerolinecolor": "#EBF0F8",
           "zerolinewidth": 2
          },
          "yaxis": {
           "automargin": true,
           "gridcolor": "#EBF0F8",
           "linecolor": "#EBF0F8",
           "ticks": "",
           "title": {
            "standoff": 15
           },
           "zerolinecolor": "#EBF0F8",
           "zerolinewidth": 2
          }
         }
        },
        "title": {
         "text": "Money Spent by Organisation on Space Missions"
        },
        "width": 1100,
        "xaxis": {
         "anchor": "y",
         "autorange": true,
         "domain": [
          0,
          1
         ],
         "range": [
          -0.5,
          24.5
         ],
         "tickangle": 90,
         "title": {
          "text": "Organisations"
         },
         "type": "category"
        },
        "yaxis": {
         "anchor": "x",
         "autorange": true,
         "domain": [
          0,
          1
         ],
         "range": [
          0,
          80294.73684210527
         ],
         "title": {
          "text": "Money Spent in Million $"
         },
         "type": "linear"
        }
       }
      }
     },
     "metadata": {},
     "output_type": "display_data"
    }
   ],
   "source": [
    "money_spent_by_org = cleaned_data.groupby('Organisation').agg({'Price':['sum','mean']}).reset_index()\n",
    "money_spent_by_org.columns = ['Organisation', 'Total_Spent', 'Average_Spent']\n",
    "\n",
    "fig = px.bar(x=money_spent_by_org['Organisation'], y=money_spent_by_org['Total_Spent'], title='Money Spent by Organisation on Space Missions')\n",
    "fig.update_traces(texttemplate='%{y}', textposition='outside')\n",
    "fig.update_xaxes(title_text=\"Organisations\",tickangle=90)\n",
    "fig.update_yaxes(title_text=\"Money Spent in Million $\")\n",
    "fig.update_layout(\n",
    "    height=600, \n",
    "    width=1100,\n",
    "    template=\"plotly_white\"\n",
    ")\n",
    "\n",
    "fig.show()"
   ]
  },
  {
   "cell_type": "markdown",
   "metadata": {
    "id": "DpsWkPxzpPXs"
   },
   "source": [
    "# Amount of Money Spent by Organisation per Launch"
   ]
  },
  {
   "cell_type": "code",
   "execution_count": 337,
   "metadata": {
    "id": "opYJ6GiRpTk5"
   },
   "outputs": [
    {
     "data": {
      "application/vnd.plotly.v1+json": {
       "config": {
        "plotlyServerURL": "https://plot.ly"
       },
       "data": [
        {
         "hovertemplate": "x=%{x}<br>y=%{y}<extra></extra>",
         "legendgroup": "",
         "marker": {
          "color": "#636efa",
          "pattern": {
           "shape": ""
          }
         },
         "name": "",
         "orientation": "v",
         "showlegend": false,
         "textposition": "outside",
         "texttemplate": "%{y}",
         "type": "bar",
         "x": [
          "Arianespace",
          "Boeing",
          "CASC",
          "EER",
          "ESA",
          "Eurockot",
          "ExPace",
          "ILS",
          "ISRO",
          "JAXA",
          "Kosmotras",
          "Lockheed",
          "MHI",
          "Martin Marietta",
          "NASA",
          "Northrop",
          "RVSN USSR",
          "Rocket Lab",
          "Roscosmos",
          "Sandia",
          "SpaceX",
          "ULA",
          "US Air Force",
          "VKS RF",
          "Virgin Orbit"
         ],
         "xaxis": "x",
         "y": {
          "_inputArray": {
           "0": 170.26041666666666,
           "1": 177.28571428571428,
           "10": 29,
           "11": 35,
           "12": 95.47297297297297,
           "13": 80.15555555555555,
           "14": 511.9463087248322,
           "15": 47.34939759036145,
           "16": 5000,
           "17": 7.5,
           "18": 51.630434782608695,
           "19": 15,
           "2": 40.12822784810127,
           "20": 54.98989898989899,
           "21": 151,
           "22": 59.650769230769235,
           "23": 46.93636363636363,
           "24": 12,
           "3": 20,
           "4": 37,
           "5": 41.8,
           "6": 28.3,
           "7": 101.53846153846153,
           "8": 32.492537313432834,
           "9": 56,
           "bdata": "VVVVVVVIZUCSJEmSJClmQAUEJ8VpEERAAAAAAAAANEAAAAAAAIBCQGZmZmZm5kRAzczMzMxMPEAndmIndmJZQHqgcnYLP0BAAAAAAAAATEAAAAAAAAA9QAAAAAAAgEFA5LNuMEXeV0Cf9Emf9AlUQC4RnhQk/39AqvNrD7msR0AAAAAAAIizQAAAAAAAAB5AWchCFrLQSUAAAAAAAAAuQNT6lQK1fktAAAAAAADgYkDPsvlnTNNNQDesfcPad0dAAAAAAAAAKEA=",
           "dtype": "f8",
           "shape": "25"
          },
          "bdata": "VVVVVVVIZUCSJEmSJClmQAUEJ8VpEERAAAAAAAAANEAAAAAAAIBCQGZmZmZm5kRAzczMzMxMPEAndmIndmJZQHqgcnYLP0BAAAAAAAAATEAAAAAAAAA9QAAAAAAAgEFA5LNuMEXeV0Cf9Emf9AlUQC4RnhQk/39AqvNrD7msR0AAAAAAAIizQAAAAAAAAB5AWchCFrLQSUAAAAAAAAAuQNT6lQK1fktAAAAAAADgYkDPsvlnTNNNQDesfcPad0dAAAAAAAAAKEA=",
          "dtype": "f8"
         },
         "yaxis": "y"
        }
       ],
       "layout": {
        "barmode": "relative",
        "height": 600,
        "legend": {
         "tracegroupgap": 0
        },
        "template": {
         "data": {
          "bar": [
           {
            "error_x": {
             "color": "#2a3f5f"
            },
            "error_y": {
             "color": "#2a3f5f"
            },
            "marker": {
             "line": {
              "color": "white",
              "width": 0.5
             },
             "pattern": {
              "fillmode": "overlay",
              "size": 10,
              "solidity": 0.2
             }
            },
            "type": "bar"
           }
          ],
          "barpolar": [
           {
            "marker": {
             "line": {
              "color": "white",
              "width": 0.5
             },
             "pattern": {
              "fillmode": "overlay",
              "size": 10,
              "solidity": 0.2
             }
            },
            "type": "barpolar"
           }
          ],
          "carpet": [
           {
            "aaxis": {
             "endlinecolor": "#2a3f5f",
             "gridcolor": "#C8D4E3",
             "linecolor": "#C8D4E3",
             "minorgridcolor": "#C8D4E3",
             "startlinecolor": "#2a3f5f"
            },
            "baxis": {
             "endlinecolor": "#2a3f5f",
             "gridcolor": "#C8D4E3",
             "linecolor": "#C8D4E3",
             "minorgridcolor": "#C8D4E3",
             "startlinecolor": "#2a3f5f"
            },
            "type": "carpet"
           }
          ],
          "choropleth": [
           {
            "colorbar": {
             "outlinewidth": 0,
             "ticks": ""
            },
            "type": "choropleth"
           }
          ],
          "contour": [
           {
            "colorbar": {
             "outlinewidth": 0,
             "ticks": ""
            },
            "colorscale": [
             [
              0,
              "#0d0887"
             ],
             [
              0.1111111111111111,
              "#46039f"
             ],
             [
              0.2222222222222222,
              "#7201a8"
             ],
             [
              0.3333333333333333,
              "#9c179e"
             ],
             [
              0.4444444444444444,
              "#bd3786"
             ],
             [
              0.5555555555555556,
              "#d8576b"
             ],
             [
              0.6666666666666666,
              "#ed7953"
             ],
             [
              0.7777777777777778,
              "#fb9f3a"
             ],
             [
              0.8888888888888888,
              "#fdca26"
             ],
             [
              1,
              "#f0f921"
             ]
            ],
            "type": "contour"
           }
          ],
          "contourcarpet": [
           {
            "colorbar": {
             "outlinewidth": 0,
             "ticks": ""
            },
            "type": "contourcarpet"
           }
          ],
          "heatmap": [
           {
            "colorbar": {
             "outlinewidth": 0,
             "ticks": ""
            },
            "colorscale": [
             [
              0,
              "#0d0887"
             ],
             [
              0.1111111111111111,
              "#46039f"
             ],
             [
              0.2222222222222222,
              "#7201a8"
             ],
             [
              0.3333333333333333,
              "#9c179e"
             ],
             [
              0.4444444444444444,
              "#bd3786"
             ],
             [
              0.5555555555555556,
              "#d8576b"
             ],
             [
              0.6666666666666666,
              "#ed7953"
             ],
             [
              0.7777777777777778,
              "#fb9f3a"
             ],
             [
              0.8888888888888888,
              "#fdca26"
             ],
             [
              1,
              "#f0f921"
             ]
            ],
            "type": "heatmap"
           }
          ],
          "histogram": [
           {
            "marker": {
             "pattern": {
              "fillmode": "overlay",
              "size": 10,
              "solidity": 0.2
             }
            },
            "type": "histogram"
           }
          ],
          "histogram2d": [
           {
            "colorbar": {
             "outlinewidth": 0,
             "ticks": ""
            },
            "colorscale": [
             [
              0,
              "#0d0887"
             ],
             [
              0.1111111111111111,
              "#46039f"
             ],
             [
              0.2222222222222222,
              "#7201a8"
             ],
             [
              0.3333333333333333,
              "#9c179e"
             ],
             [
              0.4444444444444444,
              "#bd3786"
             ],
             [
              0.5555555555555556,
              "#d8576b"
             ],
             [
              0.6666666666666666,
              "#ed7953"
             ],
             [
              0.7777777777777778,
              "#fb9f3a"
             ],
             [
              0.8888888888888888,
              "#fdca26"
             ],
             [
              1,
              "#f0f921"
             ]
            ],
            "type": "histogram2d"
           }
          ],
          "histogram2dcontour": [
           {
            "colorbar": {
             "outlinewidth": 0,
             "ticks": ""
            },
            "colorscale": [
             [
              0,
              "#0d0887"
             ],
             [
              0.1111111111111111,
              "#46039f"
             ],
             [
              0.2222222222222222,
              "#7201a8"
             ],
             [
              0.3333333333333333,
              "#9c179e"
             ],
             [
              0.4444444444444444,
              "#bd3786"
             ],
             [
              0.5555555555555556,
              "#d8576b"
             ],
             [
              0.6666666666666666,
              "#ed7953"
             ],
             [
              0.7777777777777778,
              "#fb9f3a"
             ],
             [
              0.8888888888888888,
              "#fdca26"
             ],
             [
              1,
              "#f0f921"
             ]
            ],
            "type": "histogram2dcontour"
           }
          ],
          "mesh3d": [
           {
            "colorbar": {
             "outlinewidth": 0,
             "ticks": ""
            },
            "type": "mesh3d"
           }
          ],
          "parcoords": [
           {
            "line": {
             "colorbar": {
              "outlinewidth": 0,
              "ticks": ""
             }
            },
            "type": "parcoords"
           }
          ],
          "pie": [
           {
            "automargin": true,
            "type": "pie"
           }
          ],
          "scatter": [
           {
            "fillpattern": {
             "fillmode": "overlay",
             "size": 10,
             "solidity": 0.2
            },
            "type": "scatter"
           }
          ],
          "scatter3d": [
           {
            "line": {
             "colorbar": {
              "outlinewidth": 0,
              "ticks": ""
             }
            },
            "marker": {
             "colorbar": {
              "outlinewidth": 0,
              "ticks": ""
             }
            },
            "type": "scatter3d"
           }
          ],
          "scattercarpet": [
           {
            "marker": {
             "colorbar": {
              "outlinewidth": 0,
              "ticks": ""
             }
            },
            "type": "scattercarpet"
           }
          ],
          "scattergeo": [
           {
            "marker": {
             "colorbar": {
              "outlinewidth": 0,
              "ticks": ""
             }
            },
            "type": "scattergeo"
           }
          ],
          "scattergl": [
           {
            "marker": {
             "colorbar": {
              "outlinewidth": 0,
              "ticks": ""
             }
            },
            "type": "scattergl"
           }
          ],
          "scattermap": [
           {
            "marker": {
             "colorbar": {
              "outlinewidth": 0,
              "ticks": ""
             }
            },
            "type": "scattermap"
           }
          ],
          "scattermapbox": [
           {
            "marker": {
             "colorbar": {
              "outlinewidth": 0,
              "ticks": ""
             }
            },
            "type": "scattermapbox"
           }
          ],
          "scatterpolar": [
           {
            "marker": {
             "colorbar": {
              "outlinewidth": 0,
              "ticks": ""
             }
            },
            "type": "scatterpolar"
           }
          ],
          "scatterpolargl": [
           {
            "marker": {
             "colorbar": {
              "outlinewidth": 0,
              "ticks": ""
             }
            },
            "type": "scatterpolargl"
           }
          ],
          "scatterternary": [
           {
            "marker": {
             "colorbar": {
              "outlinewidth": 0,
              "ticks": ""
             }
            },
            "type": "scatterternary"
           }
          ],
          "surface": [
           {
            "colorbar": {
             "outlinewidth": 0,
             "ticks": ""
            },
            "colorscale": [
             [
              0,
              "#0d0887"
             ],
             [
              0.1111111111111111,
              "#46039f"
             ],
             [
              0.2222222222222222,
              "#7201a8"
             ],
             [
              0.3333333333333333,
              "#9c179e"
             ],
             [
              0.4444444444444444,
              "#bd3786"
             ],
             [
              0.5555555555555556,
              "#d8576b"
             ],
             [
              0.6666666666666666,
              "#ed7953"
             ],
             [
              0.7777777777777778,
              "#fb9f3a"
             ],
             [
              0.8888888888888888,
              "#fdca26"
             ],
             [
              1,
              "#f0f921"
             ]
            ],
            "type": "surface"
           }
          ],
          "table": [
           {
            "cells": {
             "fill": {
              "color": "#EBF0F8"
             },
             "line": {
              "color": "white"
             }
            },
            "header": {
             "fill": {
              "color": "#C8D4E3"
             },
             "line": {
              "color": "white"
             }
            },
            "type": "table"
           }
          ]
         },
         "layout": {
          "annotationdefaults": {
           "arrowcolor": "#2a3f5f",
           "arrowhead": 0,
           "arrowwidth": 1
          },
          "autotypenumbers": "strict",
          "coloraxis": {
           "colorbar": {
            "outlinewidth": 0,
            "ticks": ""
           }
          },
          "colorscale": {
           "diverging": [
            [
             0,
             "#8e0152"
            ],
            [
             0.1,
             "#c51b7d"
            ],
            [
             0.2,
             "#de77ae"
            ],
            [
             0.3,
             "#f1b6da"
            ],
            [
             0.4,
             "#fde0ef"
            ],
            [
             0.5,
             "#f7f7f7"
            ],
            [
             0.6,
             "#e6f5d0"
            ],
            [
             0.7,
             "#b8e186"
            ],
            [
             0.8,
             "#7fbc41"
            ],
            [
             0.9,
             "#4d9221"
            ],
            [
             1,
             "#276419"
            ]
           ],
           "sequential": [
            [
             0,
             "#0d0887"
            ],
            [
             0.1111111111111111,
             "#46039f"
            ],
            [
             0.2222222222222222,
             "#7201a8"
            ],
            [
             0.3333333333333333,
             "#9c179e"
            ],
            [
             0.4444444444444444,
             "#bd3786"
            ],
            [
             0.5555555555555556,
             "#d8576b"
            ],
            [
             0.6666666666666666,
             "#ed7953"
            ],
            [
             0.7777777777777778,
             "#fb9f3a"
            ],
            [
             0.8888888888888888,
             "#fdca26"
            ],
            [
             1,
             "#f0f921"
            ]
           ],
           "sequentialminus": [
            [
             0,
             "#0d0887"
            ],
            [
             0.1111111111111111,
             "#46039f"
            ],
            [
             0.2222222222222222,
             "#7201a8"
            ],
            [
             0.3333333333333333,
             "#9c179e"
            ],
            [
             0.4444444444444444,
             "#bd3786"
            ],
            [
             0.5555555555555556,
             "#d8576b"
            ],
            [
             0.6666666666666666,
             "#ed7953"
            ],
            [
             0.7777777777777778,
             "#fb9f3a"
            ],
            [
             0.8888888888888888,
             "#fdca26"
            ],
            [
             1,
             "#f0f921"
            ]
           ]
          },
          "colorway": [
           "#636efa",
           "#EF553B",
           "#00cc96",
           "#ab63fa",
           "#FFA15A",
           "#19d3f3",
           "#FF6692",
           "#B6E880",
           "#FF97FF",
           "#FECB52"
          ],
          "font": {
           "color": "#2a3f5f"
          },
          "geo": {
           "bgcolor": "white",
           "lakecolor": "white",
           "landcolor": "white",
           "showlakes": true,
           "showland": true,
           "subunitcolor": "#C8D4E3"
          },
          "hoverlabel": {
           "align": "left"
          },
          "hovermode": "closest",
          "mapbox": {
           "style": "light"
          },
          "paper_bgcolor": "white",
          "plot_bgcolor": "white",
          "polar": {
           "angularaxis": {
            "gridcolor": "#EBF0F8",
            "linecolor": "#EBF0F8",
            "ticks": ""
           },
           "bgcolor": "white",
           "radialaxis": {
            "gridcolor": "#EBF0F8",
            "linecolor": "#EBF0F8",
            "ticks": ""
           }
          },
          "scene": {
           "xaxis": {
            "backgroundcolor": "white",
            "gridcolor": "#DFE8F3",
            "gridwidth": 2,
            "linecolor": "#EBF0F8",
            "showbackground": true,
            "ticks": "",
            "zerolinecolor": "#EBF0F8"
           },
           "yaxis": {
            "backgroundcolor": "white",
            "gridcolor": "#DFE8F3",
            "gridwidth": 2,
            "linecolor": "#EBF0F8",
            "showbackground": true,
            "ticks": "",
            "zerolinecolor": "#EBF0F8"
           },
           "zaxis": {
            "backgroundcolor": "white",
            "gridcolor": "#DFE8F3",
            "gridwidth": 2,
            "linecolor": "#EBF0F8",
            "showbackground": true,
            "ticks": "",
            "zerolinecolor": "#EBF0F8"
           }
          },
          "shapedefaults": {
           "line": {
            "color": "#2a3f5f"
           }
          },
          "ternary": {
           "aaxis": {
            "gridcolor": "#DFE8F3",
            "linecolor": "#A2B1C6",
            "ticks": ""
           },
           "baxis": {
            "gridcolor": "#DFE8F3",
            "linecolor": "#A2B1C6",
            "ticks": ""
           },
           "bgcolor": "white",
           "caxis": {
            "gridcolor": "#DFE8F3",
            "linecolor": "#A2B1C6",
            "ticks": ""
           }
          },
          "title": {
           "x": 0.05
          },
          "xaxis": {
           "automargin": true,
           "gridcolor": "#EBF0F8",
           "linecolor": "#EBF0F8",
           "ticks": "",
           "title": {
            "standoff": 15
           },
           "zerolinecolor": "#EBF0F8",
           "zerolinewidth": 2
          },
          "yaxis": {
           "automargin": true,
           "gridcolor": "#EBF0F8",
           "linecolor": "#EBF0F8",
           "ticks": "",
           "title": {
            "standoff": 15
           },
           "zerolinecolor": "#EBF0F8",
           "zerolinewidth": 2
          }
         }
        },
        "title": {
         "text": "Money Spent by Organisation Per Launch"
        },
        "width": 1100,
        "xaxis": {
         "anchor": "y",
         "autorange": true,
         "domain": [
          0,
          1
         ],
         "range": [
          -0.5,
          24.5
         ],
         "tickangle": 90,
         "title": {
          "text": "Organisations"
         },
         "type": "category"
        },
        "yaxis": {
         "anchor": "x",
         "autorange": true,
         "domain": [
          0,
          1
         ],
         "range": [
          0,
          5263.157894736842
         ],
         "title": {
          "text": "Money Spent in Million $"
         },
         "type": "linear"
        }
       }
      }
     },
     "metadata": {},
     "output_type": "display_data"
    }
   ],
   "source": [
    "fig = px.bar(x=money_spent_by_org['Organisation'], y=money_spent_by_org['Average_Spent'], title='Money Spent by Organisation Per Launch')\n",
    "fig.update_traces(texttemplate='%{y}', textposition='outside')\n",
    "fig.update_xaxes(title_text=\"Organisations\",tickangle=90)\n",
    "fig.update_yaxes(title_text=\"Money Spent in Million $\")\n",
    "fig.update_layout(\n",
    "    height=600, \n",
    "    width=1100,\n",
    "    template=\"plotly_white\"\n",
    ")\n",
    "\n",
    "fig.show()"
   ]
  },
  {
   "cell_type": "markdown",
   "metadata": {
    "id": "yRa1BbPoa-qf",
    "papermill": {
     "duration": 0.042662,
     "end_time": "2020-10-20T21:34:09.943196",
     "exception": false,
     "start_time": "2020-10-20T21:34:09.900534",
     "status": "completed"
    },
    "tags": []
   },
   "source": [
    "# Chart the Number of Launches per Year"
   ]
  },
  {
   "cell_type": "code",
   "execution_count": 338,
   "metadata": {
    "id": "_9FohVh3pcAJ"
   },
   "outputs": [],
   "source": [
    "cleaned_data['Date'] = pd.to_datetime(cleaned_data['Date'], format='%a %b %d, %Y %H:%M %Z', errors='coerce')\n",
    "cleaned_data = cleaned_data.dropna(subset=['Date'])\n",
    "cleaned_data['Year'] = cleaned_data['Date'].dt.year\n",
    "cleaned_data['Month'] = cleaned_data['Date'].dt.month_name()\n",
    "launches_per_year = cleaned_data.groupby('Year').size().reset_index(name='Launch_Count')\n"
   ]
  },
  {
   "cell_type": "code",
   "execution_count": 339,
   "metadata": {
    "id": "b2pggcZBpb4x"
   },
   "outputs": [
    {
     "data": {
      "application/vnd.plotly.v1+json": {
       "config": {
        "plotlyServerURL": "https://plot.ly"
       },
       "data": [
        {
         "hovertemplate": "x=%{x}<br>y=%{y}<extra></extra>",
         "legendgroup": "",
         "marker": {
          "color": "#636efa",
          "pattern": {
           "shape": ""
          }
         },
         "name": "",
         "orientation": "v",
         "showlegend": false,
         "textposition": "outside",
         "texttemplate": "%{y}",
         "type": "bar",
         "x": {
          "_inputArray": {
           "0": 1964,
           "1": 1965,
           "10": 1981,
           "11": 1982,
           "12": 1983,
           "13": 1984,
           "14": 1985,
           "15": 1986,
           "16": 1987,
           "17": 1988,
           "18": 1989,
           "19": 1990,
           "2": 1966,
           "20": 1991,
           "21": 1992,
           "22": 1993,
           "23": 1994,
           "24": 1995,
           "25": 1996,
           "26": 1997,
           "27": 1998,
           "28": 1999,
           "29": 2000,
           "3": 1967,
           "30": 2001,
           "31": 2002,
           "32": 2003,
           "33": 2004,
           "34": 2005,
           "35": 2006,
           "36": 2007,
           "37": 2008,
           "38": 2009,
           "39": 2010,
           "4": 1968,
           "40": 2011,
           "41": 2012,
           "42": 2013,
           "43": 2014,
           "44": 2015,
           "45": 2016,
           "46": 2017,
           "47": 2018,
           "48": 2019,
           "49": 2020,
           "5": 1969,
           "6": 1970,
           "7": 1971,
           "8": 1972,
           "9": 1973,
           "bdata": "rAcAAK0HAACuBwAArwcAALAHAACxBwAAsgcAALMHAAC0BwAAtQcAAL0HAAC+BwAAvwcAAMAHAADBBwAAwgcAAMMHAADEBwAAxQcAAMYHAADHBwAAyAcAAMkHAADKBwAAywcAAMwHAADNBwAAzgcAAM8HAADQBwAA0QcAANIHAADTBwAA1AcAANUHAADWBwAA1wcAANgHAADZBwAA2gcAANsHAADcBwAA3QcAAN4HAADfBwAA4AcAAOEHAADiBwAA4wcAAOQHAAA=",
           "dtype": "i4",
           "shape": "50"
          },
          "bdata": "rAcAAK0HAACuBwAArwcAALAHAACxBwAAsgcAALMHAAC0BwAAtQcAAL0HAAC+BwAAvwcAAMAHAADBBwAAwgcAAMMHAADEBwAAxQcAAMYHAADHBwAAyAcAAMkHAADKBwAAywcAAMwHAADNBwAAzgcAAM8HAADQBwAA0QcAANIHAADTBwAA1AcAANUHAADWBwAA1wcAANgHAADZBwAA2gcAANsHAADcBwAA3QcAAN4HAADfBwAA4AcAAOEHAADiBwAA4wcAAOQHAAA=",
          "dtype": "i4"
         },
         "xaxis": "x",
         "y": {
          "_inputArray": {
           "0": 2,
           "1": 2,
           "10": 2,
           "11": 4,
           "12": 5,
           "13": 6,
           "14": 10,
           "15": 3,
           "16": 3,
           "17": 5,
           "18": 6,
           "19": 11,
           "2": 3,
           "20": 7,
           "21": 12,
           "22": 12,
           "23": 16,
           "24": 10,
           "25": 14,
           "26": 18,
           "27": 18,
           "28": 13,
           "29": 16,
           "3": 7,
           "30": 10,
           "31": 16,
           "32": 20,
           "33": 17,
           "34": 15,
           "35": 27,
           "36": 29,
           "37": 28,
           "38": 31,
           "39": 29,
           "4": 10,
           "40": 29,
           "41": 24,
           "42": 33,
           "43": 41,
           "44": 37,
           "45": 64,
           "46": 66,
           "47": 88,
           "48": 73,
           "49": 52,
           "5": 8,
           "6": 1,
           "7": 2,
           "8": 2,
           "9": 1,
           "bdata": "AgIDBwoIAQICAQIEBQYKAwMFBgsHDAwQCg4SEg0QChAUEQ8bHRwfHR0YISklQEJYSTQ=",
           "dtype": "i1",
           "shape": "50"
          },
          "bdata": "AgIDBwoIAQICAQIEBQYKAwMFBgsHDAwQCg4SEg0QChAUEQ8bHRwfHR0YISklQEJYSTQ=",
          "dtype": "i1"
         },
         "yaxis": "y"
        }
       ],
       "layout": {
        "barmode": "relative",
        "height": 600,
        "legend": {
         "tracegroupgap": 0
        },
        "template": {
         "data": {
          "bar": [
           {
            "error_x": {
             "color": "#2a3f5f"
            },
            "error_y": {
             "color": "#2a3f5f"
            },
            "marker": {
             "line": {
              "color": "white",
              "width": 0.5
             },
             "pattern": {
              "fillmode": "overlay",
              "size": 10,
              "solidity": 0.2
             }
            },
            "type": "bar"
           }
          ],
          "barpolar": [
           {
            "marker": {
             "line": {
              "color": "white",
              "width": 0.5
             },
             "pattern": {
              "fillmode": "overlay",
              "size": 10,
              "solidity": 0.2
             }
            },
            "type": "barpolar"
           }
          ],
          "carpet": [
           {
            "aaxis": {
             "endlinecolor": "#2a3f5f",
             "gridcolor": "#C8D4E3",
             "linecolor": "#C8D4E3",
             "minorgridcolor": "#C8D4E3",
             "startlinecolor": "#2a3f5f"
            },
            "baxis": {
             "endlinecolor": "#2a3f5f",
             "gridcolor": "#C8D4E3",
             "linecolor": "#C8D4E3",
             "minorgridcolor": "#C8D4E3",
             "startlinecolor": "#2a3f5f"
            },
            "type": "carpet"
           }
          ],
          "choropleth": [
           {
            "colorbar": {
             "outlinewidth": 0,
             "ticks": ""
            },
            "type": "choropleth"
           }
          ],
          "contour": [
           {
            "colorbar": {
             "outlinewidth": 0,
             "ticks": ""
            },
            "colorscale": [
             [
              0,
              "#0d0887"
             ],
             [
              0.1111111111111111,
              "#46039f"
             ],
             [
              0.2222222222222222,
              "#7201a8"
             ],
             [
              0.3333333333333333,
              "#9c179e"
             ],
             [
              0.4444444444444444,
              "#bd3786"
             ],
             [
              0.5555555555555556,
              "#d8576b"
             ],
             [
              0.6666666666666666,
              "#ed7953"
             ],
             [
              0.7777777777777778,
              "#fb9f3a"
             ],
             [
              0.8888888888888888,
              "#fdca26"
             ],
             [
              1,
              "#f0f921"
             ]
            ],
            "type": "contour"
           }
          ],
          "contourcarpet": [
           {
            "colorbar": {
             "outlinewidth": 0,
             "ticks": ""
            },
            "type": "contourcarpet"
           }
          ],
          "heatmap": [
           {
            "colorbar": {
             "outlinewidth": 0,
             "ticks": ""
            },
            "colorscale": [
             [
              0,
              "#0d0887"
             ],
             [
              0.1111111111111111,
              "#46039f"
             ],
             [
              0.2222222222222222,
              "#7201a8"
             ],
             [
              0.3333333333333333,
              "#9c179e"
             ],
             [
              0.4444444444444444,
              "#bd3786"
             ],
             [
              0.5555555555555556,
              "#d8576b"
             ],
             [
              0.6666666666666666,
              "#ed7953"
             ],
             [
              0.7777777777777778,
              "#fb9f3a"
             ],
             [
              0.8888888888888888,
              "#fdca26"
             ],
             [
              1,
              "#f0f921"
             ]
            ],
            "type": "heatmap"
           }
          ],
          "histogram": [
           {
            "marker": {
             "pattern": {
              "fillmode": "overlay",
              "size": 10,
              "solidity": 0.2
             }
            },
            "type": "histogram"
           }
          ],
          "histogram2d": [
           {
            "colorbar": {
             "outlinewidth": 0,
             "ticks": ""
            },
            "colorscale": [
             [
              0,
              "#0d0887"
             ],
             [
              0.1111111111111111,
              "#46039f"
             ],
             [
              0.2222222222222222,
              "#7201a8"
             ],
             [
              0.3333333333333333,
              "#9c179e"
             ],
             [
              0.4444444444444444,
              "#bd3786"
             ],
             [
              0.5555555555555556,
              "#d8576b"
             ],
             [
              0.6666666666666666,
              "#ed7953"
             ],
             [
              0.7777777777777778,
              "#fb9f3a"
             ],
             [
              0.8888888888888888,
              "#fdca26"
             ],
             [
              1,
              "#f0f921"
             ]
            ],
            "type": "histogram2d"
           }
          ],
          "histogram2dcontour": [
           {
            "colorbar": {
             "outlinewidth": 0,
             "ticks": ""
            },
            "colorscale": [
             [
              0,
              "#0d0887"
             ],
             [
              0.1111111111111111,
              "#46039f"
             ],
             [
              0.2222222222222222,
              "#7201a8"
             ],
             [
              0.3333333333333333,
              "#9c179e"
             ],
             [
              0.4444444444444444,
              "#bd3786"
             ],
             [
              0.5555555555555556,
              "#d8576b"
             ],
             [
              0.6666666666666666,
              "#ed7953"
             ],
             [
              0.7777777777777778,
              "#fb9f3a"
             ],
             [
              0.8888888888888888,
              "#fdca26"
             ],
             [
              1,
              "#f0f921"
             ]
            ],
            "type": "histogram2dcontour"
           }
          ],
          "mesh3d": [
           {
            "colorbar": {
             "outlinewidth": 0,
             "ticks": ""
            },
            "type": "mesh3d"
           }
          ],
          "parcoords": [
           {
            "line": {
             "colorbar": {
              "outlinewidth": 0,
              "ticks": ""
             }
            },
            "type": "parcoords"
           }
          ],
          "pie": [
           {
            "automargin": true,
            "type": "pie"
           }
          ],
          "scatter": [
           {
            "fillpattern": {
             "fillmode": "overlay",
             "size": 10,
             "solidity": 0.2
            },
            "type": "scatter"
           }
          ],
          "scatter3d": [
           {
            "line": {
             "colorbar": {
              "outlinewidth": 0,
              "ticks": ""
             }
            },
            "marker": {
             "colorbar": {
              "outlinewidth": 0,
              "ticks": ""
             }
            },
            "type": "scatter3d"
           }
          ],
          "scattercarpet": [
           {
            "marker": {
             "colorbar": {
              "outlinewidth": 0,
              "ticks": ""
             }
            },
            "type": "scattercarpet"
           }
          ],
          "scattergeo": [
           {
            "marker": {
             "colorbar": {
              "outlinewidth": 0,
              "ticks": ""
             }
            },
            "type": "scattergeo"
           }
          ],
          "scattergl": [
           {
            "marker": {
             "colorbar": {
              "outlinewidth": 0,
              "ticks": ""
             }
            },
            "type": "scattergl"
           }
          ],
          "scattermap": [
           {
            "marker": {
             "colorbar": {
              "outlinewidth": 0,
              "ticks": ""
             }
            },
            "type": "scattermap"
           }
          ],
          "scattermapbox": [
           {
            "marker": {
             "colorbar": {
              "outlinewidth": 0,
              "ticks": ""
             }
            },
            "type": "scattermapbox"
           }
          ],
          "scatterpolar": [
           {
            "marker": {
             "colorbar": {
              "outlinewidth": 0,
              "ticks": ""
             }
            },
            "type": "scatterpolar"
           }
          ],
          "scatterpolargl": [
           {
            "marker": {
             "colorbar": {
              "outlinewidth": 0,
              "ticks": ""
             }
            },
            "type": "scatterpolargl"
           }
          ],
          "scatterternary": [
           {
            "marker": {
             "colorbar": {
              "outlinewidth": 0,
              "ticks": ""
             }
            },
            "type": "scatterternary"
           }
          ],
          "surface": [
           {
            "colorbar": {
             "outlinewidth": 0,
             "ticks": ""
            },
            "colorscale": [
             [
              0,
              "#0d0887"
             ],
             [
              0.1111111111111111,
              "#46039f"
             ],
             [
              0.2222222222222222,
              "#7201a8"
             ],
             [
              0.3333333333333333,
              "#9c179e"
             ],
             [
              0.4444444444444444,
              "#bd3786"
             ],
             [
              0.5555555555555556,
              "#d8576b"
             ],
             [
              0.6666666666666666,
              "#ed7953"
             ],
             [
              0.7777777777777778,
              "#fb9f3a"
             ],
             [
              0.8888888888888888,
              "#fdca26"
             ],
             [
              1,
              "#f0f921"
             ]
            ],
            "type": "surface"
           }
          ],
          "table": [
           {
            "cells": {
             "fill": {
              "color": "#EBF0F8"
             },
             "line": {
              "color": "white"
             }
            },
            "header": {
             "fill": {
              "color": "#C8D4E3"
             },
             "line": {
              "color": "white"
             }
            },
            "type": "table"
           }
          ]
         },
         "layout": {
          "annotationdefaults": {
           "arrowcolor": "#2a3f5f",
           "arrowhead": 0,
           "arrowwidth": 1
          },
          "autotypenumbers": "strict",
          "coloraxis": {
           "colorbar": {
            "outlinewidth": 0,
            "ticks": ""
           }
          },
          "colorscale": {
           "diverging": [
            [
             0,
             "#8e0152"
            ],
            [
             0.1,
             "#c51b7d"
            ],
            [
             0.2,
             "#de77ae"
            ],
            [
             0.3,
             "#f1b6da"
            ],
            [
             0.4,
             "#fde0ef"
            ],
            [
             0.5,
             "#f7f7f7"
            ],
            [
             0.6,
             "#e6f5d0"
            ],
            [
             0.7,
             "#b8e186"
            ],
            [
             0.8,
             "#7fbc41"
            ],
            [
             0.9,
             "#4d9221"
            ],
            [
             1,
             "#276419"
            ]
           ],
           "sequential": [
            [
             0,
             "#0d0887"
            ],
            [
             0.1111111111111111,
             "#46039f"
            ],
            [
             0.2222222222222222,
             "#7201a8"
            ],
            [
             0.3333333333333333,
             "#9c179e"
            ],
            [
             0.4444444444444444,
             "#bd3786"
            ],
            [
             0.5555555555555556,
             "#d8576b"
            ],
            [
             0.6666666666666666,
             "#ed7953"
            ],
            [
             0.7777777777777778,
             "#fb9f3a"
            ],
            [
             0.8888888888888888,
             "#fdca26"
            ],
            [
             1,
             "#f0f921"
            ]
           ],
           "sequentialminus": [
            [
             0,
             "#0d0887"
            ],
            [
             0.1111111111111111,
             "#46039f"
            ],
            [
             0.2222222222222222,
             "#7201a8"
            ],
            [
             0.3333333333333333,
             "#9c179e"
            ],
            [
             0.4444444444444444,
             "#bd3786"
            ],
            [
             0.5555555555555556,
             "#d8576b"
            ],
            [
             0.6666666666666666,
             "#ed7953"
            ],
            [
             0.7777777777777778,
             "#fb9f3a"
            ],
            [
             0.8888888888888888,
             "#fdca26"
            ],
            [
             1,
             "#f0f921"
            ]
           ]
          },
          "colorway": [
           "#636efa",
           "#EF553B",
           "#00cc96",
           "#ab63fa",
           "#FFA15A",
           "#19d3f3",
           "#FF6692",
           "#B6E880",
           "#FF97FF",
           "#FECB52"
          ],
          "font": {
           "color": "#2a3f5f"
          },
          "geo": {
           "bgcolor": "white",
           "lakecolor": "white",
           "landcolor": "white",
           "showlakes": true,
           "showland": true,
           "subunitcolor": "#C8D4E3"
          },
          "hoverlabel": {
           "align": "left"
          },
          "hovermode": "closest",
          "mapbox": {
           "style": "light"
          },
          "paper_bgcolor": "white",
          "plot_bgcolor": "white",
          "polar": {
           "angularaxis": {
            "gridcolor": "#EBF0F8",
            "linecolor": "#EBF0F8",
            "ticks": ""
           },
           "bgcolor": "white",
           "radialaxis": {
            "gridcolor": "#EBF0F8",
            "linecolor": "#EBF0F8",
            "ticks": ""
           }
          },
          "scene": {
           "xaxis": {
            "backgroundcolor": "white",
            "gridcolor": "#DFE8F3",
            "gridwidth": 2,
            "linecolor": "#EBF0F8",
            "showbackground": true,
            "ticks": "",
            "zerolinecolor": "#EBF0F8"
           },
           "yaxis": {
            "backgroundcolor": "white",
            "gridcolor": "#DFE8F3",
            "gridwidth": 2,
            "linecolor": "#EBF0F8",
            "showbackground": true,
            "ticks": "",
            "zerolinecolor": "#EBF0F8"
           },
           "zaxis": {
            "backgroundcolor": "white",
            "gridcolor": "#DFE8F3",
            "gridwidth": 2,
            "linecolor": "#EBF0F8",
            "showbackground": true,
            "ticks": "",
            "zerolinecolor": "#EBF0F8"
           }
          },
          "shapedefaults": {
           "line": {
            "color": "#2a3f5f"
           }
          },
          "ternary": {
           "aaxis": {
            "gridcolor": "#DFE8F3",
            "linecolor": "#A2B1C6",
            "ticks": ""
           },
           "baxis": {
            "gridcolor": "#DFE8F3",
            "linecolor": "#A2B1C6",
            "ticks": ""
           },
           "bgcolor": "white",
           "caxis": {
            "gridcolor": "#DFE8F3",
            "linecolor": "#A2B1C6",
            "ticks": ""
           }
          },
          "title": {
           "x": 0.05
          },
          "xaxis": {
           "automargin": true,
           "gridcolor": "#EBF0F8",
           "linecolor": "#EBF0F8",
           "ticks": "",
           "title": {
            "standoff": 15
           },
           "zerolinecolor": "#EBF0F8",
           "zerolinewidth": 2
          },
          "yaxis": {
           "automargin": true,
           "gridcolor": "#EBF0F8",
           "linecolor": "#EBF0F8",
           "ticks": "",
           "title": {
            "standoff": 15
           },
           "zerolinecolor": "#EBF0F8",
           "zerolinewidth": 2
          }
         }
        },
        "title": {
         "text": "Number of Launches per Year"
        },
        "width": 1100,
        "xaxis": {
         "anchor": "y",
         "autorange": true,
         "domain": [
          0,
          1
         ],
         "range": [
          1963.5,
          2020.5
         ],
         "title": {
          "text": "Years"
         },
         "type": "linear"
        },
        "yaxis": {
         "anchor": "x",
         "autorange": true,
         "domain": [
          0,
          1
         ],
         "range": [
          0,
          92.63157894736842
         ],
         "title": {
          "text": "Launch Count"
         },
         "type": "linear"
        }
       }
      }
     },
     "metadata": {},
     "output_type": "display_data"
    }
   ],
   "source": [
    "fig = px.bar(x=launches_per_year['Year'], y=launches_per_year['Launch_Count'], title='Number of Launches per Year')\n",
    "fig.update_traces(texttemplate='%{y}',textposition='outside')\n",
    "fig.update_xaxes(title_text='Years')\n",
    "fig.update_yaxes(title_text='Launch Count')\n",
    "fig.update_layout(\n",
    "    height=600,\n",
    "    width=1100,\n",
    "    template='plotly_white'\n",
    ")\n",
    "fig.show()"
   ]
  },
  {
   "cell_type": "markdown",
   "metadata": {
    "id": "NomJVLi3tIaM"
   },
   "source": [
    "# Number of Launches Month-on-Month until the Present"
   ]
  },
  {
   "cell_type": "code",
   "execution_count": 340,
   "metadata": {
    "id": "H1N2aBs5tH9z"
   },
   "outputs": [],
   "source": [
    "launches_per_month = cleaned_data.groupby('Month').size().reset_index(name='Launch_Count')\n",
    "month_order = [\n",
    "    'January', 'February', 'March', 'April', 'May', 'June',\n",
    "    'July', 'August', 'September', 'October', 'November', 'December'\n",
    "]\n",
    "\n",
    "\n",
    "launches_per_month['Month'] = pd.Categorical(\n",
    "    launches_per_month['Month'],\n",
    "    categories=month_order,\n",
    "    ordered=True\n",
    ")\n",
    "launches_per_month = launches_per_month.sort_values('Month')\n"
   ]
  },
  {
   "cell_type": "code",
   "execution_count": 341,
   "metadata": {
    "id": "pfw0aX1lpdRv"
   },
   "outputs": [
    {
     "data": {
      "application/vnd.plotly.v1+json": {
       "config": {
        "plotlyServerURL": "https://plot.ly"
       },
       "data": [
        {
         "hovertemplate": "x=%{x}<br>y=%{y}<extra></extra>",
         "legendgroup": "",
         "marker": {
          "color": "#636efa",
          "pattern": {
           "shape": ""
          }
         },
         "name": "",
         "orientation": "v",
         "showlegend": false,
         "textposition": "outside",
         "texttemplate": "%{y}",
         "type": "bar",
         "x": [
          "January",
          "February",
          "March",
          "April",
          "May",
          "June",
          "July",
          "August",
          "September",
          "October",
          "November",
          "December"
         ],
         "xaxis": "x",
         "y": {
          "_inputArray": {
           "0": 66,
           "1": 60,
           "10": 76,
           "11": 91,
           "2": 77,
           "3": 88,
           "4": 86,
           "5": 85,
           "6": 77,
           "7": 82,
           "8": 87,
           "9": 83,
           "bdata": "QjxNWFZVTVJXU0xb",
           "dtype": "i1",
           "shape": "12"
          },
          "bdata": "QjxNWFZVTVJXU0xb",
          "dtype": "i1"
         },
         "yaxis": "y"
        }
       ],
       "layout": {
        "barmode": "relative",
        "height": 600,
        "legend": {
         "tracegroupgap": 0
        },
        "template": {
         "data": {
          "bar": [
           {
            "error_x": {
             "color": "#2a3f5f"
            },
            "error_y": {
             "color": "#2a3f5f"
            },
            "marker": {
             "line": {
              "color": "white",
              "width": 0.5
             },
             "pattern": {
              "fillmode": "overlay",
              "size": 10,
              "solidity": 0.2
             }
            },
            "type": "bar"
           }
          ],
          "barpolar": [
           {
            "marker": {
             "line": {
              "color": "white",
              "width": 0.5
             },
             "pattern": {
              "fillmode": "overlay",
              "size": 10,
              "solidity": 0.2
             }
            },
            "type": "barpolar"
           }
          ],
          "carpet": [
           {
            "aaxis": {
             "endlinecolor": "#2a3f5f",
             "gridcolor": "#C8D4E3",
             "linecolor": "#C8D4E3",
             "minorgridcolor": "#C8D4E3",
             "startlinecolor": "#2a3f5f"
            },
            "baxis": {
             "endlinecolor": "#2a3f5f",
             "gridcolor": "#C8D4E3",
             "linecolor": "#C8D4E3",
             "minorgridcolor": "#C8D4E3",
             "startlinecolor": "#2a3f5f"
            },
            "type": "carpet"
           }
          ],
          "choropleth": [
           {
            "colorbar": {
             "outlinewidth": 0,
             "ticks": ""
            },
            "type": "choropleth"
           }
          ],
          "contour": [
           {
            "colorbar": {
             "outlinewidth": 0,
             "ticks": ""
            },
            "colorscale": [
             [
              0,
              "#0d0887"
             ],
             [
              0.1111111111111111,
              "#46039f"
             ],
             [
              0.2222222222222222,
              "#7201a8"
             ],
             [
              0.3333333333333333,
              "#9c179e"
             ],
             [
              0.4444444444444444,
              "#bd3786"
             ],
             [
              0.5555555555555556,
              "#d8576b"
             ],
             [
              0.6666666666666666,
              "#ed7953"
             ],
             [
              0.7777777777777778,
              "#fb9f3a"
             ],
             [
              0.8888888888888888,
              "#fdca26"
             ],
             [
              1,
              "#f0f921"
             ]
            ],
            "type": "contour"
           }
          ],
          "contourcarpet": [
           {
            "colorbar": {
             "outlinewidth": 0,
             "ticks": ""
            },
            "type": "contourcarpet"
           }
          ],
          "heatmap": [
           {
            "colorbar": {
             "outlinewidth": 0,
             "ticks": ""
            },
            "colorscale": [
             [
              0,
              "#0d0887"
             ],
             [
              0.1111111111111111,
              "#46039f"
             ],
             [
              0.2222222222222222,
              "#7201a8"
             ],
             [
              0.3333333333333333,
              "#9c179e"
             ],
             [
              0.4444444444444444,
              "#bd3786"
             ],
             [
              0.5555555555555556,
              "#d8576b"
             ],
             [
              0.6666666666666666,
              "#ed7953"
             ],
             [
              0.7777777777777778,
              "#fb9f3a"
             ],
             [
              0.8888888888888888,
              "#fdca26"
             ],
             [
              1,
              "#f0f921"
             ]
            ],
            "type": "heatmap"
           }
          ],
          "histogram": [
           {
            "marker": {
             "pattern": {
              "fillmode": "overlay",
              "size": 10,
              "solidity": 0.2
             }
            },
            "type": "histogram"
           }
          ],
          "histogram2d": [
           {
            "colorbar": {
             "outlinewidth": 0,
             "ticks": ""
            },
            "colorscale": [
             [
              0,
              "#0d0887"
             ],
             [
              0.1111111111111111,
              "#46039f"
             ],
             [
              0.2222222222222222,
              "#7201a8"
             ],
             [
              0.3333333333333333,
              "#9c179e"
             ],
             [
              0.4444444444444444,
              "#bd3786"
             ],
             [
              0.5555555555555556,
              "#d8576b"
             ],
             [
              0.6666666666666666,
              "#ed7953"
             ],
             [
              0.7777777777777778,
              "#fb9f3a"
             ],
             [
              0.8888888888888888,
              "#fdca26"
             ],
             [
              1,
              "#f0f921"
             ]
            ],
            "type": "histogram2d"
           }
          ],
          "histogram2dcontour": [
           {
            "colorbar": {
             "outlinewidth": 0,
             "ticks": ""
            },
            "colorscale": [
             [
              0,
              "#0d0887"
             ],
             [
              0.1111111111111111,
              "#46039f"
             ],
             [
              0.2222222222222222,
              "#7201a8"
             ],
             [
              0.3333333333333333,
              "#9c179e"
             ],
             [
              0.4444444444444444,
              "#bd3786"
             ],
             [
              0.5555555555555556,
              "#d8576b"
             ],
             [
              0.6666666666666666,
              "#ed7953"
             ],
             [
              0.7777777777777778,
              "#fb9f3a"
             ],
             [
              0.8888888888888888,
              "#fdca26"
             ],
             [
              1,
              "#f0f921"
             ]
            ],
            "type": "histogram2dcontour"
           }
          ],
          "mesh3d": [
           {
            "colorbar": {
             "outlinewidth": 0,
             "ticks": ""
            },
            "type": "mesh3d"
           }
          ],
          "parcoords": [
           {
            "line": {
             "colorbar": {
              "outlinewidth": 0,
              "ticks": ""
             }
            },
            "type": "parcoords"
           }
          ],
          "pie": [
           {
            "automargin": true,
            "type": "pie"
           }
          ],
          "scatter": [
           {
            "fillpattern": {
             "fillmode": "overlay",
             "size": 10,
             "solidity": 0.2
            },
            "type": "scatter"
           }
          ],
          "scatter3d": [
           {
            "line": {
             "colorbar": {
              "outlinewidth": 0,
              "ticks": ""
             }
            },
            "marker": {
             "colorbar": {
              "outlinewidth": 0,
              "ticks": ""
             }
            },
            "type": "scatter3d"
           }
          ],
          "scattercarpet": [
           {
            "marker": {
             "colorbar": {
              "outlinewidth": 0,
              "ticks": ""
             }
            },
            "type": "scattercarpet"
           }
          ],
          "scattergeo": [
           {
            "marker": {
             "colorbar": {
              "outlinewidth": 0,
              "ticks": ""
             }
            },
            "type": "scattergeo"
           }
          ],
          "scattergl": [
           {
            "marker": {
             "colorbar": {
              "outlinewidth": 0,
              "ticks": ""
             }
            },
            "type": "scattergl"
           }
          ],
          "scattermap": [
           {
            "marker": {
             "colorbar": {
              "outlinewidth": 0,
              "ticks": ""
             }
            },
            "type": "scattermap"
           }
          ],
          "scattermapbox": [
           {
            "marker": {
             "colorbar": {
              "outlinewidth": 0,
              "ticks": ""
             }
            },
            "type": "scattermapbox"
           }
          ],
          "scatterpolar": [
           {
            "marker": {
             "colorbar": {
              "outlinewidth": 0,
              "ticks": ""
             }
            },
            "type": "scatterpolar"
           }
          ],
          "scatterpolargl": [
           {
            "marker": {
             "colorbar": {
              "outlinewidth": 0,
              "ticks": ""
             }
            },
            "type": "scatterpolargl"
           }
          ],
          "scatterternary": [
           {
            "marker": {
             "colorbar": {
              "outlinewidth": 0,
              "ticks": ""
             }
            },
            "type": "scatterternary"
           }
          ],
          "surface": [
           {
            "colorbar": {
             "outlinewidth": 0,
             "ticks": ""
            },
            "colorscale": [
             [
              0,
              "#0d0887"
             ],
             [
              0.1111111111111111,
              "#46039f"
             ],
             [
              0.2222222222222222,
              "#7201a8"
             ],
             [
              0.3333333333333333,
              "#9c179e"
             ],
             [
              0.4444444444444444,
              "#bd3786"
             ],
             [
              0.5555555555555556,
              "#d8576b"
             ],
             [
              0.6666666666666666,
              "#ed7953"
             ],
             [
              0.7777777777777778,
              "#fb9f3a"
             ],
             [
              0.8888888888888888,
              "#fdca26"
             ],
             [
              1,
              "#f0f921"
             ]
            ],
            "type": "surface"
           }
          ],
          "table": [
           {
            "cells": {
             "fill": {
              "color": "#EBF0F8"
             },
             "line": {
              "color": "white"
             }
            },
            "header": {
             "fill": {
              "color": "#C8D4E3"
             },
             "line": {
              "color": "white"
             }
            },
            "type": "table"
           }
          ]
         },
         "layout": {
          "annotationdefaults": {
           "arrowcolor": "#2a3f5f",
           "arrowhead": 0,
           "arrowwidth": 1
          },
          "autotypenumbers": "strict",
          "coloraxis": {
           "colorbar": {
            "outlinewidth": 0,
            "ticks": ""
           }
          },
          "colorscale": {
           "diverging": [
            [
             0,
             "#8e0152"
            ],
            [
             0.1,
             "#c51b7d"
            ],
            [
             0.2,
             "#de77ae"
            ],
            [
             0.3,
             "#f1b6da"
            ],
            [
             0.4,
             "#fde0ef"
            ],
            [
             0.5,
             "#f7f7f7"
            ],
            [
             0.6,
             "#e6f5d0"
            ],
            [
             0.7,
             "#b8e186"
            ],
            [
             0.8,
             "#7fbc41"
            ],
            [
             0.9,
             "#4d9221"
            ],
            [
             1,
             "#276419"
            ]
           ],
           "sequential": [
            [
             0,
             "#0d0887"
            ],
            [
             0.1111111111111111,
             "#46039f"
            ],
            [
             0.2222222222222222,
             "#7201a8"
            ],
            [
             0.3333333333333333,
             "#9c179e"
            ],
            [
             0.4444444444444444,
             "#bd3786"
            ],
            [
             0.5555555555555556,
             "#d8576b"
            ],
            [
             0.6666666666666666,
             "#ed7953"
            ],
            [
             0.7777777777777778,
             "#fb9f3a"
            ],
            [
             0.8888888888888888,
             "#fdca26"
            ],
            [
             1,
             "#f0f921"
            ]
           ],
           "sequentialminus": [
            [
             0,
             "#0d0887"
            ],
            [
             0.1111111111111111,
             "#46039f"
            ],
            [
             0.2222222222222222,
             "#7201a8"
            ],
            [
             0.3333333333333333,
             "#9c179e"
            ],
            [
             0.4444444444444444,
             "#bd3786"
            ],
            [
             0.5555555555555556,
             "#d8576b"
            ],
            [
             0.6666666666666666,
             "#ed7953"
            ],
            [
             0.7777777777777778,
             "#fb9f3a"
            ],
            [
             0.8888888888888888,
             "#fdca26"
            ],
            [
             1,
             "#f0f921"
            ]
           ]
          },
          "colorway": [
           "#636efa",
           "#EF553B",
           "#00cc96",
           "#ab63fa",
           "#FFA15A",
           "#19d3f3",
           "#FF6692",
           "#B6E880",
           "#FF97FF",
           "#FECB52"
          ],
          "font": {
           "color": "#2a3f5f"
          },
          "geo": {
           "bgcolor": "white",
           "lakecolor": "white",
           "landcolor": "white",
           "showlakes": true,
           "showland": true,
           "subunitcolor": "#C8D4E3"
          },
          "hoverlabel": {
           "align": "left"
          },
          "hovermode": "closest",
          "mapbox": {
           "style": "light"
          },
          "paper_bgcolor": "white",
          "plot_bgcolor": "white",
          "polar": {
           "angularaxis": {
            "gridcolor": "#EBF0F8",
            "linecolor": "#EBF0F8",
            "ticks": ""
           },
           "bgcolor": "white",
           "radialaxis": {
            "gridcolor": "#EBF0F8",
            "linecolor": "#EBF0F8",
            "ticks": ""
           }
          },
          "scene": {
           "xaxis": {
            "backgroundcolor": "white",
            "gridcolor": "#DFE8F3",
            "gridwidth": 2,
            "linecolor": "#EBF0F8",
            "showbackground": true,
            "ticks": "",
            "zerolinecolor": "#EBF0F8"
           },
           "yaxis": {
            "backgroundcolor": "white",
            "gridcolor": "#DFE8F3",
            "gridwidth": 2,
            "linecolor": "#EBF0F8",
            "showbackground": true,
            "ticks": "",
            "zerolinecolor": "#EBF0F8"
           },
           "zaxis": {
            "backgroundcolor": "white",
            "gridcolor": "#DFE8F3",
            "gridwidth": 2,
            "linecolor": "#EBF0F8",
            "showbackground": true,
            "ticks": "",
            "zerolinecolor": "#EBF0F8"
           }
          },
          "shapedefaults": {
           "line": {
            "color": "#2a3f5f"
           }
          },
          "ternary": {
           "aaxis": {
            "gridcolor": "#DFE8F3",
            "linecolor": "#A2B1C6",
            "ticks": ""
           },
           "baxis": {
            "gridcolor": "#DFE8F3",
            "linecolor": "#A2B1C6",
            "ticks": ""
           },
           "bgcolor": "white",
           "caxis": {
            "gridcolor": "#DFE8F3",
            "linecolor": "#A2B1C6",
            "ticks": ""
           }
          },
          "title": {
           "x": 0.05
          },
          "xaxis": {
           "automargin": true,
           "gridcolor": "#EBF0F8",
           "linecolor": "#EBF0F8",
           "ticks": "",
           "title": {
            "standoff": 15
           },
           "zerolinecolor": "#EBF0F8",
           "zerolinewidth": 2
          },
          "yaxis": {
           "automargin": true,
           "gridcolor": "#EBF0F8",
           "linecolor": "#EBF0F8",
           "ticks": "",
           "title": {
            "standoff": 15
           },
           "zerolinecolor": "#EBF0F8",
           "zerolinewidth": 2
          }
         }
        },
        "title": {
         "text": "Number of Launches per Month"
        },
        "width": 900,
        "xaxis": {
         "anchor": "y",
         "autorange": true,
         "domain": [
          0,
          1
         ],
         "range": [
          -0.5,
          11.5
         ],
         "title": {
          "text": "Month"
         },
         "type": "category"
        },
        "yaxis": {
         "anchor": "x",
         "autorange": true,
         "domain": [
          0,
          1
         ],
         "range": [
          0,
          95.78947368421052
         ],
         "title": {
          "text": "Launch Count"
         },
         "type": "linear"
        }
       }
      }
     },
     "metadata": {},
     "output_type": "display_data"
    }
   ],
   "source": [
    "fig = px.bar(x=launches_per_month['Month'], y=launches_per_month['Launch_Count'], title='Number of Launches per Month')\n",
    "fig.update_traces(texttemplate='%{y}',textposition='outside')\n",
    "fig.update_xaxes(title_text='Month')\n",
    "fig.update_yaxes(title_text='Launch Count')\n",
    "fig.update_layout(\n",
    "    height=600,\n",
    "    width=900,\n",
    "    template='plotly_white'\n",
    ")\n",
    "fig.show()"
   ]
  },
  {
   "cell_type": "markdown",
   "metadata": {
    "id": "t-avMIZoa-qh",
    "papermill": {
     "duration": 0.044409,
     "end_time": "2020-10-20T21:34:10.162592",
     "exception": false,
     "start_time": "2020-10-20T21:34:10.118183",
     "status": "completed"
    },
    "tags": []
   },
   "source": [
    "# Launches per Month: Which months are most popular and least popular for launches?"
   ]
  },
  {
   "cell_type": "code",
   "execution_count": 342,
   "metadata": {
    "id": "zmtp5uBHppFG"
   },
   "outputs": [
    {
     "name": "stdout",
     "output_type": "stream",
     "text": [
      "      Month  Launch_Count\n",
      "2  December            91\n",
      "      Month  Launch_Count\n",
      "3  February            60\n"
     ]
    }
   ],
   "source": [
    "print(launches_per_month[launches_per_month['Launch_Count']==launches_per_month['Launch_Count'].max()])\n",
    "print(launches_per_month[launches_per_month['Launch_Count']==launches_per_month['Launch_Count'].min()])"
   ]
  },
  {
   "cell_type": "markdown",
   "metadata": {
    "id": "dPQ_N_sfa-qo",
    "papermill": {
     "duration": 0.067915,
     "end_time": "2020-10-20T21:34:11.122539",
     "exception": false,
     "start_time": "2020-10-20T21:34:11.054624",
     "status": "completed"
    },
    "tags": []
   },
   "source": [
    "# How has the Launch Price varied Over Time? "
   ]
  },
  {
   "cell_type": "code",
   "execution_count": 343,
   "metadata": {
    "id": "hFc-2M5-qCrv"
   },
   "outputs": [
    {
     "data": {
      "application/vnd.plotly.v1+json": {
       "config": {
        "plotlyServerURL": "https://plot.ly"
       },
       "data": [
        {
         "hovertemplate": "Year=%{x}<br>Price=%{y}<extra></extra>",
         "legendgroup": "",
         "line": {
          "color": "#636efa",
          "dash": "solid"
         },
         "marker": {
          "symbol": "circle"
         },
         "mode": "lines",
         "name": "",
         "orientation": "v",
         "showlegend": false,
         "type": "scatter",
         "x": {
          "_inputArray": {
           "0": 1964,
           "1": 1965,
           "10": 1981,
           "11": 1982,
           "12": 1983,
           "13": 1984,
           "14": 1985,
           "15": 1986,
           "16": 1987,
           "17": 1988,
           "18": 1989,
           "19": 1990,
           "2": 1966,
           "20": 1991,
           "21": 1992,
           "22": 1993,
           "23": 1994,
           "24": 1995,
           "25": 1996,
           "26": 1997,
           "27": 1998,
           "28": 1999,
           "29": 2000,
           "3": 1967,
           "30": 2001,
           "31": 2002,
           "32": 2003,
           "33": 2004,
           "34": 2005,
           "35": 2006,
           "36": 2007,
           "37": 2008,
           "38": 2009,
           "39": 2010,
           "4": 1968,
           "40": 2011,
           "41": 2012,
           "42": 2013,
           "43": 2014,
           "44": 2015,
           "45": 2016,
           "46": 2017,
           "47": 2018,
           "48": 2019,
           "49": 2020,
           "5": 1969,
           "6": 1970,
           "7": 1971,
           "8": 1972,
           "9": 1973,
           "bdata": "rAcAAK0HAACuBwAArwcAALAHAACxBwAAsgcAALMHAAC0BwAAtQcAAL0HAAC+BwAAvwcAAMAHAADBBwAAwgcAAMMHAADEBwAAxQcAAMYHAADHBwAAyAcAAMkHAADKBwAAywcAAMwHAADNBwAAzgcAAM8HAADQBwAA0QcAANIHAADTBwAA1AcAANUHAADWBwAA1wcAANgHAADZBwAA2gcAANsHAADcBwAA3QcAAN4HAADfBwAA4AcAAOEHAADiBwAA4wcAAOQHAAA=",
           "dtype": "i4",
           "shape": "50"
          },
          "bdata": "rAcAAK0HAACuBwAArwcAALAHAACxBwAAsgcAALMHAAC0BwAAtQcAAL0HAAC+BwAAvwcAAMAHAADBBwAAwgcAAMMHAADEBwAAxQcAAMYHAADHBwAAyAcAAMkHAADKBwAAywcAAMwHAADNBwAAzgcAAM8HAADQBwAA0QcAANIHAADTBwAA1AcAANUHAADWBwAA1wcAANgHAADZBwAA2gcAANsHAADcBwAA3QcAAN4HAADfBwAA4AcAAOEHAADiBwAA4wcAAOQHAAA=",
          "dtype": "i4"
         },
         "xaxis": "x",
         "y": {
          "_inputArray": {
           "0": 63.23,
           "1": 63.23,
           "10": 450,
           "11": 345.2,
           "12": 366.15999999999997,
           "13": 380.1333333333334,
           "14": 408.08000000000004,
           "15": 310.26666666666665,
           "16": 1687.2,
           "17": 1193.16,
           "18": 380.8333333333333,
           "19": 289.1454545454545,
           "2": 59,
           "20": 391.42857142857144,
           "21": 319.34583333333336,
           "22": 276.73333333333335,
           "23": 221.509375,
           "24": 325,
           "25": 243.19642857142858,
           "26": 221.7388888888889,
           "27": 152.1222222222222,
           "28": 136.16615384615386,
           "29": 173.11875,
           "3": 216.28571428571428,
           "30": 290.7,
           "31": 195.3725,
           "32": 80.5115,
           "33": 92.73588235294118,
           "34": 95.79333333333334,
           "35": 138.60592592592593,
           "36": 125.6951724137931,
           "37": 129.74821428571428,
           "38": 180.28709677419354,
           "39": 148.4,
           "4": 279.2,
           "40": 146.59655172413792,
           "41": 126.09583333333335,
           "42": 90.55151515151515,
           "43": 102.55121951219513,
           "44": 95.94864864864864,
           "45": 79.45734375,
           "46": 69.4910606060606,
           "47": 64.74977272727273,
           "48": 59.609726027397265,
           "49": 56.65019230769231,
           "5": 609.5,
           "6": 1160,
           "7": 1160,
           "8": 1160,
           "9": 1160,
           "bdata": "PQrXo3CdT0A9CtejcJ1PQAAAAAAAgE1AkiRJkiQJa0AzMzMzM3NxQAAAAAAADINAAAAAAAAgkkAAAAAAACCSQAAAAAAAIJJAAAAAAAAgkkAAAAAAACB8QDMzMzMzk3VAwvUoXI/idkAjIiIiIsJ3QOJ6FK5HgXlARERERERkc0DNzMzMzFyaQHE9CtejpJJAVVVVVVXNd0CCPCXIUxJyQG7btm3bdnhAiYiIiIj1c0C8u7u7u0txQM3MzMxMsGtAAAAAAABQdEAlSZIkSWZuQPukT/qkt2tAPumTPukDY0C86t4hUQVhQM3MzMzMo2VAMzMzMzMrckBSuB6F62toQNv5fmq8IFRAf+VLshgvV0CTXyz5xfJXQNB0xL5jU2FAqJRvtH1sX0Bf8RVf8TdgQFn+kuUviWZAzczMzMyMYkBvMaTzFlNiQCMiIiIihl9AY8A0BkyjVkDkcjQuR6NZQMtV0qi2/FdA7FG4HkXdU0CX2HaJbV9RQGzEv0b8L1BAe5ihgAvOTUAa02SAOVNMQA==",
           "dtype": "f8",
           "shape": "50"
          },
          "bdata": "PQrXo3CdT0A9CtejcJ1PQAAAAAAAgE1AkiRJkiQJa0AzMzMzM3NxQAAAAAAADINAAAAAAAAgkkAAAAAAACCSQAAAAAAAIJJAAAAAAAAgkkAAAAAAACB8QDMzMzMzk3VAwvUoXI/idkAjIiIiIsJ3QOJ6FK5HgXlARERERERkc0DNzMzMzFyaQHE9CtejpJJAVVVVVVXNd0CCPCXIUxJyQG7btm3bdnhAiYiIiIj1c0C8u7u7u0txQM3MzMxMsGtAAAAAAABQdEAlSZIkSWZuQPukT/qkt2tAPumTPukDY0C86t4hUQVhQM3MzMzMo2VAMzMzMzMrckBSuB6F62toQNv5fmq8IFRAf+VLshgvV0CTXyz5xfJXQNB0xL5jU2FAqJRvtH1sX0Bf8RVf8TdgQFn+kuUviWZAzczMzMyMYkBvMaTzFlNiQCMiIiIihl9AY8A0BkyjVkDkcjQuR6NZQMtV0qi2/FdA7FG4HkXdU0CX2HaJbV9RQGzEv0b8L1BAe5ihgAvOTUAa02SAOVNMQA==",
          "dtype": "f8"
         },
         "yaxis": "y"
        }
       ],
       "layout": {
        "height": 600,
        "legend": {
         "tracegroupgap": 0
        },
        "margin": {
         "t": 60
        },
        "template": {
         "data": {
          "bar": [
           {
            "error_x": {
             "color": "#2a3f5f"
            },
            "error_y": {
             "color": "#2a3f5f"
            },
            "marker": {
             "line": {
              "color": "white",
              "width": 0.5
             },
             "pattern": {
              "fillmode": "overlay",
              "size": 10,
              "solidity": 0.2
             }
            },
            "type": "bar"
           }
          ],
          "barpolar": [
           {
            "marker": {
             "line": {
              "color": "white",
              "width": 0.5
             },
             "pattern": {
              "fillmode": "overlay",
              "size": 10,
              "solidity": 0.2
             }
            },
            "type": "barpolar"
           }
          ],
          "carpet": [
           {
            "aaxis": {
             "endlinecolor": "#2a3f5f",
             "gridcolor": "#C8D4E3",
             "linecolor": "#C8D4E3",
             "minorgridcolor": "#C8D4E3",
             "startlinecolor": "#2a3f5f"
            },
            "baxis": {
             "endlinecolor": "#2a3f5f",
             "gridcolor": "#C8D4E3",
             "linecolor": "#C8D4E3",
             "minorgridcolor": "#C8D4E3",
             "startlinecolor": "#2a3f5f"
            },
            "type": "carpet"
           }
          ],
          "choropleth": [
           {
            "colorbar": {
             "outlinewidth": 0,
             "ticks": ""
            },
            "type": "choropleth"
           }
          ],
          "contour": [
           {
            "colorbar": {
             "outlinewidth": 0,
             "ticks": ""
            },
            "colorscale": [
             [
              0,
              "#0d0887"
             ],
             [
              0.1111111111111111,
              "#46039f"
             ],
             [
              0.2222222222222222,
              "#7201a8"
             ],
             [
              0.3333333333333333,
              "#9c179e"
             ],
             [
              0.4444444444444444,
              "#bd3786"
             ],
             [
              0.5555555555555556,
              "#d8576b"
             ],
             [
              0.6666666666666666,
              "#ed7953"
             ],
             [
              0.7777777777777778,
              "#fb9f3a"
             ],
             [
              0.8888888888888888,
              "#fdca26"
             ],
             [
              1,
              "#f0f921"
             ]
            ],
            "type": "contour"
           }
          ],
          "contourcarpet": [
           {
            "colorbar": {
             "outlinewidth": 0,
             "ticks": ""
            },
            "type": "contourcarpet"
           }
          ],
          "heatmap": [
           {
            "colorbar": {
             "outlinewidth": 0,
             "ticks": ""
            },
            "colorscale": [
             [
              0,
              "#0d0887"
             ],
             [
              0.1111111111111111,
              "#46039f"
             ],
             [
              0.2222222222222222,
              "#7201a8"
             ],
             [
              0.3333333333333333,
              "#9c179e"
             ],
             [
              0.4444444444444444,
              "#bd3786"
             ],
             [
              0.5555555555555556,
              "#d8576b"
             ],
             [
              0.6666666666666666,
              "#ed7953"
             ],
             [
              0.7777777777777778,
              "#fb9f3a"
             ],
             [
              0.8888888888888888,
              "#fdca26"
             ],
             [
              1,
              "#f0f921"
             ]
            ],
            "type": "heatmap"
           }
          ],
          "histogram": [
           {
            "marker": {
             "pattern": {
              "fillmode": "overlay",
              "size": 10,
              "solidity": 0.2
             }
            },
            "type": "histogram"
           }
          ],
          "histogram2d": [
           {
            "colorbar": {
             "outlinewidth": 0,
             "ticks": ""
            },
            "colorscale": [
             [
              0,
              "#0d0887"
             ],
             [
              0.1111111111111111,
              "#46039f"
             ],
             [
              0.2222222222222222,
              "#7201a8"
             ],
             [
              0.3333333333333333,
              "#9c179e"
             ],
             [
              0.4444444444444444,
              "#bd3786"
             ],
             [
              0.5555555555555556,
              "#d8576b"
             ],
             [
              0.6666666666666666,
              "#ed7953"
             ],
             [
              0.7777777777777778,
              "#fb9f3a"
             ],
             [
              0.8888888888888888,
              "#fdca26"
             ],
             [
              1,
              "#f0f921"
             ]
            ],
            "type": "histogram2d"
           }
          ],
          "histogram2dcontour": [
           {
            "colorbar": {
             "outlinewidth": 0,
             "ticks": ""
            },
            "colorscale": [
             [
              0,
              "#0d0887"
             ],
             [
              0.1111111111111111,
              "#46039f"
             ],
             [
              0.2222222222222222,
              "#7201a8"
             ],
             [
              0.3333333333333333,
              "#9c179e"
             ],
             [
              0.4444444444444444,
              "#bd3786"
             ],
             [
              0.5555555555555556,
              "#d8576b"
             ],
             [
              0.6666666666666666,
              "#ed7953"
             ],
             [
              0.7777777777777778,
              "#fb9f3a"
             ],
             [
              0.8888888888888888,
              "#fdca26"
             ],
             [
              1,
              "#f0f921"
             ]
            ],
            "type": "histogram2dcontour"
           }
          ],
          "mesh3d": [
           {
            "colorbar": {
             "outlinewidth": 0,
             "ticks": ""
            },
            "type": "mesh3d"
           }
          ],
          "parcoords": [
           {
            "line": {
             "colorbar": {
              "outlinewidth": 0,
              "ticks": ""
             }
            },
            "type": "parcoords"
           }
          ],
          "pie": [
           {
            "automargin": true,
            "type": "pie"
           }
          ],
          "scatter": [
           {
            "fillpattern": {
             "fillmode": "overlay",
             "size": 10,
             "solidity": 0.2
            },
            "type": "scatter"
           }
          ],
          "scatter3d": [
           {
            "line": {
             "colorbar": {
              "outlinewidth": 0,
              "ticks": ""
             }
            },
            "marker": {
             "colorbar": {
              "outlinewidth": 0,
              "ticks": ""
             }
            },
            "type": "scatter3d"
           }
          ],
          "scattercarpet": [
           {
            "marker": {
             "colorbar": {
              "outlinewidth": 0,
              "ticks": ""
             }
            },
            "type": "scattercarpet"
           }
          ],
          "scattergeo": [
           {
            "marker": {
             "colorbar": {
              "outlinewidth": 0,
              "ticks": ""
             }
            },
            "type": "scattergeo"
           }
          ],
          "scattergl": [
           {
            "marker": {
             "colorbar": {
              "outlinewidth": 0,
              "ticks": ""
             }
            },
            "type": "scattergl"
           }
          ],
          "scattermap": [
           {
            "marker": {
             "colorbar": {
              "outlinewidth": 0,
              "ticks": ""
             }
            },
            "type": "scattermap"
           }
          ],
          "scattermapbox": [
           {
            "marker": {
             "colorbar": {
              "outlinewidth": 0,
              "ticks": ""
             }
            },
            "type": "scattermapbox"
           }
          ],
          "scatterpolar": [
           {
            "marker": {
             "colorbar": {
              "outlinewidth": 0,
              "ticks": ""
             }
            },
            "type": "scatterpolar"
           }
          ],
          "scatterpolargl": [
           {
            "marker": {
             "colorbar": {
              "outlinewidth": 0,
              "ticks": ""
             }
            },
            "type": "scatterpolargl"
           }
          ],
          "scatterternary": [
           {
            "marker": {
             "colorbar": {
              "outlinewidth": 0,
              "ticks": ""
             }
            },
            "type": "scatterternary"
           }
          ],
          "surface": [
           {
            "colorbar": {
             "outlinewidth": 0,
             "ticks": ""
            },
            "colorscale": [
             [
              0,
              "#0d0887"
             ],
             [
              0.1111111111111111,
              "#46039f"
             ],
             [
              0.2222222222222222,
              "#7201a8"
             ],
             [
              0.3333333333333333,
              "#9c179e"
             ],
             [
              0.4444444444444444,
              "#bd3786"
             ],
             [
              0.5555555555555556,
              "#d8576b"
             ],
             [
              0.6666666666666666,
              "#ed7953"
             ],
             [
              0.7777777777777778,
              "#fb9f3a"
             ],
             [
              0.8888888888888888,
              "#fdca26"
             ],
             [
              1,
              "#f0f921"
             ]
            ],
            "type": "surface"
           }
          ],
          "table": [
           {
            "cells": {
             "fill": {
              "color": "#EBF0F8"
             },
             "line": {
              "color": "white"
             }
            },
            "header": {
             "fill": {
              "color": "#C8D4E3"
             },
             "line": {
              "color": "white"
             }
            },
            "type": "table"
           }
          ]
         },
         "layout": {
          "annotationdefaults": {
           "arrowcolor": "#2a3f5f",
           "arrowhead": 0,
           "arrowwidth": 1
          },
          "autotypenumbers": "strict",
          "coloraxis": {
           "colorbar": {
            "outlinewidth": 0,
            "ticks": ""
           }
          },
          "colorscale": {
           "diverging": [
            [
             0,
             "#8e0152"
            ],
            [
             0.1,
             "#c51b7d"
            ],
            [
             0.2,
             "#de77ae"
            ],
            [
             0.3,
             "#f1b6da"
            ],
            [
             0.4,
             "#fde0ef"
            ],
            [
             0.5,
             "#f7f7f7"
            ],
            [
             0.6,
             "#e6f5d0"
            ],
            [
             0.7,
             "#b8e186"
            ],
            [
             0.8,
             "#7fbc41"
            ],
            [
             0.9,
             "#4d9221"
            ],
            [
             1,
             "#276419"
            ]
           ],
           "sequential": [
            [
             0,
             "#0d0887"
            ],
            [
             0.1111111111111111,
             "#46039f"
            ],
            [
             0.2222222222222222,
             "#7201a8"
            ],
            [
             0.3333333333333333,
             "#9c179e"
            ],
            [
             0.4444444444444444,
             "#bd3786"
            ],
            [
             0.5555555555555556,
             "#d8576b"
            ],
            [
             0.6666666666666666,
             "#ed7953"
            ],
            [
             0.7777777777777778,
             "#fb9f3a"
            ],
            [
             0.8888888888888888,
             "#fdca26"
            ],
            [
             1,
             "#f0f921"
            ]
           ],
           "sequentialminus": [
            [
             0,
             "#0d0887"
            ],
            [
             0.1111111111111111,
             "#46039f"
            ],
            [
             0.2222222222222222,
             "#7201a8"
            ],
            [
             0.3333333333333333,
             "#9c179e"
            ],
            [
             0.4444444444444444,
             "#bd3786"
            ],
            [
             0.5555555555555556,
             "#d8576b"
            ],
            [
             0.6666666666666666,
             "#ed7953"
            ],
            [
             0.7777777777777778,
             "#fb9f3a"
            ],
            [
             0.8888888888888888,
             "#fdca26"
            ],
            [
             1,
             "#f0f921"
            ]
           ]
          },
          "colorway": [
           "#636efa",
           "#EF553B",
           "#00cc96",
           "#ab63fa",
           "#FFA15A",
           "#19d3f3",
           "#FF6692",
           "#B6E880",
           "#FF97FF",
           "#FECB52"
          ],
          "font": {
           "color": "#2a3f5f"
          },
          "geo": {
           "bgcolor": "white",
           "lakecolor": "white",
           "landcolor": "white",
           "showlakes": true,
           "showland": true,
           "subunitcolor": "#C8D4E3"
          },
          "hoverlabel": {
           "align": "left"
          },
          "hovermode": "closest",
          "mapbox": {
           "style": "light"
          },
          "paper_bgcolor": "white",
          "plot_bgcolor": "white",
          "polar": {
           "angularaxis": {
            "gridcolor": "#EBF0F8",
            "linecolor": "#EBF0F8",
            "ticks": ""
           },
           "bgcolor": "white",
           "radialaxis": {
            "gridcolor": "#EBF0F8",
            "linecolor": "#EBF0F8",
            "ticks": ""
           }
          },
          "scene": {
           "xaxis": {
            "backgroundcolor": "white",
            "gridcolor": "#DFE8F3",
            "gridwidth": 2,
            "linecolor": "#EBF0F8",
            "showbackground": true,
            "ticks": "",
            "zerolinecolor": "#EBF0F8"
           },
           "yaxis": {
            "backgroundcolor": "white",
            "gridcolor": "#DFE8F3",
            "gridwidth": 2,
            "linecolor": "#EBF0F8",
            "showbackground": true,
            "ticks": "",
            "zerolinecolor": "#EBF0F8"
           },
           "zaxis": {
            "backgroundcolor": "white",
            "gridcolor": "#DFE8F3",
            "gridwidth": 2,
            "linecolor": "#EBF0F8",
            "showbackground": true,
            "ticks": "",
            "zerolinecolor": "#EBF0F8"
           }
          },
          "shapedefaults": {
           "line": {
            "color": "#2a3f5f"
           }
          },
          "ternary": {
           "aaxis": {
            "gridcolor": "#DFE8F3",
            "linecolor": "#A2B1C6",
            "ticks": ""
           },
           "baxis": {
            "gridcolor": "#DFE8F3",
            "linecolor": "#A2B1C6",
            "ticks": ""
           },
           "bgcolor": "white",
           "caxis": {
            "gridcolor": "#DFE8F3",
            "linecolor": "#A2B1C6",
            "ticks": ""
           }
          },
          "title": {
           "x": 0.05
          },
          "xaxis": {
           "automargin": true,
           "gridcolor": "#EBF0F8",
           "linecolor": "#EBF0F8",
           "ticks": "",
           "title": {
            "standoff": 15
           },
           "zerolinecolor": "#EBF0F8",
           "zerolinewidth": 2
          },
          "yaxis": {
           "automargin": true,
           "gridcolor": "#EBF0F8",
           "linecolor": "#EBF0F8",
           "ticks": "",
           "title": {
            "standoff": 15
           },
           "zerolinecolor": "#EBF0F8",
           "zerolinewidth": 2
          }
         }
        },
        "width": 1100,
        "xaxis": {
         "anchor": "y",
         "autorange": true,
         "domain": [
          0,
          1
         ],
         "range": [
          1964,
          2020
         ],
         "tickangle": 90,
         "tickmode": "array",
         "tickvals": {
          "_inputArray": {
           "0": 1964,
           "1": 1965,
           "10": 1981,
           "11": 1982,
           "12": 1983,
           "13": 1984,
           "14": 1985,
           "15": 1986,
           "16": 1987,
           "17": 1988,
           "18": 1989,
           "19": 1990,
           "2": 1966,
           "20": 1991,
           "21": 1992,
           "22": 1993,
           "23": 1994,
           "24": 1995,
           "25": 1996,
           "26": 1997,
           "27": 1998,
           "28": 1999,
           "29": 2000,
           "3": 1967,
           "30": 2001,
           "31": 2002,
           "32": 2003,
           "33": 2004,
           "34": 2005,
           "35": 2006,
           "36": 2007,
           "37": 2008,
           "38": 2009,
           "39": 2010,
           "4": 1968,
           "40": 2011,
           "41": 2012,
           "42": 2013,
           "43": 2014,
           "44": 2015,
           "45": 2016,
           "46": 2017,
           "47": 2018,
           "48": 2019,
           "49": 2020,
           "5": 1969,
           "6": 1970,
           "7": 1971,
           "8": 1972,
           "9": 1973,
           "bdata": "rAcAAK0HAACuBwAArwcAALAHAACxBwAAsgcAALMHAAC0BwAAtQcAAL0HAAC+BwAAvwcAAMAHAADBBwAAwgcAAMMHAADEBwAAxQcAAMYHAADHBwAAyAcAAMkHAADKBwAAywcAAMwHAADNBwAAzgcAAM8HAADQBwAA0QcAANIHAADTBwAA1AcAANUHAADWBwAA1wcAANgHAADZBwAA2gcAANsHAADcBwAA3QcAAN4HAADfBwAA4AcAAOEHAADiBwAA4wcAAOQHAAA=",
           "dtype": "i4",
           "shape": "50"
          },
          "bdata": "rAcAAK0HAACuBwAArwcAALAHAACxBwAAsgcAALMHAAC0BwAAtQcAAL0HAAC+BwAAvwcAAMAHAADBBwAAwgcAAMMHAADEBwAAxQcAAMYHAADHBwAAyAcAAMkHAADKBwAAywcAAMwHAADNBwAAzgcAAM8HAADQBwAA0QcAANIHAADTBwAA1AcAANUHAADWBwAA1wcAANgHAADZBwAA2gcAANsHAADcBwAA3QcAAN4HAADfBwAA4AcAAOEHAADiBwAA4wcAAOQHAAA=",
          "dtype": "i4"
         },
         "title": {
          "text": "Year"
         },
         "type": "linear"
        },
        "yaxis": {
         "anchor": "x",
         "autorange": true,
         "domain": [
          0,
          1
         ],
         "range": [
          -33.93590811965812,
          1777.7861004273504
         ],
         "title": {
          "text": "Price"
         },
         "type": "linear"
        }
       }
      }
     },
     "metadata": {},
     "output_type": "display_data"
    }
   ],
   "source": [
    "avg_price_ov_time= cleaned_data.groupby('Year').agg({'Price':'mean'}).reset_index()\n",
    "fig = px.line(avg_price_ov_time,x='Year',y='Price')\n",
    "fig.update_layout(\n",
    "    height=600,\n",
    "    width=1100,\n",
    "    template='plotly_white',\n",
    "    xaxis=dict(\n",
    "        tickmode='array',\n",
    "        tickvals=avg_price_ov_time['Year'],\n",
    "        tickangle=90)\n",
    ")\n",
    "\n",
    "fig.show()"
   ]
  },
  {
   "cell_type": "markdown",
   "metadata": {
    "id": "Os-3A5vLa-q9",
    "papermill": {
     "duration": 0.054318,
     "end_time": "2020-10-20T21:34:14.089604",
     "exception": false,
     "start_time": "2020-10-20T21:34:14.035286",
     "status": "completed"
    },
    "tags": []
   },
   "source": [
    "# Plotly Pie Chart comparing the total number of launches of the USSR and the USA\n"
   ]
  },
  {
   "cell_type": "code",
   "execution_count": 344,
   "metadata": {
    "id": "1irc6_W9rD59"
   },
   "outputs": [
    {
     "data": {
      "text/html": [
       "<div>\n",
       "<style scoped>\n",
       "    .dataframe tbody tr th:only-of-type {\n",
       "        vertical-align: middle;\n",
       "    }\n",
       "\n",
       "    .dataframe tbody tr th {\n",
       "        vertical-align: top;\n",
       "    }\n",
       "\n",
       "    .dataframe thead th {\n",
       "        text-align: right;\n",
       "    }\n",
       "</style>\n",
       "<table border=\"1\" class=\"dataframe\">\n",
       "  <thead>\n",
       "    <tr style=\"text-align: right;\">\n",
       "      <th></th>\n",
       "      <th>Country</th>\n",
       "      <th>index</th>\n",
       "    </tr>\n",
       "  </thead>\n",
       "  <tbody>\n",
       "    <tr>\n",
       "      <th>0</th>\n",
       "      <td>Russian Federation</td>\n",
       "      <td>54</td>\n",
       "    </tr>\n",
       "    <tr>\n",
       "      <th>1</th>\n",
       "      <td>USA</td>\n",
       "      <td>488</td>\n",
       "    </tr>\n",
       "  </tbody>\n",
       "</table>\n",
       "</div>"
      ],
      "text/plain": [
       "              Country  index\n",
       "0  Russian Federation     54\n",
       "1                 USA    488"
      ]
     },
     "execution_count": 344,
     "metadata": {},
     "output_type": "execute_result"
    }
   ],
   "source": [
    "# total number of launches of the USSR and the USA\n",
    "launches_us_vs_rassia = cleaned_data[cleaned_data['Country'].isin(['USA','Russian Federation'])]\n",
    "launches_us_vs_rassia_grouped = launches_us_vs_rassia.groupby('Country').agg({'index':'count'}).reset_index()\n",
    "launches_us_vs_rassia_grouped"
   ]
  },
  {
   "cell_type": "code",
   "execution_count": 345,
   "metadata": {
    "id": "OhhuLQycrEE-"
   },
   "outputs": [
    {
     "data": {
      "application/vnd.plotly.v1+json": {
       "config": {
        "plotlyServerURL": "https://plot.ly"
       },
       "data": [
        {
         "domain": {
          "x": [
           0,
           1
          ],
          "y": [
           0,
           1
          ]
         },
         "hovertemplate": "Country=%{label}<br>index=%{value}<extra></extra>",
         "labels": [
          "Russian Federation",
          "USA"
         ],
         "legendgroup": "",
         "name": "",
         "showlegend": true,
         "type": "pie",
         "values": {
          "_inputArray": {
           "0": 54,
           "1": 488,
           "bdata": "NgDoAQ==",
           "dtype": "i2",
           "shape": "2"
          },
          "bdata": "NgDoAQ==",
          "dtype": "i2"
         }
        }
       ],
       "layout": {
        "autosize": true,
        "legend": {
         "tracegroupgap": 0
        },
        "template": {
         "data": {
          "bar": [
           {
            "error_x": {
             "color": "#2a3f5f"
            },
            "error_y": {
             "color": "#2a3f5f"
            },
            "marker": {
             "line": {
              "color": "#E5ECF6",
              "width": 0.5
             },
             "pattern": {
              "fillmode": "overlay",
              "size": 10,
              "solidity": 0.2
             }
            },
            "type": "bar"
           }
          ],
          "barpolar": [
           {
            "marker": {
             "line": {
              "color": "#E5ECF6",
              "width": 0.5
             },
             "pattern": {
              "fillmode": "overlay",
              "size": 10,
              "solidity": 0.2
             }
            },
            "type": "barpolar"
           }
          ],
          "carpet": [
           {
            "aaxis": {
             "endlinecolor": "#2a3f5f",
             "gridcolor": "white",
             "linecolor": "white",
             "minorgridcolor": "white",
             "startlinecolor": "#2a3f5f"
            },
            "baxis": {
             "endlinecolor": "#2a3f5f",
             "gridcolor": "white",
             "linecolor": "white",
             "minorgridcolor": "white",
             "startlinecolor": "#2a3f5f"
            },
            "type": "carpet"
           }
          ],
          "choropleth": [
           {
            "colorbar": {
             "outlinewidth": 0,
             "ticks": ""
            },
            "type": "choropleth"
           }
          ],
          "contour": [
           {
            "colorbar": {
             "outlinewidth": 0,
             "ticks": ""
            },
            "colorscale": [
             [
              0,
              "#0d0887"
             ],
             [
              0.1111111111111111,
              "#46039f"
             ],
             [
              0.2222222222222222,
              "#7201a8"
             ],
             [
              0.3333333333333333,
              "#9c179e"
             ],
             [
              0.4444444444444444,
              "#bd3786"
             ],
             [
              0.5555555555555556,
              "#d8576b"
             ],
             [
              0.6666666666666666,
              "#ed7953"
             ],
             [
              0.7777777777777778,
              "#fb9f3a"
             ],
             [
              0.8888888888888888,
              "#fdca26"
             ],
             [
              1,
              "#f0f921"
             ]
            ],
            "type": "contour"
           }
          ],
          "contourcarpet": [
           {
            "colorbar": {
             "outlinewidth": 0,
             "ticks": ""
            },
            "type": "contourcarpet"
           }
          ],
          "heatmap": [
           {
            "colorbar": {
             "outlinewidth": 0,
             "ticks": ""
            },
            "colorscale": [
             [
              0,
              "#0d0887"
             ],
             [
              0.1111111111111111,
              "#46039f"
             ],
             [
              0.2222222222222222,
              "#7201a8"
             ],
             [
              0.3333333333333333,
              "#9c179e"
             ],
             [
              0.4444444444444444,
              "#bd3786"
             ],
             [
              0.5555555555555556,
              "#d8576b"
             ],
             [
              0.6666666666666666,
              "#ed7953"
             ],
             [
              0.7777777777777778,
              "#fb9f3a"
             ],
             [
              0.8888888888888888,
              "#fdca26"
             ],
             [
              1,
              "#f0f921"
             ]
            ],
            "type": "heatmap"
           }
          ],
          "histogram": [
           {
            "marker": {
             "pattern": {
              "fillmode": "overlay",
              "size": 10,
              "solidity": 0.2
             }
            },
            "type": "histogram"
           }
          ],
          "histogram2d": [
           {
            "colorbar": {
             "outlinewidth": 0,
             "ticks": ""
            },
            "colorscale": [
             [
              0,
              "#0d0887"
             ],
             [
              0.1111111111111111,
              "#46039f"
             ],
             [
              0.2222222222222222,
              "#7201a8"
             ],
             [
              0.3333333333333333,
              "#9c179e"
             ],
             [
              0.4444444444444444,
              "#bd3786"
             ],
             [
              0.5555555555555556,
              "#d8576b"
             ],
             [
              0.6666666666666666,
              "#ed7953"
             ],
             [
              0.7777777777777778,
              "#fb9f3a"
             ],
             [
              0.8888888888888888,
              "#fdca26"
             ],
             [
              1,
              "#f0f921"
             ]
            ],
            "type": "histogram2d"
           }
          ],
          "histogram2dcontour": [
           {
            "colorbar": {
             "outlinewidth": 0,
             "ticks": ""
            },
            "colorscale": [
             [
              0,
              "#0d0887"
             ],
             [
              0.1111111111111111,
              "#46039f"
             ],
             [
              0.2222222222222222,
              "#7201a8"
             ],
             [
              0.3333333333333333,
              "#9c179e"
             ],
             [
              0.4444444444444444,
              "#bd3786"
             ],
             [
              0.5555555555555556,
              "#d8576b"
             ],
             [
              0.6666666666666666,
              "#ed7953"
             ],
             [
              0.7777777777777778,
              "#fb9f3a"
             ],
             [
              0.8888888888888888,
              "#fdca26"
             ],
             [
              1,
              "#f0f921"
             ]
            ],
            "type": "histogram2dcontour"
           }
          ],
          "mesh3d": [
           {
            "colorbar": {
             "outlinewidth": 0,
             "ticks": ""
            },
            "type": "mesh3d"
           }
          ],
          "parcoords": [
           {
            "line": {
             "colorbar": {
              "outlinewidth": 0,
              "ticks": ""
             }
            },
            "type": "parcoords"
           }
          ],
          "pie": [
           {
            "automargin": true,
            "type": "pie"
           }
          ],
          "scatter": [
           {
            "fillpattern": {
             "fillmode": "overlay",
             "size": 10,
             "solidity": 0.2
            },
            "type": "scatter"
           }
          ],
          "scatter3d": [
           {
            "line": {
             "colorbar": {
              "outlinewidth": 0,
              "ticks": ""
             }
            },
            "marker": {
             "colorbar": {
              "outlinewidth": 0,
              "ticks": ""
             }
            },
            "type": "scatter3d"
           }
          ],
          "scattercarpet": [
           {
            "marker": {
             "colorbar": {
              "outlinewidth": 0,
              "ticks": ""
             }
            },
            "type": "scattercarpet"
           }
          ],
          "scattergeo": [
           {
            "marker": {
             "colorbar": {
              "outlinewidth": 0,
              "ticks": ""
             }
            },
            "type": "scattergeo"
           }
          ],
          "scattergl": [
           {
            "marker": {
             "colorbar": {
              "outlinewidth": 0,
              "ticks": ""
             }
            },
            "type": "scattergl"
           }
          ],
          "scattermap": [
           {
            "marker": {
             "colorbar": {
              "outlinewidth": 0,
              "ticks": ""
             }
            },
            "type": "scattermap"
           }
          ],
          "scattermapbox": [
           {
            "marker": {
             "colorbar": {
              "outlinewidth": 0,
              "ticks": ""
             }
            },
            "type": "scattermapbox"
           }
          ],
          "scatterpolar": [
           {
            "marker": {
             "colorbar": {
              "outlinewidth": 0,
              "ticks": ""
             }
            },
            "type": "scatterpolar"
           }
          ],
          "scatterpolargl": [
           {
            "marker": {
             "colorbar": {
              "outlinewidth": 0,
              "ticks": ""
             }
            },
            "type": "scatterpolargl"
           }
          ],
          "scatterternary": [
           {
            "marker": {
             "colorbar": {
              "outlinewidth": 0,
              "ticks": ""
             }
            },
            "type": "scatterternary"
           }
          ],
          "surface": [
           {
            "colorbar": {
             "outlinewidth": 0,
             "ticks": ""
            },
            "colorscale": [
             [
              0,
              "#0d0887"
             ],
             [
              0.1111111111111111,
              "#46039f"
             ],
             [
              0.2222222222222222,
              "#7201a8"
             ],
             [
              0.3333333333333333,
              "#9c179e"
             ],
             [
              0.4444444444444444,
              "#bd3786"
             ],
             [
              0.5555555555555556,
              "#d8576b"
             ],
             [
              0.6666666666666666,
              "#ed7953"
             ],
             [
              0.7777777777777778,
              "#fb9f3a"
             ],
             [
              0.8888888888888888,
              "#fdca26"
             ],
             [
              1,
              "#f0f921"
             ]
            ],
            "type": "surface"
           }
          ],
          "table": [
           {
            "cells": {
             "fill": {
              "color": "#EBF0F8"
             },
             "line": {
              "color": "white"
             }
            },
            "header": {
             "fill": {
              "color": "#C8D4E3"
             },
             "line": {
              "color": "white"
             }
            },
            "type": "table"
           }
          ]
         },
         "layout": {
          "annotationdefaults": {
           "arrowcolor": "#2a3f5f",
           "arrowhead": 0,
           "arrowwidth": 1
          },
          "autotypenumbers": "strict",
          "coloraxis": {
           "colorbar": {
            "outlinewidth": 0,
            "ticks": ""
           }
          },
          "colorscale": {
           "diverging": [
            [
             0,
             "#8e0152"
            ],
            [
             0.1,
             "#c51b7d"
            ],
            [
             0.2,
             "#de77ae"
            ],
            [
             0.3,
             "#f1b6da"
            ],
            [
             0.4,
             "#fde0ef"
            ],
            [
             0.5,
             "#f7f7f7"
            ],
            [
             0.6,
             "#e6f5d0"
            ],
            [
             0.7,
             "#b8e186"
            ],
            [
             0.8,
             "#7fbc41"
            ],
            [
             0.9,
             "#4d9221"
            ],
            [
             1,
             "#276419"
            ]
           ],
           "sequential": [
            [
             0,
             "#0d0887"
            ],
            [
             0.1111111111111111,
             "#46039f"
            ],
            [
             0.2222222222222222,
             "#7201a8"
            ],
            [
             0.3333333333333333,
             "#9c179e"
            ],
            [
             0.4444444444444444,
             "#bd3786"
            ],
            [
             0.5555555555555556,
             "#d8576b"
            ],
            [
             0.6666666666666666,
             "#ed7953"
            ],
            [
             0.7777777777777778,
             "#fb9f3a"
            ],
            [
             0.8888888888888888,
             "#fdca26"
            ],
            [
             1,
             "#f0f921"
            ]
           ],
           "sequentialminus": [
            [
             0,
             "#0d0887"
            ],
            [
             0.1111111111111111,
             "#46039f"
            ],
            [
             0.2222222222222222,
             "#7201a8"
            ],
            [
             0.3333333333333333,
             "#9c179e"
            ],
            [
             0.4444444444444444,
             "#bd3786"
            ],
            [
             0.5555555555555556,
             "#d8576b"
            ],
            [
             0.6666666666666666,
             "#ed7953"
            ],
            [
             0.7777777777777778,
             "#fb9f3a"
            ],
            [
             0.8888888888888888,
             "#fdca26"
            ],
            [
             1,
             "#f0f921"
            ]
           ]
          },
          "colorway": [
           "#636efa",
           "#EF553B",
           "#00cc96",
           "#ab63fa",
           "#FFA15A",
           "#19d3f3",
           "#FF6692",
           "#B6E880",
           "#FF97FF",
           "#FECB52"
          ],
          "font": {
           "color": "#2a3f5f"
          },
          "geo": {
           "bgcolor": "white",
           "lakecolor": "white",
           "landcolor": "#E5ECF6",
           "showlakes": true,
           "showland": true,
           "subunitcolor": "white"
          },
          "hoverlabel": {
           "align": "left"
          },
          "hovermode": "closest",
          "mapbox": {
           "style": "light"
          },
          "paper_bgcolor": "white",
          "plot_bgcolor": "#E5ECF6",
          "polar": {
           "angularaxis": {
            "gridcolor": "white",
            "linecolor": "white",
            "ticks": ""
           },
           "bgcolor": "#E5ECF6",
           "radialaxis": {
            "gridcolor": "white",
            "linecolor": "white",
            "ticks": ""
           }
          },
          "scene": {
           "xaxis": {
            "backgroundcolor": "#E5ECF6",
            "gridcolor": "white",
            "gridwidth": 2,
            "linecolor": "white",
            "showbackground": true,
            "ticks": "",
            "zerolinecolor": "white"
           },
           "yaxis": {
            "backgroundcolor": "#E5ECF6",
            "gridcolor": "white",
            "gridwidth": 2,
            "linecolor": "white",
            "showbackground": true,
            "ticks": "",
            "zerolinecolor": "white"
           },
           "zaxis": {
            "backgroundcolor": "#E5ECF6",
            "gridcolor": "white",
            "gridwidth": 2,
            "linecolor": "white",
            "showbackground": true,
            "ticks": "",
            "zerolinecolor": "white"
           }
          },
          "shapedefaults": {
           "line": {
            "color": "#2a3f5f"
           }
          },
          "ternary": {
           "aaxis": {
            "gridcolor": "white",
            "linecolor": "white",
            "ticks": ""
           },
           "baxis": {
            "gridcolor": "white",
            "linecolor": "white",
            "ticks": ""
           },
           "bgcolor": "#E5ECF6",
           "caxis": {
            "gridcolor": "white",
            "linecolor": "white",
            "ticks": ""
           }
          },
          "title": {
           "x": 0.05
          },
          "xaxis": {
           "automargin": true,
           "gridcolor": "white",
           "linecolor": "white",
           "ticks": "",
           "title": {
            "standoff": 15
           },
           "zerolinecolor": "white",
           "zerolinewidth": 2
          },
          "yaxis": {
           "automargin": true,
           "gridcolor": "white",
           "linecolor": "white",
           "ticks": "",
           "title": {
            "standoff": 15
           },
           "zerolinecolor": "white",
           "zerolinewidth": 2
          }
         }
        },
        "title": {
         "text": "USA VS Russian Federation launches"
        }
       }
      }
     },
     "metadata": {},
     "output_type": "display_data"
    }
   ],
   "source": [
    "fig = px.pie(launches_us_vs_rassia_grouped, values='index', names='Country', title='USA VS Russian Federation launches')\n",
    "fig.show()"
   ]
  },
  {
   "cell_type": "markdown",
   "metadata": {
    "id": "0C29Zz4xa-rA",
    "papermill": {
     "duration": 0.052921,
     "end_time": "2020-10-20T21:34:14.340085",
     "exception": false,
     "start_time": "2020-10-20T21:34:14.287164",
     "status": "completed"
    },
    "tags": []
   },
   "source": [
    "# Total Number of Launches Year-On-Year by the Two Superpowers"
   ]
  },
  {
   "cell_type": "code",
   "execution_count": 346,
   "metadata": {
    "id": "9ISKvOiCrS73"
   },
   "outputs": [],
   "source": [
    "launches_us_vs_rassia_YoY = launches_us_vs_rassia.groupby(['Year', 'Country']).size().reset_index(name='Launch_Count')"
   ]
  },
  {
   "cell_type": "code",
   "execution_count": 347,
   "metadata": {
    "id": "oCc7VTzGrTK-"
   },
   "outputs": [
    {
     "data": {
      "application/vnd.plotly.v1+json": {
       "config": {
        "plotlyServerURL": "https://plot.ly"
       },
       "data": [
        {
         "customdata": [
          [
           "USA"
          ],
          [
           "USA"
          ],
          [
           "USA"
          ],
          [
           "USA"
          ],
          [
           "USA"
          ],
          [
           "USA"
          ],
          [
           "USA"
          ],
          [
           "USA"
          ],
          [
           "USA"
          ],
          [
           "USA"
          ],
          [
           "USA"
          ],
          [
           "USA"
          ],
          [
           "USA"
          ],
          [
           "USA"
          ],
          [
           "USA"
          ],
          [
           "USA"
          ],
          [
           "USA"
          ],
          [
           "USA"
          ],
          [
           "USA"
          ],
          [
           "USA"
          ],
          [
           "USA"
          ],
          [
           "USA"
          ],
          [
           "USA"
          ],
          [
           "USA"
          ],
          [
           "USA"
          ],
          [
           "USA"
          ],
          [
           "USA"
          ],
          [
           "USA"
          ],
          [
           "USA"
          ],
          [
           "USA"
          ],
          [
           "USA"
          ],
          [
           "USA"
          ],
          [
           "USA"
          ],
          [
           "USA"
          ],
          [
           "USA"
          ],
          [
           "USA"
          ],
          [
           "USA"
          ],
          [
           "USA"
          ],
          [
           "USA"
          ],
          [
           "USA"
          ],
          [
           "USA"
          ],
          [
           "USA"
          ],
          [
           "USA"
          ],
          [
           "USA"
          ],
          [
           "USA"
          ],
          [
           "USA"
          ],
          [
           "USA"
          ],
          [
           "USA"
          ],
          [
           "USA"
          ]
         ],
         "hovertemplate": "Country=%{customdata[0]}<br>Year=%{x}<br>Launch_Count=%{y}<extra></extra>",
         "legendgroup": "USA",
         "marker": {
          "color": "#636efa",
          "pattern": {
           "shape": ""
          }
         },
         "name": "USA",
         "orientation": "v",
         "showlegend": true,
         "textposition": "auto",
         "type": "bar",
         "x": {
          "_inputArray": {
           "0": 1964,
           "1": 1965,
           "10": 1981,
           "11": 1982,
           "12": 1983,
           "13": 1984,
           "14": 1985,
           "15": 1986,
           "16": 1988,
           "17": 1989,
           "18": 1990,
           "19": 1991,
           "2": 1966,
           "20": 1992,
           "21": 1993,
           "22": 1994,
           "23": 1995,
           "24": 1996,
           "25": 1997,
           "26": 1998,
           "27": 1999,
           "28": 2000,
           "29": 2001,
           "3": 1967,
           "30": 2002,
           "31": 2003,
           "32": 2004,
           "33": 2005,
           "34": 2006,
           "35": 2007,
           "36": 2008,
           "37": 2009,
           "38": 2010,
           "39": 2011,
           "4": 1968,
           "40": 2012,
           "41": 2013,
           "42": 2014,
           "43": 2015,
           "44": 2016,
           "45": 2017,
           "46": 2018,
           "47": 2019,
           "48": 2020,
           "5": 1969,
           "6": 1970,
           "7": 1971,
           "8": 1972,
           "9": 1973,
           "bdata": "rAcAAK0HAACuBwAArwcAALAHAACxBwAAsgcAALMHAAC0BwAAtQcAAL0HAAC+BwAAvwcAAMAHAADBBwAAwgcAAMQHAADFBwAAxgcAAMcHAADIBwAAyQcAAMoHAADLBwAAzAcAAM0HAADOBwAAzwcAANAHAADRBwAA0gcAANMHAADUBwAA1QcAANYHAADXBwAA2AcAANkHAADaBwAA2wcAANwHAADdBwAA3gcAAN8HAADgBwAA4QcAAOIHAADjBwAA5AcAAA==",
           "dtype": "i4",
           "shape": "49"
          },
          "bdata": "rAcAAK0HAACuBwAArwcAALAHAACxBwAAsgcAALMHAAC0BwAAtQcAAL0HAAC+BwAAvwcAAMAHAADBBwAAwgcAAMQHAADFBwAAxgcAAMcHAADIBwAAyQcAAMoHAADLBwAAzAcAAM0HAADOBwAAzwcAANAHAADRBwAA0gcAANMHAADUBwAA1QcAANYHAADXBwAA2AcAANkHAADaBwAA2wcAANwHAADdBwAA3gcAAN8HAADgBwAA4QcAAOIHAADjBwAA5AcAAA==",
          "dtype": "i4"
         },
         "xaxis": "x",
         "y": {
          "_inputArray": {
           "0": 2,
           "1": 2,
           "10": 2,
           "11": 3,
           "12": 4,
           "13": 5,
           "14": 9,
           "15": 2,
           "16": 3,
           "17": 6,
           "18": 10,
           "19": 7,
           "2": 3,
           "20": 10,
           "21": 10,
           "22": 12,
           "23": 10,
           "24": 12,
           "25": 14,
           "26": 14,
           "27": 9,
           "28": 11,
           "29": 7,
           "3": 7,
           "30": 9,
           "31": 11,
           "32": 3,
           "33": 6,
           "34": 12,
           "35": 11,
           "36": 10,
           "37": 16,
           "38": 14,
           "39": 15,
           "4": 10,
           "40": 11,
           "41": 17,
           "42": 22,
           "43": 17,
           "44": 21,
           "45": 27,
           "46": 29,
           "47": 19,
           "48": 20,
           "5": 8,
           "6": 1,
           "7": 2,
           "8": 2,
           "9": 1,
           "bdata": "AgIDBwoIAQICAQIDBAUJAgMGCgcKCgwKDA4OCQsHCQsDBgwLChAODwsRFhEVGx0TFA==",
           "dtype": "i1",
           "shape": "49"
          },
          "bdata": "AgIDBwoIAQICAQIDBAUJAgMGCgcKCgwKDA4OCQsHCQsDBgwLChAODwsRFhEVGx0TFA==",
          "dtype": "i1"
         },
         "yaxis": "y"
        },
        {
         "customdata": [
          [
           "Russian Federation"
          ],
          [
           "Russian Federation"
          ],
          [
           "Russian Federation"
          ],
          [
           "Russian Federation"
          ],
          [
           "Russian Federation"
          ],
          [
           "Russian Federation"
          ],
          [
           "Russian Federation"
          ],
          [
           "Russian Federation"
          ],
          [
           "Russian Federation"
          ],
          [
           "Russian Federation"
          ],
          [
           "Russian Federation"
          ],
          [
           "Russian Federation"
          ],
          [
           "Russian Federation"
          ],
          [
           "Russian Federation"
          ],
          [
           "Russian Federation"
          ],
          [
           "Russian Federation"
          ],
          [
           "Russian Federation"
          ],
          [
           "Russian Federation"
          ],
          [
           "Russian Federation"
          ],
          [
           "Russian Federation"
          ]
         ],
         "hovertemplate": "Country=%{customdata[0]}<br>Year=%{x}<br>Launch_Count=%{y}<extra></extra>",
         "legendgroup": "Russian Federation",
         "marker": {
          "color": "#EF553B",
          "pattern": {
           "shape": ""
          }
         },
         "name": "Russian Federation",
         "orientation": "v",
         "showlegend": true,
         "textposition": "auto",
         "type": "bar",
         "x": {
          "_inputArray": {
           "0": 2000,
           "1": 2002,
           "10": 2011,
           "11": 2012,
           "12": 2013,
           "13": 2014,
           "14": 2015,
           "15": 2016,
           "16": 2017,
           "17": 2018,
           "18": 2019,
           "19": 2020,
           "2": 2003,
           "3": 2004,
           "4": 2005,
           "5": 2006,
           "6": 2007,
           "7": 2008,
           "8": 2009,
           "9": 2010,
           "bdata": "0AcAANIHAADTBwAA1AcAANUHAADWBwAA1wcAANgHAADZBwAA2gcAANsHAADcBwAA3QcAAN4HAADfBwAA4AcAAOEHAADiBwAA4wcAAOQHAAA=",
           "dtype": "i4",
           "shape": "20"
          },
          "bdata": "0AcAANIHAADTBwAA1AcAANUHAADWBwAA1wcAANgHAADZBwAA2gcAANsHAADcBwAA3QcAAN4HAADfBwAA4AcAAOEHAADiBwAA4wcAAOQHAAA=",
          "dtype": "i4"
         },
         "xaxis": "x",
         "y": {
          "_inputArray": {
           "0": 1,
           "1": 2,
           "10": 2,
           "11": 1,
           "12": 6,
           "13": 4,
           "14": 3,
           "15": 5,
           "16": 2,
           "17": 6,
           "18": 5,
           "19": 1,
           "2": 2,
           "3": 1,
           "4": 2,
           "5": 2,
           "6": 1,
           "7": 2,
           "8": 3,
           "9": 3,
           "bdata": "AQICAQICAQIDAwIBBgQDBQIGBQE=",
           "dtype": "i1",
           "shape": "20"
          },
          "bdata": "AQICAQICAQIDAwIBBgQDBQIGBQE=",
          "dtype": "i1"
         },
         "yaxis": "y"
        }
       ],
       "layout": {
        "barmode": "relative",
        "height": 500,
        "legend": {
         "title": {
          "text": "Country"
         },
         "tracegroupgap": 0
        },
        "margin": {
         "t": 60
        },
        "template": {
         "data": {
          "bar": [
           {
            "error_x": {
             "color": "#2a3f5f"
            },
            "error_y": {
             "color": "#2a3f5f"
            },
            "marker": {
             "line": {
              "color": "white",
              "width": 0.5
             },
             "pattern": {
              "fillmode": "overlay",
              "size": 10,
              "solidity": 0.2
             }
            },
            "type": "bar"
           }
          ],
          "barpolar": [
           {
            "marker": {
             "line": {
              "color": "white",
              "width": 0.5
             },
             "pattern": {
              "fillmode": "overlay",
              "size": 10,
              "solidity": 0.2
             }
            },
            "type": "barpolar"
           }
          ],
          "carpet": [
           {
            "aaxis": {
             "endlinecolor": "#2a3f5f",
             "gridcolor": "#C8D4E3",
             "linecolor": "#C8D4E3",
             "minorgridcolor": "#C8D4E3",
             "startlinecolor": "#2a3f5f"
            },
            "baxis": {
             "endlinecolor": "#2a3f5f",
             "gridcolor": "#C8D4E3",
             "linecolor": "#C8D4E3",
             "minorgridcolor": "#C8D4E3",
             "startlinecolor": "#2a3f5f"
            },
            "type": "carpet"
           }
          ],
          "choropleth": [
           {
            "colorbar": {
             "outlinewidth": 0,
             "ticks": ""
            },
            "type": "choropleth"
           }
          ],
          "contour": [
           {
            "colorbar": {
             "outlinewidth": 0,
             "ticks": ""
            },
            "colorscale": [
             [
              0,
              "#0d0887"
             ],
             [
              0.1111111111111111,
              "#46039f"
             ],
             [
              0.2222222222222222,
              "#7201a8"
             ],
             [
              0.3333333333333333,
              "#9c179e"
             ],
             [
              0.4444444444444444,
              "#bd3786"
             ],
             [
              0.5555555555555556,
              "#d8576b"
             ],
             [
              0.6666666666666666,
              "#ed7953"
             ],
             [
              0.7777777777777778,
              "#fb9f3a"
             ],
             [
              0.8888888888888888,
              "#fdca26"
             ],
             [
              1,
              "#f0f921"
             ]
            ],
            "type": "contour"
           }
          ],
          "contourcarpet": [
           {
            "colorbar": {
             "outlinewidth": 0,
             "ticks": ""
            },
            "type": "contourcarpet"
           }
          ],
          "heatmap": [
           {
            "colorbar": {
             "outlinewidth": 0,
             "ticks": ""
            },
            "colorscale": [
             [
              0,
              "#0d0887"
             ],
             [
              0.1111111111111111,
              "#46039f"
             ],
             [
              0.2222222222222222,
              "#7201a8"
             ],
             [
              0.3333333333333333,
              "#9c179e"
             ],
             [
              0.4444444444444444,
              "#bd3786"
             ],
             [
              0.5555555555555556,
              "#d8576b"
             ],
             [
              0.6666666666666666,
              "#ed7953"
             ],
             [
              0.7777777777777778,
              "#fb9f3a"
             ],
             [
              0.8888888888888888,
              "#fdca26"
             ],
             [
              1,
              "#f0f921"
             ]
            ],
            "type": "heatmap"
           }
          ],
          "histogram": [
           {
            "marker": {
             "pattern": {
              "fillmode": "overlay",
              "size": 10,
              "solidity": 0.2
             }
            },
            "type": "histogram"
           }
          ],
          "histogram2d": [
           {
            "colorbar": {
             "outlinewidth": 0,
             "ticks": ""
            },
            "colorscale": [
             [
              0,
              "#0d0887"
             ],
             [
              0.1111111111111111,
              "#46039f"
             ],
             [
              0.2222222222222222,
              "#7201a8"
             ],
             [
              0.3333333333333333,
              "#9c179e"
             ],
             [
              0.4444444444444444,
              "#bd3786"
             ],
             [
              0.5555555555555556,
              "#d8576b"
             ],
             [
              0.6666666666666666,
              "#ed7953"
             ],
             [
              0.7777777777777778,
              "#fb9f3a"
             ],
             [
              0.8888888888888888,
              "#fdca26"
             ],
             [
              1,
              "#f0f921"
             ]
            ],
            "type": "histogram2d"
           }
          ],
          "histogram2dcontour": [
           {
            "colorbar": {
             "outlinewidth": 0,
             "ticks": ""
            },
            "colorscale": [
             [
              0,
              "#0d0887"
             ],
             [
              0.1111111111111111,
              "#46039f"
             ],
             [
              0.2222222222222222,
              "#7201a8"
             ],
             [
              0.3333333333333333,
              "#9c179e"
             ],
             [
              0.4444444444444444,
              "#bd3786"
             ],
             [
              0.5555555555555556,
              "#d8576b"
             ],
             [
              0.6666666666666666,
              "#ed7953"
             ],
             [
              0.7777777777777778,
              "#fb9f3a"
             ],
             [
              0.8888888888888888,
              "#fdca26"
             ],
             [
              1,
              "#f0f921"
             ]
            ],
            "type": "histogram2dcontour"
           }
          ],
          "mesh3d": [
           {
            "colorbar": {
             "outlinewidth": 0,
             "ticks": ""
            },
            "type": "mesh3d"
           }
          ],
          "parcoords": [
           {
            "line": {
             "colorbar": {
              "outlinewidth": 0,
              "ticks": ""
             }
            },
            "type": "parcoords"
           }
          ],
          "pie": [
           {
            "automargin": true,
            "type": "pie"
           }
          ],
          "scatter": [
           {
            "fillpattern": {
             "fillmode": "overlay",
             "size": 10,
             "solidity": 0.2
            },
            "type": "scatter"
           }
          ],
          "scatter3d": [
           {
            "line": {
             "colorbar": {
              "outlinewidth": 0,
              "ticks": ""
             }
            },
            "marker": {
             "colorbar": {
              "outlinewidth": 0,
              "ticks": ""
             }
            },
            "type": "scatter3d"
           }
          ],
          "scattercarpet": [
           {
            "marker": {
             "colorbar": {
              "outlinewidth": 0,
              "ticks": ""
             }
            },
            "type": "scattercarpet"
           }
          ],
          "scattergeo": [
           {
            "marker": {
             "colorbar": {
              "outlinewidth": 0,
              "ticks": ""
             }
            },
            "type": "scattergeo"
           }
          ],
          "scattergl": [
           {
            "marker": {
             "colorbar": {
              "outlinewidth": 0,
              "ticks": ""
             }
            },
            "type": "scattergl"
           }
          ],
          "scattermap": [
           {
            "marker": {
             "colorbar": {
              "outlinewidth": 0,
              "ticks": ""
             }
            },
            "type": "scattermap"
           }
          ],
          "scattermapbox": [
           {
            "marker": {
             "colorbar": {
              "outlinewidth": 0,
              "ticks": ""
             }
            },
            "type": "scattermapbox"
           }
          ],
          "scatterpolar": [
           {
            "marker": {
             "colorbar": {
              "outlinewidth": 0,
              "ticks": ""
             }
            },
            "type": "scatterpolar"
           }
          ],
          "scatterpolargl": [
           {
            "marker": {
             "colorbar": {
              "outlinewidth": 0,
              "ticks": ""
             }
            },
            "type": "scatterpolargl"
           }
          ],
          "scatterternary": [
           {
            "marker": {
             "colorbar": {
              "outlinewidth": 0,
              "ticks": ""
             }
            },
            "type": "scatterternary"
           }
          ],
          "surface": [
           {
            "colorbar": {
             "outlinewidth": 0,
             "ticks": ""
            },
            "colorscale": [
             [
              0,
              "#0d0887"
             ],
             [
              0.1111111111111111,
              "#46039f"
             ],
             [
              0.2222222222222222,
              "#7201a8"
             ],
             [
              0.3333333333333333,
              "#9c179e"
             ],
             [
              0.4444444444444444,
              "#bd3786"
             ],
             [
              0.5555555555555556,
              "#d8576b"
             ],
             [
              0.6666666666666666,
              "#ed7953"
             ],
             [
              0.7777777777777778,
              "#fb9f3a"
             ],
             [
              0.8888888888888888,
              "#fdca26"
             ],
             [
              1,
              "#f0f921"
             ]
            ],
            "type": "surface"
           }
          ],
          "table": [
           {
            "cells": {
             "fill": {
              "color": "#EBF0F8"
             },
             "line": {
              "color": "white"
             }
            },
            "header": {
             "fill": {
              "color": "#C8D4E3"
             },
             "line": {
              "color": "white"
             }
            },
            "type": "table"
           }
          ]
         },
         "layout": {
          "annotationdefaults": {
           "arrowcolor": "#2a3f5f",
           "arrowhead": 0,
           "arrowwidth": 1
          },
          "autotypenumbers": "strict",
          "coloraxis": {
           "colorbar": {
            "outlinewidth": 0,
            "ticks": ""
           }
          },
          "colorscale": {
           "diverging": [
            [
             0,
             "#8e0152"
            ],
            [
             0.1,
             "#c51b7d"
            ],
            [
             0.2,
             "#de77ae"
            ],
            [
             0.3,
             "#f1b6da"
            ],
            [
             0.4,
             "#fde0ef"
            ],
            [
             0.5,
             "#f7f7f7"
            ],
            [
             0.6,
             "#e6f5d0"
            ],
            [
             0.7,
             "#b8e186"
            ],
            [
             0.8,
             "#7fbc41"
            ],
            [
             0.9,
             "#4d9221"
            ],
            [
             1,
             "#276419"
            ]
           ],
           "sequential": [
            [
             0,
             "#0d0887"
            ],
            [
             0.1111111111111111,
             "#46039f"
            ],
            [
             0.2222222222222222,
             "#7201a8"
            ],
            [
             0.3333333333333333,
             "#9c179e"
            ],
            [
             0.4444444444444444,
             "#bd3786"
            ],
            [
             0.5555555555555556,
             "#d8576b"
            ],
            [
             0.6666666666666666,
             "#ed7953"
            ],
            [
             0.7777777777777778,
             "#fb9f3a"
            ],
            [
             0.8888888888888888,
             "#fdca26"
            ],
            [
             1,
             "#f0f921"
            ]
           ],
           "sequentialminus": [
            [
             0,
             "#0d0887"
            ],
            [
             0.1111111111111111,
             "#46039f"
            ],
            [
             0.2222222222222222,
             "#7201a8"
            ],
            [
             0.3333333333333333,
             "#9c179e"
            ],
            [
             0.4444444444444444,
             "#bd3786"
            ],
            [
             0.5555555555555556,
             "#d8576b"
            ],
            [
             0.6666666666666666,
             "#ed7953"
            ],
            [
             0.7777777777777778,
             "#fb9f3a"
            ],
            [
             0.8888888888888888,
             "#fdca26"
            ],
            [
             1,
             "#f0f921"
            ]
           ]
          },
          "colorway": [
           "#636efa",
           "#EF553B",
           "#00cc96",
           "#ab63fa",
           "#FFA15A",
           "#19d3f3",
           "#FF6692",
           "#B6E880",
           "#FF97FF",
           "#FECB52"
          ],
          "font": {
           "color": "#2a3f5f"
          },
          "geo": {
           "bgcolor": "white",
           "lakecolor": "white",
           "landcolor": "white",
           "showlakes": true,
           "showland": true,
           "subunitcolor": "#C8D4E3"
          },
          "hoverlabel": {
           "align": "left"
          },
          "hovermode": "closest",
          "mapbox": {
           "style": "light"
          },
          "paper_bgcolor": "white",
          "plot_bgcolor": "white",
          "polar": {
           "angularaxis": {
            "gridcolor": "#EBF0F8",
            "linecolor": "#EBF0F8",
            "ticks": ""
           },
           "bgcolor": "white",
           "radialaxis": {
            "gridcolor": "#EBF0F8",
            "linecolor": "#EBF0F8",
            "ticks": ""
           }
          },
          "scene": {
           "xaxis": {
            "backgroundcolor": "white",
            "gridcolor": "#DFE8F3",
            "gridwidth": 2,
            "linecolor": "#EBF0F8",
            "showbackground": true,
            "ticks": "",
            "zerolinecolor": "#EBF0F8"
           },
           "yaxis": {
            "backgroundcolor": "white",
            "gridcolor": "#DFE8F3",
            "gridwidth": 2,
            "linecolor": "#EBF0F8",
            "showbackground": true,
            "ticks": "",
            "zerolinecolor": "#EBF0F8"
           },
           "zaxis": {
            "backgroundcolor": "white",
            "gridcolor": "#DFE8F3",
            "gridwidth": 2,
            "linecolor": "#EBF0F8",
            "showbackground": true,
            "ticks": "",
            "zerolinecolor": "#EBF0F8"
           }
          },
          "shapedefaults": {
           "line": {
            "color": "#2a3f5f"
           }
          },
          "ternary": {
           "aaxis": {
            "gridcolor": "#DFE8F3",
            "linecolor": "#A2B1C6",
            "ticks": ""
           },
           "baxis": {
            "gridcolor": "#DFE8F3",
            "linecolor": "#A2B1C6",
            "ticks": ""
           },
           "bgcolor": "white",
           "caxis": {
            "gridcolor": "#DFE8F3",
            "linecolor": "#A2B1C6",
            "ticks": ""
           }
          },
          "title": {
           "x": 0.05
          },
          "xaxis": {
           "automargin": true,
           "gridcolor": "#EBF0F8",
           "linecolor": "#EBF0F8",
           "ticks": "",
           "title": {
            "standoff": 15
           },
           "zerolinecolor": "#EBF0F8",
           "zerolinewidth": 2
          },
          "yaxis": {
           "automargin": true,
           "gridcolor": "#EBF0F8",
           "linecolor": "#EBF0F8",
           "ticks": "",
           "title": {
            "standoff": 15
           },
           "zerolinecolor": "#EBF0F8",
           "zerolinewidth": 2
          }
         }
        },
        "width": 1100,
        "xaxis": {
         "anchor": "y",
         "autorange": true,
         "domain": [
          0,
          1
         ],
         "range": [
          1963.5,
          2020.5
         ],
         "title": {
          "text": "Year"
         },
         "type": "linear"
        },
        "yaxis": {
         "anchor": "x",
         "autorange": true,
         "domain": [
          0,
          1
         ],
         "range": [
          0,
          36.8421052631579
         ],
         "title": {
          "text": "Launch_Count"
         },
         "type": "linear"
        }
       }
      }
     },
     "metadata": {},
     "output_type": "display_data"
    }
   ],
   "source": [
    "fig = px.bar(launches_us_vs_rassia_YoY, x='Year', y='Launch_Count',\n",
    "             hover_data=['Country'], color='Country',\n",
    "             labels={'pop':'population of Oceania'}, height=400)\n",
    "fig.update_layout(\n",
    "    height=500,\n",
    "    width=1100,\n",
    "    template='plotly_white'\n",
    ")\n",
    "fig.show()"
   ]
  },
  {
   "cell_type": "markdown",
   "metadata": {
    "id": "eWv4iZmra-rE",
    "papermill": {
     "duration": 0.079311,
     "end_time": "2020-10-20T21:34:14.933058",
     "exception": false,
     "start_time": "2020-10-20T21:34:14.853747",
     "status": "completed"
    },
    "tags": []
   },
   "source": [
    "# Total Number of Mission Failures Year on Year."
   ]
  },
  {
   "cell_type": "code",
   "execution_count": 348,
   "metadata": {
    "id": "I-Zss5-Mre-4"
   },
   "outputs": [],
   "source": [
    "failures_yoy = cleaned_data.loc[cleaned_data['Mission_Status'] == 'Failure'].groupby('Year').size().reset_index(name=\"failures_count\")\n"
   ]
  },
  {
   "cell_type": "code",
   "execution_count": 349,
   "metadata": {
    "id": "7Ps9Iq_crfYl"
   },
   "outputs": [
    {
     "data": {
      "application/vnd.plotly.v1+json": {
       "config": {
        "plotlyServerURL": "https://plot.ly"
       },
       "data": [
        {
         "hovertemplate": "Year=%{x}<br>failures_count=%{y}<extra></extra>",
         "legendgroup": "",
         "marker": {
          "color": "#636efa",
          "pattern": {
           "shape": ""
          }
         },
         "name": "",
         "orientation": "v",
         "showlegend": false,
         "textposition": "outside",
         "texttemplate": "%{y}",
         "type": "bar",
         "x": {
          "_inputArray": {
           "0": 1964,
           "1": 1986,
           "10": 2005,
           "11": 2006,
           "12": 2007,
           "13": 2008,
           "14": 2009,
           "15": 2010,
           "16": 2011,
           "17": 2013,
           "18": 2014,
           "19": 2015,
           "2": 1990,
           "20": 2016,
           "21": 2017,
           "22": 2019,
           "23": 2020,
           "3": 1993,
           "4": 1994,
           "5": 1995,
           "6": 1996,
           "7": 2001,
           "8": 2002,
           "9": 2003,
           "bdata": "rAcAAMIHAADGBwAAyQcAAMoHAADLBwAAzAcAANEHAADSBwAA0wcAANUHAADWBwAA1wcAANgHAADZBwAA2gcAANsHAADdBwAA3gcAAN8HAADgBwAA4QcAAOMHAADkBwAA",
           "dtype": "i4",
           "shape": "24"
          },
          "bdata": "rAcAAMIHAADGBwAAyQcAAMoHAADLBwAAzAcAANEHAADSBwAA0wcAANUHAADWBwAA1wcAANgHAADZBwAA2gcAANsHAADdBwAA3gcAAN8HAADgBwAA4QcAAOMHAADkBwAA",
          "dtype": "i4"
         },
         "xaxis": "x",
         "y": {
          "_inputArray": {
           "0": 1,
           "1": 1,
           "10": 1,
           "11": 3,
           "12": 1,
           "13": 1,
           "14": 1,
           "15": 2,
           "16": 1,
           "17": 1,
           "18": 1,
           "19": 1,
           "2": 1,
           "20": 1,
           "21": 2,
           "22": 2,
           "23": 4,
           "3": 2,
           "4": 1,
           "5": 2,
           "6": 1,
           "7": 1,
           "8": 1,
           "9": 1,
           "bdata": "AQEBAgECAQEBAQEDAQEBAgEBAQEBAgIE",
           "dtype": "i1",
           "shape": "24"
          },
          "bdata": "AQEBAgECAQEBAQEDAQEBAgEBAQEBAgIE",
          "dtype": "i1"
         },
         "yaxis": "y"
        }
       ],
       "layout": {
        "barmode": "relative",
        "height": 500,
        "legend": {
         "tracegroupgap": 0
        },
        "margin": {
         "t": 60
        },
        "template": {
         "data": {
          "bar": [
           {
            "error_x": {
             "color": "#2a3f5f"
            },
            "error_y": {
             "color": "#2a3f5f"
            },
            "marker": {
             "line": {
              "color": "white",
              "width": 0.5
             },
             "pattern": {
              "fillmode": "overlay",
              "size": 10,
              "solidity": 0.2
             }
            },
            "type": "bar"
           }
          ],
          "barpolar": [
           {
            "marker": {
             "line": {
              "color": "white",
              "width": 0.5
             },
             "pattern": {
              "fillmode": "overlay",
              "size": 10,
              "solidity": 0.2
             }
            },
            "type": "barpolar"
           }
          ],
          "carpet": [
           {
            "aaxis": {
             "endlinecolor": "#2a3f5f",
             "gridcolor": "#C8D4E3",
             "linecolor": "#C8D4E3",
             "minorgridcolor": "#C8D4E3",
             "startlinecolor": "#2a3f5f"
            },
            "baxis": {
             "endlinecolor": "#2a3f5f",
             "gridcolor": "#C8D4E3",
             "linecolor": "#C8D4E3",
             "minorgridcolor": "#C8D4E3",
             "startlinecolor": "#2a3f5f"
            },
            "type": "carpet"
           }
          ],
          "choropleth": [
           {
            "colorbar": {
             "outlinewidth": 0,
             "ticks": ""
            },
            "type": "choropleth"
           }
          ],
          "contour": [
           {
            "colorbar": {
             "outlinewidth": 0,
             "ticks": ""
            },
            "colorscale": [
             [
              0,
              "#0d0887"
             ],
             [
              0.1111111111111111,
              "#46039f"
             ],
             [
              0.2222222222222222,
              "#7201a8"
             ],
             [
              0.3333333333333333,
              "#9c179e"
             ],
             [
              0.4444444444444444,
              "#bd3786"
             ],
             [
              0.5555555555555556,
              "#d8576b"
             ],
             [
              0.6666666666666666,
              "#ed7953"
             ],
             [
              0.7777777777777778,
              "#fb9f3a"
             ],
             [
              0.8888888888888888,
              "#fdca26"
             ],
             [
              1,
              "#f0f921"
             ]
            ],
            "type": "contour"
           }
          ],
          "contourcarpet": [
           {
            "colorbar": {
             "outlinewidth": 0,
             "ticks": ""
            },
            "type": "contourcarpet"
           }
          ],
          "heatmap": [
           {
            "colorbar": {
             "outlinewidth": 0,
             "ticks": ""
            },
            "colorscale": [
             [
              0,
              "#0d0887"
             ],
             [
              0.1111111111111111,
              "#46039f"
             ],
             [
              0.2222222222222222,
              "#7201a8"
             ],
             [
              0.3333333333333333,
              "#9c179e"
             ],
             [
              0.4444444444444444,
              "#bd3786"
             ],
             [
              0.5555555555555556,
              "#d8576b"
             ],
             [
              0.6666666666666666,
              "#ed7953"
             ],
             [
              0.7777777777777778,
              "#fb9f3a"
             ],
             [
              0.8888888888888888,
              "#fdca26"
             ],
             [
              1,
              "#f0f921"
             ]
            ],
            "type": "heatmap"
           }
          ],
          "histogram": [
           {
            "marker": {
             "pattern": {
              "fillmode": "overlay",
              "size": 10,
              "solidity": 0.2
             }
            },
            "type": "histogram"
           }
          ],
          "histogram2d": [
           {
            "colorbar": {
             "outlinewidth": 0,
             "ticks": ""
            },
            "colorscale": [
             [
              0,
              "#0d0887"
             ],
             [
              0.1111111111111111,
              "#46039f"
             ],
             [
              0.2222222222222222,
              "#7201a8"
             ],
             [
              0.3333333333333333,
              "#9c179e"
             ],
             [
              0.4444444444444444,
              "#bd3786"
             ],
             [
              0.5555555555555556,
              "#d8576b"
             ],
             [
              0.6666666666666666,
              "#ed7953"
             ],
             [
              0.7777777777777778,
              "#fb9f3a"
             ],
             [
              0.8888888888888888,
              "#fdca26"
             ],
             [
              1,
              "#f0f921"
             ]
            ],
            "type": "histogram2d"
           }
          ],
          "histogram2dcontour": [
           {
            "colorbar": {
             "outlinewidth": 0,
             "ticks": ""
            },
            "colorscale": [
             [
              0,
              "#0d0887"
             ],
             [
              0.1111111111111111,
              "#46039f"
             ],
             [
              0.2222222222222222,
              "#7201a8"
             ],
             [
              0.3333333333333333,
              "#9c179e"
             ],
             [
              0.4444444444444444,
              "#bd3786"
             ],
             [
              0.5555555555555556,
              "#d8576b"
             ],
             [
              0.6666666666666666,
              "#ed7953"
             ],
             [
              0.7777777777777778,
              "#fb9f3a"
             ],
             [
              0.8888888888888888,
              "#fdca26"
             ],
             [
              1,
              "#f0f921"
             ]
            ],
            "type": "histogram2dcontour"
           }
          ],
          "mesh3d": [
           {
            "colorbar": {
             "outlinewidth": 0,
             "ticks": ""
            },
            "type": "mesh3d"
           }
          ],
          "parcoords": [
           {
            "line": {
             "colorbar": {
              "outlinewidth": 0,
              "ticks": ""
             }
            },
            "type": "parcoords"
           }
          ],
          "pie": [
           {
            "automargin": true,
            "type": "pie"
           }
          ],
          "scatter": [
           {
            "fillpattern": {
             "fillmode": "overlay",
             "size": 10,
             "solidity": 0.2
            },
            "type": "scatter"
           }
          ],
          "scatter3d": [
           {
            "line": {
             "colorbar": {
              "outlinewidth": 0,
              "ticks": ""
             }
            },
            "marker": {
             "colorbar": {
              "outlinewidth": 0,
              "ticks": ""
             }
            },
            "type": "scatter3d"
           }
          ],
          "scattercarpet": [
           {
            "marker": {
             "colorbar": {
              "outlinewidth": 0,
              "ticks": ""
             }
            },
            "type": "scattercarpet"
           }
          ],
          "scattergeo": [
           {
            "marker": {
             "colorbar": {
              "outlinewidth": 0,
              "ticks": ""
             }
            },
            "type": "scattergeo"
           }
          ],
          "scattergl": [
           {
            "marker": {
             "colorbar": {
              "outlinewidth": 0,
              "ticks": ""
             }
            },
            "type": "scattergl"
           }
          ],
          "scattermap": [
           {
            "marker": {
             "colorbar": {
              "outlinewidth": 0,
              "ticks": ""
             }
            },
            "type": "scattermap"
           }
          ],
          "scattermapbox": [
           {
            "marker": {
             "colorbar": {
              "outlinewidth": 0,
              "ticks": ""
             }
            },
            "type": "scattermapbox"
           }
          ],
          "scatterpolar": [
           {
            "marker": {
             "colorbar": {
              "outlinewidth": 0,
              "ticks": ""
             }
            },
            "type": "scatterpolar"
           }
          ],
          "scatterpolargl": [
           {
            "marker": {
             "colorbar": {
              "outlinewidth": 0,
              "ticks": ""
             }
            },
            "type": "scatterpolargl"
           }
          ],
          "scatterternary": [
           {
            "marker": {
             "colorbar": {
              "outlinewidth": 0,
              "ticks": ""
             }
            },
            "type": "scatterternary"
           }
          ],
          "surface": [
           {
            "colorbar": {
             "outlinewidth": 0,
             "ticks": ""
            },
            "colorscale": [
             [
              0,
              "#0d0887"
             ],
             [
              0.1111111111111111,
              "#46039f"
             ],
             [
              0.2222222222222222,
              "#7201a8"
             ],
             [
              0.3333333333333333,
              "#9c179e"
             ],
             [
              0.4444444444444444,
              "#bd3786"
             ],
             [
              0.5555555555555556,
              "#d8576b"
             ],
             [
              0.6666666666666666,
              "#ed7953"
             ],
             [
              0.7777777777777778,
              "#fb9f3a"
             ],
             [
              0.8888888888888888,
              "#fdca26"
             ],
             [
              1,
              "#f0f921"
             ]
            ],
            "type": "surface"
           }
          ],
          "table": [
           {
            "cells": {
             "fill": {
              "color": "#EBF0F8"
             },
             "line": {
              "color": "white"
             }
            },
            "header": {
             "fill": {
              "color": "#C8D4E3"
             },
             "line": {
              "color": "white"
             }
            },
            "type": "table"
           }
          ]
         },
         "layout": {
          "annotationdefaults": {
           "arrowcolor": "#2a3f5f",
           "arrowhead": 0,
           "arrowwidth": 1
          },
          "autotypenumbers": "strict",
          "coloraxis": {
           "colorbar": {
            "outlinewidth": 0,
            "ticks": ""
           }
          },
          "colorscale": {
           "diverging": [
            [
             0,
             "#8e0152"
            ],
            [
             0.1,
             "#c51b7d"
            ],
            [
             0.2,
             "#de77ae"
            ],
            [
             0.3,
             "#f1b6da"
            ],
            [
             0.4,
             "#fde0ef"
            ],
            [
             0.5,
             "#f7f7f7"
            ],
            [
             0.6,
             "#e6f5d0"
            ],
            [
             0.7,
             "#b8e186"
            ],
            [
             0.8,
             "#7fbc41"
            ],
            [
             0.9,
             "#4d9221"
            ],
            [
             1,
             "#276419"
            ]
           ],
           "sequential": [
            [
             0,
             "#0d0887"
            ],
            [
             0.1111111111111111,
             "#46039f"
            ],
            [
             0.2222222222222222,
             "#7201a8"
            ],
            [
             0.3333333333333333,
             "#9c179e"
            ],
            [
             0.4444444444444444,
             "#bd3786"
            ],
            [
             0.5555555555555556,
             "#d8576b"
            ],
            [
             0.6666666666666666,
             "#ed7953"
            ],
            [
             0.7777777777777778,
             "#fb9f3a"
            ],
            [
             0.8888888888888888,
             "#fdca26"
            ],
            [
             1,
             "#f0f921"
            ]
           ],
           "sequentialminus": [
            [
             0,
             "#0d0887"
            ],
            [
             0.1111111111111111,
             "#46039f"
            ],
            [
             0.2222222222222222,
             "#7201a8"
            ],
            [
             0.3333333333333333,
             "#9c179e"
            ],
            [
             0.4444444444444444,
             "#bd3786"
            ],
            [
             0.5555555555555556,
             "#d8576b"
            ],
            [
             0.6666666666666666,
             "#ed7953"
            ],
            [
             0.7777777777777778,
             "#fb9f3a"
            ],
            [
             0.8888888888888888,
             "#fdca26"
            ],
            [
             1,
             "#f0f921"
            ]
           ]
          },
          "colorway": [
           "#636efa",
           "#EF553B",
           "#00cc96",
           "#ab63fa",
           "#FFA15A",
           "#19d3f3",
           "#FF6692",
           "#B6E880",
           "#FF97FF",
           "#FECB52"
          ],
          "font": {
           "color": "#2a3f5f"
          },
          "geo": {
           "bgcolor": "white",
           "lakecolor": "white",
           "landcolor": "white",
           "showlakes": true,
           "showland": true,
           "subunitcolor": "#C8D4E3"
          },
          "hoverlabel": {
           "align": "left"
          },
          "hovermode": "closest",
          "mapbox": {
           "style": "light"
          },
          "paper_bgcolor": "white",
          "plot_bgcolor": "white",
          "polar": {
           "angularaxis": {
            "gridcolor": "#EBF0F8",
            "linecolor": "#EBF0F8",
            "ticks": ""
           },
           "bgcolor": "white",
           "radialaxis": {
            "gridcolor": "#EBF0F8",
            "linecolor": "#EBF0F8",
            "ticks": ""
           }
          },
          "scene": {
           "xaxis": {
            "backgroundcolor": "white",
            "gridcolor": "#DFE8F3",
            "gridwidth": 2,
            "linecolor": "#EBF0F8",
            "showbackground": true,
            "ticks": "",
            "zerolinecolor": "#EBF0F8"
           },
           "yaxis": {
            "backgroundcolor": "white",
            "gridcolor": "#DFE8F3",
            "gridwidth": 2,
            "linecolor": "#EBF0F8",
            "showbackground": true,
            "ticks": "",
            "zerolinecolor": "#EBF0F8"
           },
           "zaxis": {
            "backgroundcolor": "white",
            "gridcolor": "#DFE8F3",
            "gridwidth": 2,
            "linecolor": "#EBF0F8",
            "showbackground": true,
            "ticks": "",
            "zerolinecolor": "#EBF0F8"
           }
          },
          "shapedefaults": {
           "line": {
            "color": "#2a3f5f"
           }
          },
          "ternary": {
           "aaxis": {
            "gridcolor": "#DFE8F3",
            "linecolor": "#A2B1C6",
            "ticks": ""
           },
           "baxis": {
            "gridcolor": "#DFE8F3",
            "linecolor": "#A2B1C6",
            "ticks": ""
           },
           "bgcolor": "white",
           "caxis": {
            "gridcolor": "#DFE8F3",
            "linecolor": "#A2B1C6",
            "ticks": ""
           }
          },
          "title": {
           "x": 0.05
          },
          "xaxis": {
           "automargin": true,
           "gridcolor": "#EBF0F8",
           "linecolor": "#EBF0F8",
           "ticks": "",
           "title": {
            "standoff": 15
           },
           "zerolinecolor": "#EBF0F8",
           "zerolinewidth": 2
          },
          "yaxis": {
           "automargin": true,
           "gridcolor": "#EBF0F8",
           "linecolor": "#EBF0F8",
           "ticks": "",
           "title": {
            "standoff": 15
           },
           "zerolinecolor": "#EBF0F8",
           "zerolinewidth": 2
          }
         }
        },
        "width": 1100,
        "xaxis": {
         "anchor": "y",
         "autorange": true,
         "domain": [
          0,
          1
         ],
         "range": [
          1963.5,
          2020.5
         ],
         "title": {
          "text": "Year"
         },
         "type": "linear"
        },
        "yaxis": {
         "anchor": "x",
         "autorange": true,
         "domain": [
          0,
          1
         ],
         "range": [
          0,
          4.2105263157894735
         ],
         "title": {
          "text": "failures_count"
         },
         "type": "linear"
        }
       }
      }
     },
     "metadata": {},
     "output_type": "display_data"
    }
   ],
   "source": [
    "fig = px.bar(failures_yoy, x='Year', y='failures_count',\n",
    "            )\n",
    "fig.update_traces(texttemplate='%{y}',textposition='outside')\n",
    "fig.update_layout(\n",
    "    height=500,\n",
    "    width=1100,\n",
    "    template='plotly_white'\n",
    ")\n",
    "fig.show()"
   ]
  },
  {
   "cell_type": "markdown",
   "metadata": {
    "id": "XNp-NkrJriEF"
   },
   "source": [
    "# Percentage of Failures over Time\n"
   ]
  },
  {
   "cell_type": "code",
   "execution_count": 350,
   "metadata": {
    "id": "Kj3-zsI0rhOS"
   },
   "outputs": [],
   "source": [
    "failures_yoy['failure_per'] =  (failures_yoy['failures_count']/sum(launches_per_year['Launch_Count']) * 100)"
   ]
  },
  {
   "cell_type": "code",
   "execution_count": 351,
   "metadata": {
    "id": "nxnnzx89rwvH"
   },
   "outputs": [
    {
     "data": {
      "application/vnd.plotly.v1+json": {
       "config": {
        "plotlyServerURL": "https://plot.ly"
       },
       "data": [
        {
         "hovertemplate": "Year=%{x}<br>failure_per=%{y}<extra></extra>",
         "legendgroup": "",
         "marker": {
          "color": "#636efa",
          "pattern": {
           "shape": ""
          }
         },
         "name": "",
         "orientation": "v",
         "showlegend": false,
         "textposition": "outside",
         "texttemplate": "%{y:.2f}",
         "type": "bar",
         "x": {
          "_inputArray": {
           "0": 1964,
           "1": 1986,
           "10": 2005,
           "11": 2006,
           "12": 2007,
           "13": 2008,
           "14": 2009,
           "15": 2010,
           "16": 2011,
           "17": 2013,
           "18": 2014,
           "19": 2015,
           "2": 1990,
           "20": 2016,
           "21": 2017,
           "22": 2019,
           "23": 2020,
           "3": 1993,
           "4": 1994,
           "5": 1995,
           "6": 1996,
           "7": 2001,
           "8": 2002,
           "9": 2003,
           "bdata": "rAcAAMIHAADGBwAAyQcAAMoHAADLBwAAzAcAANEHAADSBwAA0wcAANUHAADWBwAA1wcAANgHAADZBwAA2gcAANsHAADdBwAA3gcAAN8HAADgBwAA4QcAAOMHAADkBwAA",
           "dtype": "i4",
           "shape": "24"
          },
          "bdata": "rAcAAMIHAADGBwAAyQcAAMoHAADLBwAAzAcAANEHAADSBwAA0wcAANUHAADWBwAA1wcAANgHAADZBwAA2gcAANsHAADdBwAA3gcAAN8HAADgBwAA4QcAAOMHAADkBwAA",
          "dtype": "i4"
         },
         "xaxis": "x",
         "y": {
          "_inputArray": {
           "0": 0.10438413361169101,
           "1": 0.10438413361169101,
           "10": 0.10438413361169101,
           "11": 0.31315240083507306,
           "12": 0.10438413361169101,
           "13": 0.10438413361169101,
           "14": 0.10438413361169101,
           "15": 0.20876826722338201,
           "16": 0.10438413361169101,
           "17": 0.10438413361169101,
           "18": 0.10438413361169101,
           "19": 0.10438413361169101,
           "2": 0.10438413361169101,
           "20": 0.10438413361169101,
           "21": 0.20876826722338201,
           "22": 0.20876826722338201,
           "23": 0.41753653444676403,
           "3": 0.20876826722338201,
           "4": 0.10438413361169101,
           "5": 0.20876826722338201,
           "6": 0.10438413361169101,
           "7": 0.10438413361169101,
           "8": 0.10438413361169101,
           "9": 0.10438413361169101,
           "bdata": "u2AVKOu4uj+7YBUo67i6P7tgFSjruLo/u2AVKOu4yj+7YBUo67i6P7tgFSjruMo/u2AVKOu4uj+7YBUo67i6P7tgFSjruLo/u2AVKOu4uj+7YBUo67i6P40IEF6wCtQ/u2AVKOu4uj+7YBUo67i6P7tgFSjruLo/u2AVKOu4yj+7YBUo67i6P7tgFSjruLo/u2AVKOu4uj+7YBUo67i6P7tgFSjruLo/u2AVKOu4yj+7YBUo67jKP7tgFSjruNo/",
           "dtype": "f8",
           "shape": "24"
          },
          "bdata": "u2AVKOu4uj+7YBUo67i6P7tgFSjruLo/u2AVKOu4yj+7YBUo67i6P7tgFSjruMo/u2AVKOu4uj+7YBUo67i6P7tgFSjruLo/u2AVKOu4uj+7YBUo67i6P40IEF6wCtQ/u2AVKOu4uj+7YBUo67i6P7tgFSjruLo/u2AVKOu4yj+7YBUo67i6P7tgFSjruLo/u2AVKOu4uj+7YBUo67i6P7tgFSjruLo/u2AVKOu4yj+7YBUo67jKP7tgFSjruNo/",
          "dtype": "f8"
         },
         "yaxis": "y"
        }
       ],
       "layout": {
        "barmode": "relative",
        "height": 500,
        "legend": {
         "tracegroupgap": 0
        },
        "margin": {
         "t": 60
        },
        "template": {
         "data": {
          "bar": [
           {
            "error_x": {
             "color": "#2a3f5f"
            },
            "error_y": {
             "color": "#2a3f5f"
            },
            "marker": {
             "line": {
              "color": "white",
              "width": 0.5
             },
             "pattern": {
              "fillmode": "overlay",
              "size": 10,
              "solidity": 0.2
             }
            },
            "type": "bar"
           }
          ],
          "barpolar": [
           {
            "marker": {
             "line": {
              "color": "white",
              "width": 0.5
             },
             "pattern": {
              "fillmode": "overlay",
              "size": 10,
              "solidity": 0.2
             }
            },
            "type": "barpolar"
           }
          ],
          "carpet": [
           {
            "aaxis": {
             "endlinecolor": "#2a3f5f",
             "gridcolor": "#C8D4E3",
             "linecolor": "#C8D4E3",
             "minorgridcolor": "#C8D4E3",
             "startlinecolor": "#2a3f5f"
            },
            "baxis": {
             "endlinecolor": "#2a3f5f",
             "gridcolor": "#C8D4E3",
             "linecolor": "#C8D4E3",
             "minorgridcolor": "#C8D4E3",
             "startlinecolor": "#2a3f5f"
            },
            "type": "carpet"
           }
          ],
          "choropleth": [
           {
            "colorbar": {
             "outlinewidth": 0,
             "ticks": ""
            },
            "type": "choropleth"
           }
          ],
          "contour": [
           {
            "colorbar": {
             "outlinewidth": 0,
             "ticks": ""
            },
            "colorscale": [
             [
              0,
              "#0d0887"
             ],
             [
              0.1111111111111111,
              "#46039f"
             ],
             [
              0.2222222222222222,
              "#7201a8"
             ],
             [
              0.3333333333333333,
              "#9c179e"
             ],
             [
              0.4444444444444444,
              "#bd3786"
             ],
             [
              0.5555555555555556,
              "#d8576b"
             ],
             [
              0.6666666666666666,
              "#ed7953"
             ],
             [
              0.7777777777777778,
              "#fb9f3a"
             ],
             [
              0.8888888888888888,
              "#fdca26"
             ],
             [
              1,
              "#f0f921"
             ]
            ],
            "type": "contour"
           }
          ],
          "contourcarpet": [
           {
            "colorbar": {
             "outlinewidth": 0,
             "ticks": ""
            },
            "type": "contourcarpet"
           }
          ],
          "heatmap": [
           {
            "colorbar": {
             "outlinewidth": 0,
             "ticks": ""
            },
            "colorscale": [
             [
              0,
              "#0d0887"
             ],
             [
              0.1111111111111111,
              "#46039f"
             ],
             [
              0.2222222222222222,
              "#7201a8"
             ],
             [
              0.3333333333333333,
              "#9c179e"
             ],
             [
              0.4444444444444444,
              "#bd3786"
             ],
             [
              0.5555555555555556,
              "#d8576b"
             ],
             [
              0.6666666666666666,
              "#ed7953"
             ],
             [
              0.7777777777777778,
              "#fb9f3a"
             ],
             [
              0.8888888888888888,
              "#fdca26"
             ],
             [
              1,
              "#f0f921"
             ]
            ],
            "type": "heatmap"
           }
          ],
          "histogram": [
           {
            "marker": {
             "pattern": {
              "fillmode": "overlay",
              "size": 10,
              "solidity": 0.2
             }
            },
            "type": "histogram"
           }
          ],
          "histogram2d": [
           {
            "colorbar": {
             "outlinewidth": 0,
             "ticks": ""
            },
            "colorscale": [
             [
              0,
              "#0d0887"
             ],
             [
              0.1111111111111111,
              "#46039f"
             ],
             [
              0.2222222222222222,
              "#7201a8"
             ],
             [
              0.3333333333333333,
              "#9c179e"
             ],
             [
              0.4444444444444444,
              "#bd3786"
             ],
             [
              0.5555555555555556,
              "#d8576b"
             ],
             [
              0.6666666666666666,
              "#ed7953"
             ],
             [
              0.7777777777777778,
              "#fb9f3a"
             ],
             [
              0.8888888888888888,
              "#fdca26"
             ],
             [
              1,
              "#f0f921"
             ]
            ],
            "type": "histogram2d"
           }
          ],
          "histogram2dcontour": [
           {
            "colorbar": {
             "outlinewidth": 0,
             "ticks": ""
            },
            "colorscale": [
             [
              0,
              "#0d0887"
             ],
             [
              0.1111111111111111,
              "#46039f"
             ],
             [
              0.2222222222222222,
              "#7201a8"
             ],
             [
              0.3333333333333333,
              "#9c179e"
             ],
             [
              0.4444444444444444,
              "#bd3786"
             ],
             [
              0.5555555555555556,
              "#d8576b"
             ],
             [
              0.6666666666666666,
              "#ed7953"
             ],
             [
              0.7777777777777778,
              "#fb9f3a"
             ],
             [
              0.8888888888888888,
              "#fdca26"
             ],
             [
              1,
              "#f0f921"
             ]
            ],
            "type": "histogram2dcontour"
           }
          ],
          "mesh3d": [
           {
            "colorbar": {
             "outlinewidth": 0,
             "ticks": ""
            },
            "type": "mesh3d"
           }
          ],
          "parcoords": [
           {
            "line": {
             "colorbar": {
              "outlinewidth": 0,
              "ticks": ""
             }
            },
            "type": "parcoords"
           }
          ],
          "pie": [
           {
            "automargin": true,
            "type": "pie"
           }
          ],
          "scatter": [
           {
            "fillpattern": {
             "fillmode": "overlay",
             "size": 10,
             "solidity": 0.2
            },
            "type": "scatter"
           }
          ],
          "scatter3d": [
           {
            "line": {
             "colorbar": {
              "outlinewidth": 0,
              "ticks": ""
             }
            },
            "marker": {
             "colorbar": {
              "outlinewidth": 0,
              "ticks": ""
             }
            },
            "type": "scatter3d"
           }
          ],
          "scattercarpet": [
           {
            "marker": {
             "colorbar": {
              "outlinewidth": 0,
              "ticks": ""
             }
            },
            "type": "scattercarpet"
           }
          ],
          "scattergeo": [
           {
            "marker": {
             "colorbar": {
              "outlinewidth": 0,
              "ticks": ""
             }
            },
            "type": "scattergeo"
           }
          ],
          "scattergl": [
           {
            "marker": {
             "colorbar": {
              "outlinewidth": 0,
              "ticks": ""
             }
            },
            "type": "scattergl"
           }
          ],
          "scattermap": [
           {
            "marker": {
             "colorbar": {
              "outlinewidth": 0,
              "ticks": ""
             }
            },
            "type": "scattermap"
           }
          ],
          "scattermapbox": [
           {
            "marker": {
             "colorbar": {
              "outlinewidth": 0,
              "ticks": ""
             }
            },
            "type": "scattermapbox"
           }
          ],
          "scatterpolar": [
           {
            "marker": {
             "colorbar": {
              "outlinewidth": 0,
              "ticks": ""
             }
            },
            "type": "scatterpolar"
           }
          ],
          "scatterpolargl": [
           {
            "marker": {
             "colorbar": {
              "outlinewidth": 0,
              "ticks": ""
             }
            },
            "type": "scatterpolargl"
           }
          ],
          "scatterternary": [
           {
            "marker": {
             "colorbar": {
              "outlinewidth": 0,
              "ticks": ""
             }
            },
            "type": "scatterternary"
           }
          ],
          "surface": [
           {
            "colorbar": {
             "outlinewidth": 0,
             "ticks": ""
            },
            "colorscale": [
             [
              0,
              "#0d0887"
             ],
             [
              0.1111111111111111,
              "#46039f"
             ],
             [
              0.2222222222222222,
              "#7201a8"
             ],
             [
              0.3333333333333333,
              "#9c179e"
             ],
             [
              0.4444444444444444,
              "#bd3786"
             ],
             [
              0.5555555555555556,
              "#d8576b"
             ],
             [
              0.6666666666666666,
              "#ed7953"
             ],
             [
              0.7777777777777778,
              "#fb9f3a"
             ],
             [
              0.8888888888888888,
              "#fdca26"
             ],
             [
              1,
              "#f0f921"
             ]
            ],
            "type": "surface"
           }
          ],
          "table": [
           {
            "cells": {
             "fill": {
              "color": "#EBF0F8"
             },
             "line": {
              "color": "white"
             }
            },
            "header": {
             "fill": {
              "color": "#C8D4E3"
             },
             "line": {
              "color": "white"
             }
            },
            "type": "table"
           }
          ]
         },
         "layout": {
          "annotationdefaults": {
           "arrowcolor": "#2a3f5f",
           "arrowhead": 0,
           "arrowwidth": 1
          },
          "autotypenumbers": "strict",
          "coloraxis": {
           "colorbar": {
            "outlinewidth": 0,
            "ticks": ""
           }
          },
          "colorscale": {
           "diverging": [
            [
             0,
             "#8e0152"
            ],
            [
             0.1,
             "#c51b7d"
            ],
            [
             0.2,
             "#de77ae"
            ],
            [
             0.3,
             "#f1b6da"
            ],
            [
             0.4,
             "#fde0ef"
            ],
            [
             0.5,
             "#f7f7f7"
            ],
            [
             0.6,
             "#e6f5d0"
            ],
            [
             0.7,
             "#b8e186"
            ],
            [
             0.8,
             "#7fbc41"
            ],
            [
             0.9,
             "#4d9221"
            ],
            [
             1,
             "#276419"
            ]
           ],
           "sequential": [
            [
             0,
             "#0d0887"
            ],
            [
             0.1111111111111111,
             "#46039f"
            ],
            [
             0.2222222222222222,
             "#7201a8"
            ],
            [
             0.3333333333333333,
             "#9c179e"
            ],
            [
             0.4444444444444444,
             "#bd3786"
            ],
            [
             0.5555555555555556,
             "#d8576b"
            ],
            [
             0.6666666666666666,
             "#ed7953"
            ],
            [
             0.7777777777777778,
             "#fb9f3a"
            ],
            [
             0.8888888888888888,
             "#fdca26"
            ],
            [
             1,
             "#f0f921"
            ]
           ],
           "sequentialminus": [
            [
             0,
             "#0d0887"
            ],
            [
             0.1111111111111111,
             "#46039f"
            ],
            [
             0.2222222222222222,
             "#7201a8"
            ],
            [
             0.3333333333333333,
             "#9c179e"
            ],
            [
             0.4444444444444444,
             "#bd3786"
            ],
            [
             0.5555555555555556,
             "#d8576b"
            ],
            [
             0.6666666666666666,
             "#ed7953"
            ],
            [
             0.7777777777777778,
             "#fb9f3a"
            ],
            [
             0.8888888888888888,
             "#fdca26"
            ],
            [
             1,
             "#f0f921"
            ]
           ]
          },
          "colorway": [
           "#636efa",
           "#EF553B",
           "#00cc96",
           "#ab63fa",
           "#FFA15A",
           "#19d3f3",
           "#FF6692",
           "#B6E880",
           "#FF97FF",
           "#FECB52"
          ],
          "font": {
           "color": "#2a3f5f"
          },
          "geo": {
           "bgcolor": "white",
           "lakecolor": "white",
           "landcolor": "white",
           "showlakes": true,
           "showland": true,
           "subunitcolor": "#C8D4E3"
          },
          "hoverlabel": {
           "align": "left"
          },
          "hovermode": "closest",
          "mapbox": {
           "style": "light"
          },
          "paper_bgcolor": "white",
          "plot_bgcolor": "white",
          "polar": {
           "angularaxis": {
            "gridcolor": "#EBF0F8",
            "linecolor": "#EBF0F8",
            "ticks": ""
           },
           "bgcolor": "white",
           "radialaxis": {
            "gridcolor": "#EBF0F8",
            "linecolor": "#EBF0F8",
            "ticks": ""
           }
          },
          "scene": {
           "xaxis": {
            "backgroundcolor": "white",
            "gridcolor": "#DFE8F3",
            "gridwidth": 2,
            "linecolor": "#EBF0F8",
            "showbackground": true,
            "ticks": "",
            "zerolinecolor": "#EBF0F8"
           },
           "yaxis": {
            "backgroundcolor": "white",
            "gridcolor": "#DFE8F3",
            "gridwidth": 2,
            "linecolor": "#EBF0F8",
            "showbackground": true,
            "ticks": "",
            "zerolinecolor": "#EBF0F8"
           },
           "zaxis": {
            "backgroundcolor": "white",
            "gridcolor": "#DFE8F3",
            "gridwidth": 2,
            "linecolor": "#EBF0F8",
            "showbackground": true,
            "ticks": "",
            "zerolinecolor": "#EBF0F8"
           }
          },
          "shapedefaults": {
           "line": {
            "color": "#2a3f5f"
           }
          },
          "ternary": {
           "aaxis": {
            "gridcolor": "#DFE8F3",
            "linecolor": "#A2B1C6",
            "ticks": ""
           },
           "baxis": {
            "gridcolor": "#DFE8F3",
            "linecolor": "#A2B1C6",
            "ticks": ""
           },
           "bgcolor": "white",
           "caxis": {
            "gridcolor": "#DFE8F3",
            "linecolor": "#A2B1C6",
            "ticks": ""
           }
          },
          "title": {
           "x": 0.05
          },
          "xaxis": {
           "automargin": true,
           "gridcolor": "#EBF0F8",
           "linecolor": "#EBF0F8",
           "ticks": "",
           "title": {
            "standoff": 15
           },
           "zerolinecolor": "#EBF0F8",
           "zerolinewidth": 2
          },
          "yaxis": {
           "automargin": true,
           "gridcolor": "#EBF0F8",
           "linecolor": "#EBF0F8",
           "ticks": "",
           "title": {
            "standoff": 15
           },
           "zerolinecolor": "#EBF0F8",
           "zerolinewidth": 2
          }
         }
        },
        "width": 1100,
        "xaxis": {
         "anchor": "y",
         "autorange": true,
         "domain": [
          0,
          1
         ],
         "range": [
          1963.5,
          2020.5
         ],
         "title": {
          "text": "Year"
         },
         "type": "linear"
        },
        "yaxis": {
         "anchor": "x",
         "autorange": true,
         "domain": [
          0,
          1
         ],
         "range": [
          0,
          0.4395121415229095
         ],
         "title": {
          "text": "Failure Percentage"
         },
         "type": "linear"
        }
       }
      }
     },
     "metadata": {},
     "output_type": "display_data"
    }
   ],
   "source": [
    "fig = px.bar(failures_yoy, x='Year', y='failure_per',\n",
    "            )\n",
    "fig.update_traces(texttemplate='%{y:.2f}',textposition='outside')\n",
    "fig.update_layout(\n",
    "    height=500,\n",
    "    width=1100,\n",
    "    template='plotly_white'\n",
    ")\n",
    "fig.update_yaxes(title_text='Failure Percentage')\n",
    "fig.show()"
   ]
  },
  {
   "cell_type": "markdown",
   "metadata": {
    "id": "S5aOC7bGr2OX"
   },
   "source": [
    "# Lead Country in terms of Total Number of Launches"
   ]
  },
  {
   "cell_type": "code",
   "execution_count": 352,
   "metadata": {
    "id": "zgVysedmsOp4"
   },
   "outputs": [
    {
     "data": {
      "application/vnd.plotly.v1+json": {
       "config": {
        "plotlyServerURL": "https://plot.ly"
       },
       "data": [
        {
         "hovertemplate": "Country=%{text}<br>Year=%{x}<br>index=%{y}<extra></extra>",
         "legendgroup": "USA",
         "marker": {
          "color": "#636efa",
          "pattern": {
           "shape": ""
          }
         },
         "name": "USA",
         "orientation": "v",
         "showlegend": true,
         "text": [
          "USA",
          "USA",
          "USA",
          "USA",
          "USA",
          "USA",
          "USA",
          "USA",
          "USA",
          "USA",
          "USA",
          "USA",
          "USA",
          "USA",
          "USA",
          "USA",
          "USA",
          "USA",
          "USA",
          "USA",
          "USA",
          "USA",
          "USA",
          "USA",
          "USA",
          "USA",
          "USA",
          "USA",
          "USA",
          "USA",
          "USA",
          "USA",
          "USA",
          "USA",
          "USA",
          "USA",
          "USA",
          "USA",
          "USA",
          "USA",
          "USA",
          "USA",
          "USA",
          "USA",
          "USA",
          "USA",
          "USA"
         ],
         "textposition": "outside",
         "type": "bar",
         "x": {
          "_inputArray": {
           "0": 1964,
           "1": 1965,
           "10": 1981,
           "11": 1982,
           "12": 1983,
           "13": 1984,
           "14": 1985,
           "15": 1986,
           "16": 1988,
           "17": 1989,
           "18": 1990,
           "19": 1991,
           "2": 1966,
           "20": 1992,
           "21": 1993,
           "22": 1994,
           "23": 1995,
           "24": 1996,
           "25": 1997,
           "26": 1998,
           "27": 1999,
           "28": 2000,
           "29": 2001,
           "3": 1967,
           "30": 2002,
           "31": 2003,
           "32": 2005,
           "33": 2006,
           "34": 2007,
           "35": 2008,
           "36": 2009,
           "37": 2010,
           "38": 2011,
           "39": 2012,
           "4": 1968,
           "40": 2013,
           "41": 2014,
           "42": 2015,
           "43": 2016,
           "44": 2017,
           "45": 2018,
           "46": 2020,
           "5": 1969,
           "6": 1970,
           "7": 1971,
           "8": 1972,
           "9": 1973,
           "bdata": "rAcAAK0HAACuBwAArwcAALAHAACxBwAAsgcAALMHAAC0BwAAtQcAAL0HAAC+BwAAvwcAAMAHAADBBwAAwgcAAMQHAADFBwAAxgcAAMcHAADIBwAAyQcAAMoHAADLBwAAzAcAAM0HAADOBwAAzwcAANAHAADRBwAA0gcAANMHAADVBwAA1gcAANcHAADYBwAA2QcAANoHAADbBwAA3AcAAN0HAADeBwAA3wcAAOAHAADhBwAA4gcAAOQHAAA=",
           "dtype": "i4",
           "shape": "47"
          },
          "bdata": "rAcAAK0HAACuBwAArwcAALAHAACxBwAAsgcAALMHAAC0BwAAtQcAAL0HAAC+BwAAvwcAAMAHAADBBwAAwgcAAMQHAADFBwAAxgcAAMcHAADIBwAAyQcAAMoHAADLBwAAzAcAAM0HAADOBwAAzwcAANAHAADRBwAA0gcAANMHAADVBwAA1gcAANcHAADYBwAA2QcAANoHAADbBwAA3AcAAN0HAADeBwAA3wcAAOAHAADhBwAA4gcAAOQHAAA=",
          "dtype": "i4"
         },
         "xaxis": "x",
         "y": {
          "_inputArray": {
           "0": 2,
           "1": 2,
           "10": 2,
           "11": 3,
           "12": 4,
           "13": 5,
           "14": 9,
           "15": 2,
           "16": 3,
           "17": 6,
           "18": 10,
           "19": 7,
           "2": 3,
           "20": 10,
           "21": 10,
           "22": 12,
           "23": 10,
           "24": 12,
           "25": 14,
           "26": 14,
           "27": 9,
           "28": 11,
           "29": 7,
           "3": 7,
           "30": 9,
           "31": 11,
           "32": 6,
           "33": 12,
           "34": 11,
           "35": 10,
           "36": 16,
           "37": 14,
           "38": 15,
           "39": 11,
           "4": 10,
           "40": 17,
           "41": 22,
           "42": 17,
           "43": 21,
           "44": 27,
           "45": 29,
           "46": 20,
           "5": 8,
           "6": 1,
           "7": 2,
           "8": 2,
           "9": 1,
           "bdata": "AgIDBwoIAQICAQIDBAUJAgMGCgcKCgwKDA4OCQsHCQsGDAsKEA4PCxEWERUbHRQ=",
           "dtype": "i1",
           "shape": "47"
          },
          "bdata": "AgIDBwoIAQICAQIDBAUJAgMGCgcKCgwKDA4OCQsHCQsGDAsKEA4PCxEWERUbHRQ=",
          "dtype": "i1"
         },
         "yaxis": "y"
        },
        {
         "hovertemplate": "Country=%{text}<br>Year=%{x}<br>index=%{y}<extra></extra>",
         "legendgroup": "China",
         "marker": {
          "color": "#EF553B",
          "pattern": {
           "shape": ""
          }
         },
         "name": "China",
         "orientation": "v",
         "showlegend": true,
         "text": [
          "China",
          "China",
          "China"
         ],
         "textposition": "outside",
         "type": "bar",
         "x": {
          "_inputArray": {
           "0": 1987,
           "1": 2004,
           "2": 2019,
           "bdata": "wwcAANQHAADjBwAA",
           "dtype": "i4",
           "shape": "3"
          },
          "bdata": "wwcAANQHAADjBwAA",
          "dtype": "i4"
         },
         "xaxis": "x",
         "y": {
          "_inputArray": {
           "0": 2,
           "1": 8,
           "2": 21,
           "bdata": "AggV",
           "dtype": "i1",
           "shape": "3"
          },
          "bdata": "AggV",
          "dtype": "i1"
         },
         "yaxis": "y"
        }
       ],
       "layout": {
        "barmode": "relative",
        "height": 500,
        "legend": {
         "title": {
          "text": "Country"
         },
         "tracegroupgap": 0
        },
        "template": {
         "data": {
          "bar": [
           {
            "error_x": {
             "color": "#2a3f5f"
            },
            "error_y": {
             "color": "#2a3f5f"
            },
            "marker": {
             "line": {
              "color": "white",
              "width": 0.5
             },
             "pattern": {
              "fillmode": "overlay",
              "size": 10,
              "solidity": 0.2
             }
            },
            "type": "bar"
           }
          ],
          "barpolar": [
           {
            "marker": {
             "line": {
              "color": "white",
              "width": 0.5
             },
             "pattern": {
              "fillmode": "overlay",
              "size": 10,
              "solidity": 0.2
             }
            },
            "type": "barpolar"
           }
          ],
          "carpet": [
           {
            "aaxis": {
             "endlinecolor": "#2a3f5f",
             "gridcolor": "#C8D4E3",
             "linecolor": "#C8D4E3",
             "minorgridcolor": "#C8D4E3",
             "startlinecolor": "#2a3f5f"
            },
            "baxis": {
             "endlinecolor": "#2a3f5f",
             "gridcolor": "#C8D4E3",
             "linecolor": "#C8D4E3",
             "minorgridcolor": "#C8D4E3",
             "startlinecolor": "#2a3f5f"
            },
            "type": "carpet"
           }
          ],
          "choropleth": [
           {
            "colorbar": {
             "outlinewidth": 0,
             "ticks": ""
            },
            "type": "choropleth"
           }
          ],
          "contour": [
           {
            "colorbar": {
             "outlinewidth": 0,
             "ticks": ""
            },
            "colorscale": [
             [
              0,
              "#0d0887"
             ],
             [
              0.1111111111111111,
              "#46039f"
             ],
             [
              0.2222222222222222,
              "#7201a8"
             ],
             [
              0.3333333333333333,
              "#9c179e"
             ],
             [
              0.4444444444444444,
              "#bd3786"
             ],
             [
              0.5555555555555556,
              "#d8576b"
             ],
             [
              0.6666666666666666,
              "#ed7953"
             ],
             [
              0.7777777777777778,
              "#fb9f3a"
             ],
             [
              0.8888888888888888,
              "#fdca26"
             ],
             [
              1,
              "#f0f921"
             ]
            ],
            "type": "contour"
           }
          ],
          "contourcarpet": [
           {
            "colorbar": {
             "outlinewidth": 0,
             "ticks": ""
            },
            "type": "contourcarpet"
           }
          ],
          "heatmap": [
           {
            "colorbar": {
             "outlinewidth": 0,
             "ticks": ""
            },
            "colorscale": [
             [
              0,
              "#0d0887"
             ],
             [
              0.1111111111111111,
              "#46039f"
             ],
             [
              0.2222222222222222,
              "#7201a8"
             ],
             [
              0.3333333333333333,
              "#9c179e"
             ],
             [
              0.4444444444444444,
              "#bd3786"
             ],
             [
              0.5555555555555556,
              "#d8576b"
             ],
             [
              0.6666666666666666,
              "#ed7953"
             ],
             [
              0.7777777777777778,
              "#fb9f3a"
             ],
             [
              0.8888888888888888,
              "#fdca26"
             ],
             [
              1,
              "#f0f921"
             ]
            ],
            "type": "heatmap"
           }
          ],
          "histogram": [
           {
            "marker": {
             "pattern": {
              "fillmode": "overlay",
              "size": 10,
              "solidity": 0.2
             }
            },
            "type": "histogram"
           }
          ],
          "histogram2d": [
           {
            "colorbar": {
             "outlinewidth": 0,
             "ticks": ""
            },
            "colorscale": [
             [
              0,
              "#0d0887"
             ],
             [
              0.1111111111111111,
              "#46039f"
             ],
             [
              0.2222222222222222,
              "#7201a8"
             ],
             [
              0.3333333333333333,
              "#9c179e"
             ],
             [
              0.4444444444444444,
              "#bd3786"
             ],
             [
              0.5555555555555556,
              "#d8576b"
             ],
             [
              0.6666666666666666,
              "#ed7953"
             ],
             [
              0.7777777777777778,
              "#fb9f3a"
             ],
             [
              0.8888888888888888,
              "#fdca26"
             ],
             [
              1,
              "#f0f921"
             ]
            ],
            "type": "histogram2d"
           }
          ],
          "histogram2dcontour": [
           {
            "colorbar": {
             "outlinewidth": 0,
             "ticks": ""
            },
            "colorscale": [
             [
              0,
              "#0d0887"
             ],
             [
              0.1111111111111111,
              "#46039f"
             ],
             [
              0.2222222222222222,
              "#7201a8"
             ],
             [
              0.3333333333333333,
              "#9c179e"
             ],
             [
              0.4444444444444444,
              "#bd3786"
             ],
             [
              0.5555555555555556,
              "#d8576b"
             ],
             [
              0.6666666666666666,
              "#ed7953"
             ],
             [
              0.7777777777777778,
              "#fb9f3a"
             ],
             [
              0.8888888888888888,
              "#fdca26"
             ],
             [
              1,
              "#f0f921"
             ]
            ],
            "type": "histogram2dcontour"
           }
          ],
          "mesh3d": [
           {
            "colorbar": {
             "outlinewidth": 0,
             "ticks": ""
            },
            "type": "mesh3d"
           }
          ],
          "parcoords": [
           {
            "line": {
             "colorbar": {
              "outlinewidth": 0,
              "ticks": ""
             }
            },
            "type": "parcoords"
           }
          ],
          "pie": [
           {
            "automargin": true,
            "type": "pie"
           }
          ],
          "scatter": [
           {
            "fillpattern": {
             "fillmode": "overlay",
             "size": 10,
             "solidity": 0.2
            },
            "type": "scatter"
           }
          ],
          "scatter3d": [
           {
            "line": {
             "colorbar": {
              "outlinewidth": 0,
              "ticks": ""
             }
            },
            "marker": {
             "colorbar": {
              "outlinewidth": 0,
              "ticks": ""
             }
            },
            "type": "scatter3d"
           }
          ],
          "scattercarpet": [
           {
            "marker": {
             "colorbar": {
              "outlinewidth": 0,
              "ticks": ""
             }
            },
            "type": "scattercarpet"
           }
          ],
          "scattergeo": [
           {
            "marker": {
             "colorbar": {
              "outlinewidth": 0,
              "ticks": ""
             }
            },
            "type": "scattergeo"
           }
          ],
          "scattergl": [
           {
            "marker": {
             "colorbar": {
              "outlinewidth": 0,
              "ticks": ""
             }
            },
            "type": "scattergl"
           }
          ],
          "scattermap": [
           {
            "marker": {
             "colorbar": {
              "outlinewidth": 0,
              "ticks": ""
             }
            },
            "type": "scattermap"
           }
          ],
          "scattermapbox": [
           {
            "marker": {
             "colorbar": {
              "outlinewidth": 0,
              "ticks": ""
             }
            },
            "type": "scattermapbox"
           }
          ],
          "scatterpolar": [
           {
            "marker": {
             "colorbar": {
              "outlinewidth": 0,
              "ticks": ""
             }
            },
            "type": "scatterpolar"
           }
          ],
          "scatterpolargl": [
           {
            "marker": {
             "colorbar": {
              "outlinewidth": 0,
              "ticks": ""
             }
            },
            "type": "scatterpolargl"
           }
          ],
          "scatterternary": [
           {
            "marker": {
             "colorbar": {
              "outlinewidth": 0,
              "ticks": ""
             }
            },
            "type": "scatterternary"
           }
          ],
          "surface": [
           {
            "colorbar": {
             "outlinewidth": 0,
             "ticks": ""
            },
            "colorscale": [
             [
              0,
              "#0d0887"
             ],
             [
              0.1111111111111111,
              "#46039f"
             ],
             [
              0.2222222222222222,
              "#7201a8"
             ],
             [
              0.3333333333333333,
              "#9c179e"
             ],
             [
              0.4444444444444444,
              "#bd3786"
             ],
             [
              0.5555555555555556,
              "#d8576b"
             ],
             [
              0.6666666666666666,
              "#ed7953"
             ],
             [
              0.7777777777777778,
              "#fb9f3a"
             ],
             [
              0.8888888888888888,
              "#fdca26"
             ],
             [
              1,
              "#f0f921"
             ]
            ],
            "type": "surface"
           }
          ],
          "table": [
           {
            "cells": {
             "fill": {
              "color": "#EBF0F8"
             },
             "line": {
              "color": "white"
             }
            },
            "header": {
             "fill": {
              "color": "#C8D4E3"
             },
             "line": {
              "color": "white"
             }
            },
            "type": "table"
           }
          ]
         },
         "layout": {
          "annotationdefaults": {
           "arrowcolor": "#2a3f5f",
           "arrowhead": 0,
           "arrowwidth": 1
          },
          "autotypenumbers": "strict",
          "coloraxis": {
           "colorbar": {
            "outlinewidth": 0,
            "ticks": ""
           }
          },
          "colorscale": {
           "diverging": [
            [
             0,
             "#8e0152"
            ],
            [
             0.1,
             "#c51b7d"
            ],
            [
             0.2,
             "#de77ae"
            ],
            [
             0.3,
             "#f1b6da"
            ],
            [
             0.4,
             "#fde0ef"
            ],
            [
             0.5,
             "#f7f7f7"
            ],
            [
             0.6,
             "#e6f5d0"
            ],
            [
             0.7,
             "#b8e186"
            ],
            [
             0.8,
             "#7fbc41"
            ],
            [
             0.9,
             "#4d9221"
            ],
            [
             1,
             "#276419"
            ]
           ],
           "sequential": [
            [
             0,
             "#0d0887"
            ],
            [
             0.1111111111111111,
             "#46039f"
            ],
            [
             0.2222222222222222,
             "#7201a8"
            ],
            [
             0.3333333333333333,
             "#9c179e"
            ],
            [
             0.4444444444444444,
             "#bd3786"
            ],
            [
             0.5555555555555556,
             "#d8576b"
            ],
            [
             0.6666666666666666,
             "#ed7953"
            ],
            [
             0.7777777777777778,
             "#fb9f3a"
            ],
            [
             0.8888888888888888,
             "#fdca26"
            ],
            [
             1,
             "#f0f921"
            ]
           ],
           "sequentialminus": [
            [
             0,
             "#0d0887"
            ],
            [
             0.1111111111111111,
             "#46039f"
            ],
            [
             0.2222222222222222,
             "#7201a8"
            ],
            [
             0.3333333333333333,
             "#9c179e"
            ],
            [
             0.4444444444444444,
             "#bd3786"
            ],
            [
             0.5555555555555556,
             "#d8576b"
            ],
            [
             0.6666666666666666,
             "#ed7953"
            ],
            [
             0.7777777777777778,
             "#fb9f3a"
            ],
            [
             0.8888888888888888,
             "#fdca26"
            ],
            [
             1,
             "#f0f921"
            ]
           ]
          },
          "colorway": [
           "#636efa",
           "#EF553B",
           "#00cc96",
           "#ab63fa",
           "#FFA15A",
           "#19d3f3",
           "#FF6692",
           "#B6E880",
           "#FF97FF",
           "#FECB52"
          ],
          "font": {
           "color": "#2a3f5f"
          },
          "geo": {
           "bgcolor": "white",
           "lakecolor": "white",
           "landcolor": "white",
           "showlakes": true,
           "showland": true,
           "subunitcolor": "#C8D4E3"
          },
          "hoverlabel": {
           "align": "left"
          },
          "hovermode": "closest",
          "mapbox": {
           "style": "light"
          },
          "paper_bgcolor": "white",
          "plot_bgcolor": "white",
          "polar": {
           "angularaxis": {
            "gridcolor": "#EBF0F8",
            "linecolor": "#EBF0F8",
            "ticks": ""
           },
           "bgcolor": "white",
           "radialaxis": {
            "gridcolor": "#EBF0F8",
            "linecolor": "#EBF0F8",
            "ticks": ""
           }
          },
          "scene": {
           "xaxis": {
            "backgroundcolor": "white",
            "gridcolor": "#DFE8F3",
            "gridwidth": 2,
            "linecolor": "#EBF0F8",
            "showbackground": true,
            "ticks": "",
            "zerolinecolor": "#EBF0F8"
           },
           "yaxis": {
            "backgroundcolor": "white",
            "gridcolor": "#DFE8F3",
            "gridwidth": 2,
            "linecolor": "#EBF0F8",
            "showbackground": true,
            "ticks": "",
            "zerolinecolor": "#EBF0F8"
           },
           "zaxis": {
            "backgroundcolor": "white",
            "gridcolor": "#DFE8F3",
            "gridwidth": 2,
            "linecolor": "#EBF0F8",
            "showbackground": true,
            "ticks": "",
            "zerolinecolor": "#EBF0F8"
           }
          },
          "shapedefaults": {
           "line": {
            "color": "#2a3f5f"
           }
          },
          "ternary": {
           "aaxis": {
            "gridcolor": "#DFE8F3",
            "linecolor": "#A2B1C6",
            "ticks": ""
           },
           "baxis": {
            "gridcolor": "#DFE8F3",
            "linecolor": "#A2B1C6",
            "ticks": ""
           },
           "bgcolor": "white",
           "caxis": {
            "gridcolor": "#DFE8F3",
            "linecolor": "#A2B1C6",
            "ticks": ""
           }
          },
          "title": {
           "x": 0.05
          },
          "xaxis": {
           "automargin": true,
           "gridcolor": "#EBF0F8",
           "linecolor": "#EBF0F8",
           "ticks": "",
           "title": {
            "standoff": 15
           },
           "zerolinecolor": "#EBF0F8",
           "zerolinewidth": 2
          },
          "yaxis": {
           "automargin": true,
           "gridcolor": "#EBF0F8",
           "linecolor": "#EBF0F8",
           "ticks": "",
           "title": {
            "standoff": 15
           },
           "zerolinecolor": "#EBF0F8",
           "zerolinewidth": 2
          }
         }
        },
        "title": {
         "text": "Lead Country by Rocket Launches (Year-wise)"
        },
        "width": 1100,
        "xaxis": {
         "anchor": "y",
         "autorange": true,
         "domain": [
          0,
          1
         ],
         "dtick": 1,
         "range": [
          1963.5,
          2020.5
         ],
         "title": {
          "text": "Year"
         },
         "type": "linear"
        },
        "yaxis": {
         "anchor": "x",
         "autorange": true,
         "domain": [
          0,
          1
         ],
         "range": [
          0,
          30.526315789473685
         ],
         "title": {
          "text": "index"
         },
         "type": "linear"
        }
       }
      },
      "image/png": "[encoded data removed]"
     },
     "metadata": {},
     "output_type": "display_data"
    }
   ],
   "source": [
    "lead_country = cleaned_data.groupby(['Year','Country']).agg({'index':'count'}).reset_index()\n",
    "\n",
    "lead_country = (\n",
    "    lead_country.loc[lead_country.groupby('Year')['index'].idxmax()]\n",
    "    .reset_index(drop=True)\n",
    ")\n",
    "\n",
    "fig = px.bar(\n",
    "    lead_country,\n",
    "    x='Year',\n",
    "    y='index',            \n",
    "    color='Country',      \n",
    "    text='Country',         \n",
    "    title='Lead Country by Rocket Launches (Year-wise)',\n",
    "    height=500,\n",
    "    width=1100\n",
    ")\n",
    "\n",
    "fig.update_traces(textposition='outside')\n",
    "fig.update_layout(template='plotly_white', xaxis=dict(dtick=1))\n",
    "fig.show()"
   ]
  },
  {
   "cell_type": "markdown",
   "metadata": {
    "id": "jQcqBfJ8serG"
   },
   "source": [
    "# Year-on-Year Chart Showing the Organisation Doing the Most Number of Launches"
   ]
  },
  {
   "cell_type": "code",
   "execution_count": 353,
   "metadata": {
    "id": "jc9ImQEWsztG"
   },
   "outputs": [],
   "source": [
    "lead_org = cleaned_data.groupby(['Year','Organisation']).agg({'index':'count'}).reset_index()\n",
    "\n",
    "lead_org = (\n",
    "    lead_org.loc[lead_org.groupby('Year')['index'].idxmax()]\n",
    "    .reset_index(drop=True)\n",
    ")\n"
   ]
  },
  {
   "cell_type": "code",
   "execution_count": 354,
   "metadata": {
    "id": "r5frxzwlsz5W"
   },
   "outputs": [
    {
     "data": {
      "application/vnd.plotly.v1+json": {
       "config": {
        "plotlyServerURL": "https://plot.ly"
       },
       "data": [
        {
         "hovertemplate": "Organisation=%{text}<br>Year=%{x}<br>index=%{y}<extra></extra>",
         "legendgroup": "US Air Force",
         "marker": {
          "color": "#636efa",
          "pattern": {
           "shape": ""
          }
         },
         "name": "US Air Force",
         "orientation": "v",
         "showlegend": true,
         "text": [
          "US Air Force",
          "US Air Force",
          "US Air Force",
          "US Air Force",
          "US Air Force"
         ],
         "textposition": "outside",
         "type": "bar",
         "x": {
          "_inputArray": {
           "0": 1964,
           "1": 1965,
           "2": 1966,
           "3": 1967,
           "4": 1968,
           "bdata": "rAcAAK0HAACuBwAArwcAALAHAAA=",
           "dtype": "i4",
           "shape": "5"
          },
          "bdata": "rAcAAK0HAACuBwAArwcAALAHAAA=",
          "dtype": "i4"
         },
         "xaxis": "x",
         "y": {
          "_inputArray": {
           "0": 2,
           "1": 2,
           "2": 3,
           "3": 6,
           "4": 8,
           "bdata": "AgIDBgg=",
           "dtype": "i1",
           "shape": "5"
          },
          "bdata": "AgIDBgg=",
          "dtype": "i1"
         },
         "yaxis": "y"
        },
        {
         "hovertemplate": "Organisation=%{text}<br>Year=%{x}<br>index=%{y}<extra></extra>",
         "legendgroup": "NASA",
         "marker": {
          "color": "#EF553B",
          "pattern": {
           "shape": ""
          }
         },
         "name": "NASA",
         "orientation": "v",
         "showlegend": true,
         "text": [
          "NASA",
          "NASA",
          "NASA",
          "NASA",
          "NASA",
          "NASA",
          "NASA",
          "NASA",
          "NASA",
          "NASA",
          "NASA",
          "NASA",
          "NASA",
          "NASA",
          "NASA",
          "NASA",
          "NASA",
          "NASA",
          "NASA",
          "NASA",
          "NASA",
          "NASA",
          "NASA",
          "NASA"
         ],
         "textposition": "outside",
         "type": "bar",
         "x": {
          "_inputArray": {
           "0": 1969,
           "1": 1970,
           "10": 1986,
           "11": 1988,
           "12": 1989,
           "13": 1990,
           "14": 1991,
           "15": 1992,
           "16": 1993,
           "17": 1994,
           "18": 1995,
           "19": 1996,
           "2": 1971,
           "20": 1997,
           "21": 2000,
           "22": 2001,
           "23": 2002,
           "3": 1972,
           "4": 1973,
           "5": 1981,
           "6": 1982,
           "7": 1983,
           "8": 1984,
           "9": 1985,
           "bdata": "sQcAALIHAACzBwAAtAcAALUHAAC9BwAAvgcAAL8HAADABwAAwQcAAMIHAADEBwAAxQcAAMYHAADHBwAAyAcAAMkHAADKBwAAywcAAMwHAADNBwAA0AcAANEHAADSBwAA",
           "dtype": "i4",
           "shape": "24"
          },
          "bdata": "sQcAALIHAACzBwAAtAcAALUHAAC9BwAAvgcAAL8HAADABwAAwQcAAMIHAADEBwAAxQcAAMYHAADHBwAAyAcAAMkHAADKBwAAywcAAMwHAADNBwAA0AcAANEHAADSBwAA",
          "dtype": "i4"
         },
         "xaxis": "x",
         "y": {
          "_inputArray": {
           "0": 4,
           "1": 1,
           "10": 2,
           "11": 2,
           "12": 5,
           "13": 6,
           "14": 6,
           "15": 8,
           "16": 7,
           "17": 7,
           "18": 7,
           "19": 7,
           "2": 2,
           "20": 8,
           "21": 5,
           "22": 6,
           "23": 5,
           "3": 2,
           "4": 1,
           "5": 2,
           "6": 3,
           "7": 4,
           "8": 5,
           "9": 9,
           "bdata": "BAECAgECAwQFCQICBQYGCAcHBwcIBQYF",
           "dtype": "i1",
           "shape": "24"
          },
          "bdata": "BAECAgECAwQFCQICBQYGCAcHBwcIBQYF",
          "dtype": "i1"
         },
         "yaxis": "y"
        },
        {
         "hovertemplate": "Organisation=%{text}<br>Year=%{x}<br>index=%{y}<extra></extra>",
         "legendgroup": "CASC",
         "marker": {
          "color": "#00cc96",
          "pattern": {
           "shape": ""
          }
         },
         "name": "CASC",
         "orientation": "v",
         "showlegend": true,
         "text": [
          "CASC",
          "CASC",
          "CASC",
          "CASC",
          "CASC",
          "CASC",
          "CASC",
          "CASC",
          "CASC",
          "CASC"
         ],
         "textposition": "outside",
         "type": "bar",
         "x": {
          "_inputArray": {
           "0": 1987,
           "1": 2003,
           "2": 2004,
           "3": 2005,
           "4": 2007,
           "5": 2008,
           "6": 2016,
           "7": 2018,
           "8": 2019,
           "9": 2020,
           "bdata": "wwcAANMHAADUBwAA1QcAANcHAADYBwAA4AcAAOIHAADjBwAA5AcAAA==",
           "dtype": "i4",
           "shape": "10"
          },
          "bdata": "wwcAANMHAADUBwAA1QcAANcHAADYBwAA4AcAAOIHAADjBwAA5AcAAA==",
          "dtype": "i4"
         },
         "xaxis": "x",
         "y": {
          "_inputArray": {
           "0": 2,
           "1": 5,
           "2": 8,
           "3": 3,
           "4": 8,
           "5": 6,
           "6": 15,
           "7": 27,
           "8": 21,
           "9": 16,
           "bdata": "AgUIAwgGDxsVEA==",
           "dtype": "i1",
           "shape": "10"
          },
          "bdata": "AgUIAwgGDxsVEA==",
          "dtype": "i1"
         },
         "yaxis": "y"
        },
        {
         "hovertemplate": "Organisation=%{text}<br>Year=%{x}<br>index=%{y}<extra></extra>",
         "legendgroup": "Northrop",
         "marker": {
          "color": "#ab63fa",
          "pattern": {
           "shape": ""
          }
         },
         "name": "Northrop",
         "orientation": "v",
         "showlegend": true,
         "text": [
          "Northrop",
          "Northrop"
         ],
         "textposition": "outside",
         "type": "bar",
         "x": {
          "_inputArray": {
           "0": 1998,
           "1": 1999,
           "bdata": "zgcAAM8HAAA=",
           "dtype": "i4",
           "shape": "2"
          },
          "bdata": "zgcAAM8HAAA=",
          "dtype": "i4"
         },
         "xaxis": "x",
         "y": {
          "_inputArray": {
           "0": 8,
           "1": 4,
           "bdata": "CAQ=",
           "dtype": "i1",
           "shape": "2"
          },
          "bdata": "CAQ=",
          "dtype": "i1"
         },
         "yaxis": "y"
        },
        {
         "hovertemplate": "Organisation=%{text}<br>Year=%{x}<br>index=%{y}<extra></extra>",
         "legendgroup": "Arianespace",
         "marker": {
          "color": "#FFA15A",
          "pattern": {
           "shape": ""
          }
         },
         "name": "Arianespace",
         "orientation": "v",
         "showlegend": true,
         "text": [
          "Arianespace"
         ],
         "textposition": "outside",
         "type": "bar",
         "x": {
          "_inputArray": {
           "0": 2006,
           "bdata": "1gcAAA==",
           "dtype": "i4",
           "shape": "1"
          },
          "bdata": "1gcAAA==",
          "dtype": "i4"
         },
         "xaxis": "x",
         "y": {
          "_inputArray": {
           "0": 5,
           "bdata": "BQ==",
           "dtype": "i1",
           "shape": "1"
          },
          "bdata": "BQ==",
          "dtype": "i1"
         },
         "yaxis": "y"
        },
        {
         "hovertemplate": "Organisation=%{text}<br>Year=%{x}<br>index=%{y}<extra></extra>",
         "legendgroup": "ULA",
         "marker": {
          "color": "#19d3f3",
          "pattern": {
           "shape": ""
          }
         },
         "name": "ULA",
         "orientation": "v",
         "showlegend": true,
         "text": [
          "ULA",
          "ULA",
          "ULA",
          "ULA",
          "ULA",
          "ULA",
          "ULA"
         ],
         "textposition": "outside",
         "type": "bar",
         "x": {
          "_inputArray": {
           "0": 2009,
           "1": 2010,
           "2": 2011,
           "3": 2012,
           "4": 2013,
           "5": 2014,
           "6": 2015,
           "bdata": "2QcAANoHAADbBwAA3AcAAN0HAADeBwAA3wcAAA==",
           "dtype": "i4",
           "shape": "7"
          },
          "bdata": "2QcAANoHAADbBwAA3AcAAN0HAADeBwAA3wcAAA==",
          "dtype": "i4"
         },
         "xaxis": "x",
         "y": {
          "_inputArray": {
           "0": 7,
           "1": 7,
           "2": 8,
           "3": 8,
           "4": 9,
           "5": 13,
           "6": 10,
           "bdata": "BwcICAkNCg==",
           "dtype": "i1",
           "shape": "7"
          },
          "bdata": "BwcICAkNCg==",
          "dtype": "i1"
         },
         "yaxis": "y"
        },
        {
         "hovertemplate": "Organisation=%{text}<br>Year=%{x}<br>index=%{y}<extra></extra>",
         "legendgroup": "SpaceX",
         "marker": {
          "color": "#FF6692",
          "pattern": {
           "shape": ""
          }
         },
         "name": "SpaceX",
         "orientation": "v",
         "showlegend": true,
         "text": [
          "SpaceX"
         ],
         "textposition": "outside",
         "type": "bar",
         "x": {
          "_inputArray": {
           "0": 2017,
           "bdata": "4QcAAA==",
           "dtype": "i4",
           "shape": "1"
          },
          "bdata": "4QcAAA==",
          "dtype": "i4"
         },
         "xaxis": "x",
         "y": {
          "_inputArray": {
           "0": 18,
           "bdata": "Eg==",
           "dtype": "i1",
           "shape": "1"
          },
          "bdata": "Eg==",
          "dtype": "i1"
         },
         "yaxis": "y"
        }
       ],
       "layout": {
        "barmode": "relative",
        "height": 500,
        "legend": {
         "title": {
          "text": "Organisation"
         },
         "tracegroupgap": 0
        },
        "template": {
         "data": {
          "bar": [
           {
            "error_x": {
             "color": "#2a3f5f"
            },
            "error_y": {
             "color": "#2a3f5f"
            },
            "marker": {
             "line": {
              "color": "white",
              "width": 0.5
             },
             "pattern": {
              "fillmode": "overlay",
              "size": 10,
              "solidity": 0.2
             }
            },
            "type": "bar"
           }
          ],
          "barpolar": [
           {
            "marker": {
             "line": {
              "color": "white",
              "width": 0.5
             },
             "pattern": {
              "fillmode": "overlay",
              "size": 10,
              "solidity": 0.2
             }
            },
            "type": "barpolar"
           }
          ],
          "carpet": [
           {
            "aaxis": {
             "endlinecolor": "#2a3f5f",
             "gridcolor": "#C8D4E3",
             "linecolor": "#C8D4E3",
             "minorgridcolor": "#C8D4E3",
             "startlinecolor": "#2a3f5f"
            },
            "baxis": {
             "endlinecolor": "#2a3f5f",
             "gridcolor": "#C8D4E3",
             "linecolor": "#C8D4E3",
             "minorgridcolor": "#C8D4E3",
             "startlinecolor": "#2a3f5f"
            },
            "type": "carpet"
           }
          ],
          "choropleth": [
           {
            "colorbar": {
             "outlinewidth": 0,
             "ticks": ""
            },
            "type": "choropleth"
           }
          ],
          "contour": [
           {
            "colorbar": {
             "outlinewidth": 0,
             "ticks": ""
            },
            "colorscale": [
             [
              0,
              "#0d0887"
             ],
             [
              0.1111111111111111,
              "#46039f"
             ],
             [
              0.2222222222222222,
              "#7201a8"
             ],
             [
              0.3333333333333333,
              "#9c179e"
             ],
             [
              0.4444444444444444,
              "#bd3786"
             ],
             [
              0.5555555555555556,
              "#d8576b"
             ],
             [
              0.6666666666666666,
              "#ed7953"
             ],
             [
              0.7777777777777778,
              "#fb9f3a"
             ],
             [
              0.8888888888888888,
              "#fdca26"
             ],
             [
              1,
              "#f0f921"
             ]
            ],
            "type": "contour"
           }
          ],
          "contourcarpet": [
           {
            "colorbar": {
             "outlinewidth": 0,
             "ticks": ""
            },
            "type": "contourcarpet"
           }
          ],
          "heatmap": [
           {
            "colorbar": {
             "outlinewidth": 0,
             "ticks": ""
            },
            "colorscale": [
             [
              0,
              "#0d0887"
             ],
             [
              0.1111111111111111,
              "#46039f"
             ],
             [
              0.2222222222222222,
              "#7201a8"
             ],
             [
              0.3333333333333333,
              "#9c179e"
             ],
             [
              0.4444444444444444,
              "#bd3786"
             ],
             [
              0.5555555555555556,
              "#d8576b"
             ],
             [
              0.6666666666666666,
              "#ed7953"
             ],
             [
              0.7777777777777778,
              "#fb9f3a"
             ],
             [
              0.8888888888888888,
              "#fdca26"
             ],
             [
              1,
              "#f0f921"
             ]
            ],
            "type": "heatmap"
           }
          ],
          "histogram": [
           {
            "marker": {
             "pattern": {
              "fillmode": "overlay",
              "size": 10,
              "solidity": 0.2
             }
            },
            "type": "histogram"
           }
          ],
          "histogram2d": [
           {
            "colorbar": {
             "outlinewidth": 0,
             "ticks": ""
            },
            "colorscale": [
             [
              0,
              "#0d0887"
             ],
             [
              0.1111111111111111,
              "#46039f"
             ],
             [
              0.2222222222222222,
              "#7201a8"
             ],
             [
              0.3333333333333333,
              "#9c179e"
             ],
             [
              0.4444444444444444,
              "#bd3786"
             ],
             [
              0.5555555555555556,
              "#d8576b"
             ],
             [
              0.6666666666666666,
              "#ed7953"
             ],
             [
              0.7777777777777778,
              "#fb9f3a"
             ],
             [
              0.8888888888888888,
              "#fdca26"
             ],
             [
              1,
              "#f0f921"
             ]
            ],
            "type": "histogram2d"
           }
          ],
          "histogram2dcontour": [
           {
            "colorbar": {
             "outlinewidth": 0,
             "ticks": ""
            },
            "colorscale": [
             [
              0,
              "#0d0887"
             ],
             [
              0.1111111111111111,
              "#46039f"
             ],
             [
              0.2222222222222222,
              "#7201a8"
             ],
             [
              0.3333333333333333,
              "#9c179e"
             ],
             [
              0.4444444444444444,
              "#bd3786"
             ],
             [
              0.5555555555555556,
              "#d8576b"
             ],
             [
              0.6666666666666666,
              "#ed7953"
             ],
             [
              0.7777777777777778,
              "#fb9f3a"
             ],
             [
              0.8888888888888888,
              "#fdca26"
             ],
             [
              1,
              "#f0f921"
             ]
            ],
            "type": "histogram2dcontour"
           }
          ],
          "mesh3d": [
           {
            "colorbar": {
             "outlinewidth": 0,
             "ticks": ""
            },
            "type": "mesh3d"
           }
          ],
          "parcoords": [
           {
            "line": {
             "colorbar": {
              "outlinewidth": 0,
              "ticks": ""
             }
            },
            "type": "parcoords"
           }
          ],
          "pie": [
           {
            "automargin": true,
            "type": "pie"
           }
          ],
          "scatter": [
           {
            "fillpattern": {
             "fillmode": "overlay",
             "size": 10,
             "solidity": 0.2
            },
            "type": "scatter"
           }
          ],
          "scatter3d": [
           {
            "line": {
             "colorbar": {
              "outlinewidth": 0,
              "ticks": ""
             }
            },
            "marker": {
             "colorbar": {
              "outlinewidth": 0,
              "ticks": ""
             }
            },
            "type": "scatter3d"
           }
          ],
          "scattercarpet": [
           {
            "marker": {
             "colorbar": {
              "outlinewidth": 0,
              "ticks": ""
             }
            },
            "type": "scattercarpet"
           }
          ],
          "scattergeo": [
           {
            "marker": {
             "colorbar": {
              "outlinewidth": 0,
              "ticks": ""
             }
            },
            "type": "scattergeo"
           }
          ],
          "scattergl": [
           {
            "marker": {
             "colorbar": {
              "outlinewidth": 0,
              "ticks": ""
             }
            },
            "type": "scattergl"
           }
          ],
          "scattermap": [
           {
            "marker": {
             "colorbar": {
              "outlinewidth": 0,
              "ticks": ""
             }
            },
            "type": "scattermap"
           }
          ],
          "scattermapbox": [
           {
            "marker": {
             "colorbar": {
              "outlinewidth": 0,
              "ticks": ""
             }
            },
            "type": "scattermapbox"
           }
          ],
          "scatterpolar": [
           {
            "marker": {
             "colorbar": {
              "outlinewidth": 0,
              "ticks": ""
             }
            },
            "type": "scatterpolar"
           }
          ],
          "scatterpolargl": [
           {
            "marker": {
             "colorbar": {
              "outlinewidth": 0,
              "ticks": ""
             }
            },
            "type": "scatterpolargl"
           }
          ],
          "scatterternary": [
           {
            "marker": {
             "colorbar": {
              "outlinewidth": 0,
              "ticks": ""
             }
            },
            "type": "scatterternary"
           }
          ],
          "surface": [
           {
            "colorbar": {
             "outlinewidth": 0,
             "ticks": ""
            },
            "colorscale": [
             [
              0,
              "#0d0887"
             ],
             [
              0.1111111111111111,
              "#46039f"
             ],
             [
              0.2222222222222222,
              "#7201a8"
             ],
             [
              0.3333333333333333,
              "#9c179e"
             ],
             [
              0.4444444444444444,
              "#bd3786"
             ],
             [
              0.5555555555555556,
              "#d8576b"
             ],
             [
              0.6666666666666666,
              "#ed7953"
             ],
             [
              0.7777777777777778,
              "#fb9f3a"
             ],
             [
              0.8888888888888888,
              "#fdca26"
             ],
             [
              1,
              "#f0f921"
             ]
            ],
            "type": "surface"
           }
          ],
          "table": [
           {
            "cells": {
             "fill": {
              "color": "#EBF0F8"
             },
             "line": {
              "color": "white"
             }
            },
            "header": {
             "fill": {
              "color": "#C8D4E3"
             },
             "line": {
              "color": "white"
             }
            },
            "type": "table"
           }
          ]
         },
         "layout": {
          "annotationdefaults": {
           "arrowcolor": "#2a3f5f",
           "arrowhead": 0,
           "arrowwidth": 1
          },
          "autotypenumbers": "strict",
          "coloraxis": {
           "colorbar": {
            "outlinewidth": 0,
            "ticks": ""
           }
          },
          "colorscale": {
           "diverging": [
            [
             0,
             "#8e0152"
            ],
            [
             0.1,
             "#c51b7d"
            ],
            [
             0.2,
             "#de77ae"
            ],
            [
             0.3,
             "#f1b6da"
            ],
            [
             0.4,
             "#fde0ef"
            ],
            [
             0.5,
             "#f7f7f7"
            ],
            [
             0.6,
             "#e6f5d0"
            ],
            [
             0.7,
             "#b8e186"
            ],
            [
             0.8,
             "#7fbc41"
            ],
            [
             0.9,
             "#4d9221"
            ],
            [
             1,
             "#276419"
            ]
           ],
           "sequential": [
            [
             0,
             "#0d0887"
            ],
            [
             0.1111111111111111,
             "#46039f"
            ],
            [
             0.2222222222222222,
             "#7201a8"
            ],
            [
             0.3333333333333333,
             "#9c179e"
            ],
            [
             0.4444444444444444,
             "#bd3786"
            ],
            [
             0.5555555555555556,
             "#d8576b"
            ],
            [
             0.6666666666666666,
             "#ed7953"
            ],
            [
             0.7777777777777778,
             "#fb9f3a"
            ],
            [
             0.8888888888888888,
             "#fdca26"
            ],
            [
             1,
             "#f0f921"
            ]
           ],
           "sequentialminus": [
            [
             0,
             "#0d0887"
            ],
            [
             0.1111111111111111,
             "#46039f"
            ],
            [
             0.2222222222222222,
             "#7201a8"
            ],
            [
             0.3333333333333333,
             "#9c179e"
            ],
            [
             0.4444444444444444,
             "#bd3786"
            ],
            [
             0.5555555555555556,
             "#d8576b"
            ],
            [
             0.6666666666666666,
             "#ed7953"
            ],
            [
             0.7777777777777778,
             "#fb9f3a"
            ],
            [
             0.8888888888888888,
             "#fdca26"
            ],
            [
             1,
             "#f0f921"
            ]
           ]
          },
          "colorway": [
           "#636efa",
           "#EF553B",
           "#00cc96",
           "#ab63fa",
           "#FFA15A",
           "#19d3f3",
           "#FF6692",
           "#B6E880",
           "#FF97FF",
           "#FECB52"
          ],
          "font": {
           "color": "#2a3f5f"
          },
          "geo": {
           "bgcolor": "white",
           "lakecolor": "white",
           "landcolor": "white",
           "showlakes": true,
           "showland": true,
           "subunitcolor": "#C8D4E3"
          },
          "hoverlabel": {
           "align": "left"
          },
          "hovermode": "closest",
          "mapbox": {
           "style": "light"
          },
          "paper_bgcolor": "white",
          "plot_bgcolor": "white",
          "polar": {
           "angularaxis": {
            "gridcolor": "#EBF0F8",
            "linecolor": "#EBF0F8",
            "ticks": ""
           },
           "bgcolor": "white",
           "radialaxis": {
            "gridcolor": "#EBF0F8",
            "linecolor": "#EBF0F8",
            "ticks": ""
           }
          },
          "scene": {
           "xaxis": {
            "backgroundcolor": "white",
            "gridcolor": "#DFE8F3",
            "gridwidth": 2,
            "linecolor": "#EBF0F8",
            "showbackground": true,
            "ticks": "",
            "zerolinecolor": "#EBF0F8"
           },
           "yaxis": {
            "backgroundcolor": "white",
            "gridcolor": "#DFE8F3",
            "gridwidth": 2,
            "linecolor": "#EBF0F8",
            "showbackground": true,
            "ticks": "",
            "zerolinecolor": "#EBF0F8"
           },
           "zaxis": {
            "backgroundcolor": "white",
            "gridcolor": "#DFE8F3",
            "gridwidth": 2,
            "linecolor": "#EBF0F8",
            "showbackground": true,
            "ticks": "",
            "zerolinecolor": "#EBF0F8"
           }
          },
          "shapedefaults": {
           "line": {
            "color": "#2a3f5f"
           }
          },
          "ternary": {
           "aaxis": {
            "gridcolor": "#DFE8F3",
            "linecolor": "#A2B1C6",
            "ticks": ""
           },
           "baxis": {
            "gridcolor": "#DFE8F3",
            "linecolor": "#A2B1C6",
            "ticks": ""
           },
           "bgcolor": "white",
           "caxis": {
            "gridcolor": "#DFE8F3",
            "linecolor": "#A2B1C6",
            "ticks": ""
           }
          },
          "title": {
           "x": 0.05
          },
          "xaxis": {
           "automargin": true,
           "gridcolor": "#EBF0F8",
           "linecolor": "#EBF0F8",
           "ticks": "",
           "title": {
            "standoff": 15
           },
           "zerolinecolor": "#EBF0F8",
           "zerolinewidth": 2
          },
          "yaxis": {
           "automargin": true,
           "gridcolor": "#EBF0F8",
           "linecolor": "#EBF0F8",
           "ticks": "",
           "title": {
            "standoff": 15
           },
           "zerolinecolor": "#EBF0F8",
           "zerolinewidth": 2
          }
         }
        },
        "title": {
         "text": "Lead Organisation by Rocket Launches (Year-wise)"
        },
        "width": 1100,
        "xaxis": {
         "anchor": "y",
         "autorange": true,
         "domain": [
          0,
          1
         ],
         "dtick": 1,
         "range": [
          1963.5,
          2020.5
         ],
         "title": {
          "text": "Year"
         },
         "type": "linear"
        },
        "yaxis": {
         "anchor": "x",
         "autorange": true,
         "domain": [
          0,
          1
         ],
         "range": [
          0,
          28.42105263157895
         ],
         "title": {
          "text": "index"
         },
         "type": "linear"
        }
       }
      }
     },
     "metadata": {},
     "output_type": "display_data"
    }
   ],
   "source": [
    "fig = px.bar(\n",
    "    lead_org,\n",
    "    x='Year',\n",
    "    y='index',            \n",
    "    color='Organisation',      \n",
    "    text='Organisation',         \n",
    "    title='Lead Organisation by Rocket Launches (Year-wise)',\n",
    "    height=500,\n",
    "    width=1100\n",
    ")\n",
    "\n",
    "fig.update_traces(textposition='outside')\n",
    "fig.update_layout(template='plotly_white', xaxis=dict(dtick=1))\n",
    "fig.show()"
   ]
  }
 ],
 "metadata": {
  "colab": {
   "name": "Space Missions Analysis (start).ipynb",
   "provenance": []
  },
  "kernelspec": {
   "display_name": "Python 3 (ipykernel)",
   "language": "python",
   "name": "python3"
  },
  "language_info": {
   "codemirror_mode": {
    "name": "ipython",
    "version": 3
   },
   "file_extension": ".py",
   "mimetype": "text/x-python",
   "name": "python",
   "nbconvert_exporter": "python",
   "pygments_lexer": "ipython3",
   "version": "3.12.7"
  },
  "papermill": {
   "duration": 28.468597,
   "end_time": "2020-10-20T21:34:26.910951",
   "environment_variables": {},
   "exception": null,
   "input_path": "__notebook__.ipynb",
   "output_path": "__notebook__.ipynb",
   "parameters": {},
   "start_time": "2020-10-20T21:33:58.442354",
   "version": "2.1.0"
  }
 },
 "nbformat": 4,
 "nbformat_minor": 4
}
