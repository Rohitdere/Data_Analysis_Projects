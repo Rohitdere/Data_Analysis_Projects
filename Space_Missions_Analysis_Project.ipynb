{
 "cells": [
  {
   "cell_type": "markdown",
   "metadata": {
    "id": "ka_FkvXBiABo"
   },
   "source": [
    "# Introduction"
   ]
  },
  {
   "cell_type": "markdown",
   "metadata": {
    "id": "AWaMmfxXa-p0",
    "papermill": {
     "duration": 0.035434,
     "end_time": "2020-10-20T21:34:01.886225",
     "exception": false,
     "start_time": "2020-10-20T21:34:01.850791",
     "status": "completed"
    },
    "tags": []
   },
   "source": [
    "\n",
    "This dataset was scraped from [nextspaceflight.com](https://nextspaceflight.com/launches/past/?page=1) and includes all the space missions since the beginning of Space Race between the USA and the Soviet Union in 1957!"
   ]
  },
  {
   "cell_type": "markdown",
   "metadata": {
    "id": "ErFDBihUi1jN"
   },
   "source": [
    "### Import Statements"
   ]
  },
  {
   "cell_type": "code",
   "execution_count": 405,
   "metadata": {
    "_cell_guid": "b1076dfc-b9ad-4769-8c92-a6c4dae69d19",
    "_kg_hide-input": true,
    "_kg_hide-output": true,
    "_uuid": "8f2839f25d086af736a60e9eeb907d3b93b6e0e5",
    "colab": {
     "base_uri": "https://localhost:8080/"
    },
    "id": "xdolY0-Sa-p1",
    "outputId": "7142dedb-82e9-457d-db44-cea4e121bdfe",
    "papermill": {
     "duration": 1.665326,
     "end_time": "2020-10-20T21:34:03.726995",
     "exception": false,
     "start_time": "2020-10-20T21:34:02.061669",
     "status": "completed"
    },
    "tags": []
   },
   "outputs": [],
   "source": [
    "import pandas as pd\n",
    "import plotly.express as px\n",
    "from datetime import datetime, timedelta"
   ]
  },
  {
   "cell_type": "markdown",
   "metadata": {
    "id": "lovGPRgKxIgo"
   },
   "source": [
    "### Notebook Presentation"
   ]
  },
  {
   "cell_type": "code",
   "execution_count": 406,
   "metadata": {
    "id": "DHEULCOjxIIm"
   },
   "outputs": [],
   "source": [
    "pd.options.display.float_format = '{:,.2f}'.format"
   ]
  },
  {
   "cell_type": "markdown",
   "metadata": {
    "id": "yaT3QbjEa-p4",
    "papermill": {
     "duration": 0.034606,
     "end_time": "2020-10-20T21:34:03.798396",
     "exception": false,
     "start_time": "2020-10-20T21:34:03.763790",
     "status": "completed"
    },
    "tags": []
   },
   "source": [
    "### Load the Data"
   ]
  },
  {
   "cell_type": "code",
   "execution_count": 407,
   "metadata": {
    "_cell_guid": "79c7e3d0-c299-4dcb-8224-4455121ee9b0",
    "_kg_hide-input": true,
    "_uuid": "d629ff2d2480ee46fbb7e2d37f6b5fab8052498a",
    "id": "0lDOu8aka-p4",
    "papermill": {
     "duration": 0.08876,
     "end_time": "2020-10-20T21:34:03.922028",
     "exception": false,
     "start_time": "2020-10-20T21:34:03.833268",
     "status": "completed"
    },
    "tags": []
   },
   "outputs": [],
   "source": [
    "df_data = pd.read_csv('mission_launches.csv')"
   ]
  },
  {
   "cell_type": "markdown",
   "metadata": {
    "id": "jAnMiVcVjuKB"
   },
   "source": [
    "# Preliminary Data Exploration"
   ]
  },
  {
   "cell_type": "code",
   "execution_count": 408,
   "metadata": {
    "id": "0tIuYcYNlPFQ",
    "scrolled": true
   },
   "outputs": [
    {
     "name": "stdout",
     "output_type": "stream",
     "text": [
      "(4324, 9)\n",
      "Index(['Unnamed: 0.1', 'Unnamed: 0', 'Organisation', 'Location', 'Date',\n",
      "       'Detail', 'Rocket_Status', 'Price', 'Mission_Status'],\n",
      "      dtype='object')\n"
     ]
    }
   ],
   "source": [
    "print(df_data.shape)\n",
    "print(df_data.columns)"
   ]
  },
  {
   "cell_type": "markdown",
   "metadata": {
    "id": "KUN30y6ja-p9",
    "papermill": {
     "duration": 0.05406,
     "end_time": "2020-10-20T21:34:04.149973",
     "exception": false,
     "start_time": "2020-10-20T21:34:04.095913",
     "status": "completed"
    },
    "tags": []
   },
   "source": [
    "## Data Cleaning - Check for Missing Values and Duplicates\n",
    " "
   ]
  },
  {
   "cell_type": "code",
   "execution_count": 409,
   "metadata": {
    "id": "wWQvnJb0k2Ig"
   },
   "outputs": [
    {
     "name": "stdout",
     "output_type": "stream",
     "text": [
      "True\n",
      "False\n"
     ]
    }
   ],
   "source": [
    "cleaned_data = df_data.reset_index()\n",
    "df_data.isna().values.any()\n",
    "print(df_data.isnull().values.any())\n",
    "print(df_data.duplicated().values.any())\n"
   ]
  },
  {
   "cell_type": "code",
   "execution_count": 410,
   "metadata": {},
   "outputs": [
    {
     "data": {
      "text/html": [
       "<div>\n",
       "<style scoped>\n",
       "    .dataframe tbody tr th:only-of-type {\n",
       "        vertical-align: middle;\n",
       "    }\n",
       "\n",
       "    .dataframe tbody tr th {\n",
       "        vertical-align: top;\n",
       "    }\n",
       "\n",
       "    .dataframe thead th {\n",
       "        text-align: right;\n",
       "    }\n",
       "</style>\n",
       "<table border=\"1\" class=\"dataframe\">\n",
       "  <thead>\n",
       "    <tr style=\"text-align: right;\">\n",
       "      <th></th>\n",
       "      <th>Unnamed: 0.1</th>\n",
       "      <th>Unnamed: 0</th>\n",
       "      <th>Organisation</th>\n",
       "      <th>Location</th>\n",
       "      <th>Date</th>\n",
       "      <th>Detail</th>\n",
       "      <th>Rocket_Status</th>\n",
       "      <th>Price</th>\n",
       "      <th>Mission_Status</th>\n",
       "    </tr>\n",
       "  </thead>\n",
       "  <tbody>\n",
       "    <tr>\n",
       "      <th>2</th>\n",
       "      <td>2</td>\n",
       "      <td>2</td>\n",
       "      <td>SpaceX</td>\n",
       "      <td>Pad A, Boca Chica, Texas, USA</td>\n",
       "      <td>Tue Aug 04, 2020 23:57 UTC</td>\n",
       "      <td>Starship Prototype | 150 Meter Hop</td>\n",
       "      <td>StatusActive</td>\n",
       "      <td>NaN</td>\n",
       "      <td>Success</td>\n",
       "    </tr>\n",
       "    <tr>\n",
       "      <th>7</th>\n",
       "      <td>7</td>\n",
       "      <td>7</td>\n",
       "      <td>CASC</td>\n",
       "      <td>LC-101, Wenchang Satellite Launch Center, China</td>\n",
       "      <td>Thu Jul 23, 2020 04:41 UTC</td>\n",
       "      <td>Long March 5 | Tianwen-1</td>\n",
       "      <td>StatusActive</td>\n",
       "      <td>NaN</td>\n",
       "      <td>Success</td>\n",
       "    </tr>\n",
       "    <tr>\n",
       "      <th>13</th>\n",
       "      <td>13</td>\n",
       "      <td>13</td>\n",
       "      <td>IAI</td>\n",
       "      <td>Pad 1, Palmachim Airbase, Israel</td>\n",
       "      <td>Mon Jul 06, 2020 01:00 UTC</td>\n",
       "      <td>Shavit-2 | Ofek-16</td>\n",
       "      <td>StatusActive</td>\n",
       "      <td>NaN</td>\n",
       "      <td>Success</td>\n",
       "    </tr>\n",
       "    <tr>\n",
       "      <th>28</th>\n",
       "      <td>28</td>\n",
       "      <td>28</td>\n",
       "      <td>VKS RF</td>\n",
       "      <td>Site 43/4, Plesetsk Cosmodrome, Russia</td>\n",
       "      <td>Fri May 22, 2020 07:31 UTC</td>\n",
       "      <td>Soyuz 2.1b/Fregat-M | Cosmos 2546</td>\n",
       "      <td>StatusActive</td>\n",
       "      <td>NaN</td>\n",
       "      <td>Success</td>\n",
       "    </tr>\n",
       "    <tr>\n",
       "      <th>31</th>\n",
       "      <td>31</td>\n",
       "      <td>31</td>\n",
       "      <td>ExPace</td>\n",
       "      <td>Site 95, Jiuquan Satellite Launch Center, China</td>\n",
       "      <td>Tue May 12, 2020 01:16 UTC</td>\n",
       "      <td>Kuaizhou 1A | Xingyun-2 01 (Wuhan) &amp; 02</td>\n",
       "      <td>StatusActive</td>\n",
       "      <td>NaN</td>\n",
       "      <td>Success</td>\n",
       "    </tr>\n",
       "    <tr>\n",
       "      <th>...</th>\n",
       "      <td>...</td>\n",
       "      <td>...</td>\n",
       "      <td>...</td>\n",
       "      <td>...</td>\n",
       "      <td>...</td>\n",
       "      <td>...</td>\n",
       "      <td>...</td>\n",
       "      <td>...</td>\n",
       "      <td>...</td>\n",
       "    </tr>\n",
       "    <tr>\n",
       "      <th>4319</th>\n",
       "      <td>4319</td>\n",
       "      <td>4319</td>\n",
       "      <td>US Navy</td>\n",
       "      <td>LC-18A, Cape Canaveral AFS, Florida, USA</td>\n",
       "      <td>Wed Feb 05, 1958 07:33 UTC</td>\n",
       "      <td>Vanguard | Vanguard TV3BU</td>\n",
       "      <td>StatusRetired</td>\n",
       "      <td>NaN</td>\n",
       "      <td>Failure</td>\n",
       "    </tr>\n",
       "    <tr>\n",
       "      <th>4320</th>\n",
       "      <td>4320</td>\n",
       "      <td>4320</td>\n",
       "      <td>AMBA</td>\n",
       "      <td>LC-26A, Cape Canaveral AFS, Florida, USA</td>\n",
       "      <td>Sat Feb 01, 1958 03:48 UTC</td>\n",
       "      <td>Juno I | Explorer 1</td>\n",
       "      <td>StatusRetired</td>\n",
       "      <td>NaN</td>\n",
       "      <td>Success</td>\n",
       "    </tr>\n",
       "    <tr>\n",
       "      <th>4321</th>\n",
       "      <td>4321</td>\n",
       "      <td>4321</td>\n",
       "      <td>US Navy</td>\n",
       "      <td>LC-18A, Cape Canaveral AFS, Florida, USA</td>\n",
       "      <td>Fri Dec 06, 1957 16:44 UTC</td>\n",
       "      <td>Vanguard | Vanguard TV3</td>\n",
       "      <td>StatusRetired</td>\n",
       "      <td>NaN</td>\n",
       "      <td>Failure</td>\n",
       "    </tr>\n",
       "    <tr>\n",
       "      <th>4322</th>\n",
       "      <td>4322</td>\n",
       "      <td>4322</td>\n",
       "      <td>RVSN USSR</td>\n",
       "      <td>Site 1/5, Baikonur Cosmodrome, Kazakhstan</td>\n",
       "      <td>Sun Nov 03, 1957 02:30 UTC</td>\n",
       "      <td>Sputnik 8K71PS | Sputnik-2</td>\n",
       "      <td>StatusRetired</td>\n",
       "      <td>NaN</td>\n",
       "      <td>Success</td>\n",
       "    </tr>\n",
       "    <tr>\n",
       "      <th>4323</th>\n",
       "      <td>4323</td>\n",
       "      <td>4323</td>\n",
       "      <td>RVSN USSR</td>\n",
       "      <td>Site 1/5, Baikonur Cosmodrome, Kazakhstan</td>\n",
       "      <td>Fri Oct 04, 1957 19:28 UTC</td>\n",
       "      <td>Sputnik 8K71PS | Sputnik-1</td>\n",
       "      <td>StatusRetired</td>\n",
       "      <td>NaN</td>\n",
       "      <td>Success</td>\n",
       "    </tr>\n",
       "  </tbody>\n",
       "</table>\n",
       "<p>3360 rows × 9 columns</p>\n",
       "</div>"
      ],
      "text/plain": [
       "      Unnamed: 0.1  Unnamed: 0 Organisation  \\\n",
       "2                2           2       SpaceX   \n",
       "7                7           7         CASC   \n",
       "13              13          13          IAI   \n",
       "28              28          28       VKS RF   \n",
       "31              31          31       ExPace   \n",
       "...            ...         ...          ...   \n",
       "4319          4319        4319      US Navy   \n",
       "4320          4320        4320         AMBA   \n",
       "4321          4321        4321      US Navy   \n",
       "4322          4322        4322    RVSN USSR   \n",
       "4323          4323        4323    RVSN USSR   \n",
       "\n",
       "                                             Location  \\\n",
       "2                       Pad A, Boca Chica, Texas, USA   \n",
       "7     LC-101, Wenchang Satellite Launch Center, China   \n",
       "13                   Pad 1, Palmachim Airbase, Israel   \n",
       "28             Site 43/4, Plesetsk Cosmodrome, Russia   \n",
       "31    Site 95, Jiuquan Satellite Launch Center, China   \n",
       "...                                               ...   \n",
       "4319         LC-18A, Cape Canaveral AFS, Florida, USA   \n",
       "4320         LC-26A, Cape Canaveral AFS, Florida, USA   \n",
       "4321         LC-18A, Cape Canaveral AFS, Florida, USA   \n",
       "4322        Site 1/5, Baikonur Cosmodrome, Kazakhstan   \n",
       "4323        Site 1/5, Baikonur Cosmodrome, Kazakhstan   \n",
       "\n",
       "                            Date                                   Detail  \\\n",
       "2     Tue Aug 04, 2020 23:57 UTC       Starship Prototype | 150 Meter Hop   \n",
       "7     Thu Jul 23, 2020 04:41 UTC                 Long March 5 | Tianwen-1   \n",
       "13    Mon Jul 06, 2020 01:00 UTC                       Shavit-2 | Ofek-16   \n",
       "28    Fri May 22, 2020 07:31 UTC        Soyuz 2.1b/Fregat-M | Cosmos 2546   \n",
       "31    Tue May 12, 2020 01:16 UTC  Kuaizhou 1A | Xingyun-2 01 (Wuhan) & 02   \n",
       "...                          ...                                      ...   \n",
       "4319  Wed Feb 05, 1958 07:33 UTC                Vanguard | Vanguard TV3BU   \n",
       "4320  Sat Feb 01, 1958 03:48 UTC                      Juno I | Explorer 1   \n",
       "4321  Fri Dec 06, 1957 16:44 UTC                  Vanguard | Vanguard TV3   \n",
       "4322  Sun Nov 03, 1957 02:30 UTC               Sputnik 8K71PS | Sputnik-2   \n",
       "4323  Fri Oct 04, 1957 19:28 UTC               Sputnik 8K71PS | Sputnik-1   \n",
       "\n",
       "      Rocket_Status Price Mission_Status  \n",
       "2      StatusActive   NaN        Success  \n",
       "7      StatusActive   NaN        Success  \n",
       "13     StatusActive   NaN        Success  \n",
       "28     StatusActive   NaN        Success  \n",
       "31     StatusActive   NaN        Success  \n",
       "...             ...   ...            ...  \n",
       "4319  StatusRetired   NaN        Failure  \n",
       "4320  StatusRetired   NaN        Success  \n",
       "4321  StatusRetired   NaN        Failure  \n",
       "4322  StatusRetired   NaN        Success  \n",
       "4323  StatusRetired   NaN        Success  \n",
       "\n",
       "[3360 rows x 9 columns]"
      ]
     },
     "execution_count": 410,
     "metadata": {},
     "output_type": "execute_result"
    }
   ],
   "source": [
    "df_data[df_data.isna().any(axis=1)]"
   ]
  },
  {
   "cell_type": "code",
   "execution_count": 411,
   "metadata": {
    "id": "SfxVooCYk2As"
   },
   "outputs": [
    {
     "name": "stdout",
     "output_type": "stream",
     "text": [
      "(4324, 8)\n"
     ]
    },
    {
     "data": {
      "text/html": [
       "<div>\n",
       "<style scoped>\n",
       "    .dataframe tbody tr th:only-of-type {\n",
       "        vertical-align: middle;\n",
       "    }\n",
       "\n",
       "    .dataframe tbody tr th {\n",
       "        vertical-align: top;\n",
       "    }\n",
       "\n",
       "    .dataframe thead th {\n",
       "        text-align: right;\n",
       "    }\n",
       "</style>\n",
       "<table border=\"1\" class=\"dataframe\">\n",
       "  <thead>\n",
       "    <tr style=\"text-align: right;\">\n",
       "      <th></th>\n",
       "      <th>index</th>\n",
       "      <th>Organisation</th>\n",
       "      <th>Location</th>\n",
       "      <th>Date</th>\n",
       "      <th>Detail</th>\n",
       "      <th>Rocket_Status</th>\n",
       "      <th>Price</th>\n",
       "      <th>Mission_Status</th>\n",
       "    </tr>\n",
       "  </thead>\n",
       "  <tbody>\n",
       "    <tr>\n",
       "      <th>4319</th>\n",
       "      <td>4319</td>\n",
       "      <td>US Navy</td>\n",
       "      <td>LC-18A, Cape Canaveral AFS, Florida, USA</td>\n",
       "      <td>Wed Feb 05, 1958 07:33 UTC</td>\n",
       "      <td>Vanguard | Vanguard TV3BU</td>\n",
       "      <td>StatusRetired</td>\n",
       "      <td>NaN</td>\n",
       "      <td>Failure</td>\n",
       "    </tr>\n",
       "    <tr>\n",
       "      <th>4320</th>\n",
       "      <td>4320</td>\n",
       "      <td>AMBA</td>\n",
       "      <td>LC-26A, Cape Canaveral AFS, Florida, USA</td>\n",
       "      <td>Sat Feb 01, 1958 03:48 UTC</td>\n",
       "      <td>Juno I | Explorer 1</td>\n",
       "      <td>StatusRetired</td>\n",
       "      <td>NaN</td>\n",
       "      <td>Success</td>\n",
       "    </tr>\n",
       "    <tr>\n",
       "      <th>4321</th>\n",
       "      <td>4321</td>\n",
       "      <td>US Navy</td>\n",
       "      <td>LC-18A, Cape Canaveral AFS, Florida, USA</td>\n",
       "      <td>Fri Dec 06, 1957 16:44 UTC</td>\n",
       "      <td>Vanguard | Vanguard TV3</td>\n",
       "      <td>StatusRetired</td>\n",
       "      <td>NaN</td>\n",
       "      <td>Failure</td>\n",
       "    </tr>\n",
       "    <tr>\n",
       "      <th>4322</th>\n",
       "      <td>4322</td>\n",
       "      <td>RVSN USSR</td>\n",
       "      <td>Site 1/5, Baikonur Cosmodrome, Kazakhstan</td>\n",
       "      <td>Sun Nov 03, 1957 02:30 UTC</td>\n",
       "      <td>Sputnik 8K71PS | Sputnik-2</td>\n",
       "      <td>StatusRetired</td>\n",
       "      <td>NaN</td>\n",
       "      <td>Success</td>\n",
       "    </tr>\n",
       "    <tr>\n",
       "      <th>4323</th>\n",
       "      <td>4323</td>\n",
       "      <td>RVSN USSR</td>\n",
       "      <td>Site 1/5, Baikonur Cosmodrome, Kazakhstan</td>\n",
       "      <td>Fri Oct 04, 1957 19:28 UTC</td>\n",
       "      <td>Sputnik 8K71PS | Sputnik-1</td>\n",
       "      <td>StatusRetired</td>\n",
       "      <td>NaN</td>\n",
       "      <td>Success</td>\n",
       "    </tr>\n",
       "  </tbody>\n",
       "</table>\n",
       "</div>"
      ],
      "text/plain": [
       "      index Organisation                                   Location  \\\n",
       "4319   4319      US Navy   LC-18A, Cape Canaveral AFS, Florida, USA   \n",
       "4320   4320         AMBA   LC-26A, Cape Canaveral AFS, Florida, USA   \n",
       "4321   4321      US Navy   LC-18A, Cape Canaveral AFS, Florida, USA   \n",
       "4322   4322    RVSN USSR  Site 1/5, Baikonur Cosmodrome, Kazakhstan   \n",
       "4323   4323    RVSN USSR  Site 1/5, Baikonur Cosmodrome, Kazakhstan   \n",
       "\n",
       "                            Date                      Detail  Rocket_Status  \\\n",
       "4319  Wed Feb 05, 1958 07:33 UTC   Vanguard | Vanguard TV3BU  StatusRetired   \n",
       "4320  Sat Feb 01, 1958 03:48 UTC         Juno I | Explorer 1  StatusRetired   \n",
       "4321  Fri Dec 06, 1957 16:44 UTC     Vanguard | Vanguard TV3  StatusRetired   \n",
       "4322  Sun Nov 03, 1957 02:30 UTC  Sputnik 8K71PS | Sputnik-2  StatusRetired   \n",
       "4323  Fri Oct 04, 1957 19:28 UTC  Sputnik 8K71PS | Sputnik-1  StatusRetired   \n",
       "\n",
       "     Price Mission_Status  \n",
       "4319   NaN        Failure  \n",
       "4320   NaN        Success  \n",
       "4321   NaN        Failure  \n",
       "4322   NaN        Success  \n",
       "4323   NaN        Success  "
      ]
     },
     "execution_count": 411,
     "metadata": {},
     "output_type": "execute_result"
    }
   ],
   "source": [
    "cleaned_data = cleaned_data.drop(columns=['Unnamed: 0.1','Unnamed: 0'])\n",
    "print(cleaned_data.shape)\n",
    "cleaned_data.tail(5)"
   ]
  },
  {
   "cell_type": "markdown",
   "metadata": {
    "id": "QHon_T5sa-p_",
    "papermill": {
     "duration": 0.036712,
     "end_time": "2020-10-20T21:34:05.227032",
     "exception": false,
     "start_time": "2020-10-20T21:34:05.190320",
     "status": "completed"
    },
    "tags": []
   },
   "source": [
    "## Descriptive Statistics"
   ]
  },
  {
   "cell_type": "code",
   "execution_count": 412,
   "metadata": {
    "id": "Fh1-libjkJIK"
   },
   "outputs": [
    {
     "name": "stdout",
     "output_type": "stream",
     "text": [
      "index              int64\n",
      "Organisation      object\n",
      "Location          object\n",
      "Date              object\n",
      "Detail            object\n",
      "Rocket_Status     object\n",
      "Price             object\n",
      "Mission_Status    object\n",
      "dtype: object\n"
     ]
    },
    {
     "data": {
      "text/html": [
       "<div>\n",
       "<style scoped>\n",
       "    .dataframe tbody tr th:only-of-type {\n",
       "        vertical-align: middle;\n",
       "    }\n",
       "\n",
       "    .dataframe tbody tr th {\n",
       "        vertical-align: top;\n",
       "    }\n",
       "\n",
       "    .dataframe thead th {\n",
       "        text-align: right;\n",
       "    }\n",
       "</style>\n",
       "<table border=\"1\" class=\"dataframe\">\n",
       "  <thead>\n",
       "    <tr style=\"text-align: right;\">\n",
       "      <th></th>\n",
       "      <th>index</th>\n",
       "    </tr>\n",
       "  </thead>\n",
       "  <tbody>\n",
       "    <tr>\n",
       "      <th>count</th>\n",
       "      <td>4,324.00</td>\n",
       "    </tr>\n",
       "    <tr>\n",
       "      <th>mean</th>\n",
       "      <td>2,161.50</td>\n",
       "    </tr>\n",
       "    <tr>\n",
       "      <th>std</th>\n",
       "      <td>1,248.38</td>\n",
       "    </tr>\n",
       "    <tr>\n",
       "      <th>min</th>\n",
       "      <td>0.00</td>\n",
       "    </tr>\n",
       "    <tr>\n",
       "      <th>25%</th>\n",
       "      <td>1,080.75</td>\n",
       "    </tr>\n",
       "    <tr>\n",
       "      <th>50%</th>\n",
       "      <td>2,161.50</td>\n",
       "    </tr>\n",
       "    <tr>\n",
       "      <th>75%</th>\n",
       "      <td>3,242.25</td>\n",
       "    </tr>\n",
       "    <tr>\n",
       "      <th>max</th>\n",
       "      <td>4,323.00</td>\n",
       "    </tr>\n",
       "  </tbody>\n",
       "</table>\n",
       "</div>"
      ],
      "text/plain": [
       "         index\n",
       "count 4,324.00\n",
       "mean  2,161.50\n",
       "std   1,248.38\n",
       "min       0.00\n",
       "25%   1,080.75\n",
       "50%   2,161.50\n",
       "75%   3,242.25\n",
       "max   4,323.00"
      ]
     },
     "execution_count": 412,
     "metadata": {},
     "output_type": "execute_result"
    }
   ],
   "source": [
    "print(cleaned_data.dtypes)\n",
    "cleaned_data.describe()"
   ]
  },
  {
   "cell_type": "code",
   "execution_count": 413,
   "metadata": {
    "id": "dGZa5HdbkJBT"
   },
   "outputs": [],
   "source": [
    "cleaned_data[\"Price\"] = pd.to_numeric(cleaned_data[\"Price\"].str.replace(\",\",\"\",regex=False))\n",
    "cleaned_data['Price'] = cleaned_data['Price'].round(2)"
   ]
  },
  {
   "cell_type": "markdown",
   "metadata": {
    "id": "cgCjcpeUkKPW"
   },
   "source": [
    "# Number of Launches per Company"
   ]
  },
  {
   "cell_type": "code",
   "execution_count": 414,
   "metadata": {
    "id": "rxvcIrtskxYB"
   },
   "outputs": [
    {
     "data": {
      "text/html": [
       "<div>\n",
       "<style scoped>\n",
       "    .dataframe tbody tr th:only-of-type {\n",
       "        vertical-align: middle;\n",
       "    }\n",
       "\n",
       "    .dataframe tbody tr th {\n",
       "        vertical-align: top;\n",
       "    }\n",
       "\n",
       "    .dataframe thead th {\n",
       "        text-align: right;\n",
       "    }\n",
       "</style>\n",
       "<table border=\"1\" class=\"dataframe\">\n",
       "  <thead>\n",
       "    <tr style=\"text-align: right;\">\n",
       "      <th></th>\n",
       "      <th>Organisation</th>\n",
       "      <th>index</th>\n",
       "      <th>Location</th>\n",
       "      <th>Date</th>\n",
       "      <th>Detail</th>\n",
       "      <th>Rocket_Status</th>\n",
       "      <th>Price</th>\n",
       "      <th>Mission_Status</th>\n",
       "    </tr>\n",
       "  </thead>\n",
       "  <tbody>\n",
       "    <tr>\n",
       "      <th>0</th>\n",
       "      <td>RVSN USSR</td>\n",
       "      <td>1777</td>\n",
       "      <td>1777</td>\n",
       "      <td>1777</td>\n",
       "      <td>1777</td>\n",
       "      <td>1777</td>\n",
       "      <td>2</td>\n",
       "      <td>1777</td>\n",
       "    </tr>\n",
       "    <tr>\n",
       "      <th>1</th>\n",
       "      <td>Arianespace</td>\n",
       "      <td>279</td>\n",
       "      <td>279</td>\n",
       "      <td>279</td>\n",
       "      <td>279</td>\n",
       "      <td>279</td>\n",
       "      <td>96</td>\n",
       "      <td>279</td>\n",
       "    </tr>\n",
       "  </tbody>\n",
       "</table>\n",
       "</div>"
      ],
      "text/plain": [
       "  Organisation  index  Location  Date  Detail  Rocket_Status  Price  \\\n",
       "0    RVSN USSR   1777      1777  1777    1777           1777      2   \n",
       "1  Arianespace    279       279   279     279            279     96   \n",
       "\n",
       "   Mission_Status  \n",
       "0            1777  \n",
       "1             279  "
      ]
     },
     "execution_count": 414,
     "metadata": {},
     "output_type": "execute_result"
    }
   ],
   "source": [
    "launches_per_company = cleaned_data.groupby(\"Organisation\").count().sort_values(by=\"index\",ascending=False).reset_index()\n",
    "launches_per_company.head(2)"
   ]
  },
  {
   "cell_type": "code",
   "execution_count": 415,
   "metadata": {
    "id": "qgneHUbWkw5v"
   },
   "outputs": [
    {
     "data": {
      "application/vnd.plotly.v1+json": {
       "config": {
        "plotlyServerURL": "https://plot.ly"
       },
       "data": [
        {
         "hovertemplate": "x=%{x}<br>y=%{y}<extra></extra>",
         "legendgroup": "",
         "marker": {
          "color": "#636efa",
          "pattern": {
           "shape": ""
          }
         },
         "name": "",
         "orientation": "v",
         "showlegend": false,
         "textposition": "outside",
         "texttemplate": "%{y}",
         "type": "bar",
         "x": [
          "RVSN USSR",
          "Arianespace",
          "General Dynamics",
          "CASC",
          "NASA",
          "VKS RF",
          "US Air Force",
          "ULA",
          "Boeing",
          "Martin Marietta",
          "SpaceX",
          "MHI",
          "Northrop",
          "Lockheed",
          "ISRO",
          "Roscosmos",
          "ILS",
          "Sea Launch",
          "ISAS",
          "Kosmotras",
          "US Navy",
          "Eurockot",
          "ISA",
          "Rocket Lab",
          "ESA",
          "Blue Origin",
          "IAI",
          "ExPace",
          "ASI",
          "CNES",
          "AMBA",
          "Land Launch",
          "MITT",
          "JAXA",
          "UT",
          "CASIC",
          "KCST",
          "CECLES",
          "Exos",
          "Arm??e de l'Air",
          "SRC",
          "AEB",
          "KARI",
          "RAE",
          "OKB-586",
          "Yuzhmash",
          "OneSpace",
          "Sandia",
          "Landspace",
          "Starsem",
          "Khrunichev",
          "IRGC",
          "EER",
          "Douglas",
          "Virgin Orbit",
          "i-Space"
         ],
         "xaxis": "x",
         "y": {
          "_inputArray": {
           "0": 1777,
           "1": 279,
           "10": 100,
           "11": 84,
           "12": 83,
           "13": 79,
           "14": 76,
           "15": 55,
           "16": 46,
           "17": 36,
           "18": 30,
           "19": 22,
           "2": 251,
           "20": 17,
           "21": 13,
           "22": 13,
           "23": 13,
           "24": 13,
           "25": 12,
           "26": 11,
           "27": 10,
           "28": 9,
           "29": 8,
           "3": 251,
           "30": 8,
           "31": 7,
           "32": 7,
           "33": 7,
           "34": 5,
           "35": 5,
           "36": 5,
           "37": 4,
           "38": 4,
           "39": 4,
           "4": 203,
           "40": 3,
           "41": 3,
           "42": 3,
           "43": 2,
           "44": 2,
           "45": 2,
           "46": 1,
           "47": 1,
           "48": 1,
           "49": 1,
           "5": 201,
           "50": 1,
           "51": 1,
           "52": 1,
           "53": 1,
           "54": 1,
           "55": 1,
           "6": 161,
           "7": 140,
           "8": 136,
           "9": 114,
           "bdata": "8QYXAfsA+wDLAMkAoQCMAIgAcgBkAFQAUwBPAEwANwAuACQAHgAWABEADQANAA0ADQAMAAsACgAJAAgACAAHAAcABwAFAAUABQAEAAQABAADAAMAAwACAAIAAgABAAEAAQABAAEAAQABAAEAAQABAA==",
           "dtype": "i2",
           "shape": "56"
          },
          "bdata": "8QYXAfsA+wDLAMkAoQCMAIgAcgBkAFQAUwBPAEwANwAuACQAHgAWABEADQANAA0ADQAMAAsACgAJAAgACAAHAAcABwAFAAUABQAEAAQABAADAAMAAwACAAIAAgABAAEAAQABAAEAAQABAAEAAQABAA==",
          "dtype": "i2"
         },
         "yaxis": "y"
        }
       ],
       "layout": {
        "barmode": "relative",
        "height": 600,
        "legend": {
         "tracegroupgap": 0
        },
        "template": {
         "data": {
          "bar": [
           {
            "error_x": {
             "color": "#2a3f5f"
            },
            "error_y": {
             "color": "#2a3f5f"
            },
            "marker": {
             "line": {
              "color": "white",
              "width": 0.5
             },
             "pattern": {
              "fillmode": "overlay",
              "size": 10,
              "solidity": 0.2
             }
            },
            "type": "bar"
           }
          ],
          "barpolar": [
           {
            "marker": {
             "line": {
              "color": "white",
              "width": 0.5
             },
             "pattern": {
              "fillmode": "overlay",
              "size": 10,
              "solidity": 0.2
             }
            },
            "type": "barpolar"
           }
          ],
          "carpet": [
           {
            "aaxis": {
             "endlinecolor": "#2a3f5f",
             "gridcolor": "#C8D4E3",
             "linecolor": "#C8D4E3",
             "minorgridcolor": "#C8D4E3",
             "startlinecolor": "#2a3f5f"
            },
            "baxis": {
             "endlinecolor": "#2a3f5f",
             "gridcolor": "#C8D4E3",
             "linecolor": "#C8D4E3",
             "minorgridcolor": "#C8D4E3",
             "startlinecolor": "#2a3f5f"
            },
            "type": "carpet"
           }
          ],
          "choropleth": [
           {
            "colorbar": {
             "outlinewidth": 0,
             "ticks": ""
            },
            "type": "choropleth"
           }
          ],
          "contour": [
           {
            "colorbar": {
             "outlinewidth": 0,
             "ticks": ""
            },
            "colorscale": [
             [
              0,
              "#0d0887"
             ],
             [
              0.1111111111111111,
              "#46039f"
             ],
             [
              0.2222222222222222,
              "#7201a8"
             ],
             [
              0.3333333333333333,
              "#9c179e"
             ],
             [
              0.4444444444444444,
              "#bd3786"
             ],
             [
              0.5555555555555556,
              "#d8576b"
             ],
             [
              0.6666666666666666,
              "#ed7953"
             ],
             [
              0.7777777777777778,
              "#fb9f3a"
             ],
             [
              0.8888888888888888,
              "#fdca26"
             ],
             [
              1,
              "#f0f921"
             ]
            ],
            "type": "contour"
           }
          ],
          "contourcarpet": [
           {
            "colorbar": {
             "outlinewidth": 0,
             "ticks": ""
            },
            "type": "contourcarpet"
           }
          ],
          "heatmap": [
           {
            "colorbar": {
             "outlinewidth": 0,
             "ticks": ""
            },
            "colorscale": [
             [
              0,
              "#0d0887"
             ],
             [
              0.1111111111111111,
              "#46039f"
             ],
             [
              0.2222222222222222,
              "#7201a8"
             ],
             [
              0.3333333333333333,
              "#9c179e"
             ],
             [
              0.4444444444444444,
              "#bd3786"
             ],
             [
              0.5555555555555556,
              "#d8576b"
             ],
             [
              0.6666666666666666,
              "#ed7953"
             ],
             [
              0.7777777777777778,
              "#fb9f3a"
             ],
             [
              0.8888888888888888,
              "#fdca26"
             ],
             [
              1,
              "#f0f921"
             ]
            ],
            "type": "heatmap"
           }
          ],
          "histogram": [
           {
            "marker": {
             "pattern": {
              "fillmode": "overlay",
              "size": 10,
              "solidity": 0.2
             }
            },
            "type": "histogram"
           }
          ],
          "histogram2d": [
           {
            "colorbar": {
             "outlinewidth": 0,
             "ticks": ""
            },
            "colorscale": [
             [
              0,
              "#0d0887"
             ],
             [
              0.1111111111111111,
              "#46039f"
             ],
             [
              0.2222222222222222,
              "#7201a8"
             ],
             [
              0.3333333333333333,
              "#9c179e"
             ],
             [
              0.4444444444444444,
              "#bd3786"
             ],
             [
              0.5555555555555556,
              "#d8576b"
             ],
             [
              0.6666666666666666,
              "#ed7953"
             ],
             [
              0.7777777777777778,
              "#fb9f3a"
             ],
             [
              0.8888888888888888,
              "#fdca26"
             ],
             [
              1,
              "#f0f921"
             ]
            ],
            "type": "histogram2d"
           }
          ],
          "histogram2dcontour": [
           {
            "colorbar": {
             "outlinewidth": 0,
             "ticks": ""
            },
            "colorscale": [
             [
              0,
              "#0d0887"
             ],
             [
              0.1111111111111111,
              "#46039f"
             ],
             [
              0.2222222222222222,
              "#7201a8"
             ],
             [
              0.3333333333333333,
              "#9c179e"
             ],
             [
              0.4444444444444444,
              "#bd3786"
             ],
             [
              0.5555555555555556,
              "#d8576b"
             ],
             [
              0.6666666666666666,
              "#ed7953"
             ],
             [
              0.7777777777777778,
              "#fb9f3a"
             ],
             [
              0.8888888888888888,
              "#fdca26"
             ],
             [
              1,
              "#f0f921"
             ]
            ],
            "type": "histogram2dcontour"
           }
          ],
          "mesh3d": [
           {
            "colorbar": {
             "outlinewidth": 0,
             "ticks": ""
            },
            "type": "mesh3d"
           }
          ],
          "parcoords": [
           {
            "line": {
             "colorbar": {
              "outlinewidth": 0,
              "ticks": ""
             }
            },
            "type": "parcoords"
           }
          ],
          "pie": [
           {
            "automargin": true,
            "type": "pie"
           }
          ],
          "scatter": [
           {
            "fillpattern": {
             "fillmode": "overlay",
             "size": 10,
             "solidity": 0.2
            },
            "type": "scatter"
           }
          ],
          "scatter3d": [
           {
            "line": {
             "colorbar": {
              "outlinewidth": 0,
              "ticks": ""
             }
            },
            "marker": {
             "colorbar": {
              "outlinewidth": 0,
              "ticks": ""
             }
            },
            "type": "scatter3d"
           }
          ],
          "scattercarpet": [
           {
            "marker": {
             "colorbar": {
              "outlinewidth": 0,
              "ticks": ""
             }
            },
            "type": "scattercarpet"
           }
          ],
          "scattergeo": [
           {
            "marker": {
             "colorbar": {
              "outlinewidth": 0,
              "ticks": ""
             }
            },
            "type": "scattergeo"
           }
          ],
          "scattergl": [
           {
            "marker": {
             "colorbar": {
              "outlinewidth": 0,
              "ticks": ""
             }
            },
            "type": "scattergl"
           }
          ],
          "scattermap": [
           {
            "marker": {
             "colorbar": {
              "outlinewidth": 0,
              "ticks": ""
             }
            },
            "type": "scattermap"
           }
          ],
          "scattermapbox": [
           {
            "marker": {
             "colorbar": {
              "outlinewidth": 0,
              "ticks": ""
             }
            },
            "type": "scattermapbox"
           }
          ],
          "scatterpolar": [
           {
            "marker": {
             "colorbar": {
              "outlinewidth": 0,
              "ticks": ""
             }
            },
            "type": "scatterpolar"
           }
          ],
          "scatterpolargl": [
           {
            "marker": {
             "colorbar": {
              "outlinewidth": 0,
              "ticks": ""
             }
            },
            "type": "scatterpolargl"
           }
          ],
          "scatterternary": [
           {
            "marker": {
             "colorbar": {
              "outlinewidth": 0,
              "ticks": ""
             }
            },
            "type": "scatterternary"
           }
          ],
          "surface": [
           {
            "colorbar": {
             "outlinewidth": 0,
             "ticks": ""
            },
            "colorscale": [
             [
              0,
              "#0d0887"
             ],
             [
              0.1111111111111111,
              "#46039f"
             ],
             [
              0.2222222222222222,
              "#7201a8"
             ],
             [
              0.3333333333333333,
              "#9c179e"
             ],
             [
              0.4444444444444444,
              "#bd3786"
             ],
             [
              0.5555555555555556,
              "#d8576b"
             ],
             [
              0.6666666666666666,
              "#ed7953"
             ],
             [
              0.7777777777777778,
              "#fb9f3a"
             ],
             [
              0.8888888888888888,
              "#fdca26"
             ],
             [
              1,
              "#f0f921"
             ]
            ],
            "type": "surface"
           }
          ],
          "table": [
           {
            "cells": {
             "fill": {
              "color": "#EBF0F8"
             },
             "line": {
              "color": "white"
             }
            },
            "header": {
             "fill": {
              "color": "#C8D4E3"
             },
             "line": {
              "color": "white"
             }
            },
            "type": "table"
           }
          ]
         },
         "layout": {
          "annotationdefaults": {
           "arrowcolor": "#2a3f5f",
           "arrowhead": 0,
           "arrowwidth": 1
          },
          "autotypenumbers": "strict",
          "coloraxis": {
           "colorbar": {
            "outlinewidth": 0,
            "ticks": ""
           }
          },
          "colorscale": {
           "diverging": [
            [
             0,
             "#8e0152"
            ],
            [
             0.1,
             "#c51b7d"
            ],
            [
             0.2,
             "#de77ae"
            ],
            [
             0.3,
             "#f1b6da"
            ],
            [
             0.4,
             "#fde0ef"
            ],
            [
             0.5,
             "#f7f7f7"
            ],
            [
             0.6,
             "#e6f5d0"
            ],
            [
             0.7,
             "#b8e186"
            ],
            [
             0.8,
             "#7fbc41"
            ],
            [
             0.9,
             "#4d9221"
            ],
            [
             1,
             "#276419"
            ]
           ],
           "sequential": [
            [
             0,
             "#0d0887"
            ],
            [
             0.1111111111111111,
             "#46039f"
            ],
            [
             0.2222222222222222,
             "#7201a8"
            ],
            [
             0.3333333333333333,
             "#9c179e"
            ],
            [
             0.4444444444444444,
             "#bd3786"
            ],
            [
             0.5555555555555556,
             "#d8576b"
            ],
            [
             0.6666666666666666,
             "#ed7953"
            ],
            [
             0.7777777777777778,
             "#fb9f3a"
            ],
            [
             0.8888888888888888,
             "#fdca26"
            ],
            [
             1,
             "#f0f921"
            ]
           ],
           "sequentialminus": [
            [
             0,
             "#0d0887"
            ],
            [
             0.1111111111111111,
             "#46039f"
            ],
            [
             0.2222222222222222,
             "#7201a8"
            ],
            [
             0.3333333333333333,
             "#9c179e"
            ],
            [
             0.4444444444444444,
             "#bd3786"
            ],
            [
             0.5555555555555556,
             "#d8576b"
            ],
            [
             0.6666666666666666,
             "#ed7953"
            ],
            [
             0.7777777777777778,
             "#fb9f3a"
            ],
            [
             0.8888888888888888,
             "#fdca26"
            ],
            [
             1,
             "#f0f921"
            ]
           ]
          },
          "colorway": [
           "#636efa",
           "#EF553B",
           "#00cc96",
           "#ab63fa",
           "#FFA15A",
           "#19d3f3",
           "#FF6692",
           "#B6E880",
           "#FF97FF",
           "#FECB52"
          ],
          "font": {
           "color": "#2a3f5f"
          },
          "geo": {
           "bgcolor": "white",
           "lakecolor": "white",
           "landcolor": "white",
           "showlakes": true,
           "showland": true,
           "subunitcolor": "#C8D4E3"
          },
          "hoverlabel": {
           "align": "left"
          },
          "hovermode": "closest",
          "mapbox": {
           "style": "light"
          },
          "paper_bgcolor": "white",
          "plot_bgcolor": "white",
          "polar": {
           "angularaxis": {
            "gridcolor": "#EBF0F8",
            "linecolor": "#EBF0F8",
            "ticks": ""
           },
           "bgcolor": "white",
           "radialaxis": {
            "gridcolor": "#EBF0F8",
            "linecolor": "#EBF0F8",
            "ticks": ""
           }
          },
          "scene": {
           "xaxis": {
            "backgroundcolor": "white",
            "gridcolor": "#DFE8F3",
            "gridwidth": 2,
            "linecolor": "#EBF0F8",
            "showbackground": true,
            "ticks": "",
            "zerolinecolor": "#EBF0F8"
           },
           "yaxis": {
            "backgroundcolor": "white",
            "gridcolor": "#DFE8F3",
            "gridwidth": 2,
            "linecolor": "#EBF0F8",
            "showbackground": true,
            "ticks": "",
            "zerolinecolor": "#EBF0F8"
           },
           "zaxis": {
            "backgroundcolor": "white",
            "gridcolor": "#DFE8F3",
            "gridwidth": 2,
            "linecolor": "#EBF0F8",
            "showbackground": true,
            "ticks": "",
            "zerolinecolor": "#EBF0F8"
           }
          },
          "shapedefaults": {
           "line": {
            "color": "#2a3f5f"
           }
          },
          "ternary": {
           "aaxis": {
            "gridcolor": "#DFE8F3",
            "linecolor": "#A2B1C6",
            "ticks": ""
           },
           "baxis": {
            "gridcolor": "#DFE8F3",
            "linecolor": "#A2B1C6",
            "ticks": ""
           },
           "bgcolor": "white",
           "caxis": {
            "gridcolor": "#DFE8F3",
            "linecolor": "#A2B1C6",
            "ticks": ""
           }
          },
          "title": {
           "x": 0.05
          },
          "xaxis": {
           "automargin": true,
           "gridcolor": "#EBF0F8",
           "linecolor": "#EBF0F8",
           "ticks": "",
           "title": {
            "standoff": 15
           },
           "zerolinecolor": "#EBF0F8",
           "zerolinewidth": 2
          },
          "yaxis": {
           "automargin": true,
           "gridcolor": "#EBF0F8",
           "linecolor": "#EBF0F8",
           "ticks": "",
           "title": {
            "standoff": 15
           },
           "zerolinecolor": "#EBF0F8",
           "zerolinewidth": 2
          }
         }
        },
        "title": {
         "text": "Number of Launches per Organisation"
        },
        "width": 900,
        "xaxis": {
         "anchor": "y",
         "autorange": true,
         "domain": [
          0,
          1
         ],
         "range": [
          -0.5,
          55.5
         ],
         "tickangle": 65,
         "title": {
          "text": "Organisations"
         },
         "type": "category"
        },
        "yaxis": {
         "anchor": "x",
         "autorange": true,
         "domain": [
          0,
          1
         ],
         "range": [
          0,
          1870.5263157894738
         ],
         "title": {
          "text": "number of launches"
         },
         "type": "linear"
        }
       }
      },
      "image/png": "[encoded data removed]"
     },
     "metadata": {},
     "output_type": "display_data"
    }
   ],
   "source": [
    "fig = px.bar(x= launches_per_company[\"Organisation\"], y= launches_per_company[\"index\"], title=\"Number of Launches per Organisation\")\n",
    "fig.update_traces(texttemplate='%{y}', textposition='outside')\n",
    "fig.update_xaxes(title_text=\"Organisations\",tickangle=65)\n",
    "fig.update_yaxes(title_text=\"number of launches\")\n",
    "fig.update_layout(\n",
    "    height=600, \n",
    "    width=900,\n",
    "    template=\"plotly_white\"\n",
    ")\n",
    "\n",
    "fig.show()"
   ]
  },
  {
   "cell_type": "markdown",
   "metadata": {
    "id": "7Gwteht2kR_h"
   },
   "source": [
    "# Number of Active versus Retired Rockets"
   ]
  },
  {
   "cell_type": "code",
   "execution_count": 416,
   "metadata": {
    "id": "SxmOWS9cmTq6"
   },
   "outputs": [
    {
     "data": {
      "text/html": [
       "<div>\n",
       "<style scoped>\n",
       "    .dataframe tbody tr th:only-of-type {\n",
       "        vertical-align: middle;\n",
       "    }\n",
       "\n",
       "    .dataframe tbody tr th {\n",
       "        vertical-align: top;\n",
       "    }\n",
       "\n",
       "    .dataframe thead th {\n",
       "        text-align: right;\n",
       "    }\n",
       "</style>\n",
       "<table border=\"1\" class=\"dataframe\">\n",
       "  <thead>\n",
       "    <tr style=\"text-align: right;\">\n",
       "      <th></th>\n",
       "      <th>Rocket_Status</th>\n",
       "      <th>Count</th>\n",
       "    </tr>\n",
       "  </thead>\n",
       "  <tbody>\n",
       "    <tr>\n",
       "      <th>0</th>\n",
       "      <td>StatusActive</td>\n",
       "      <td>790</td>\n",
       "    </tr>\n",
       "    <tr>\n",
       "      <th>1</th>\n",
       "      <td>StatusRetired</td>\n",
       "      <td>3534</td>\n",
       "    </tr>\n",
       "  </tbody>\n",
       "</table>\n",
       "</div>"
      ],
      "text/plain": [
       "   Rocket_Status  Count\n",
       "0   StatusActive    790\n",
       "1  StatusRetired   3534"
      ]
     },
     "execution_count": 416,
     "metadata": {},
     "output_type": "execute_result"
    }
   ],
   "source": [
    "active_vs_retired = cleaned_data.groupby(\"Rocket_Status\").agg({\"index\":\"count\"})\n",
    "active_vs_retired = active_vs_retired.rename(columns={\"index\":\"Count\"}).reset_index()\n",
    "active_vs_retired"
   ]
  },
  {
   "cell_type": "markdown",
   "metadata": {
    "id": "y9WtP5xWkYkp"
   },
   "source": [
    "# Distribution of Mission Status"
   ]
  },
  {
   "cell_type": "code",
   "execution_count": 417,
   "metadata": {
    "id": "83kY1alqmUhb"
   },
   "outputs": [
    {
     "data": {
      "text/html": [
       "<div>\n",
       "<style scoped>\n",
       "    .dataframe tbody tr th:only-of-type {\n",
       "        vertical-align: middle;\n",
       "    }\n",
       "\n",
       "    .dataframe tbody tr th {\n",
       "        vertical-align: top;\n",
       "    }\n",
       "\n",
       "    .dataframe thead th {\n",
       "        text-align: right;\n",
       "    }\n",
       "</style>\n",
       "<table border=\"1\" class=\"dataframe\">\n",
       "  <thead>\n",
       "    <tr style=\"text-align: right;\">\n",
       "      <th></th>\n",
       "      <th>Mission_Status</th>\n",
       "      <th>Count</th>\n",
       "    </tr>\n",
       "  </thead>\n",
       "  <tbody>\n",
       "    <tr>\n",
       "      <th>0</th>\n",
       "      <td>Failure</td>\n",
       "      <td>339</td>\n",
       "    </tr>\n",
       "    <tr>\n",
       "      <th>1</th>\n",
       "      <td>Partial Failure</td>\n",
       "      <td>102</td>\n",
       "    </tr>\n",
       "    <tr>\n",
       "      <th>2</th>\n",
       "      <td>Prelaunch Failure</td>\n",
       "      <td>4</td>\n",
       "    </tr>\n",
       "    <tr>\n",
       "      <th>3</th>\n",
       "      <td>Success</td>\n",
       "      <td>3879</td>\n",
       "    </tr>\n",
       "  </tbody>\n",
       "</table>\n",
       "</div>"
      ],
      "text/plain": [
       "      Mission_Status  Count\n",
       "0            Failure    339\n",
       "1    Partial Failure    102\n",
       "2  Prelaunch Failure      4\n",
       "3            Success   3879"
      ]
     },
     "execution_count": 417,
     "metadata": {},
     "output_type": "execute_result"
    }
   ],
   "source": [
    "mission_status = cleaned_data.groupby(\"Mission_Status\").agg({\"index\":\"count\"})\n",
    "mission_status = mission_status.rename(columns={\"index\":\"Count\"}).reset_index()\n",
    "mission_status"
   ]
  },
  {
   "cell_type": "markdown",
   "metadata": {
    "id": "jgTCihuoa-qH",
    "papermill": {
     "duration": 0.03854,
     "end_time": "2020-10-20T21:34:05.968626",
     "exception": false,
     "start_time": "2020-10-20T21:34:05.930086",
     "status": "completed"
    },
    "tags": []
   },
   "source": [
    "# How Expensive are the Launches? "
   ]
  },
  {
   "cell_type": "code",
   "execution_count": 418,
   "metadata": {
    "id": "PLOMhzZFnSCO"
   },
   "outputs": [],
   "source": [
    "\n",
    "launch_cost = cleaned_data.groupby(\"Mission_Status\").agg({\"index\":\"count\",\n",
    "                                                            \"Price\":\"sum\"})\n",
    "launch_cost = launch_cost.rename(columns={\"index\":\"Count\"}).reset_index()"
   ]
  },
  {
   "cell_type": "code",
   "execution_count": 419,
   "metadata": {
    "id": "ru0IcY4nnSFU"
   },
   "outputs": [
    {
     "data": {
      "application/vnd.plotly.v1+json": {
       "config": {
        "plotlyServerURL": "https://plot.ly"
       },
       "data": [
        {
         "bingroup": "x",
         "hovertemplate": "Price=%{x}<br>count=%{y}<extra></extra>",
         "legendgroup": "",
         "marker": {
          "color": "#636efa",
          "pattern": {
           "shape": ""
          }
         },
         "name": "",
         "nbinsx": 50,
         "orientation": "v",
         "showlegend": false,
         "type": "histogram",
         "x": {
          "_inputArray": {
           "0": 50,
           "1": 29.75,
           "10": 29.15,
           "100": 5.3,
           "101": 65,
           "102": 50,
           "103": 64.68,
           "104": 21,
           "105": 7.5,
           "106": 50,
           "107": 64.68,
           "108": 29.15,
           "109": 85,
           "11": 29.75,
           "110": 90,
           "111": 48.5,
           "112": 21,
           "113": 29.15,
           "114": 7.5,
           "115": 37,
           "116": 29.15,
           "117": 50,
           "118": 50,
           "119": 200,
           "12": 7.5,
           "120": 5.3,
           "121": 350,
           "122": 39,
           "123": 50,
           "124": 29.15,
           "125": 48.5,
           "126": 50,
           "127": 5.3,
           "128": 65,
           "129": 47,
           "13": 64.68,
           "130": 7.5,
           "131": 29.15,
           "132": 29.75,
           "133": 50,
           "134": 200,
           "135": 50,
           "136": 41.8,
           "137": 21,
           "138": 37,
           "139": 29.75,
           "14": 50,
           "140": 85,
           "141": 50,
           "142": 62,
           "143": 7.5,
           "144": 48.5,
           "145": 29.15,
           "146": 90,
           "147": 30.8,
           "148": 35,
           "149": 64.68,
           "15": 29.15,
           "150": 200,
           "151": 153,
           "152": 30.8,
           "153": 50,
           "154": 200,
           "155": 112.5,
           "156": 21,
           "157": 50,
           "158": 30.8,
           "159": 37,
           "16": 29.75,
           "160": 350,
           "161": 50,
           "162": 64.68,
           "163": 50,
           "164": 50,
           "165": 48.5,
           "166": 69.7,
           "167": 30.8,
           "168": 62,
           "169": 30.8,
           "17": 50,
           "170": 90,
           "171": 69.7,
           "172": 62,
           "173": 29.75,
           "174": 62,
           "175": 85,
           "176": 64.68,
           "177": 50,
           "178": 64.68,
           "179": 109,
           "18": 7.5,
           "180": 29.15,
           "181": 5.3,
           "182": 41.8,
           "183": 62,
           "184": 65,
           "185": 153,
           "186": 31,
           "187": 64.68,
           "188": 200,
           "189": 62,
           "19": 30.8,
           "190": 64.68,
           "191": 62,
           "192": 47,
           "193": 29.75,
           "194": 62,
           "195": 145,
           "196": 90,
           "197": 62,
           "198": 48.5,
           "199": 90,
           "2": 65,
           "20": 50,
           "200": 29.75,
           "201": 48.5,
           "202": 62,
           "203": 200,
           "204": 30.8,
           "205": 7.5,
           "206": 115,
           "207": 5.3,
           "208": 39,
           "209": 29.75,
           "21": 29.75,
           "210": 31,
           "211": 29.75,
           "212": 62,
           "213": 30.8,
           "214": 29.75,
           "215": 62,
           "216": 90,
           "217": 62,
           "218": 29.15,
           "219": 29.75,
           "22": 50,
           "220": 35,
           "221": 30.8,
           "222": 64.68,
           "223": 85,
           "224": 37,
           "225": 45,
           "226": 62,
           "227": 123,
           "228": 48.5,
           "229": 41.8,
           "23": 5.3,
           "230": 62,
           "231": 90,
           "232": 62,
           "233": 29.75,
           "234": 200,
           "235": 30.8,
           "236": 65,
           "237": 145,
           "238": 65,
           "239": 62,
           "24": 12,
           "240": 31,
           "241": 46,
           "242": 62,
           "243": 109,
           "244": 65,
           "245": 62,
           "246": 37,
           "247": 48.5,
           "248": 62,
           "249": 200,
           "25": 112.5,
           "250": 62,
           "251": 62,
           "252": 31,
           "253": 29.15,
           "254": 64.68,
           "255": 48.5,
           "256": 65,
           "257": 62,
           "258": 62,
           "259": 200,
           "26": 120,
           "260": 90,
           "261": 7.5,
           "262": 62,
           "263": 47,
           "264": 200,
           "265": 62,
           "266": 109,
           "267": 29.15,
           "268": 62,
           "269": 90,
           "27": 48.5,
           "270": 62,
           "271": 37,
           "272": 109,
           "273": 62,
           "274": 31,
           "275": 200,
           "276": 109,
           "277": 62,
           "278": 29.15,
           "279": 29.75,
           "28": 50,
           "280": 200,
           "281": 29.75,
           "282": 130,
           "283": 40,
           "284": 29.15,
           "285": 112.5,
           "286": 31,
           "287": 37,
           "288": 145,
           "289": 29.75,
           "29": 29.15,
           "290": 109,
           "291": 5.3,
           "292": 90,
           "293": 85,
           "294": 200,
           "295": 25,
           "296": 37,
           "297": 115,
           "298": 47,
           "299": 62,
           "3": 145,
           "30": 48.5,
           "300": 64.68,
           "301": 200,
           "302": 164,
           "303": 29.75,
           "304": 62,
           "305": 64.68,
           "306": 29.15,
           "307": 123,
           "308": 62,
           "309": 64.68,
           "31": 153,
           "310": 153,
           "311": 31,
           "312": 200,
           "313": 62,
           "314": 350,
           "315": 65,
           "316": 41.8,
           "317": 64.68,
           "318": 48.5,
           "319": 62,
           "32": 30.8,
           "320": 29.75,
           "321": 62,
           "322": 31,
           "323": 62,
           "324": 29.75,
           "325": 48.5,
           "326": 69.7,
           "327": 48.5,
           "328": 109,
           "329": 65,
           "33": 48.5,
           "330": 35,
           "331": 31,
           "332": 200,
           "333": 62,
           "334": 90,
           "335": 41.8,
           "336": 48.5,
           "337": 109,
           "338": 65,
           "339": 200,
           "34": 50,
           "340": 31,
           "341": 56.5,
           "342": 29.15,
           "343": 62,
           "344": 21,
           "345": 109,
           "346": 37,
           "347": 200,
           "348": 15,
           "349": 109,
           "35": 29.15,
           "350": 109,
           "351": 123,
           "352": 200,
           "353": 31,
           "354": 5.3,
           "355": 41.8,
           "356": 153,
           "357": 47,
           "358": 200,
           "359": 112.5,
           "36": 50,
           "360": 200,
           "361": 109,
           "362": 31,
           "363": 56.5,
           "364": 37,
           "365": 200,
           "366": 120,
           "367": 56.5,
           "368": 200,
           "369": 56.5,
           "37": 48.5,
           "370": 41.8,
           "371": 31,
           "372": 90,
           "373": 29,
           "374": 164,
           "375": 123,
           "376": 56.5,
           "377": 56.5,
           "378": 37,
           "379": 90,
           "38": 29.75,
           "380": 153,
           "381": 56.5,
           "382": 62,
           "383": 145,
           "384": 200,
           "385": 350,
           "386": 90,
           "387": 29,
           "388": 109,
           "389": 80,
           "39": 200,
           "390": 200,
           "391": 31,
           "392": 90,
           "393": 56.5,
           "394": 109,
           "395": 200,
           "396": 56.5,
           "397": 109,
           "398": 56.5,
           "399": 109,
           "4": 64.68,
           "40": 50,
           "400": 164,
           "401": 56.5,
           "402": 80,
           "403": 41.8,
           "404": 21,
           "405": 29,
           "406": 90,
           "407": 41.8,
           "408": 109,
           "409": 164,
           "41": 85,
           "410": 37,
           "411": 56.5,
           "412": 145,
           "413": 31,
           "414": 109,
           "415": 200,
           "416": 90,
           "417": 164,
           "418": 200,
           "419": 109,
           "42": 115,
           "420": 80,
           "421": 56.5,
           "422": 47,
           "423": 41.8,
           "424": 120,
           "425": 56.5,
           "426": 41.8,
           "427": 29,
           "428": 40,
           "429": 109,
           "43": 90,
           "430": 31,
           "431": 56.5,
           "432": 140,
           "433": 80,
           "434": 41.8,
           "435": 55,
           "436": 200,
           "437": 350,
           "438": 29,
           "439": 112.5,
           "44": 48.5,
           "440": 200,
           "441": 153,
           "442": 65,
           "443": 31,
           "444": 40,
           "445": 109,
           "446": 37,
           "447": 80,
           "448": 109,
           "449": 59.5,
           "45": 7.5,
           "450": 21,
           "451": 109,
           "452": 200,
           "453": 109,
           "454": 90,
           "455": 41.8,
           "456": 200,
           "457": 120,
           "458": 80,
           "459": 200,
           "46": 50,
           "460": 59.5,
           "461": 164,
           "462": 200,
           "463": 109,
           "464": 21,
           "465": 109,
           "466": 200,
           "467": 41.8,
           "468": 112.5,
           "469": 200,
           "47": 50,
           "470": 350,
           "471": 109,
           "472": 40,
           "473": 59.5,
           "474": 90,
           "475": 200,
           "476": 140,
           "477": 31,
           "478": 31,
           "479": 153,
           "48": 200,
           "480": 37,
           "481": 80,
           "482": 90,
           "483": 145,
           "484": 21,
           "485": 46,
           "486": 90,
           "487": 200,
           "488": 90,
           "489": 29,
           "49": 29.75,
           "490": 200,
           "491": 153,
           "492": 164,
           "493": 31,
           "494": 450,
           "495": 40,
           "496": 200,
           "497": 450,
           "498": 109,
           "499": 200,
           "5": 48.5,
           "50": 29.15,
           "500": 25,
           "501": 115,
           "502": 164,
           "503": 120,
           "504": 45,
           "505": 450,
           "506": 40,
           "507": 41.8,
           "508": 112.5,
           "509": 350,
           "51": 50,
           "510": 200,
           "511": 47,
           "512": 59.5,
           "513": 200,
           "514": 350,
           "515": 46,
           "516": 200,
           "517": 46,
           "518": 120,
           "519": 41.8,
           "52": 41.8,
           "520": 140,
           "521": 200,
           "522": 21,
           "523": 200,
           "524": 29,
           "525": 29,
           "526": 59.5,
           "527": 41.8,
           "528": 164,
           "529": 200,
           "53": 65,
           "530": 450,
           "531": 90,
           "532": 120,
           "533": 47,
           "534": 29,
           "535": 450,
           "536": 164,
           "537": 109,
           "538": 450,
           "539": 90,
           "54": 64.68,
           "540": 130,
           "541": 450,
           "542": 41.8,
           "543": 200,
           "544": 450,
           "545": 109,
           "546": 200,
           "547": 21,
           "548": 112.5,
           "549": 109,
           "55": 50,
           "550": 450,
           "551": 200,
           "552": 29,
           "553": 450,
           "554": 7,
           "555": 41.8,
           "556": 200,
           "557": 164,
           "558": 123,
           "559": 40,
           "56": 21,
           "560": 200,
           "561": 450,
           "562": 21,
           "563": 123,
           "564": 41.8,
           "565": 450,
           "566": 45,
           "567": 200,
           "568": 90,
           "569": 350,
           "57": 48.5,
           "570": 200,
           "571": 450,
           "572": 29.75,
           "573": 29.75,
           "574": 29.15,
           "575": 64.68,
           "576": 31,
           "577": 40,
           "578": 29,
           "579": 7,
           "58": 48.5,
           "580": 29,
           "581": 200,
           "582": 7,
           "583": 200,
           "584": 200,
           "585": 450,
           "586": 64.68,
           "587": 41.8,
           "588": 21,
           "589": 20.14,
           "59": 7.5,
           "590": 200,
           "591": 40,
           "592": 123,
           "593": 115,
           "594": 450,
           "595": 90,
           "596": 450,
           "597": 21,
           "598": 109,
           "599": 200,
           "6": 50,
           "60": 50,
           "600": 64.68,
           "601": 350,
           "602": 450,
           "603": 123,
           "604": 64.68,
           "605": 47,
           "606": 200,
           "607": 450,
           "608": 29,
           "609": 109,
           "61": 64.68,
           "610": 29,
           "611": 450,
           "612": 69.7,
           "613": 29.75,
           "614": 29.15,
           "615": 200,
           "616": 40,
           "617": 40,
           "618": 21,
           "619": 29,
           "62": 31,
           "620": 69.7,
           "621": 30.8,
           "622": 7,
           "623": 200,
           "624": 109,
           "625": 69.7,
           "626": 25,
           "627": 40,
           "628": 450,
           "629": 200,
           "63": 200,
           "630": 69.7,
           "631": 133,
           "632": 64.68,
           "633": 200,
           "634": 69.7,
           "635": 90,
           "636": 450,
           "637": 30.8,
           "638": 200,
           "639": 41.8,
           "64": 50,
           "640": 29,
           "641": 29,
           "642": 47,
           "643": 450,
           "644": 164,
           "645": 200,
           "646": 164,
           "647": 64.68,
           "648": 115,
           "649": 40,
           "65": 29.15,
           "650": 40,
           "651": 7,
           "652": 200,
           "653": 153,
           "654": 200,
           "655": 41.8,
           "656": 40,
           "657": 29.75,
           "658": 41.8,
           "659": 29,
           "66": 64.68,
           "660": 109,
           "661": 30.8,
           "662": 450,
           "663": 29.75,
           "664": 25,
           "665": 40,
           "666": 40,
           "667": 130,
           "668": 200,
           "669": 350,
           "67": 85,
           "670": 190,
           "671": 135,
           "672": 30.8,
           "673": 48.5,
           "674": 64.68,
           "675": 69.7,
           "676": 29.75,
           "677": 47,
           "678": 64.68,
           "679": 30.8,
           "68": 29.15,
           "680": 30.8,
           "681": 190,
           "682": 29,
           "683": 45,
           "684": 30.8,
           "685": 190,
           "686": 30.8,
           "687": 69.7,
           "688": 29.75,
           "689": 41.8,
           "69": 7.5,
           "690": 64.68,
           "691": 35,
           "692": 25,
           "693": 133,
           "694": 40,
           "695": 135,
           "696": 41.8,
           "697": 40,
           "698": 69.7,
           "699": 109,
           "7": 90,
           "70": 40,
           "700": 47,
           "701": 40,
           "702": 133,
           "703": 40,
           "704": 450,
           "705": 35,
           "706": 29,
           "707": 90,
           "708": 200,
           "709": 450,
           "71": 65,
           "710": 164,
           "711": 64.68,
           "712": 450,
           "713": 25,
           "714": 109,
           "715": 35,
           "716": 41.8,
           "717": 450,
           "718": 64.68,
           "719": 450,
           "72": 64.68,
           "720": 41.8,
           "721": 450,
           "722": 40,
           "723": 450,
           "724": 25,
           "725": 45,
           "726": 90,
           "727": 450,
           "728": 450,
           "729": 450,
           "73": 48.5,
           "730": 47,
           "731": 450,
           "732": 450,
           "733": 69.7,
           "734": 450,
           "735": 69.7,
           "736": 450,
           "737": 40,
           "738": 29,
           "739": 35,
           "74": 29.75,
           "740": 450,
           "741": 40,
           "742": 40,
           "743": 450,
           "744": 41.8,
           "745": 45,
           "746": 450,
           "747": 40,
           "748": 69.7,
           "749": 45,
           "75": 112.5,
           "750": 450,
           "751": 35,
           "752": 40,
           "753": 64.68,
           "754": 450,
           "755": 35,
           "756": 30.8,
           "757": 25,
           "758": 450,
           "759": 40,
           "76": 5.3,
           "760": 64.68,
           "761": 29,
           "762": 40,
           "763": 30.8,
           "764": 40,
           "765": 450,
           "766": 450,
           "767": 40,
           "768": 45,
           "769": 40,
           "77": 64.68,
           "770": 30.8,
           "771": 40,
           "772": 450,
           "773": 35,
           "774": 30.8,
           "775": 450,
           "776": 40,
           "777": 30.8,
           "778": 40,
           "779": 45,
           "78": 41.8,
           "780": 450,
           "781": 40,
           "782": 30.8,
           "783": 450,
           "784": 40,
           "785": 25,
           "786": 450,
           "787": 30.8,
           "788": 40,
           "789": 450,
           "79": 164,
           "790": 40,
           "791": 450,
           "792": 450,
           "793": 69.7,
           "794": 40,
           "795": 450,
           "796": 35,
           "797": 450,
           "798": 450,
           "799": 450,
           "8": 46,
           "80": 48.5,
           "800": 40,
           "801": 29.75,
           "802": 450,
           "803": 40,
           "804": 40,
           "805": 450,
           "806": 450,
           "807": 40,
           "808": 450,
           "809": 25,
           "81": 7.5,
           "810": 40,
           "811": 450,
           "812": 450,
           "813": 450,
           "814": 20,
           "815": 450,
           "816": 450,
           "817": 450,
           "818": 450,
           "819": 40,
           "82": 29.15,
           "820": 40,
           "821": 450,
           "822": 450,
           "823": 69.7,
           "824": 450,
           "825": 25,
           "826": 450,
           "827": 450,
           "828": 40,
           "829": 450,
           "83": 7.5,
           "830": 29.75,
           "831": 40,
           "832": 40,
           "833": 450,
           "834": 45,
           "835": 450,
           "836": 69.7,
           "837": 450,
           "838": 35,
           "839": 450,
           "84": 153,
           "840": 450,
           "841": 30.8,
           "842": 35,
           "843": 25,
           "844": 450,
           "845": 450,
           "846": 450,
           "847": 40,
           "848": 450,
           "849": 40,
           "85": 50,
           "850": 450,
           "851": 450,
           "852": 450,
           "853": 30.8,
           "854": 136.6,
           "855": 450,
           "856": 29.75,
           "857": 450,
           "858": 450,
           "859": 450,
           "86": 200,
           "860": 35,
           "861": 450,
           "862": 450,
           "863": 450,
           "864": 450,
           "865": 450,
           "866": 40,
           "867": 450,
           "868": 450,
           "869": 450,
           "87": 65,
           "870": 450,
           "871": 450,
           "872": 450,
           "873": 30.8,
           "874": 136.6,
           "875": 450,
           "876": 40,
           "877": 136.6,
           "878": 450,
           "879": 450,
           "88": 48.5,
           "880": 136.6,
           "881": 450,
           "882": 450,
           "883": 35,
           "884": 450,
           "885": 450,
           "886": 450,
           "887": 450,
           "888": 450,
           "889": 35,
           "89": 48.5,
           "890": 30.8,
           "891": 30.8,
           "892": 30.8,
           "893": 30.8,
           "894": 450,
           "895": 450,
           "896": 450,
           "897": 450,
           "898": 30.8,
           "899": 450,
           "9": 28.3,
           "90": 30.8,
           "900": 450,
           "901": 450,
           "902": 450,
           "903": 450,
           "904": 450,
           "905": 450,
           "906": 450,
           "907": 450,
           "908": 30.8,
           "909": 450,
           "91": 50,
           "910": 450,
           "911": 450,
           "912": 450,
           "913": 450,
           "914": 30.8,
           "915": 450,
           "916": 450,
           "917": 450,
           "918": 30.8,
           "919": 450,
           "92": 62,
           "920": 450,
           "921": 450,
           "922": 450,
           "923": 59,
           "924": 59,
           "925": 59,
           "926": 59,
           "927": 59,
           "928": 59,
           "929": 59,
           "93": 65,
           "930": 59,
           "931": 59,
           "932": 59,
           "933": 59,
           "934": 59,
           "935": 59,
           "936": 59,
           "937": 59,
           "938": 59,
           "939": 59,
           "94": 37,
           "940": 59,
           "941": 59,
           "942": 59,
           "943": 59,
           "944": 59,
           "945": 63.23,
           "946": 63.23,
           "947": 63.23,
           "948": 63.23,
           "95": 7.5,
           "96": 90,
           "97": 29.15,
           "98": 200,
           "99": 50,
           "bdata": "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",
           "dtype": "f8",
           "shape": "949"
          },
          "bdata": "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",
          "dtype": "f8"
         },
         "xaxis": "x",
         "yaxis": "y"
        }
       ],
       "layout": {
        "autosize": true,
        "bargap": 0.1,
        "barmode": "relative",
        "legend": {
         "tracegroupgap": 0
        },
        "template": {
         "data": {
          "bar": [
           {
            "error_x": {
             "color": "#2a3f5f"
            },
            "error_y": {
             "color": "#2a3f5f"
            },
            "marker": {
             "line": {
              "color": "white",
              "width": 0.5
             },
             "pattern": {
              "fillmode": "overlay",
              "size": 10,
              "solidity": 0.2
             }
            },
            "type": "bar"
           }
          ],
          "barpolar": [
           {
            "marker": {
             "line": {
              "color": "white",
              "width": 0.5
             },
             "pattern": {
              "fillmode": "overlay",
              "size": 10,
              "solidity": 0.2
             }
            },
            "type": "barpolar"
           }
          ],
          "carpet": [
           {
            "aaxis": {
             "endlinecolor": "#2a3f5f",
             "gridcolor": "#C8D4E3",
             "linecolor": "#C8D4E3",
             "minorgridcolor": "#C8D4E3",
             "startlinecolor": "#2a3f5f"
            },
            "baxis": {
             "endlinecolor": "#2a3f5f",
             "gridcolor": "#C8D4E3",
             "linecolor": "#C8D4E3",
             "minorgridcolor": "#C8D4E3",
             "startlinecolor": "#2a3f5f"
            },
            "type": "carpet"
           }
          ],
          "choropleth": [
           {
            "colorbar": {
             "outlinewidth": 0,
             "ticks": ""
            },
            "type": "choropleth"
           }
          ],
          "contour": [
           {
            "colorbar": {
             "outlinewidth": 0,
             "ticks": ""
            },
            "colorscale": [
             [
              0,
              "#0d0887"
             ],
             [
              0.1111111111111111,
              "#46039f"
             ],
             [
              0.2222222222222222,
              "#7201a8"
             ],
             [
              0.3333333333333333,
              "#9c179e"
             ],
             [
              0.4444444444444444,
              "#bd3786"
             ],
             [
              0.5555555555555556,
              "#d8576b"
             ],
             [
              0.6666666666666666,
              "#ed7953"
             ],
             [
              0.7777777777777778,
              "#fb9f3a"
             ],
             [
              0.8888888888888888,
              "#fdca26"
             ],
             [
              1,
              "#f0f921"
             ]
            ],
            "type": "contour"
           }
          ],
          "contourcarpet": [
           {
            "colorbar": {
             "outlinewidth": 0,
             "ticks": ""
            },
            "type": "contourcarpet"
           }
          ],
          "heatmap": [
           {
            "colorbar": {
             "outlinewidth": 0,
             "ticks": ""
            },
            "colorscale": [
             [
              0,
              "#0d0887"
             ],
             [
              0.1111111111111111,
              "#46039f"
             ],
             [
              0.2222222222222222,
              "#7201a8"
             ],
             [
              0.3333333333333333,
              "#9c179e"
             ],
             [
              0.4444444444444444,
              "#bd3786"
             ],
             [
              0.5555555555555556,
              "#d8576b"
             ],
             [
              0.6666666666666666,
              "#ed7953"
             ],
             [
              0.7777777777777778,
              "#fb9f3a"
             ],
             [
              0.8888888888888888,
              "#fdca26"
             ],
             [
              1,
              "#f0f921"
             ]
            ],
            "type": "heatmap"
           }
          ],
          "histogram": [
           {
            "marker": {
             "pattern": {
              "fillmode": "overlay",
              "size": 10,
              "solidity": 0.2
             }
            },
            "type": "histogram"
           }
          ],
          "histogram2d": [
           {
            "colorbar": {
             "outlinewidth": 0,
             "ticks": ""
            },
            "colorscale": [
             [
              0,
              "#0d0887"
             ],
             [
              0.1111111111111111,
              "#46039f"
             ],
             [
              0.2222222222222222,
              "#7201a8"
             ],
             [
              0.3333333333333333,
              "#9c179e"
             ],
             [
              0.4444444444444444,
              "#bd3786"
             ],
             [
              0.5555555555555556,
              "#d8576b"
             ],
             [
              0.6666666666666666,
              "#ed7953"
             ],
             [
              0.7777777777777778,
              "#fb9f3a"
             ],
             [
              0.8888888888888888,
              "#fdca26"
             ],
             [
              1,
              "#f0f921"
             ]
            ],
            "type": "histogram2d"
           }
          ],
          "histogram2dcontour": [
           {
            "colorbar": {
             "outlinewidth": 0,
             "ticks": ""
            },
            "colorscale": [
             [
              0,
              "#0d0887"
             ],
             [
              0.1111111111111111,
              "#46039f"
             ],
             [
              0.2222222222222222,
              "#7201a8"
             ],
             [
              0.3333333333333333,
              "#9c179e"
             ],
             [
              0.4444444444444444,
              "#bd3786"
             ],
             [
              0.5555555555555556,
              "#d8576b"
             ],
             [
              0.6666666666666666,
              "#ed7953"
             ],
             [
              0.7777777777777778,
              "#fb9f3a"
             ],
             [
              0.8888888888888888,
              "#fdca26"
             ],
             [
              1,
              "#f0f921"
             ]
            ],
            "type": "histogram2dcontour"
           }
          ],
          "mesh3d": [
           {
            "colorbar": {
             "outlinewidth": 0,
             "ticks": ""
            },
            "type": "mesh3d"
           }
          ],
          "parcoords": [
           {
            "line": {
             "colorbar": {
              "outlinewidth": 0,
              "ticks": ""
             }
            },
            "type": "parcoords"
           }
          ],
          "pie": [
           {
            "automargin": true,
            "type": "pie"
           }
          ],
          "scatter": [
           {
            "fillpattern": {
             "fillmode": "overlay",
             "size": 10,
             "solidity": 0.2
            },
            "type": "scatter"
           }
          ],
          "scatter3d": [
           {
            "line": {
             "colorbar": {
              "outlinewidth": 0,
              "ticks": ""
             }
            },
            "marker": {
             "colorbar": {
              "outlinewidth": 0,
              "ticks": ""
             }
            },
            "type": "scatter3d"
           }
          ],
          "scattercarpet": [
           {
            "marker": {
             "colorbar": {
              "outlinewidth": 0,
              "ticks": ""
             }
            },
            "type": "scattercarpet"
           }
          ],
          "scattergeo": [
           {
            "marker": {
             "colorbar": {
              "outlinewidth": 0,
              "ticks": ""
             }
            },
            "type": "scattergeo"
           }
          ],
          "scattergl": [
           {
            "marker": {
             "colorbar": {
              "outlinewidth": 0,
              "ticks": ""
             }
            },
            "type": "scattergl"
           }
          ],
          "scattermap": [
           {
            "marker": {
             "colorbar": {
              "outlinewidth": 0,
              "ticks": ""
             }
            },
            "type": "scattermap"
           }
          ],
          "scattermapbox": [
           {
            "marker": {
             "colorbar": {
              "outlinewidth": 0,
              "ticks": ""
             }
            },
            "type": "scattermapbox"
           }
          ],
          "scatterpolar": [
           {
            "marker": {
             "colorbar": {
              "outlinewidth": 0,
              "ticks": ""
             }
            },
            "type": "scatterpolar"
           }
          ],
          "scatterpolargl": [
           {
            "marker": {
             "colorbar": {
              "outlinewidth": 0,
              "ticks": ""
             }
            },
            "type": "scatterpolargl"
           }
          ],
          "scatterternary": [
           {
            "marker": {
             "colorbar": {
              "outlinewidth": 0,
              "ticks": ""
             }
            },
            "type": "scatterternary"
           }
          ],
          "surface": [
           {
            "colorbar": {
             "outlinewidth": 0,
             "ticks": ""
            },
            "colorscale": [
             [
              0,
              "#0d0887"
             ],
             [
              0.1111111111111111,
              "#46039f"
             ],
             [
              0.2222222222222222,
              "#7201a8"
             ],
             [
              0.3333333333333333,
              "#9c179e"
             ],
             [
              0.4444444444444444,
              "#bd3786"
             ],
             [
              0.5555555555555556,
              "#d8576b"
             ],
             [
              0.6666666666666666,
              "#ed7953"
             ],
             [
              0.7777777777777778,
              "#fb9f3a"
             ],
             [
              0.8888888888888888,
              "#fdca26"
             ],
             [
              1,
              "#f0f921"
             ]
            ],
            "type": "surface"
           }
          ],
          "table": [
           {
            "cells": {
             "fill": {
              "color": "#EBF0F8"
             },
             "line": {
              "color": "white"
             }
            },
            "header": {
             "fill": {
              "color": "#C8D4E3"
             },
             "line": {
              "color": "white"
             }
            },
            "type": "table"
           }
          ]
         },
         "layout": {
          "annotationdefaults": {
           "arrowcolor": "#2a3f5f",
           "arrowhead": 0,
           "arrowwidth": 1
          },
          "autotypenumbers": "strict",
          "coloraxis": {
           "colorbar": {
            "outlinewidth": 0,
            "ticks": ""
           }
          },
          "colorscale": {
           "diverging": [
            [
             0,
             "#8e0152"
            ],
            [
             0.1,
             "#c51b7d"
            ],
            [
             0.2,
             "#de77ae"
            ],
            [
             0.3,
             "#f1b6da"
            ],
            [
             0.4,
             "#fde0ef"
            ],
            [
             0.5,
             "#f7f7f7"
            ],
            [
             0.6,
             "#e6f5d0"
            ],
            [
             0.7,
             "#b8e186"
            ],
            [
             0.8,
             "#7fbc41"
            ],
            [
             0.9,
             "#4d9221"
            ],
            [
             1,
             "#276419"
            ]
           ],
           "sequential": [
            [
             0,
             "#0d0887"
            ],
            [
             0.1111111111111111,
             "#46039f"
            ],
            [
             0.2222222222222222,
             "#7201a8"
            ],
            [
             0.3333333333333333,
             "#9c179e"
            ],
            [
             0.4444444444444444,
             "#bd3786"
            ],
            [
             0.5555555555555556,
             "#d8576b"
            ],
            [
             0.6666666666666666,
             "#ed7953"
            ],
            [
             0.7777777777777778,
             "#fb9f3a"
            ],
            [
             0.8888888888888888,
             "#fdca26"
            ],
            [
             1,
             "#f0f921"
            ]
           ],
           "sequentialminus": [
            [
             0,
             "#0d0887"
            ],
            [
             0.1111111111111111,
             "#46039f"
            ],
            [
             0.2222222222222222,
             "#7201a8"
            ],
            [
             0.3333333333333333,
             "#9c179e"
            ],
            [
             0.4444444444444444,
             "#bd3786"
            ],
            [
             0.5555555555555556,
             "#d8576b"
            ],
            [
             0.6666666666666666,
             "#ed7953"
            ],
            [
             0.7777777777777778,
             "#fb9f3a"
            ],
            [
             0.8888888888888888,
             "#fdca26"
            ],
            [
             1,
             "#f0f921"
            ]
           ]
          },
          "colorway": [
           "#636efa",
           "#EF553B",
           "#00cc96",
           "#ab63fa",
           "#FFA15A",
           "#19d3f3",
           "#FF6692",
           "#B6E880",
           "#FF97FF",
           "#FECB52"
          ],
          "font": {
           "color": "#2a3f5f"
          },
          "geo": {
           "bgcolor": "white",
           "lakecolor": "white",
           "landcolor": "white",
           "showlakes": true,
           "showland": true,
           "subunitcolor": "#C8D4E3"
          },
          "hoverlabel": {
           "align": "left"
          },
          "hovermode": "closest",
          "mapbox": {
           "style": "light"
          },
          "paper_bgcolor": "white",
          "plot_bgcolor": "white",
          "polar": {
           "angularaxis": {
            "gridcolor": "#EBF0F8",
            "linecolor": "#EBF0F8",
            "ticks": ""
           },
           "bgcolor": "white",
           "radialaxis": {
            "gridcolor": "#EBF0F8",
            "linecolor": "#EBF0F8",
            "ticks": ""
           }
          },
          "scene": {
           "xaxis": {
            "backgroundcolor": "white",
            "gridcolor": "#DFE8F3",
            "gridwidth": 2,
            "linecolor": "#EBF0F8",
            "showbackground": true,
            "ticks": "",
            "zerolinecolor": "#EBF0F8"
           },
           "yaxis": {
            "backgroundcolor": "white",
            "gridcolor": "#DFE8F3",
            "gridwidth": 2,
            "linecolor": "#EBF0F8",
            "showbackground": true,
            "ticks": "",
            "zerolinecolor": "#EBF0F8"
           },
           "zaxis": {
            "backgroundcolor": "white",
            "gridcolor": "#DFE8F3",
            "gridwidth": 2,
            "linecolor": "#EBF0F8",
            "showbackground": true,
            "ticks": "",
            "zerolinecolor": "#EBF0F8"
           }
          },
          "shapedefaults": {
           "line": {
            "color": "#2a3f5f"
           }
          },
          "ternary": {
           "aaxis": {
            "gridcolor": "#DFE8F3",
            "linecolor": "#A2B1C6",
            "ticks": ""
           },
           "baxis": {
            "gridcolor": "#DFE8F3",
            "linecolor": "#A2B1C6",
            "ticks": ""
           },
           "bgcolor": "white",
           "caxis": {
            "gridcolor": "#DFE8F3",
            "linecolor": "#A2B1C6",
            "ticks": ""
           }
          },
          "title": {
           "x": 0.05
          },
          "xaxis": {
           "automargin": true,
           "gridcolor": "#EBF0F8",
           "linecolor": "#EBF0F8",
           "ticks": "",
           "title": {
            "standoff": 15
           },
           "zerolinecolor": "#EBF0F8",
           "zerolinewidth": 2
          },
          "yaxis": {
           "automargin": true,
           "gridcolor": "#EBF0F8",
           "linecolor": "#EBF0F8",
           "ticks": "",
           "title": {
            "standoff": 15
           },
           "zerolinecolor": "#EBF0F8",
           "zerolinewidth": 2
          }
         }
        },
        "title": {
         "text": "Distribution of Rocket Launch Prices (USD Millions)"
        },
        "xaxis": {
         "anchor": "y",
         "autorange": true,
         "domain": [
          0,
          1
         ],
         "range": [
          5,
          455
         ],
         "title": {
          "text": "Price"
         },
         "type": "linear"
        },
        "yaxis": {
         "anchor": "x",
         "autorange": true,
         "domain": [
          0,
          1
         ],
         "range": [
          0,
          161.05263157894737
         ],
         "title": {
          "text": "count"
         }
        }
       }
      }
     },
     "metadata": {},
     "output_type": "display_data"
    }
   ],
   "source": [
    "fig = px.histogram(\n",
    "    cleaned_data[cleaned_data['Price'] < 1000],  \n",
    "    x=\"Price\",\n",
    "    nbins=50,\n",
    "    title=\"Distribution of Rocket Launch Prices (USD Millions)\"\n",
    ")\n",
    "fig.update_layout(bargap=0.1, template=\"plotly_white\")\n",
    "fig.show()"
   ]
  },
  {
   "cell_type": "markdown",
   "metadata": {
    "id": "QiNtigQDne3E"
   },
   "source": [
    "# Choropleth Map to Show the Number of Launches by Country"
   ]
  },
  {
   "cell_type": "code",
   "execution_count": 420,
   "metadata": {
    "id": "Y46-4GHrozhF"
   },
   "outputs": [],
   "source": [
    "cleaned_data[\"Country\"] = cleaned_data[\"Location\"].str.extract(r',\\s*([^,]+)$')\n",
    "\n",
    "\n",
    "cleaned_data[\"Country\"] = cleaned_data[\"Country\"].str.strip()\n",
    "cleaned_data[\"Country_code\"] = cleaned_data[\"Country\"]\n",
    "\n",
    "\n",
    "name_change_dict = {\n",
    "    \"Russia\": \"Russian Federation\",\n",
    "    \"New Mexico\": \"USA\",\n",
    "    \"Shahrud Missile Test Site\": \"Iran\",\n",
    "    \"Yellow Sea\": \"China\",\n",
    "    \"Pacific Missile Range Facility\": \"USA\",\n",
    "    \"Barents Sea\": \"Russian Federation\",\n",
    "    \"Gran Canaria\": \"USA\"\n",
    "}\n",
    "\n",
    "for name, new_name in name_change_dict.items():\n",
    "    cleaned_data[\"Country\"] = cleaned_data[\"Country\"].str.replace(name, new_name, regex=True)\n",
    "\n",
    "cleaned_data[\"Country\"] = cleaned_data[\"Country\"].str.strip()\n",
    "cleaned_data[\"Country_code\"] = cleaned_data[\"Country\"]\n",
    "\n",
    "\n",
    "country_code_dict = {\n",
    "    'China': 'CHN',\n",
    "    'France': 'FRA',\n",
    "    'India': 'IND',\n",
    "    'Japan': 'JPN',\n",
    "    'Kazakhstan': 'KAZ',\n",
    "    'New Zealand': 'NZL',\n",
    "    'Russian Federation': 'RUS',\n",
    "    'USA': 'USA'\n",
    "}\n",
    "\n",
    "for name, code in country_code_dict.items():\n",
    "    cleaned_data[\"Country_code\"] = cleaned_data[\"Country_code\"].str.replace(name, code, regex=True)\n",
    "number_of_launches_by_country = cleaned_data.groupby('Country_code').agg({\"index\":\"count\"}).reset_index()"
   ]
  },
  {
   "cell_type": "code",
   "execution_count": 421,
   "metadata": {
    "id": "ESGRWiX6ozZG"
   },
   "outputs": [
    {
     "data": {
      "application/vnd.plotly.v1+json": {
       "config": {
        "plotlyServerURL": "https://plot.ly"
       },
       "data": [
        {
         "coloraxis": "coloraxis",
         "geo": "geo",
         "hovertemplate": "Country_code=%{location}<br>Number of lunches=%{z}<extra></extra>",
         "locations": [
          "Australia",
          "Brazil",
          "CHN",
          "FRA",
          "IND",
          "Iran",
          "Israel",
          "JPN",
          "KAZ",
          "Kenya",
          "NZL",
          "North Korea",
          "Pacific Ocean",
          "RUS",
          "South Korea",
          "USA"
         ],
         "name": "",
         "type": "choropleth",
         "z": {
          "_inputArray": {
           "0": 6,
           "1": 3,
           "10": 13,
           "11": 5,
           "12": 36,
           "13": 1398,
           "14": 3,
           "15": 1351,
           "2": 269,
           "3": 303,
           "4": 76,
           "5": 14,
           "6": 11,
           "7": 126,
           "8": 701,
           "9": 9,
           "bdata": "BgADAA0BLwFMAA4ACwB+AL0CCQANAAUAJAB2BQMARwU=",
           "dtype": "i2",
           "shape": "16"
          },
          "bdata": "BgADAA0BLwFMAA4ACwB+AL0CCQANAAUAJAB2BQMARwU=",
          "dtype": "i2"
         }
        }
       ],
       "layout": {
        "autosize": true,
        "coloraxis": {
         "cmax": 500,
         "cmin": 0,
         "colorbar": {
          "title": {
           "text": "Number of lunches"
          }
         },
         "colorscale": [
          [
           0,
           "#440154"
          ],
          [
           0.1111111111111111,
           "#482878"
          ],
          [
           0.2222222222222222,
           "#3e4989"
          ],
          [
           0.3333333333333333,
           "#31688e"
          ],
          [
           0.4444444444444444,
           "#26828e"
          ],
          [
           0.5555555555555556,
           "#1f9e89"
          ],
          [
           0.6666666666666666,
           "#35b779"
          ],
          [
           0.7777777777777778,
           "#6ece58"
          ],
          [
           0.8888888888888888,
           "#b5de2b"
          ],
          [
           1,
           "#fde725"
          ]
         ]
        },
        "geo": {
         "center": {},
         "domain": {
          "x": [
           0,
           1
          ],
          "y": [
           0,
           1
          ]
         }
        },
        "legend": {
         "tracegroupgap": 0
        },
        "margin": {
         "b": 0,
         "l": 0,
         "r": 0,
         "t": 0
        },
        "template": {
         "data": {
          "bar": [
           {
            "error_x": {
             "color": "#2a3f5f"
            },
            "error_y": {
             "color": "#2a3f5f"
            },
            "marker": {
             "line": {
              "color": "#E5ECF6",
              "width": 0.5
             },
             "pattern": {
              "fillmode": "overlay",
              "size": 10,
              "solidity": 0.2
             }
            },
            "type": "bar"
           }
          ],
          "barpolar": [
           {
            "marker": {
             "line": {
              "color": "#E5ECF6",
              "width": 0.5
             },
             "pattern": {
              "fillmode": "overlay",
              "size": 10,
              "solidity": 0.2
             }
            },
            "type": "barpolar"
           }
          ],
          "carpet": [
           {
            "aaxis": {
             "endlinecolor": "#2a3f5f",
             "gridcolor": "white",
             "linecolor": "white",
             "minorgridcolor": "white",
             "startlinecolor": "#2a3f5f"
            },
            "baxis": {
             "endlinecolor": "#2a3f5f",
             "gridcolor": "white",
             "linecolor": "white",
             "minorgridcolor": "white",
             "startlinecolor": "#2a3f5f"
            },
            "type": "carpet"
           }
          ],
          "choropleth": [
           {
            "colorbar": {
             "outlinewidth": 0,
             "ticks": ""
            },
            "type": "choropleth"
           }
          ],
          "contour": [
           {
            "colorbar": {
             "outlinewidth": 0,
             "ticks": ""
            },
            "colorscale": [
             [
              0,
              "#0d0887"
             ],
             [
              0.1111111111111111,
              "#46039f"
             ],
             [
              0.2222222222222222,
              "#7201a8"
             ],
             [
              0.3333333333333333,
              "#9c179e"
             ],
             [
              0.4444444444444444,
              "#bd3786"
             ],
             [
              0.5555555555555556,
              "#d8576b"
             ],
             [
              0.6666666666666666,
              "#ed7953"
             ],
             [
              0.7777777777777778,
              "#fb9f3a"
             ],
             [
              0.8888888888888888,
              "#fdca26"
             ],
             [
              1,
              "#f0f921"
             ]
            ],
            "type": "contour"
           }
          ],
          "contourcarpet": [
           {
            "colorbar": {
             "outlinewidth": 0,
             "ticks": ""
            },
            "type": "contourcarpet"
           }
          ],
          "heatmap": [
           {
            "colorbar": {
             "outlinewidth": 0,
             "ticks": ""
            },
            "colorscale": [
             [
              0,
              "#0d0887"
             ],
             [
              0.1111111111111111,
              "#46039f"
             ],
             [
              0.2222222222222222,
              "#7201a8"
             ],
             [
              0.3333333333333333,
              "#9c179e"
             ],
             [
              0.4444444444444444,
              "#bd3786"
             ],
             [
              0.5555555555555556,
              "#d8576b"
             ],
             [
              0.6666666666666666,
              "#ed7953"
             ],
             [
              0.7777777777777778,
              "#fb9f3a"
             ],
             [
              0.8888888888888888,
              "#fdca26"
             ],
             [
              1,
              "#f0f921"
             ]
            ],
            "type": "heatmap"
           }
          ],
          "histogram": [
           {
            "marker": {
             "pattern": {
              "fillmode": "overlay",
              "size": 10,
              "solidity": 0.2
             }
            },
            "type": "histogram"
           }
          ],
          "histogram2d": [
           {
            "colorbar": {
             "outlinewidth": 0,
             "ticks": ""
            },
            "colorscale": [
             [
              0,
              "#0d0887"
             ],
             [
              0.1111111111111111,
              "#46039f"
             ],
             [
              0.2222222222222222,
              "#7201a8"
             ],
             [
              0.3333333333333333,
              "#9c179e"
             ],
             [
              0.4444444444444444,
              "#bd3786"
             ],
             [
              0.5555555555555556,
              "#d8576b"
             ],
             [
              0.6666666666666666,
              "#ed7953"
             ],
             [
              0.7777777777777778,
              "#fb9f3a"
             ],
             [
              0.8888888888888888,
              "#fdca26"
             ],
             [
              1,
              "#f0f921"
             ]
            ],
            "type": "histogram2d"
           }
          ],
          "histogram2dcontour": [
           {
            "colorbar": {
             "outlinewidth": 0,
             "ticks": ""
            },
            "colorscale": [
             [
              0,
              "#0d0887"
             ],
             [
              0.1111111111111111,
              "#46039f"
             ],
             [
              0.2222222222222222,
              "#7201a8"
             ],
             [
              0.3333333333333333,
              "#9c179e"
             ],
             [
              0.4444444444444444,
              "#bd3786"
             ],
             [
              0.5555555555555556,
              "#d8576b"
             ],
             [
              0.6666666666666666,
              "#ed7953"
             ],
             [
              0.7777777777777778,
              "#fb9f3a"
             ],
             [
              0.8888888888888888,
              "#fdca26"
             ],
             [
              1,
              "#f0f921"
             ]
            ],
            "type": "histogram2dcontour"
           }
          ],
          "mesh3d": [
           {
            "colorbar": {
             "outlinewidth": 0,
             "ticks": ""
            },
            "type": "mesh3d"
           }
          ],
          "parcoords": [
           {
            "line": {
             "colorbar": {
              "outlinewidth": 0,
              "ticks": ""
             }
            },
            "type": "parcoords"
           }
          ],
          "pie": [
           {
            "automargin": true,
            "type": "pie"
           }
          ],
          "scatter": [
           {
            "fillpattern": {
             "fillmode": "overlay",
             "size": 10,
             "solidity": 0.2
            },
            "type": "scatter"
           }
          ],
          "scatter3d": [
           {
            "line": {
             "colorbar": {
              "outlinewidth": 0,
              "ticks": ""
             }
            },
            "marker": {
             "colorbar": {
              "outlinewidth": 0,
              "ticks": ""
             }
            },
            "type": "scatter3d"
           }
          ],
          "scattercarpet": [
           {
            "marker": {
             "colorbar": {
              "outlinewidth": 0,
              "ticks": ""
             }
            },
            "type": "scattercarpet"
           }
          ],
          "scattergeo": [
           {
            "marker": {
             "colorbar": {
              "outlinewidth": 0,
              "ticks": ""
             }
            },
            "type": "scattergeo"
           }
          ],
          "scattergl": [
           {
            "marker": {
             "colorbar": {
              "outlinewidth": 0,
              "ticks": ""
             }
            },
            "type": "scattergl"
           }
          ],
          "scattermap": [
           {
            "marker": {
             "colorbar": {
              "outlinewidth": 0,
              "ticks": ""
             }
            },
            "type": "scattermap"
           }
          ],
          "scattermapbox": [
           {
            "marker": {
             "colorbar": {
              "outlinewidth": 0,
              "ticks": ""
             }
            },
            "type": "scattermapbox"
           }
          ],
          "scatterpolar": [
           {
            "marker": {
             "colorbar": {
              "outlinewidth": 0,
              "ticks": ""
             }
            },
            "type": "scatterpolar"
           }
          ],
          "scatterpolargl": [
           {
            "marker": {
             "colorbar": {
              "outlinewidth": 0,
              "ticks": ""
             }
            },
            "type": "scatterpolargl"
           }
          ],
          "scatterternary": [
           {
            "marker": {
             "colorbar": {
              "outlinewidth": 0,
              "ticks": ""
             }
            },
            "type": "scatterternary"
           }
          ],
          "surface": [
           {
            "colorbar": {
             "outlinewidth": 0,
             "ticks": ""
            },
            "colorscale": [
             [
              0,
              "#0d0887"
             ],
             [
              0.1111111111111111,
              "#46039f"
             ],
             [
              0.2222222222222222,
              "#7201a8"
             ],
             [
              0.3333333333333333,
              "#9c179e"
             ],
             [
              0.4444444444444444,
              "#bd3786"
             ],
             [
              0.5555555555555556,
              "#d8576b"
             ],
             [
              0.6666666666666666,
              "#ed7953"
             ],
             [
              0.7777777777777778,
              "#fb9f3a"
             ],
             [
              0.8888888888888888,
              "#fdca26"
             ],
             [
              1,
              "#f0f921"
             ]
            ],
            "type": "surface"
           }
          ],
          "table": [
           {
            "cells": {
             "fill": {
              "color": "#EBF0F8"
             },
             "line": {
              "color": "white"
             }
            },
            "header": {
             "fill": {
              "color": "#C8D4E3"
             },
             "line": {
              "color": "white"
             }
            },
            "type": "table"
           }
          ]
         },
         "layout": {
          "annotationdefaults": {
           "arrowcolor": "#2a3f5f",
           "arrowhead": 0,
           "arrowwidth": 1
          },
          "autotypenumbers": "strict",
          "coloraxis": {
           "colorbar": {
            "outlinewidth": 0,
            "ticks": ""
           }
          },
          "colorscale": {
           "diverging": [
            [
             0,
             "#8e0152"
            ],
            [
             0.1,
             "#c51b7d"
            ],
            [
             0.2,
             "#de77ae"
            ],
            [
             0.3,
             "#f1b6da"
            ],
            [
             0.4,
             "#fde0ef"
            ],
            [
             0.5,
             "#f7f7f7"
            ],
            [
             0.6,
             "#e6f5d0"
            ],
            [
             0.7,
             "#b8e186"
            ],
            [
             0.8,
             "#7fbc41"
            ],
            [
             0.9,
             "#4d9221"
            ],
            [
             1,
             "#276419"
            ]
           ],
           "sequential": [
            [
             0,
             "#0d0887"
            ],
            [
             0.1111111111111111,
             "#46039f"
            ],
            [
             0.2222222222222222,
             "#7201a8"
            ],
            [
             0.3333333333333333,
             "#9c179e"
            ],
            [
             0.4444444444444444,
             "#bd3786"
            ],
            [
             0.5555555555555556,
             "#d8576b"
            ],
            [
             0.6666666666666666,
             "#ed7953"
            ],
            [
             0.7777777777777778,
             "#fb9f3a"
            ],
            [
             0.8888888888888888,
             "#fdca26"
            ],
            [
             1,
             "#f0f921"
            ]
           ],
           "sequentialminus": [
            [
             0,
             "#0d0887"
            ],
            [
             0.1111111111111111,
             "#46039f"
            ],
            [
             0.2222222222222222,
             "#7201a8"
            ],
            [
             0.3333333333333333,
             "#9c179e"
            ],
            [
             0.4444444444444444,
             "#bd3786"
            ],
            [
             0.5555555555555556,
             "#d8576b"
            ],
            [
             0.6666666666666666,
             "#ed7953"
            ],
            [
             0.7777777777777778,
             "#fb9f3a"
            ],
            [
             0.8888888888888888,
             "#fdca26"
            ],
            [
             1,
             "#f0f921"
            ]
           ]
          },
          "colorway": [
           "#636efa",
           "#EF553B",
           "#00cc96",
           "#ab63fa",
           "#FFA15A",
           "#19d3f3",
           "#FF6692",
           "#B6E880",
           "#FF97FF",
           "#FECB52"
          ],
          "font": {
           "color": "#2a3f5f"
          },
          "geo": {
           "bgcolor": "white",
           "lakecolor": "white",
           "landcolor": "#E5ECF6",
           "showlakes": true,
           "showland": true,
           "subunitcolor": "white"
          },
          "hoverlabel": {
           "align": "left"
          },
          "hovermode": "closest",
          "mapbox": {
           "style": "light"
          },
          "paper_bgcolor": "white",
          "plot_bgcolor": "#E5ECF6",
          "polar": {
           "angularaxis": {
            "gridcolor": "white",
            "linecolor": "white",
            "ticks": ""
           },
           "bgcolor": "#E5ECF6",
           "radialaxis": {
            "gridcolor": "white",
            "linecolor": "white",
            "ticks": ""
           }
          },
          "scene": {
           "xaxis": {
            "backgroundcolor": "#E5ECF6",
            "gridcolor": "white",
            "gridwidth": 2,
            "linecolor": "white",
            "showbackground": true,
            "ticks": "",
            "zerolinecolor": "white"
           },
           "yaxis": {
            "backgroundcolor": "#E5ECF6",
            "gridcolor": "white",
            "gridwidth": 2,
            "linecolor": "white",
            "showbackground": true,
            "ticks": "",
            "zerolinecolor": "white"
           },
           "zaxis": {
            "backgroundcolor": "#E5ECF6",
            "gridcolor": "white",
            "gridwidth": 2,
            "linecolor": "white",
            "showbackground": true,
            "ticks": "",
            "zerolinecolor": "white"
           }
          },
          "shapedefaults": {
           "line": {
            "color": "#2a3f5f"
           }
          },
          "ternary": {
           "aaxis": {
            "gridcolor": "white",
            "linecolor": "white",
            "ticks": ""
           },
           "baxis": {
            "gridcolor": "white",
            "linecolor": "white",
            "ticks": ""
           },
           "bgcolor": "#E5ECF6",
           "caxis": {
            "gridcolor": "white",
            "linecolor": "white",
            "ticks": ""
           }
          },
          "title": {
           "x": 0.05
          },
          "xaxis": {
           "automargin": true,
           "gridcolor": "white",
           "linecolor": "white",
           "ticks": "",
           "title": {
            "standoff": 15
           },
           "zerolinecolor": "white",
           "zerolinewidth": 2
          },
          "yaxis": {
           "automargin": true,
           "gridcolor": "white",
           "linecolor": "white",
           "ticks": "",
           "title": {
            "standoff": 15
           },
           "zerolinecolor": "white",
           "zerolinewidth": 2
          }
         }
        }
       }
      }
     },
     "metadata": {},
     "output_type": "display_data"
    }
   ],
   "source": [
    "fig = px.choropleth(number_of_launches_by_country, locations='Country_code', color='index',\n",
    "                           color_continuous_scale=\"Viridis\",\n",
    "                           range_color=(0, 500),\n",
    "                           labels={'index':'Number of lunches'}\n",
    "                          )\n",
    "fig.update_layout(margin={\"r\":0,\"t\":0,\"l\":0,\"b\":0})\n",
    "fig.show()"
   ]
  },
  {
   "cell_type": "markdown",
   "metadata": {
    "id": "F3pwYSUlo_AK"
   },
   "source": [
    "# Choropleth Map to Show the Number of Failures by Country\n"
   ]
  },
  {
   "cell_type": "code",
   "execution_count": 422,
   "metadata": {
    "id": "8BH4ICtro9I0"
   },
   "outputs": [
    {
     "data": {
      "application/vnd.plotly.v1+json": {
       "config": {
        "plotlyServerURL": "https://plot.ly"
       },
       "data": [
        {
         "coloraxis": "coloraxis",
         "geo": "geo",
         "hovertemplate": "Country_code=%{location}<br>index=%{z}<extra></extra>",
         "locations": [
          "Australia",
          "Brazil",
          "CHN",
          "FRA",
          "IND",
          "Iran",
          "Israel",
          "JPN",
          "KAZ",
          "NZL",
          "North Korea",
          "Pacific Ocean",
          "RUS",
          "South Korea",
          "USA"
         ],
         "name": "",
         "type": "choropleth",
         "z": {
          "_inputArray": {
           "0": 3,
           "1": 2,
           "10": 3,
           "11": 3,
           "12": 63,
           "13": 2,
           "14": 129,
           "2": 19,
           "3": 13,
           "4": 8,
           "5": 8,
           "6": 2,
           "7": 10,
           "8": 72,
           "9": 2,
           "bdata": "AwACABMADQAIAAgAAgAKAEgAAgADAAMAPwACAIEA",
           "dtype": "i2",
           "shape": "15"
          },
          "bdata": "AwACABMADQAIAAgAAgAKAEgAAgADAAMAPwACAIEA",
          "dtype": "i2"
         }
        }
       ],
       "layout": {
        "autosize": true,
        "coloraxis": {
         "cmax": 20,
         "cmin": 0,
         "colorbar": {
          "title": {
           "text": "index"
          }
         },
         "colorscale": [
          [
           0,
           "rgb(255,245,240)"
          ],
          [
           0.125,
           "rgb(254,224,210)"
          ],
          [
           0.25,
           "rgb(252,187,161)"
          ],
          [
           0.375,
           "rgb(252,146,114)"
          ],
          [
           0.5,
           "rgb(251,106,74)"
          ],
          [
           0.625,
           "rgb(239,59,44)"
          ],
          [
           0.75,
           "rgb(203,24,29)"
          ],
          [
           0.875,
           "rgb(165,15,21)"
          ],
          [
           1,
           "rgb(103,0,13)"
          ]
         ]
        },
        "geo": {
         "center": {},
         "domain": {
          "x": [
           0,
           1
          ],
          "y": [
           0,
           1
          ]
         }
        },
        "legend": {
         "tracegroupgap": 0
        },
        "margin": {
         "t": 60
        },
        "template": {
         "data": {
          "bar": [
           {
            "error_x": {
             "color": "#2a3f5f"
            },
            "error_y": {
             "color": "#2a3f5f"
            },
            "marker": {
             "line": {
              "color": "#E5ECF6",
              "width": 0.5
             },
             "pattern": {
              "fillmode": "overlay",
              "size": 10,
              "solidity": 0.2
             }
            },
            "type": "bar"
           }
          ],
          "barpolar": [
           {
            "marker": {
             "line": {
              "color": "#E5ECF6",
              "width": 0.5
             },
             "pattern": {
              "fillmode": "overlay",
              "size": 10,
              "solidity": 0.2
             }
            },
            "type": "barpolar"
           }
          ],
          "carpet": [
           {
            "aaxis": {
             "endlinecolor": "#2a3f5f",
             "gridcolor": "white",
             "linecolor": "white",
             "minorgridcolor": "white",
             "startlinecolor": "#2a3f5f"
            },
            "baxis": {
             "endlinecolor": "#2a3f5f",
             "gridcolor": "white",
             "linecolor": "white",
             "minorgridcolor": "white",
             "startlinecolor": "#2a3f5f"
            },
            "type": "carpet"
           }
          ],
          "choropleth": [
           {
            "colorbar": {
             "outlinewidth": 0,
             "ticks": ""
            },
            "type": "choropleth"
           }
          ],
          "contour": [
           {
            "colorbar": {
             "outlinewidth": 0,
             "ticks": ""
            },
            "colorscale": [
             [
              0,
              "#0d0887"
             ],
             [
              0.1111111111111111,
              "#46039f"
             ],
             [
              0.2222222222222222,
              "#7201a8"
             ],
             [
              0.3333333333333333,
              "#9c179e"
             ],
             [
              0.4444444444444444,
              "#bd3786"
             ],
             [
              0.5555555555555556,
              "#d8576b"
             ],
             [
              0.6666666666666666,
              "#ed7953"
             ],
             [
              0.7777777777777778,
              "#fb9f3a"
             ],
             [
              0.8888888888888888,
              "#fdca26"
             ],
             [
              1,
              "#f0f921"
             ]
            ],
            "type": "contour"
           }
          ],
          "contourcarpet": [
           {
            "colorbar": {
             "outlinewidth": 0,
             "ticks": ""
            },
            "type": "contourcarpet"
           }
          ],
          "heatmap": [
           {
            "colorbar": {
             "outlinewidth": 0,
             "ticks": ""
            },
            "colorscale": [
             [
              0,
              "#0d0887"
             ],
             [
              0.1111111111111111,
              "#46039f"
             ],
             [
              0.2222222222222222,
              "#7201a8"
             ],
             [
              0.3333333333333333,
              "#9c179e"
             ],
             [
              0.4444444444444444,
              "#bd3786"
             ],
             [
              0.5555555555555556,
              "#d8576b"
             ],
             [
              0.6666666666666666,
              "#ed7953"
             ],
             [
              0.7777777777777778,
              "#fb9f3a"
             ],
             [
              0.8888888888888888,
              "#fdca26"
             ],
             [
              1,
              "#f0f921"
             ]
            ],
            "type": "heatmap"
           }
          ],
          "histogram": [
           {
            "marker": {
             "pattern": {
              "fillmode": "overlay",
              "size": 10,
              "solidity": 0.2
             }
            },
            "type": "histogram"
           }
          ],
          "histogram2d": [
           {
            "colorbar": {
             "outlinewidth": 0,
             "ticks": ""
            },
            "colorscale": [
             [
              0,
              "#0d0887"
             ],
             [
              0.1111111111111111,
              "#46039f"
             ],
             [
              0.2222222222222222,
              "#7201a8"
             ],
             [
              0.3333333333333333,
              "#9c179e"
             ],
             [
              0.4444444444444444,
              "#bd3786"
             ],
             [
              0.5555555555555556,
              "#d8576b"
             ],
             [
              0.6666666666666666,
              "#ed7953"
             ],
             [
              0.7777777777777778,
              "#fb9f3a"
             ],
             [
              0.8888888888888888,
              "#fdca26"
             ],
             [
              1,
              "#f0f921"
             ]
            ],
            "type": "histogram2d"
           }
          ],
          "histogram2dcontour": [
           {
            "colorbar": {
             "outlinewidth": 0,
             "ticks": ""
            },
            "colorscale": [
             [
              0,
              "#0d0887"
             ],
             [
              0.1111111111111111,
              "#46039f"
             ],
             [
              0.2222222222222222,
              "#7201a8"
             ],
             [
              0.3333333333333333,
              "#9c179e"
             ],
             [
              0.4444444444444444,
              "#bd3786"
             ],
             [
              0.5555555555555556,
              "#d8576b"
             ],
             [
              0.6666666666666666,
              "#ed7953"
             ],
             [
              0.7777777777777778,
              "#fb9f3a"
             ],
             [
              0.8888888888888888,
              "#fdca26"
             ],
             [
              1,
              "#f0f921"
             ]
            ],
            "type": "histogram2dcontour"
           }
          ],
          "mesh3d": [
           {
            "colorbar": {
             "outlinewidth": 0,
             "ticks": ""
            },
            "type": "mesh3d"
           }
          ],
          "parcoords": [
           {
            "line": {
             "colorbar": {
              "outlinewidth": 0,
              "ticks": ""
             }
            },
            "type": "parcoords"
           }
          ],
          "pie": [
           {
            "automargin": true,
            "type": "pie"
           }
          ],
          "scatter": [
           {
            "fillpattern": {
             "fillmode": "overlay",
             "size": 10,
             "solidity": 0.2
            },
            "type": "scatter"
           }
          ],
          "scatter3d": [
           {
            "line": {
             "colorbar": {
              "outlinewidth": 0,
              "ticks": ""
             }
            },
            "marker": {
             "colorbar": {
              "outlinewidth": 0,
              "ticks": ""
             }
            },
            "type": "scatter3d"
           }
          ],
          "scattercarpet": [
           {
            "marker": {
             "colorbar": {
              "outlinewidth": 0,
              "ticks": ""
             }
            },
            "type": "scattercarpet"
           }
          ],
          "scattergeo": [
           {
            "marker": {
             "colorbar": {
              "outlinewidth": 0,
              "ticks": ""
             }
            },
            "type": "scattergeo"
           }
          ],
          "scattergl": [
           {
            "marker": {
             "colorbar": {
              "outlinewidth": 0,
              "ticks": ""
             }
            },
            "type": "scattergl"
           }
          ],
          "scattermap": [
           {
            "marker": {
             "colorbar": {
              "outlinewidth": 0,
              "ticks": ""
             }
            },
            "type": "scattermap"
           }
          ],
          "scattermapbox": [
           {
            "marker": {
             "colorbar": {
              "outlinewidth": 0,
              "ticks": ""
             }
            },
            "type": "scattermapbox"
           }
          ],
          "scatterpolar": [
           {
            "marker": {
             "colorbar": {
              "outlinewidth": 0,
              "ticks": ""
             }
            },
            "type": "scatterpolar"
           }
          ],
          "scatterpolargl": [
           {
            "marker": {
             "colorbar": {
              "outlinewidth": 0,
              "ticks": ""
             }
            },
            "type": "scatterpolargl"
           }
          ],
          "scatterternary": [
           {
            "marker": {
             "colorbar": {
              "outlinewidth": 0,
              "ticks": ""
             }
            },
            "type": "scatterternary"
           }
          ],
          "surface": [
           {
            "colorbar": {
             "outlinewidth": 0,
             "ticks": ""
            },
            "colorscale": [
             [
              0,
              "#0d0887"
             ],
             [
              0.1111111111111111,
              "#46039f"
             ],
             [
              0.2222222222222222,
              "#7201a8"
             ],
             [
              0.3333333333333333,
              "#9c179e"
             ],
             [
              0.4444444444444444,
              "#bd3786"
             ],
             [
              0.5555555555555556,
              "#d8576b"
             ],
             [
              0.6666666666666666,
              "#ed7953"
             ],
             [
              0.7777777777777778,
              "#fb9f3a"
             ],
             [
              0.8888888888888888,
              "#fdca26"
             ],
             [
              1,
              "#f0f921"
             ]
            ],
            "type": "surface"
           }
          ],
          "table": [
           {
            "cells": {
             "fill": {
              "color": "#EBF0F8"
             },
             "line": {
              "color": "white"
             }
            },
            "header": {
             "fill": {
              "color": "#C8D4E3"
             },
             "line": {
              "color": "white"
             }
            },
            "type": "table"
           }
          ]
         },
         "layout": {
          "annotationdefaults": {
           "arrowcolor": "#2a3f5f",
           "arrowhead": 0,
           "arrowwidth": 1
          },
          "autotypenumbers": "strict",
          "coloraxis": {
           "colorbar": {
            "outlinewidth": 0,
            "ticks": ""
           }
          },
          "colorscale": {
           "diverging": [
            [
             0,
             "#8e0152"
            ],
            [
             0.1,
             "#c51b7d"
            ],
            [
             0.2,
             "#de77ae"
            ],
            [
             0.3,
             "#f1b6da"
            ],
            [
             0.4,
             "#fde0ef"
            ],
            [
             0.5,
             "#f7f7f7"
            ],
            [
             0.6,
             "#e6f5d0"
            ],
            [
             0.7,
             "#b8e186"
            ],
            [
             0.8,
             "#7fbc41"
            ],
            [
             0.9,
             "#4d9221"
            ],
            [
             1,
             "#276419"
            ]
           ],
           "sequential": [
            [
             0,
             "#0d0887"
            ],
            [
             0.1111111111111111,
             "#46039f"
            ],
            [
             0.2222222222222222,
             "#7201a8"
            ],
            [
             0.3333333333333333,
             "#9c179e"
            ],
            [
             0.4444444444444444,
             "#bd3786"
            ],
            [
             0.5555555555555556,
             "#d8576b"
            ],
            [
             0.6666666666666666,
             "#ed7953"
            ],
            [
             0.7777777777777778,
             "#fb9f3a"
            ],
            [
             0.8888888888888888,
             "#fdca26"
            ],
            [
             1,
             "#f0f921"
            ]
           ],
           "sequentialminus": [
            [
             0,
             "#0d0887"
            ],
            [
             0.1111111111111111,
             "#46039f"
            ],
            [
             0.2222222222222222,
             "#7201a8"
            ],
            [
             0.3333333333333333,
             "#9c179e"
            ],
            [
             0.4444444444444444,
             "#bd3786"
            ],
            [
             0.5555555555555556,
             "#d8576b"
            ],
            [
             0.6666666666666666,
             "#ed7953"
            ],
            [
             0.7777777777777778,
             "#fb9f3a"
            ],
            [
             0.8888888888888888,
             "#fdca26"
            ],
            [
             1,
             "#f0f921"
            ]
           ]
          },
          "colorway": [
           "#636efa",
           "#EF553B",
           "#00cc96",
           "#ab63fa",
           "#FFA15A",
           "#19d3f3",
           "#FF6692",
           "#B6E880",
           "#FF97FF",
           "#FECB52"
          ],
          "font": {
           "color": "#2a3f5f"
          },
          "geo": {
           "bgcolor": "white",
           "lakecolor": "white",
           "landcolor": "#E5ECF6",
           "showlakes": true,
           "showland": true,
           "subunitcolor": "white"
          },
          "hoverlabel": {
           "align": "left"
          },
          "hovermode": "closest",
          "mapbox": {
           "style": "light"
          },
          "paper_bgcolor": "white",
          "plot_bgcolor": "#E5ECF6",
          "polar": {
           "angularaxis": {
            "gridcolor": "white",
            "linecolor": "white",
            "ticks": ""
           },
           "bgcolor": "#E5ECF6",
           "radialaxis": {
            "gridcolor": "white",
            "linecolor": "white",
            "ticks": ""
           }
          },
          "scene": {
           "xaxis": {
            "backgroundcolor": "#E5ECF6",
            "gridcolor": "white",
            "gridwidth": 2,
            "linecolor": "white",
            "showbackground": true,
            "ticks": "",
            "zerolinecolor": "white"
           },
           "yaxis": {
            "backgroundcolor": "#E5ECF6",
            "gridcolor": "white",
            "gridwidth": 2,
            "linecolor": "white",
            "showbackground": true,
            "ticks": "",
            "zerolinecolor": "white"
           },
           "zaxis": {
            "backgroundcolor": "#E5ECF6",
            "gridcolor": "white",
            "gridwidth": 2,
            "linecolor": "white",
            "showbackground": true,
            "ticks": "",
            "zerolinecolor": "white"
           }
          },
          "shapedefaults": {
           "line": {
            "color": "#2a3f5f"
           }
          },
          "ternary": {
           "aaxis": {
            "gridcolor": "white",
            "linecolor": "white",
            "ticks": ""
           },
           "baxis": {
            "gridcolor": "white",
            "linecolor": "white",
            "ticks": ""
           },
           "bgcolor": "#E5ECF6",
           "caxis": {
            "gridcolor": "white",
            "linecolor": "white",
            "ticks": ""
           }
          },
          "title": {
           "x": 0.05
          },
          "xaxis": {
           "automargin": true,
           "gridcolor": "white",
           "linecolor": "white",
           "ticks": "",
           "title": {
            "standoff": 15
           },
           "zerolinecolor": "white",
           "zerolinewidth": 2
          },
          "yaxis": {
           "automargin": true,
           "gridcolor": "white",
           "linecolor": "white",
           "ticks": "",
           "title": {
            "standoff": 15
           },
           "zerolinecolor": "white",
           "zerolinewidth": 2
          }
         }
        }
       }
      }
     },
     "metadata": {},
     "output_type": "display_data"
    }
   ],
   "source": [
    "failures_by_country = cleaned_data.loc[cleaned_data['Mission_Status'] == 'Failure'].groupby('Country_code').agg({'index':'count'}).reset_index()\n",
    "fig = px.choropleth(failures_by_country, locations='Country_code',color='index',\n",
    "                   color_continuous_scale=\"Reds\", range_color=(0,20))\n",
    "fig.show()"
   ]
  },
  {
   "cell_type": "markdown",
   "metadata": {
    "id": "9LqcqSrKa-qN",
    "papermill": {
     "duration": 0.039343,
     "end_time": "2020-10-20T21:34:06.591694",
     "exception": false,
     "start_time": "2020-10-20T21:34:06.552351",
     "status": "completed"
    },
    "tags": []
   },
   "source": [
    "# Plotly Sunburst Chart of the countries, organisations, and mission status. "
   ]
  },
  {
   "cell_type": "code",
   "execution_count": 423,
   "metadata": {
    "id": "MwUfpoByo3_J"
   },
   "outputs": [
    {
     "data": {
      "application/vnd.plotly.v1+json": {
       "config": {
        "plotlyServerURL": "https://plot.ly"
       },
       "data": [
        {
         "branchvalues": "total",
         "domain": {
          "x": [
           0,
           1
          ],
          "y": [
           0,
           1
          ]
         },
         "hovertemplate": "labels=%{label}<br>Price=%{value}<br>parent=%{parent}<br>id=%{id}<extra></extra>",
         "ids": [
          "USA/SpaceX/Success",
          "China/CASC/Success",
          "Kazakhstan/Roscosmos/Success",
          "USA/ULA/Success",
          "Japan/JAXA/Success",
          "USA/Northrop/Success",
          "China/ExPace/Failure",
          "Israel/IAI/Success",
          "New Zealand/Rocket Lab/Failure",
          "New Zealand/Rocket Lab/Success",
          "USA/Virgin Orbit/Failure",
          "Russian Federation/VKS RF/Success",
          "Japan/MHI/Success",
          "China/ExPace/Success",
          "Iran/IRGC/Success",
          "China/CASC/Failure",
          "Kazakhstan/Arianespace/Success",
          "France/Arianespace/Success",
          "Iran/ISA/Failure",
          "USA/Blue Origin/Success",
          "India/ISRO/Success",
          "USA/Exos/Failure",
          "Kazakhstan/ILS/Success",
          "Iran/ISA/Prelaunch Failure",
          "China/i-Space/Success",
          "France/Arianespace/Failure",
          "Russian Federation/Roscosmos/Success",
          "USA/Exos/Partial Failure",
          "China/OneSpace/Failure",
          "Kazakhstan/VKS RF/Success",
          "China/Landspace/Failure",
          "Kazakhstan/Roscosmos/Failure",
          "Russian Federation/Eurockot/Success",
          "France/Arianespace/Partial Failure",
          "Kazakhstan/Land Launch/Success",
          "Russian Federation/Roscosmos/Failure",
          "India/ISRO/Failure",
          "Kazakhstan/Roscosmos/Partial Failure",
          "China/CASC/Partial Failure",
          "China/CASIC/Success",
          "Japan/JAXA/Failure",
          "USA/SpaceX/Prelaunch Failure",
          "North Korea/KCST/Success",
          "Russian Federation/VKS RF/Partial Failure",
          "USA/Sandia/Failure",
          "USA/SpaceX/Failure",
          "Russian Federation/Kosmotras/Success",
          "Iran/ISA/Success",
          "Russian Federation/Khrunichev/Success",
          "USA/Northrop/Failure",
          "Pacific Ocean/Sea Launch/Success",
          "Kazakhstan/VKS RF/Failure",
          "Pacific Ocean/Sea Launch/Failure",
          "South Korea/KARI/Success",
          "USA/SpaceX/Partial Failure",
          "North Korea/KCST/Failure",
          "France/ESA/Success",
          "USA/NASA/Success",
          "Kazakhstan/Kosmotras/Success",
          "South Korea/KARI/Failure",
          "Kazakhstan/Land Launch/Partial Failure",
          "India/ISRO/Partial Failure",
          "USA/ULA/Partial Failure",
          "USA/Boeing/Success",
          "Japan/ISAS/Success",
          "Kazakhstan/Kosmotras/Failure",
          "Russian Federation/SRC/Success",
          "Russian Federation/MITT/Success",
          "USA/ILS/Success",
          "USA/Lockheed/Success",
          "Russian Federation/Eurockot/Failure",
          "Russian Federation/SRC/Failure",
          "Russian Federation/VKS RF/Failure",
          "USA/Boeing/Partial Failure",
          "Israel/IAI/Failure",
          "Japan/MHI/Failure",
          "China/CASIC/Failure",
          "Brazil/AEB/Prelaunch Failure",
          "Kazakhstan/Starsem/Success",
          "USA/NASA/Failure",
          "Japan/ISAS/Failure",
          "Brazil/AEB/Failure",
          "USA/Boeing/Failure",
          "USA/Lockheed/Failure",
          "Russian Federation/RVSN USSR/Success",
          "Japan/MHI/Partial Failure",
          "Kazakhstan/ILS/Partial Failure",
          "France/ESA/Partial Failure",
          "France/ESA/Failure",
          "USA/EER/Failure",
          "Russian Federation/MITT/Failure",
          "USA/General Dynamics/Success",
          "Japan/ISAS/Partial Failure",
          "USA/Martin Marietta/Success",
          "USA/Northrop/Partial Failure",
          "USA/Martin Marietta/Failure",
          "USA/General Dynamics/Failure",
          "Kazakhstan/RVSN USSR/Failure",
          "Kazakhstan/RVSN USSR/Success",
          "Russian Federation/Yuzhmash/Success",
          "Russian Federation/RVSN USSR/Failure",
          "Russian Federation/RVSN USSR/Partial Failure",
          "USA/Douglas/Success",
          "USA/Martin Marietta/Partial Failure",
          "Kenya/ASI/Success",
          "Kazakhstan/RVSN USSR/Partial Failure",
          "USA/US Air Force/Success",
          "USA/General Dynamics/Partial Failure",
          "France/CNES/Success",
          "USA/US Air Force/Failure",
          "France/CNES/Failure",
          "France/CECLES/Failure",
          "Australia/RAE/Success",
          "Australia/RAE/Failure",
          "Australia/CECLES/Failure",
          "Japan/UT/Success",
          "Kazakhstan/Yuzhmash/Success",
          "Japan/UT/Failure",
          "Australia/CECLES/Success",
          "USA/NASA/Partial Failure",
          "Kazakhstan/OKB-586/Success",
          "Australia/AMBA/Success",
          "USA/US Air Force/Partial Failure",
          "France/Arm??e de l'Air/Success",
          "France/Arm??e de l'Air/Partial Failure",
          "Kazakhstan/RVSN USSR/Prelaunch Failure",
          "USA/US Navy/Partial Failure",
          "USA/US Navy/Failure",
          "USA/US Navy/Success",
          "USA/AMBA/Partial Failure",
          "USA/AMBA/Failure",
          "USA/AMBA/Success",
          "USA/SpaceX",
          "China/CASC",
          "Kazakhstan/Roscosmos",
          "USA/ULA",
          "Japan/JAXA",
          "USA/Northrop",
          "China/ExPace",
          "Israel/IAI",
          "New Zealand/Rocket Lab",
          "USA/Virgin Orbit",
          "Russian Federation/VKS RF",
          "Japan/MHI",
          "Iran/IRGC",
          "Kazakhstan/Arianespace",
          "France/Arianespace",
          "Iran/ISA",
          "USA/Blue Origin",
          "India/ISRO",
          "USA/Exos",
          "Kazakhstan/ILS",
          "China/i-Space",
          "Russian Federation/Roscosmos",
          "China/OneSpace",
          "Kazakhstan/VKS RF",
          "China/Landspace",
          "Russian Federation/Eurockot",
          "Kazakhstan/Land Launch",
          "China/CASIC",
          "North Korea/KCST",
          "USA/Sandia",
          "Russian Federation/Kosmotras",
          "Russian Federation/Khrunichev",
          "Pacific Ocean/Sea Launch",
          "South Korea/KARI",
          "France/ESA",
          "USA/NASA",
          "Kazakhstan/Kosmotras",
          "USA/Boeing",
          "Japan/ISAS",
          "Russian Federation/SRC",
          "Russian Federation/MITT",
          "USA/ILS",
          "USA/Lockheed",
          "Brazil/AEB",
          "Kazakhstan/Starsem",
          "Russian Federation/RVSN USSR",
          "USA/EER",
          "USA/General Dynamics",
          "USA/Martin Marietta",
          "Kazakhstan/RVSN USSR",
          "Russian Federation/Yuzhmash",
          "USA/Douglas",
          "Kenya/ASI",
          "USA/US Air Force",
          "France/CNES",
          "France/CECLES",
          "Australia/RAE",
          "Australia/CECLES",
          "Japan/UT",
          "Kazakhstan/Yuzhmash",
          "Kazakhstan/OKB-586",
          "Australia/AMBA",
          "France/Arm??e de l'Air",
          "USA/US Navy",
          "USA/AMBA",
          "USA",
          "China",
          "Kazakhstan",
          "Japan",
          "Israel",
          "New Zealand",
          "Russian Federation",
          "Iran",
          "France",
          "India",
          "North Korea",
          "Pacific Ocean",
          "South Korea",
          "Brazil",
          "Kenya",
          "Australia"
         ],
         "labels": [
          "Success",
          "Success",
          "Success",
          "Success",
          "Success",
          "Success",
          "Failure",
          "Success",
          "Failure",
          "Success",
          "Failure",
          "Success",
          "Success",
          "Success",
          "Success",
          "Failure",
          "Success",
          "Success",
          "Failure",
          "Success",
          "Success",
          "Failure",
          "Success",
          "Prelaunch Failure",
          "Success",
          "Failure",
          "Success",
          "Partial Failure",
          "Failure",
          "Success",
          "Failure",
          "Failure",
          "Success",
          "Partial Failure",
          "Success",
          "Failure",
          "Failure",
          "Partial Failure",
          "Partial Failure",
          "Success",
          "Failure",
          "Prelaunch Failure",
          "Success",
          "Partial Failure",
          "Failure",
          "Failure",
          "Success",
          "Success",
          "Success",
          "Failure",
          "Success",
          "Failure",
          "Failure",
          "Success",
          "Partial Failure",
          "Failure",
          "Success",
          "Success",
          "Success",
          "Failure",
          "Partial Failure",
          "Partial Failure",
          "Partial Failure",
          "Success",
          "Success",
          "Failure",
          "Success",
          "Success",
          "Success",
          "Success",
          "Failure",
          "Failure",
          "Failure",
          "Partial Failure",
          "Failure",
          "Failure",
          "Failure",
          "Prelaunch Failure",
          "Success",
          "Failure",
          "Failure",
          "Failure",
          "Failure",
          "Failure",
          "Success",
          "Partial Failure",
          "Partial Failure",
          "Partial Failure",
          "Failure",
          "Failure",
          "Failure",
          "Success",
          "Partial Failure",
          "Success",
          "Partial Failure",
          "Failure",
          "Failure",
          "Failure",
          "Success",
          "Success",
          "Failure",
          "Partial Failure",
          "Success",
          "Partial Failure",
          "Success",
          "Partial Failure",
          "Success",
          "Partial Failure",
          "Success",
          "Failure",
          "Failure",
          "Failure",
          "Success",
          "Failure",
          "Failure",
          "Success",
          "Success",
          "Failure",
          "Success",
          "Partial Failure",
          "Success",
          "Success",
          "Partial Failure",
          "Success",
          "Partial Failure",
          "Prelaunch Failure",
          "Partial Failure",
          "Failure",
          "Success",
          "Partial Failure",
          "Failure",
          "Success",
          "SpaceX",
          "CASC",
          "Roscosmos",
          "ULA",
          "JAXA",
          "Northrop",
          "ExPace",
          "IAI",
          "Rocket Lab",
          "Virgin Orbit",
          "VKS RF",
          "MHI",
          "IRGC",
          "Arianespace",
          "Arianespace",
          "ISA",
          "Blue Origin",
          "ISRO",
          "Exos",
          "ILS",
          "i-Space",
          "Roscosmos",
          "OneSpace",
          "VKS RF",
          "Landspace",
          "Eurockot",
          "Land Launch",
          "CASIC",
          "KCST",
          "Sandia",
          "Kosmotras",
          "Khrunichev",
          "Sea Launch",
          "KARI",
          "ESA",
          "NASA",
          "Kosmotras",
          "Boeing",
          "ISAS",
          "SRC",
          "MITT",
          "ILS",
          "Lockheed",
          "AEB",
          "Starsem",
          "RVSN USSR",
          "EER",
          "General Dynamics",
          "Martin Marietta",
          "RVSN USSR",
          "Yuzhmash",
          "Douglas",
          "ASI",
          "US Air Force",
          "CNES",
          "CECLES",
          "RAE",
          "CECLES",
          "UT",
          "Yuzhmash",
          "OKB-586",
          "AMBA",
          "Arm??e de l'Air",
          "US Navy",
          "AMBA",
          "USA",
          "China",
          "Kazakhstan",
          "Japan",
          "Israel",
          "New Zealand",
          "Russian Federation",
          "Iran",
          "France",
          "India",
          "North Korea",
          "Pacific Ocean",
          "South Korea",
          "Brazil",
          "Kenya",
          "Australia"
         ],
         "name": "",
         "parents": [
          "USA/SpaceX",
          "China/CASC",
          "Kazakhstan/Roscosmos",
          "USA/ULA",
          "Japan/JAXA",
          "USA/Northrop",
          "China/ExPace",
          "Israel/IAI",
          "New Zealand/Rocket Lab",
          "New Zealand/Rocket Lab",
          "USA/Virgin Orbit",
          "Russian Federation/VKS RF",
          "Japan/MHI",
          "China/ExPace",
          "Iran/IRGC",
          "China/CASC",
          "Kazakhstan/Arianespace",
          "France/Arianespace",
          "Iran/ISA",
          "USA/Blue Origin",
          "India/ISRO",
          "USA/Exos",
          "Kazakhstan/ILS",
          "Iran/ISA",
          "China/i-Space",
          "France/Arianespace",
          "Russian Federation/Roscosmos",
          "USA/Exos",
          "China/OneSpace",
          "Kazakhstan/VKS RF",
          "China/Landspace",
          "Kazakhstan/Roscosmos",
          "Russian Federation/Eurockot",
          "France/Arianespace",
          "Kazakhstan/Land Launch",
          "Russian Federation/Roscosmos",
          "India/ISRO",
          "Kazakhstan/Roscosmos",
          "China/CASC",
          "China/CASIC",
          "Japan/JAXA",
          "USA/SpaceX",
          "North Korea/KCST",
          "Russian Federation/VKS RF",
          "USA/Sandia",
          "USA/SpaceX",
          "Russian Federation/Kosmotras",
          "Iran/ISA",
          "Russian Federation/Khrunichev",
          "USA/Northrop",
          "Pacific Ocean/Sea Launch",
          "Kazakhstan/VKS RF",
          "Pacific Ocean/Sea Launch",
          "South Korea/KARI",
          "USA/SpaceX",
          "North Korea/KCST",
          "France/ESA",
          "USA/NASA",
          "Kazakhstan/Kosmotras",
          "South Korea/KARI",
          "Kazakhstan/Land Launch",
          "India/ISRO",
          "USA/ULA",
          "USA/Boeing",
          "Japan/ISAS",
          "Kazakhstan/Kosmotras",
          "Russian Federation/SRC",
          "Russian Federation/MITT",
          "USA/ILS",
          "USA/Lockheed",
          "Russian Federation/Eurockot",
          "Russian Federation/SRC",
          "Russian Federation/VKS RF",
          "USA/Boeing",
          "Israel/IAI",
          "Japan/MHI",
          "China/CASIC",
          "Brazil/AEB",
          "Kazakhstan/Starsem",
          "USA/NASA",
          "Japan/ISAS",
          "Brazil/AEB",
          "USA/Boeing",
          "USA/Lockheed",
          "Russian Federation/RVSN USSR",
          "Japan/MHI",
          "Kazakhstan/ILS",
          "France/ESA",
          "France/ESA",
          "USA/EER",
          "Russian Federation/MITT",
          "USA/General Dynamics",
          "Japan/ISAS",
          "USA/Martin Marietta",
          "USA/Northrop",
          "USA/Martin Marietta",
          "USA/General Dynamics",
          "Kazakhstan/RVSN USSR",
          "Kazakhstan/RVSN USSR",
          "Russian Federation/Yuzhmash",
          "Russian Federation/RVSN USSR",
          "Russian Federation/RVSN USSR",
          "USA/Douglas",
          "USA/Martin Marietta",
          "Kenya/ASI",
          "Kazakhstan/RVSN USSR",
          "USA/US Air Force",
          "USA/General Dynamics",
          "France/CNES",
          "USA/US Air Force",
          "France/CNES",
          "France/CECLES",
          "Australia/RAE",
          "Australia/RAE",
          "Australia/CECLES",
          "Japan/UT",
          "Kazakhstan/Yuzhmash",
          "Japan/UT",
          "Australia/CECLES",
          "USA/NASA",
          "Kazakhstan/OKB-586",
          "Australia/AMBA",
          "USA/US Air Force",
          "France/Arm??e de l'Air",
          "France/Arm??e de l'Air",
          "Kazakhstan/RVSN USSR",
          "USA/US Navy",
          "USA/US Navy",
          "USA/US Navy",
          "USA/AMBA",
          "USA/AMBA",
          "USA/AMBA",
          "USA",
          "China",
          "Kazakhstan",
          "USA",
          "Japan",
          "USA",
          "China",
          "Israel",
          "New Zealand",
          "USA",
          "Russian Federation",
          "Japan",
          "Iran",
          "Kazakhstan",
          "France",
          "Iran",
          "USA",
          "India",
          "USA",
          "Kazakhstan",
          "China",
          "Russian Federation",
          "China",
          "Kazakhstan",
          "China",
          "Russian Federation",
          "Kazakhstan",
          "China",
          "North Korea",
          "USA",
          "Russian Federation",
          "Russian Federation",
          "Pacific Ocean",
          "South Korea",
          "France",
          "USA",
          "Kazakhstan",
          "USA",
          "Japan",
          "Russian Federation",
          "Russian Federation",
          "USA",
          "USA",
          "Brazil",
          "Kazakhstan",
          "Russian Federation",
          "USA",
          "USA",
          "USA",
          "Kazakhstan",
          "Russian Federation",
          "USA",
          "Kenya",
          "USA",
          "France",
          "France",
          "Australia",
          "Australia",
          "Japan",
          "Kazakhstan",
          "Kazakhstan",
          "Australia",
          "France",
          "USA",
          "USA",
          "",
          "",
          "",
          "",
          "",
          "",
          "",
          "",
          "",
          "",
          "",
          "",
          "",
          "",
          "",
          ""
         ],
         "type": "sunburst",
         "values": {
          "_inputArray": {
           "0": 5245,
           "1": 6053.150000000001,
           "10": 12,
           "100": 0,
           "101": 0,
           "102": 0,
           "103": 0,
           "104": 0,
           "105": 0,
           "106": 1369.69,
           "107": 0,
           "108": 0,
           "109": 122.22999999999999,
           "11": 1140.3,
           "110": 0,
           "111": 0,
           "112": 0,
           "113": 0,
           "114": 0,
           "115": 0,
           "116": 0,
           "117": 0,
           "118": 0,
           "119": 1160,
           "12": 3532.5,
           "120": 0,
           "121": 0,
           "122": 59,
           "123": 0,
           "124": 0,
           "125": 0,
           "126": 0,
           "127": 0,
           "128": 0,
           "129": 0,
           "13": 0,
           "130": 0,
           "131": 0,
           "132": 5444,
           "133": 6340.26,
           "134": 1055.5,
           "135": 14798,
           "136": 168,
           "137": 3930,
           "138": 28.3,
           "139": 0,
           "14": 0,
           "140": 97.5,
           "141": 12,
           "142": 1223.8999999999999,
           "143": 3532.5,
           "144": 0,
           "145": 97,
           "146": 16248,
           "147": 0,
           "148": 0,
           "149": 2177,
           "15": 158.51000000000002,
           "150": 0,
           "151": 325,
           "152": 0,
           "153": 132,
           "154": 0,
           "155": 325,
           "156": 0,
           "157": 543.4,
           "158": 0,
           "159": 0,
           "16": 97,
           "160": 0,
           "161": 15,
           "162": 290,
           "163": 0,
           "164": 0,
           "165": 0,
           "166": 37,
           "167": 76280,
           "168": 348,
           "169": 1241,
           "17": 15811,
           "170": 0,
           "171": 0,
           "172": 0,
           "173": 995,
           "174": 280,
           "175": 0,
           "176": 0,
           "177": 0,
           "178": 20,
           "179": 0,
           "18": 0,
           "180": 721.4,
           "181": 10000,
           "182": 0,
           "183": 0,
           "184": 0,
           "185": 1550.92,
           "186": 0,
           "187": 0,
           "188": 0,
           "189": 0,
           "19": 0,
           "190": 0,
           "191": 0,
           "192": 0,
           "193": 0,
           "194": 0,
           "195": 0,
           "196": 0,
           "197": 105287.32,
           "198": 6368.56,
           "199": 12150.5,
           "2": 1007,
           "20": 1861,
           "200": 3700.5,
           "201": 0,
           "202": 97.5,
           "203": 2189.2999999999997,
           "204": 0,
           "205": 16285,
           "206": 2177,
           "207": 0,
           "208": 0,
           "209": 0,
           "21": 0,
           "210": 0,
           "211": 0,
           "212": 0,
           "22": 325,
           "23": 0,
           "24": 0,
           "25": 237,
           "26": 132,
           "27": 0,
           "28": 0,
           "29": 260,
           "3": 14689,
           "30": 0,
           "31": 0,
           "32": 501.59999999999997,
           "33": 200,
           "34": 0,
           "35": 0,
           "36": 197,
           "37": 48.5,
           "38": 128.6,
           "39": 0,
           "4": 168,
           "40": 0,
           "41": 62,
           "42": 0,
           "43": 83.6,
           "44": 15,
           "45": 77.5,
           "46": 290,
           "47": 0,
           "48": 0,
           "49": 335,
           "5": 3515,
           "50": 0,
           "51": 65,
           "52": 0,
           "53": 0,
           "54": 59.5,
           "55": 0,
           "56": 37,
           "57": 74220,
           "58": 319,
           "59": 0,
           "6": 28.3,
           "60": 0,
           "61": 119,
           "62": 109,
           "63": 891,
           "64": 0,
           "65": 29,
           "66": 0,
           "67": 0,
           "68": 995,
           "69": 280,
           "7": 0,
           "70": 41.8,
           "71": 0,
           "72": 0,
           "73": 350,
           "74": 0,
           "75": 0,
           "76": 0,
           "77": 0,
           "78": 0,
           "79": 900,
           "8": 15,
           "80": 0,
           "81": 0,
           "82": 0,
           "83": 0,
           "84": 0,
           "85": 0,
           "86": 0,
           "87": 0,
           "88": 0,
           "89": 20,
           "9": 82.5,
           "90": 0,
           "91": 0,
           "92": 0,
           "93": 549.8,
           "94": 80,
           "95": 171.6,
           "96": 0,
           "97": 0,
           "98": 10000,
           "99": 0,
           "bdata": "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",
           "dtype": "f8",
           "shape": "213"
          },
          "bdata": "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",
          "dtype": "f8"
         }
        }
       ],
       "layout": {
        "autosize": true,
        "legend": {
         "tracegroupgap": 0
        },
        "margin": {
         "t": 60
        },
        "template": {
         "data": {
          "bar": [
           {
            "error_x": {
             "color": "#2a3f5f"
            },
            "error_y": {
             "color": "#2a3f5f"
            },
            "marker": {
             "line": {
              "color": "#E5ECF6",
              "width": 0.5
             },
             "pattern": {
              "fillmode": "overlay",
              "size": 10,
              "solidity": 0.2
             }
            },
            "type": "bar"
           }
          ],
          "barpolar": [
           {
            "marker": {
             "line": {
              "color": "#E5ECF6",
              "width": 0.5
             },
             "pattern": {
              "fillmode": "overlay",
              "size": 10,
              "solidity": 0.2
             }
            },
            "type": "barpolar"
           }
          ],
          "carpet": [
           {
            "aaxis": {
             "endlinecolor": "#2a3f5f",
             "gridcolor": "white",
             "linecolor": "white",
             "minorgridcolor": "white",
             "startlinecolor": "#2a3f5f"
            },
            "baxis": {
             "endlinecolor": "#2a3f5f",
             "gridcolor": "white",
             "linecolor": "white",
             "minorgridcolor": "white",
             "startlinecolor": "#2a3f5f"
            },
            "type": "carpet"
           }
          ],
          "choropleth": [
           {
            "colorbar": {
             "outlinewidth": 0,
             "ticks": ""
            },
            "type": "choropleth"
           }
          ],
          "contour": [
           {
            "colorbar": {
             "outlinewidth": 0,
             "ticks": ""
            },
            "colorscale": [
             [
              0,
              "#0d0887"
             ],
             [
              0.1111111111111111,
              "#46039f"
             ],
             [
              0.2222222222222222,
              "#7201a8"
             ],
             [
              0.3333333333333333,
              "#9c179e"
             ],
             [
              0.4444444444444444,
              "#bd3786"
             ],
             [
              0.5555555555555556,
              "#d8576b"
             ],
             [
              0.6666666666666666,
              "#ed7953"
             ],
             [
              0.7777777777777778,
              "#fb9f3a"
             ],
             [
              0.8888888888888888,
              "#fdca26"
             ],
             [
              1,
              "#f0f921"
             ]
            ],
            "type": "contour"
           }
          ],
          "contourcarpet": [
           {
            "colorbar": {
             "outlinewidth": 0,
             "ticks": ""
            },
            "type": "contourcarpet"
           }
          ],
          "heatmap": [
           {
            "colorbar": {
             "outlinewidth": 0,
             "ticks": ""
            },
            "colorscale": [
             [
              0,
              "#0d0887"
             ],
             [
              0.1111111111111111,
              "#46039f"
             ],
             [
              0.2222222222222222,
              "#7201a8"
             ],
             [
              0.3333333333333333,
              "#9c179e"
             ],
             [
              0.4444444444444444,
              "#bd3786"
             ],
             [
              0.5555555555555556,
              "#d8576b"
             ],
             [
              0.6666666666666666,
              "#ed7953"
             ],
             [
              0.7777777777777778,
              "#fb9f3a"
             ],
             [
              0.8888888888888888,
              "#fdca26"
             ],
             [
              1,
              "#f0f921"
             ]
            ],
            "type": "heatmap"
           }
          ],
          "histogram": [
           {
            "marker": {
             "pattern": {
              "fillmode": "overlay",
              "size": 10,
              "solidity": 0.2
             }
            },
            "type": "histogram"
           }
          ],
          "histogram2d": [
           {
            "colorbar": {
             "outlinewidth": 0,
             "ticks": ""
            },
            "colorscale": [
             [
              0,
              "#0d0887"
             ],
             [
              0.1111111111111111,
              "#46039f"
             ],
             [
              0.2222222222222222,
              "#7201a8"
             ],
             [
              0.3333333333333333,
              "#9c179e"
             ],
             [
              0.4444444444444444,
              "#bd3786"
             ],
             [
              0.5555555555555556,
              "#d8576b"
             ],
             [
              0.6666666666666666,
              "#ed7953"
             ],
             [
              0.7777777777777778,
              "#fb9f3a"
             ],
             [
              0.8888888888888888,
              "#fdca26"
             ],
             [
              1,
              "#f0f921"
             ]
            ],
            "type": "histogram2d"
           }
          ],
          "histogram2dcontour": [
           {
            "colorbar": {
             "outlinewidth": 0,
             "ticks": ""
            },
            "colorscale": [
             [
              0,
              "#0d0887"
             ],
             [
              0.1111111111111111,
              "#46039f"
             ],
             [
              0.2222222222222222,
              "#7201a8"
             ],
             [
              0.3333333333333333,
              "#9c179e"
             ],
             [
              0.4444444444444444,
              "#bd3786"
             ],
             [
              0.5555555555555556,
              "#d8576b"
             ],
             [
              0.6666666666666666,
              "#ed7953"
             ],
             [
              0.7777777777777778,
              "#fb9f3a"
             ],
             [
              0.8888888888888888,
              "#fdca26"
             ],
             [
              1,
              "#f0f921"
             ]
            ],
            "type": "histogram2dcontour"
           }
          ],
          "mesh3d": [
           {
            "colorbar": {
             "outlinewidth": 0,
             "ticks": ""
            },
            "type": "mesh3d"
           }
          ],
          "parcoords": [
           {
            "line": {
             "colorbar": {
              "outlinewidth": 0,
              "ticks": ""
             }
            },
            "type": "parcoords"
           }
          ],
          "pie": [
           {
            "automargin": true,
            "type": "pie"
           }
          ],
          "scatter": [
           {
            "fillpattern": {
             "fillmode": "overlay",
             "size": 10,
             "solidity": 0.2
            },
            "type": "scatter"
           }
          ],
          "scatter3d": [
           {
            "line": {
             "colorbar": {
              "outlinewidth": 0,
              "ticks": ""
             }
            },
            "marker": {
             "colorbar": {
              "outlinewidth": 0,
              "ticks": ""
             }
            },
            "type": "scatter3d"
           }
          ],
          "scattercarpet": [
           {
            "marker": {
             "colorbar": {
              "outlinewidth": 0,
              "ticks": ""
             }
            },
            "type": "scattercarpet"
           }
          ],
          "scattergeo": [
           {
            "marker": {
             "colorbar": {
              "outlinewidth": 0,
              "ticks": ""
             }
            },
            "type": "scattergeo"
           }
          ],
          "scattergl": [
           {
            "marker": {
             "colorbar": {
              "outlinewidth": 0,
              "ticks": ""
             }
            },
            "type": "scattergl"
           }
          ],
          "scattermap": [
           {
            "marker": {
             "colorbar": {
              "outlinewidth": 0,
              "ticks": ""
             }
            },
            "type": "scattermap"
           }
          ],
          "scattermapbox": [
           {
            "marker": {
             "colorbar": {
              "outlinewidth": 0,
              "ticks": ""
             }
            },
            "type": "scattermapbox"
           }
          ],
          "scatterpolar": [
           {
            "marker": {
             "colorbar": {
              "outlinewidth": 0,
              "ticks": ""
             }
            },
            "type": "scatterpolar"
           }
          ],
          "scatterpolargl": [
           {
            "marker": {
             "colorbar": {
              "outlinewidth": 0,
              "ticks": ""
             }
            },
            "type": "scatterpolargl"
           }
          ],
          "scatterternary": [
           {
            "marker": {
             "colorbar": {
              "outlinewidth": 0,
              "ticks": ""
             }
            },
            "type": "scatterternary"
           }
          ],
          "surface": [
           {
            "colorbar": {
             "outlinewidth": 0,
             "ticks": ""
            },
            "colorscale": [
             [
              0,
              "#0d0887"
             ],
             [
              0.1111111111111111,
              "#46039f"
             ],
             [
              0.2222222222222222,
              "#7201a8"
             ],
             [
              0.3333333333333333,
              "#9c179e"
             ],
             [
              0.4444444444444444,
              "#bd3786"
             ],
             [
              0.5555555555555556,
              "#d8576b"
             ],
             [
              0.6666666666666666,
              "#ed7953"
             ],
             [
              0.7777777777777778,
              "#fb9f3a"
             ],
             [
              0.8888888888888888,
              "#fdca26"
             ],
             [
              1,
              "#f0f921"
             ]
            ],
            "type": "surface"
           }
          ],
          "table": [
           {
            "cells": {
             "fill": {
              "color": "#EBF0F8"
             },
             "line": {
              "color": "white"
             }
            },
            "header": {
             "fill": {
              "color": "#C8D4E3"
             },
             "line": {
              "color": "white"
             }
            },
            "type": "table"
           }
          ]
         },
         "layout": {
          "annotationdefaults": {
           "arrowcolor": "#2a3f5f",
           "arrowhead": 0,
           "arrowwidth": 1
          },
          "autotypenumbers": "strict",
          "coloraxis": {
           "colorbar": {
            "outlinewidth": 0,
            "ticks": ""
           }
          },
          "colorscale": {
           "diverging": [
            [
             0,
             "#8e0152"
            ],
            [
             0.1,
             "#c51b7d"
            ],
            [
             0.2,
             "#de77ae"
            ],
            [
             0.3,
             "#f1b6da"
            ],
            [
             0.4,
             "#fde0ef"
            ],
            [
             0.5,
             "#f7f7f7"
            ],
            [
             0.6,
             "#e6f5d0"
            ],
            [
             0.7,
             "#b8e186"
            ],
            [
             0.8,
             "#7fbc41"
            ],
            [
             0.9,
             "#4d9221"
            ],
            [
             1,
             "#276419"
            ]
           ],
           "sequential": [
            [
             0,
             "#0d0887"
            ],
            [
             0.1111111111111111,
             "#46039f"
            ],
            [
             0.2222222222222222,
             "#7201a8"
            ],
            [
             0.3333333333333333,
             "#9c179e"
            ],
            [
             0.4444444444444444,
             "#bd3786"
            ],
            [
             0.5555555555555556,
             "#d8576b"
            ],
            [
             0.6666666666666666,
             "#ed7953"
            ],
            [
             0.7777777777777778,
             "#fb9f3a"
            ],
            [
             0.8888888888888888,
             "#fdca26"
            ],
            [
             1,
             "#f0f921"
            ]
           ],
           "sequentialminus": [
            [
             0,
             "#0d0887"
            ],
            [
             0.1111111111111111,
             "#46039f"
            ],
            [
             0.2222222222222222,
             "#7201a8"
            ],
            [
             0.3333333333333333,
             "#9c179e"
            ],
            [
             0.4444444444444444,
             "#bd3786"
            ],
            [
             0.5555555555555556,
             "#d8576b"
            ],
            [
             0.6666666666666666,
             "#ed7953"
            ],
            [
             0.7777777777777778,
             "#fb9f3a"
            ],
            [
             0.8888888888888888,
             "#fdca26"
            ],
            [
             1,
             "#f0f921"
            ]
           ]
          },
          "colorway": [
           "#636efa",
           "#EF553B",
           "#00cc96",
           "#ab63fa",
           "#FFA15A",
           "#19d3f3",
           "#FF6692",
           "#B6E880",
           "#FF97FF",
           "#FECB52"
          ],
          "font": {
           "color": "#2a3f5f"
          },
          "geo": {
           "bgcolor": "white",
           "lakecolor": "white",
           "landcolor": "#E5ECF6",
           "showlakes": true,
           "showland": true,
           "subunitcolor": "white"
          },
          "hoverlabel": {
           "align": "left"
          },
          "hovermode": "closest",
          "mapbox": {
           "style": "light"
          },
          "paper_bgcolor": "white",
          "plot_bgcolor": "#E5ECF6",
          "polar": {
           "angularaxis": {
            "gridcolor": "white",
            "linecolor": "white",
            "ticks": ""
           },
           "bgcolor": "#E5ECF6",
           "radialaxis": {
            "gridcolor": "white",
            "linecolor": "white",
            "ticks": ""
           }
          },
          "scene": {
           "xaxis": {
            "backgroundcolor": "#E5ECF6",
            "gridcolor": "white",
            "gridwidth": 2,
            "linecolor": "white",
            "showbackground": true,
            "ticks": "",
            "zerolinecolor": "white"
           },
           "yaxis": {
            "backgroundcolor": "#E5ECF6",
            "gridcolor": "white",
            "gridwidth": 2,
            "linecolor": "white",
            "showbackground": true,
            "ticks": "",
            "zerolinecolor": "white"
           },
           "zaxis": {
            "backgroundcolor": "#E5ECF6",
            "gridcolor": "white",
            "gridwidth": 2,
            "linecolor": "white",
            "showbackground": true,
            "ticks": "",
            "zerolinecolor": "white"
           }
          },
          "shapedefaults": {
           "line": {
            "color": "#2a3f5f"
           }
          },
          "ternary": {
           "aaxis": {
            "gridcolor": "white",
            "linecolor": "white",
            "ticks": ""
           },
           "baxis": {
            "gridcolor": "white",
            "linecolor": "white",
            "ticks": ""
           },
           "bgcolor": "#E5ECF6",
           "caxis": {
            "gridcolor": "white",
            "linecolor": "white",
            "ticks": ""
           }
          },
          "title": {
           "x": 0.05
          },
          "xaxis": {
           "automargin": true,
           "gridcolor": "white",
           "linecolor": "white",
           "ticks": "",
           "title": {
            "standoff": 15
           },
           "zerolinecolor": "white",
           "zerolinewidth": 2
          },
          "yaxis": {
           "automargin": true,
           "gridcolor": "white",
           "linecolor": "white",
           "ticks": "",
           "title": {
            "standoff": 15
           },
           "zerolinecolor": "white",
           "zerolinewidth": 2
          }
         }
        }
       }
      }
     },
     "metadata": {},
     "output_type": "display_data"
    }
   ],
   "source": [
    "fig = px.sunburst(cleaned_data, path=['Country', 'Organisation', 'Mission_Status'], values='Price')\n",
    "fig.show()"
   ]
  },
  {
   "cell_type": "markdown",
   "metadata": {
    "id": "70pG1BCZa-qY",
    "papermill": {
     "duration": 0.062712,
     "end_time": "2020-10-20T21:34:07.951200",
     "exception": false,
     "start_time": "2020-10-20T21:34:07.888488",
     "status": "completed"
    },
    "tags": []
   },
   "source": [
    "# Total Amount of Money Spent by Organisation on Space Missions"
   ]
  },
  {
   "cell_type": "code",
   "execution_count": 424,
   "metadata": {
    "id": "IaJYxwEVpKHy"
   },
   "outputs": [
    {
     "data": {
      "application/vnd.plotly.v1+json": {
       "config": {
        "plotlyServerURL": "https://plot.ly"
       },
       "data": [
        {
         "hovertemplate": "x=%{x}<br>y=%{y}<extra></extra>",
         "legendgroup": "",
         "marker": {
          "color": "#636efa",
          "pattern": {
           "shape": ""
          }
         },
         "name": "",
         "orientation": "v",
         "showlegend": false,
         "textposition": "outside",
         "texttemplate": "%{y}",
         "type": "bar",
         "x": [
          "AEB",
          "AMBA",
          "ASI",
          "Arianespace",
          "Arm??e de l'Air",
          "Blue Origin",
          "Boeing",
          "CASC",
          "CASIC",
          "CECLES",
          "CNES",
          "Douglas",
          "EER",
          "ESA",
          "Eurockot",
          "ExPace",
          "Exos",
          "General Dynamics",
          "IAI",
          "ILS",
          "IRGC",
          "ISA",
          "ISAS",
          "ISRO",
          "JAXA",
          "KARI",
          "KCST",
          "Khrunichev",
          "Kosmotras",
          "Land Launch",
          "Landspace",
          "Lockheed",
          "MHI",
          "MITT",
          "Martin Marietta",
          "NASA",
          "Northrop",
          "OKB-586",
          "OneSpace",
          "RAE",
          "RVSN USSR",
          "Rocket Lab",
          "Roscosmos",
          "SRC",
          "Sandia",
          "Sea Launch",
          "SpaceX",
          "Starsem",
          "ULA",
          "US Air Force",
          "US Navy",
          "UT",
          "VKS RF",
          "Virgin Orbit",
          "Yuzhmash",
          "i-Space"
         ],
         "xaxis": "x",
         "y": {
          "_inputArray": {
           "0": 0,
           "1": 0,
           "10": 0,
           "11": 0,
           "12": 20,
           "13": 37,
           "14": 543.4,
           "15": 28.3,
           "16": 0,
           "17": 0,
           "18": 0,
           "19": 1320,
           "2": 0,
           "20": 0,
           "21": 0,
           "22": 0,
           "23": 2177,
           "24": 168,
           "25": 0,
           "26": 0,
           "27": 0,
           "28": 638,
           "29": 0,
           "3": 16345,
           "30": 0,
           "31": 280,
           "32": 3532.5,
           "33": 0,
           "34": 721.4,
           "35": 76280,
           "36": 3930,
           "37": 0,
           "38": 0,
           "39": 0,
           "4": 0,
           "40": 10000,
           "41": 97.5,
           "42": 1187.5,
           "43": 0,
           "44": 15,
           "45": 0,
           "46": 5444,
           "47": 0,
           "48": 14798,
           "49": 1550.92,
           "5": 0,
           "50": 0,
           "51": 0,
           "52": 1548.8999999999999,
           "53": 12,
           "54": 0,
           "55": 0,
           "6": 1241,
           "7": 6340.26,
           "8": 0,
           "9": 0,
           "bdata": "AAAAAAAAAAAAAAAAAAAAAAAAAAAAAAAAAAAAAIDsz0AAAAAAAAAAAAAAAAAAAAAAAAAAAABkk0D2KFyPQsS4QAAAAAAAAAAAAAAAAAAAAAAAAAAAAAAAAAAAAAAAAAAAAAAAAAAANEAAAAAAAIBCQDMzMzMz+4BAzczMzMxMPEAAAAAAAAAAAAAAAAAAAAAAAAAAAAAAAAAAAAAAAKCUQAAAAAAAAAAAAAAAAAAAAAAAAAAAAAAAAAAAAAAAAqFAAAAAAAAAZUAAAAAAAAAAAAAAAAAAAAAAAAAAAAAAAAAAAAAAAPCDQAAAAAAAAAAAAAAAAAAAAAAAAAAAAIBxQAAAAAAAmatAAAAAAAAAAAAzMzMzM4uGQAAAAACAn/JAAAAAAAC0rkAAAAAAAAAAAAAAAAAAAAAAAAAAAAAAAAAAAAAAAIjDQAAAAAAAYFhAAAAAAACOkkAAAAAAAAAAAAAAAAAAAC5AAAAAAAAAAAAAAAAAAES1QAAAAAAAAAAAAAAAAADnzEBI4XoUrjuYQAAAAAAAAAAAAAAAAAAAAACZmZmZmTOYQAAAAAAAAChAAAAAAAAAAAAAAAAAAAAAAA==",
           "dtype": "f8",
           "shape": "56"
          },
          "bdata": "AAAAAAAAAAAAAAAAAAAAAAAAAAAAAAAAAAAAAIDsz0AAAAAAAAAAAAAAAAAAAAAAAAAAAABkk0D2KFyPQsS4QAAAAAAAAAAAAAAAAAAAAAAAAAAAAAAAAAAAAAAAAAAAAAAAAAAANEAAAAAAAIBCQDMzMzMz+4BAzczMzMxMPEAAAAAAAAAAAAAAAAAAAAAAAAAAAAAAAAAAAAAAAKCUQAAAAAAAAAAAAAAAAAAAAAAAAAAAAAAAAAAAAAAAAqFAAAAAAAAAZUAAAAAAAAAAAAAAAAAAAAAAAAAAAAAAAAAAAAAAAPCDQAAAAAAAAAAAAAAAAAAAAAAAAAAAAIBxQAAAAAAAmatAAAAAAAAAAAAzMzMzM4uGQAAAAACAn/JAAAAAAAC0rkAAAAAAAAAAAAAAAAAAAAAAAAAAAAAAAAAAAAAAAIjDQAAAAAAAYFhAAAAAAACOkkAAAAAAAAAAAAAAAAAAAC5AAAAAAAAAAAAAAAAAAES1QAAAAAAAAAAAAAAAAADnzEBI4XoUrjuYQAAAAAAAAAAAAAAAAAAAAACZmZmZmTOYQAAAAAAAAChAAAAAAAAAAAAAAAAAAAAAAA==",
          "dtype": "f8"
         },
         "yaxis": "y"
        }
       ],
       "layout": {
        "barmode": "relative",
        "height": 600,
        "legend": {
         "tracegroupgap": 0
        },
        "template": {
         "data": {
          "bar": [
           {
            "error_x": {
             "color": "#2a3f5f"
            },
            "error_y": {
             "color": "#2a3f5f"
            },
            "marker": {
             "line": {
              "color": "white",
              "width": 0.5
             },
             "pattern": {
              "fillmode": "overlay",
              "size": 10,
              "solidity": 0.2
             }
            },
            "type": "bar"
           }
          ],
          "barpolar": [
           {
            "marker": {
             "line": {
              "color": "white",
              "width": 0.5
             },
             "pattern": {
              "fillmode": "overlay",
              "size": 10,
              "solidity": 0.2
             }
            },
            "type": "barpolar"
           }
          ],
          "carpet": [
           {
            "aaxis": {
             "endlinecolor": "#2a3f5f",
             "gridcolor": "#C8D4E3",
             "linecolor": "#C8D4E3",
             "minorgridcolor": "#C8D4E3",
             "startlinecolor": "#2a3f5f"
            },
            "baxis": {
             "endlinecolor": "#2a3f5f",
             "gridcolor": "#C8D4E3",
             "linecolor": "#C8D4E3",
             "minorgridcolor": "#C8D4E3",
             "startlinecolor": "#2a3f5f"
            },
            "type": "carpet"
           }
          ],
          "choropleth": [
           {
            "colorbar": {
             "outlinewidth": 0,
             "ticks": ""
            },
            "type": "choropleth"
           }
          ],
          "contour": [
           {
            "colorbar": {
             "outlinewidth": 0,
             "ticks": ""
            },
            "colorscale": [
             [
              0,
              "#0d0887"
             ],
             [
              0.1111111111111111,
              "#46039f"
             ],
             [
              0.2222222222222222,
              "#7201a8"
             ],
             [
              0.3333333333333333,
              "#9c179e"
             ],
             [
              0.4444444444444444,
              "#bd3786"
             ],
             [
              0.5555555555555556,
              "#d8576b"
             ],
             [
              0.6666666666666666,
              "#ed7953"
             ],
             [
              0.7777777777777778,
              "#fb9f3a"
             ],
             [
              0.8888888888888888,
              "#fdca26"
             ],
             [
              1,
              "#f0f921"
             ]
            ],
            "type": "contour"
           }
          ],
          "contourcarpet": [
           {
            "colorbar": {
             "outlinewidth": 0,
             "ticks": ""
            },
            "type": "contourcarpet"
           }
          ],
          "heatmap": [
           {
            "colorbar": {
             "outlinewidth": 0,
             "ticks": ""
            },
            "colorscale": [
             [
              0,
              "#0d0887"
             ],
             [
              0.1111111111111111,
              "#46039f"
             ],
             [
              0.2222222222222222,
              "#7201a8"
             ],
             [
              0.3333333333333333,
              "#9c179e"
             ],
             [
              0.4444444444444444,
              "#bd3786"
             ],
             [
              0.5555555555555556,
              "#d8576b"
             ],
             [
              0.6666666666666666,
              "#ed7953"
             ],
             [
              0.7777777777777778,
              "#fb9f3a"
             ],
             [
              0.8888888888888888,
              "#fdca26"
             ],
             [
              1,
              "#f0f921"
             ]
            ],
            "type": "heatmap"
           }
          ],
          "histogram": [
           {
            "marker": {
             "pattern": {
              "fillmode": "overlay",
              "size": 10,
              "solidity": 0.2
             }
            },
            "type": "histogram"
           }
          ],
          "histogram2d": [
           {
            "colorbar": {
             "outlinewidth": 0,
             "ticks": ""
            },
            "colorscale": [
             [
              0,
              "#0d0887"
             ],
             [
              0.1111111111111111,
              "#46039f"
             ],
             [
              0.2222222222222222,
              "#7201a8"
             ],
             [
              0.3333333333333333,
              "#9c179e"
             ],
             [
              0.4444444444444444,
              "#bd3786"
             ],
             [
              0.5555555555555556,
              "#d8576b"
             ],
             [
              0.6666666666666666,
              "#ed7953"
             ],
             [
              0.7777777777777778,
              "#fb9f3a"
             ],
             [
              0.8888888888888888,
              "#fdca26"
             ],
             [
              1,
              "#f0f921"
             ]
            ],
            "type": "histogram2d"
           }
          ],
          "histogram2dcontour": [
           {
            "colorbar": {
             "outlinewidth": 0,
             "ticks": ""
            },
            "colorscale": [
             [
              0,
              "#0d0887"
             ],
             [
              0.1111111111111111,
              "#46039f"
             ],
             [
              0.2222222222222222,
              "#7201a8"
             ],
             [
              0.3333333333333333,
              "#9c179e"
             ],
             [
              0.4444444444444444,
              "#bd3786"
             ],
             [
              0.5555555555555556,
              "#d8576b"
             ],
             [
              0.6666666666666666,
              "#ed7953"
             ],
             [
              0.7777777777777778,
              "#fb9f3a"
             ],
             [
              0.8888888888888888,
              "#fdca26"
             ],
             [
              1,
              "#f0f921"
             ]
            ],
            "type": "histogram2dcontour"
           }
          ],
          "mesh3d": [
           {
            "colorbar": {
             "outlinewidth": 0,
             "ticks": ""
            },
            "type": "mesh3d"
           }
          ],
          "parcoords": [
           {
            "line": {
             "colorbar": {
              "outlinewidth": 0,
              "ticks": ""
             }
            },
            "type": "parcoords"
           }
          ],
          "pie": [
           {
            "automargin": true,
            "type": "pie"
           }
          ],
          "scatter": [
           {
            "fillpattern": {
             "fillmode": "overlay",
             "size": 10,
             "solidity": 0.2
            },
            "type": "scatter"
           }
          ],
          "scatter3d": [
           {
            "line": {
             "colorbar": {
              "outlinewidth": 0,
              "ticks": ""
             }
            },
            "marker": {
             "colorbar": {
              "outlinewidth": 0,
              "ticks": ""
             }
            },
            "type": "scatter3d"
           }
          ],
          "scattercarpet": [
           {
            "marker": {
             "colorbar": {
              "outlinewidth": 0,
              "ticks": ""
             }
            },
            "type": "scattercarpet"
           }
          ],
          "scattergeo": [
           {
            "marker": {
             "colorbar": {
              "outlinewidth": 0,
              "ticks": ""
             }
            },
            "type": "scattergeo"
           }
          ],
          "scattergl": [
           {
            "marker": {
             "colorbar": {
              "outlinewidth": 0,
              "ticks": ""
             }
            },
            "type": "scattergl"
           }
          ],
          "scattermap": [
           {
            "marker": {
             "colorbar": {
              "outlinewidth": 0,
              "ticks": ""
             }
            },
            "type": "scattermap"
           }
          ],
          "scattermapbox": [
           {
            "marker": {
             "colorbar": {
              "outlinewidth": 0,
              "ticks": ""
             }
            },
            "type": "scattermapbox"
           }
          ],
          "scatterpolar": [
           {
            "marker": {
             "colorbar": {
              "outlinewidth": 0,
              "ticks": ""
             }
            },
            "type": "scatterpolar"
           }
          ],
          "scatterpolargl": [
           {
            "marker": {
             "colorbar": {
              "outlinewidth": 0,
              "ticks": ""
             }
            },
            "type": "scatterpolargl"
           }
          ],
          "scatterternary": [
           {
            "marker": {
             "colorbar": {
              "outlinewidth": 0,
              "ticks": ""
             }
            },
            "type": "scatterternary"
           }
          ],
          "surface": [
           {
            "colorbar": {
             "outlinewidth": 0,
             "ticks": ""
            },
            "colorscale": [
             [
              0,
              "#0d0887"
             ],
             [
              0.1111111111111111,
              "#46039f"
             ],
             [
              0.2222222222222222,
              "#7201a8"
             ],
             [
              0.3333333333333333,
              "#9c179e"
             ],
             [
              0.4444444444444444,
              "#bd3786"
             ],
             [
              0.5555555555555556,
              "#d8576b"
             ],
             [
              0.6666666666666666,
              "#ed7953"
             ],
             [
              0.7777777777777778,
              "#fb9f3a"
             ],
             [
              0.8888888888888888,
              "#fdca26"
             ],
             [
              1,
              "#f0f921"
             ]
            ],
            "type": "surface"
           }
          ],
          "table": [
           {
            "cells": {
             "fill": {
              "color": "#EBF0F8"
             },
             "line": {
              "color": "white"
             }
            },
            "header": {
             "fill": {
              "color": "#C8D4E3"
             },
             "line": {
              "color": "white"
             }
            },
            "type": "table"
           }
          ]
         },
         "layout": {
          "annotationdefaults": {
           "arrowcolor": "#2a3f5f",
           "arrowhead": 0,
           "arrowwidth": 1
          },
          "autotypenumbers": "strict",
          "coloraxis": {
           "colorbar": {
            "outlinewidth": 0,
            "ticks": ""
           }
          },
          "colorscale": {
           "diverging": [
            [
             0,
             "#8e0152"
            ],
            [
             0.1,
             "#c51b7d"
            ],
            [
             0.2,
             "#de77ae"
            ],
            [
             0.3,
             "#f1b6da"
            ],
            [
             0.4,
             "#fde0ef"
            ],
            [
             0.5,
             "#f7f7f7"
            ],
            [
             0.6,
             "#e6f5d0"
            ],
            [
             0.7,
             "#b8e186"
            ],
            [
             0.8,
             "#7fbc41"
            ],
            [
             0.9,
             "#4d9221"
            ],
            [
             1,
             "#276419"
            ]
           ],
           "sequential": [
            [
             0,
             "#0d0887"
            ],
            [
             0.1111111111111111,
             "#46039f"
            ],
            [
             0.2222222222222222,
             "#7201a8"
            ],
            [
             0.3333333333333333,
             "#9c179e"
            ],
            [
             0.4444444444444444,
             "#bd3786"
            ],
            [
             0.5555555555555556,
             "#d8576b"
            ],
            [
             0.6666666666666666,
             "#ed7953"
            ],
            [
             0.7777777777777778,
             "#fb9f3a"
            ],
            [
             0.8888888888888888,
             "#fdca26"
            ],
            [
             1,
             "#f0f921"
            ]
           ],
           "sequentialminus": [
            [
             0,
             "#0d0887"
            ],
            [
             0.1111111111111111,
             "#46039f"
            ],
            [
             0.2222222222222222,
             "#7201a8"
            ],
            [
             0.3333333333333333,
             "#9c179e"
            ],
            [
             0.4444444444444444,
             "#bd3786"
            ],
            [
             0.5555555555555556,
             "#d8576b"
            ],
            [
             0.6666666666666666,
             "#ed7953"
            ],
            [
             0.7777777777777778,
             "#fb9f3a"
            ],
            [
             0.8888888888888888,
             "#fdca26"
            ],
            [
             1,
             "#f0f921"
            ]
           ]
          },
          "colorway": [
           "#636efa",
           "#EF553B",
           "#00cc96",
           "#ab63fa",
           "#FFA15A",
           "#19d3f3",
           "#FF6692",
           "#B6E880",
           "#FF97FF",
           "#FECB52"
          ],
          "font": {
           "color": "#2a3f5f"
          },
          "geo": {
           "bgcolor": "white",
           "lakecolor": "white",
           "landcolor": "white",
           "showlakes": true,
           "showland": true,
           "subunitcolor": "#C8D4E3"
          },
          "hoverlabel": {
           "align": "left"
          },
          "hovermode": "closest",
          "mapbox": {
           "style": "light"
          },
          "paper_bgcolor": "white",
          "plot_bgcolor": "white",
          "polar": {
           "angularaxis": {
            "gridcolor": "#EBF0F8",
            "linecolor": "#EBF0F8",
            "ticks": ""
           },
           "bgcolor": "white",
           "radialaxis": {
            "gridcolor": "#EBF0F8",
            "linecolor": "#EBF0F8",
            "ticks": ""
           }
          },
          "scene": {
           "xaxis": {
            "backgroundcolor": "white",
            "gridcolor": "#DFE8F3",
            "gridwidth": 2,
            "linecolor": "#EBF0F8",
            "showbackground": true,
            "ticks": "",
            "zerolinecolor": "#EBF0F8"
           },
           "yaxis": {
            "backgroundcolor": "white",
            "gridcolor": "#DFE8F3",
            "gridwidth": 2,
            "linecolor": "#EBF0F8",
            "showbackground": true,
            "ticks": "",
            "zerolinecolor": "#EBF0F8"
           },
           "zaxis": {
            "backgroundcolor": "white",
            "gridcolor": "#DFE8F3",
            "gridwidth": 2,
            "linecolor": "#EBF0F8",
            "showbackground": true,
            "ticks": "",
            "zerolinecolor": "#EBF0F8"
           }
          },
          "shapedefaults": {
           "line": {
            "color": "#2a3f5f"
           }
          },
          "ternary": {
           "aaxis": {
            "gridcolor": "#DFE8F3",
            "linecolor": "#A2B1C6",
            "ticks": ""
           },
           "baxis": {
            "gridcolor": "#DFE8F3",
            "linecolor": "#A2B1C6",
            "ticks": ""
           },
           "bgcolor": "white",
           "caxis": {
            "gridcolor": "#DFE8F3",
            "linecolor": "#A2B1C6",
            "ticks": ""
           }
          },
          "title": {
           "x": 0.05
          },
          "xaxis": {
           "automargin": true,
           "gridcolor": "#EBF0F8",
           "linecolor": "#EBF0F8",
           "ticks": "",
           "title": {
            "standoff": 15
           },
           "zerolinecolor": "#EBF0F8",
           "zerolinewidth": 2
          },
          "yaxis": {
           "automargin": true,
           "gridcolor": "#EBF0F8",
           "linecolor": "#EBF0F8",
           "ticks": "",
           "title": {
            "standoff": 15
           },
           "zerolinecolor": "#EBF0F8",
           "zerolinewidth": 2
          }
         }
        },
        "title": {
         "text": "Money Spent by Organisation on Space Missions in Million $"
        },
        "width": 1100,
        "xaxis": {
         "anchor": "y",
         "autorange": true,
         "domain": [
          0,
          1
         ],
         "range": [
          -0.5,
          55.5
         ],
         "tickangle": 90,
         "title": {
          "text": "Organisations"
         },
         "type": "category"
        },
        "yaxis": {
         "anchor": "x",
         "autorange": true,
         "domain": [
          0,
          1
         ],
         "range": [
          0,
          80294.73684210527
         ],
         "title": {
          "text": "Money Spent in Million $"
         },
         "type": "linear"
        }
       }
      },
      "image/png": "[encoded data removed]"
     },
     "metadata": {},
     "output_type": "display_data"
    }
   ],
   "source": [
    "money_spent_by_org = cleaned_data.groupby('Organisation').agg({'Price':['sum','mean']}).reset_index()\n",
    "money_spent_by_org.columns = ['Organisation', 'Total_Spent', 'Average_Spent']\n",
    "\n",
    "fig = px.bar(x=money_spent_by_org['Organisation'], y=money_spent_by_org['Total_Spent'], title='Money Spent by Organisation on Space Missions in Million $')\n",
    "fig.update_traces(texttemplate='%{y}', textposition='outside')\n",
    "fig.update_xaxes(title_text=\"Organisations\",tickangle=90)\n",
    "fig.update_yaxes(title_text=\"Money Spent in Million $\")\n",
    "fig.update_layout(\n",
    "    height=600, \n",
    "    width=1100,\n",
    "    template=\"plotly_white\"\n",
    ")\n",
    "\n",
    "fig.show()"
   ]
  },
  {
   "cell_type": "markdown",
   "metadata": {
    "id": "DpsWkPxzpPXs"
   },
   "source": [
    "# Amount of Money Spent by Organisation per Launch"
   ]
  },
  {
   "cell_type": "code",
   "execution_count": 425,
   "metadata": {
    "id": "opYJ6GiRpTk5"
   },
   "outputs": [
    {
     "data": {
      "application/vnd.plotly.v1+json": {
       "config": {
        "plotlyServerURL": "https://plot.ly"
       },
       "data": [
        {
         "hovertemplate": "x=%{x}<br>y=%{y}<extra></extra>",
         "legendgroup": "",
         "marker": {
          "color": "#636efa",
          "pattern": {
           "shape": ""
          }
         },
         "name": "",
         "orientation": "v",
         "showlegend": false,
         "textposition": "outside",
         "texttemplate": "%{y}",
         "type": "bar",
         "x": [
          "AEB",
          "AMBA",
          "ASI",
          "Arianespace",
          "Arm??e de l'Air",
          "Blue Origin",
          "Boeing",
          "CASC",
          "CASIC",
          "CECLES",
          "CNES",
          "Douglas",
          "EER",
          "ESA",
          "Eurockot",
          "ExPace",
          "Exos",
          "General Dynamics",
          "IAI",
          "ILS",
          "IRGC",
          "ISA",
          "ISAS",
          "ISRO",
          "JAXA",
          "KARI",
          "KCST",
          "Khrunichev",
          "Kosmotras",
          "Land Launch",
          "Landspace",
          "Lockheed",
          "MHI",
          "MITT",
          "Martin Marietta",
          "NASA",
          "Northrop",
          "OKB-586",
          "OneSpace",
          "RAE",
          "RVSN USSR",
          "Rocket Lab",
          "Roscosmos",
          "SRC",
          "Sandia",
          "Sea Launch",
          "SpaceX",
          "Starsem",
          "ULA",
          "US Air Force",
          "US Navy",
          "UT",
          "VKS RF",
          "Virgin Orbit",
          "Yuzhmash",
          "i-Space"
         ],
         "xaxis": "x",
         "y": {
          "_inputArray": {
           "0": null,
           "1": null,
           "10": null,
           "11": null,
           "12": 20,
           "13": 37,
           "14": 41.8,
           "15": 28.3,
           "16": null,
           "17": null,
           "18": null,
           "19": 101.53846153846153,
           "2": null,
           "20": null,
           "21": null,
           "22": null,
           "23": 32.492537313432834,
           "24": 56,
           "25": null,
           "26": null,
           "27": null,
           "28": 29,
           "29": null,
           "3": 170.26041666666666,
           "30": null,
           "31": 35,
           "32": 95.47297297297297,
           "33": null,
           "34": 80.15555555555555,
           "35": 511.9463087248322,
           "36": 47.34939759036145,
           "37": null,
           "38": null,
           "39": null,
           "4": null,
           "40": 5000,
           "41": 7.5,
           "42": 51.630434782608695,
           "43": null,
           "44": 15,
           "45": null,
           "46": 54.98989898989899,
           "47": null,
           "48": 151,
           "49": 59.650769230769235,
           "5": null,
           "50": null,
           "51": null,
           "52": 46.93636363636363,
           "53": 12,
           "54": null,
           "55": null,
           "6": 177.28571428571428,
           "7": 40.12822784810127,
           "8": null,
           "9": null,
           "bdata": "AAAAAAAA+H8AAAAAAAD4fwAAAAAAAPh/VVVVVVVIZUAAAAAAAAD4fwAAAAAAAPh/kiRJkiQpZkAFBCfFaRBEQAAAAAAAAPh/AAAAAAAA+H8AAAAAAAD4fwAAAAAAAPh/AAAAAAAANEAAAAAAAIBCQGZmZmZm5kRAzczMzMxMPEAAAAAAAAD4fwAAAAAAAPh/AAAAAAAA+H8ndmIndmJZQAAAAAAAAPh/AAAAAAAA+H8AAAAAAAD4f3qgcnYLP0BAAAAAAAAATEAAAAAAAAD4fwAAAAAAAPh/AAAAAAAA+H8AAAAAAAA9QAAAAAAAAPh/AAAAAAAA+H8AAAAAAIBBQOSzbjBF3ldAAAAAAAAA+H+f9Emf9AlUQC4RnhQk/39AqvNrD7msR0AAAAAAAAD4fwAAAAAAAPh/AAAAAAAA+H8AAAAAAIizQAAAAAAAAB5AWchCFrLQSUAAAAAAAAD4fwAAAAAAAC5AAAAAAAAA+H/U+pUCtX5LQAAAAAAAAPh/AAAAAADgYkDPsvlnTNNNQAAAAAAAAPh/AAAAAAAA+H83rH3D2ndHQAAAAAAAAChAAAAAAAAA+H8AAAAAAAD4fw==",
           "dtype": "f8",
           "shape": "56"
          },
          "bdata": "AAAAAAAA+H8AAAAAAAD4fwAAAAAAAPh/VVVVVVVIZUAAAAAAAAD4fwAAAAAAAPh/kiRJkiQpZkAFBCfFaRBEQAAAAAAAAPh/AAAAAAAA+H8AAAAAAAD4fwAAAAAAAPh/AAAAAAAANEAAAAAAAIBCQGZmZmZm5kRAzczMzMxMPEAAAAAAAAD4fwAAAAAAAPh/AAAAAAAA+H8ndmIndmJZQAAAAAAAAPh/AAAAAAAA+H8AAAAAAAD4f3qgcnYLP0BAAAAAAAAATEAAAAAAAAD4fwAAAAAAAPh/AAAAAAAA+H8AAAAAAAA9QAAAAAAAAPh/AAAAAAAA+H8AAAAAAIBBQOSzbjBF3ldAAAAAAAAA+H+f9Emf9AlUQC4RnhQk/39AqvNrD7msR0AAAAAAAAD4fwAAAAAAAPh/AAAAAAAA+H8AAAAAAIizQAAAAAAAAB5AWchCFrLQSUAAAAAAAAD4fwAAAAAAAC5AAAAAAAAA+H/U+pUCtX5LQAAAAAAAAPh/AAAAAADgYkDPsvlnTNNNQAAAAAAAAPh/AAAAAAAA+H83rH3D2ndHQAAAAAAAAChAAAAAAAAA+H8AAAAAAAD4fw==",
          "dtype": "f8"
         },
         "yaxis": "y"
        }
       ],
       "layout": {
        "barmode": "relative",
        "height": 600,
        "legend": {
         "tracegroupgap": 0
        },
        "template": {
         "data": {
          "bar": [
           {
            "error_x": {
             "color": "#2a3f5f"
            },
            "error_y": {
             "color": "#2a3f5f"
            },
            "marker": {
             "line": {
              "color": "white",
              "width": 0.5
             },
             "pattern": {
              "fillmode": "overlay",
              "size": 10,
              "solidity": 0.2
             }
            },
            "type": "bar"
           }
          ],
          "barpolar": [
           {
            "marker": {
             "line": {
              "color": "white",
              "width": 0.5
             },
             "pattern": {
              "fillmode": "overlay",
              "size": 10,
              "solidity": 0.2
             }
            },
            "type": "barpolar"
           }
          ],
          "carpet": [
           {
            "aaxis": {
             "endlinecolor": "#2a3f5f",
             "gridcolor": "#C8D4E3",
             "linecolor": "#C8D4E3",
             "minorgridcolor": "#C8D4E3",
             "startlinecolor": "#2a3f5f"
            },
            "baxis": {
             "endlinecolor": "#2a3f5f",
             "gridcolor": "#C8D4E3",
             "linecolor": "#C8D4E3",
             "minorgridcolor": "#C8D4E3",
             "startlinecolor": "#2a3f5f"
            },
            "type": "carpet"
           }
          ],
          "choropleth": [
           {
            "colorbar": {
             "outlinewidth": 0,
             "ticks": ""
            },
            "type": "choropleth"
           }
          ],
          "contour": [
           {
            "colorbar": {
             "outlinewidth": 0,
             "ticks": ""
            },
            "colorscale": [
             [
              0,
              "#0d0887"
             ],
             [
              0.1111111111111111,
              "#46039f"
             ],
             [
              0.2222222222222222,
              "#7201a8"
             ],
             [
              0.3333333333333333,
              "#9c179e"
             ],
             [
              0.4444444444444444,
              "#bd3786"
             ],
             [
              0.5555555555555556,
              "#d8576b"
             ],
             [
              0.6666666666666666,
              "#ed7953"
             ],
             [
              0.7777777777777778,
              "#fb9f3a"
             ],
             [
              0.8888888888888888,
              "#fdca26"
             ],
             [
              1,
              "#f0f921"
             ]
            ],
            "type": "contour"
           }
          ],
          "contourcarpet": [
           {
            "colorbar": {
             "outlinewidth": 0,
             "ticks": ""
            },
            "type": "contourcarpet"
           }
          ],
          "heatmap": [
           {
            "colorbar": {
             "outlinewidth": 0,
             "ticks": ""
            },
            "colorscale": [
             [
              0,
              "#0d0887"
             ],
             [
              0.1111111111111111,
              "#46039f"
             ],
             [
              0.2222222222222222,
              "#7201a8"
             ],
             [
              0.3333333333333333,
              "#9c179e"
             ],
             [
              0.4444444444444444,
              "#bd3786"
             ],
             [
              0.5555555555555556,
              "#d8576b"
             ],
             [
              0.6666666666666666,
              "#ed7953"
             ],
             [
              0.7777777777777778,
              "#fb9f3a"
             ],
             [
              0.8888888888888888,
              "#fdca26"
             ],
             [
              1,
              "#f0f921"
             ]
            ],
            "type": "heatmap"
           }
          ],
          "histogram": [
           {
            "marker": {
             "pattern": {
              "fillmode": "overlay",
              "size": 10,
              "solidity": 0.2
             }
            },
            "type": "histogram"
           }
          ],
          "histogram2d": [
           {
            "colorbar": {
             "outlinewidth": 0,
             "ticks": ""
            },
            "colorscale": [
             [
              0,
              "#0d0887"
             ],
             [
              0.1111111111111111,
              "#46039f"
             ],
             [
              0.2222222222222222,
              "#7201a8"
             ],
             [
              0.3333333333333333,
              "#9c179e"
             ],
             [
              0.4444444444444444,
              "#bd3786"
             ],
             [
              0.5555555555555556,
              "#d8576b"
             ],
             [
              0.6666666666666666,
              "#ed7953"
             ],
             [
              0.7777777777777778,
              "#fb9f3a"
             ],
             [
              0.8888888888888888,
              "#fdca26"
             ],
             [
              1,
              "#f0f921"
             ]
            ],
            "type": "histogram2d"
           }
          ],
          "histogram2dcontour": [
           {
            "colorbar": {
             "outlinewidth": 0,
             "ticks": ""
            },
            "colorscale": [
             [
              0,
              "#0d0887"
             ],
             [
              0.1111111111111111,
              "#46039f"
             ],
             [
              0.2222222222222222,
              "#7201a8"
             ],
             [
              0.3333333333333333,
              "#9c179e"
             ],
             [
              0.4444444444444444,
              "#bd3786"
             ],
             [
              0.5555555555555556,
              "#d8576b"
             ],
             [
              0.6666666666666666,
              "#ed7953"
             ],
             [
              0.7777777777777778,
              "#fb9f3a"
             ],
             [
              0.8888888888888888,
              "#fdca26"
             ],
             [
              1,
              "#f0f921"
             ]
            ],
            "type": "histogram2dcontour"
           }
          ],
          "mesh3d": [
           {
            "colorbar": {
             "outlinewidth": 0,
             "ticks": ""
            },
            "type": "mesh3d"
           }
          ],
          "parcoords": [
           {
            "line": {
             "colorbar": {
              "outlinewidth": 0,
              "ticks": ""
             }
            },
            "type": "parcoords"
           }
          ],
          "pie": [
           {
            "automargin": true,
            "type": "pie"
           }
          ],
          "scatter": [
           {
            "fillpattern": {
             "fillmode": "overlay",
             "size": 10,
             "solidity": 0.2
            },
            "type": "scatter"
           }
          ],
          "scatter3d": [
           {
            "line": {
             "colorbar": {
              "outlinewidth": 0,
              "ticks": ""
             }
            },
            "marker": {
             "colorbar": {
              "outlinewidth": 0,
              "ticks": ""
             }
            },
            "type": "scatter3d"
           }
          ],
          "scattercarpet": [
           {
            "marker": {
             "colorbar": {
              "outlinewidth": 0,
              "ticks": ""
             }
            },
            "type": "scattercarpet"
           }
          ],
          "scattergeo": [
           {
            "marker": {
             "colorbar": {
              "outlinewidth": 0,
              "ticks": ""
             }
            },
            "type": "scattergeo"
           }
          ],
          "scattergl": [
           {
            "marker": {
             "colorbar": {
              "outlinewidth": 0,
              "ticks": ""
             }
            },
            "type": "scattergl"
           }
          ],
          "scattermap": [
           {
            "marker": {
             "colorbar": {
              "outlinewidth": 0,
              "ticks": ""
             }
            },
            "type": "scattermap"
           }
          ],
          "scattermapbox": [
           {
            "marker": {
             "colorbar": {
              "outlinewidth": 0,
              "ticks": ""
             }
            },
            "type": "scattermapbox"
           }
          ],
          "scatterpolar": [
           {
            "marker": {
             "colorbar": {
              "outlinewidth": 0,
              "ticks": ""
             }
            },
            "type": "scatterpolar"
           }
          ],
          "scatterpolargl": [
           {
            "marker": {
             "colorbar": {
              "outlinewidth": 0,
              "ticks": ""
             }
            },
            "type": "scatterpolargl"
           }
          ],
          "scatterternary": [
           {
            "marker": {
             "colorbar": {
              "outlinewidth": 0,
              "ticks": ""
             }
            },
            "type": "scatterternary"
           }
          ],
          "surface": [
           {
            "colorbar": {
             "outlinewidth": 0,
             "ticks": ""
            },
            "colorscale": [
             [
              0,
              "#0d0887"
             ],
             [
              0.1111111111111111,
              "#46039f"
             ],
             [
              0.2222222222222222,
              "#7201a8"
             ],
             [
              0.3333333333333333,
              "#9c179e"
             ],
             [
              0.4444444444444444,
              "#bd3786"
             ],
             [
              0.5555555555555556,
              "#d8576b"
             ],
             [
              0.6666666666666666,
              "#ed7953"
             ],
             [
              0.7777777777777778,
              "#fb9f3a"
             ],
             [
              0.8888888888888888,
              "#fdca26"
             ],
             [
              1,
              "#f0f921"
             ]
            ],
            "type": "surface"
           }
          ],
          "table": [
           {
            "cells": {
             "fill": {
              "color": "#EBF0F8"
             },
             "line": {
              "color": "white"
             }
            },
            "header": {
             "fill": {
              "color": "#C8D4E3"
             },
             "line": {
              "color": "white"
             }
            },
            "type": "table"
           }
          ]
         },
         "layout": {
          "annotationdefaults": {
           "arrowcolor": "#2a3f5f",
           "arrowhead": 0,
           "arrowwidth": 1
          },
          "autotypenumbers": "strict",
          "coloraxis": {
           "colorbar": {
            "outlinewidth": 0,
            "ticks": ""
           }
          },
          "colorscale": {
           "diverging": [
            [
             0,
             "#8e0152"
            ],
            [
             0.1,
             "#c51b7d"
            ],
            [
             0.2,
             "#de77ae"
            ],
            [
             0.3,
             "#f1b6da"
            ],
            [
             0.4,
             "#fde0ef"
            ],
            [
             0.5,
             "#f7f7f7"
            ],
            [
             0.6,
             "#e6f5d0"
            ],
            [
             0.7,
             "#b8e186"
            ],
            [
             0.8,
             "#7fbc41"
            ],
            [
             0.9,
             "#4d9221"
            ],
            [
             1,
             "#276419"
            ]
           ],
           "sequential": [
            [
             0,
             "#0d0887"
            ],
            [
             0.1111111111111111,
             "#46039f"
            ],
            [
             0.2222222222222222,
             "#7201a8"
            ],
            [
             0.3333333333333333,
             "#9c179e"
            ],
            [
             0.4444444444444444,
             "#bd3786"
            ],
            [
             0.5555555555555556,
             "#d8576b"
            ],
            [
             0.6666666666666666,
             "#ed7953"
            ],
            [
             0.7777777777777778,
             "#fb9f3a"
            ],
            [
             0.8888888888888888,
             "#fdca26"
            ],
            [
             1,
             "#f0f921"
            ]
           ],
           "sequentialminus": [
            [
             0,
             "#0d0887"
            ],
            [
             0.1111111111111111,
             "#46039f"
            ],
            [
             0.2222222222222222,
             "#7201a8"
            ],
            [
             0.3333333333333333,
             "#9c179e"
            ],
            [
             0.4444444444444444,
             "#bd3786"
            ],
            [
             0.5555555555555556,
             "#d8576b"
            ],
            [
             0.6666666666666666,
             "#ed7953"
            ],
            [
             0.7777777777777778,
             "#fb9f3a"
            ],
            [
             0.8888888888888888,
             "#fdca26"
            ],
            [
             1,
             "#f0f921"
            ]
           ]
          },
          "colorway": [
           "#636efa",
           "#EF553B",
           "#00cc96",
           "#ab63fa",
           "#FFA15A",
           "#19d3f3",
           "#FF6692",
           "#B6E880",
           "#FF97FF",
           "#FECB52"
          ],
          "font": {
           "color": "#2a3f5f"
          },
          "geo": {
           "bgcolor": "white",
           "lakecolor": "white",
           "landcolor": "white",
           "showlakes": true,
           "showland": true,
           "subunitcolor": "#C8D4E3"
          },
          "hoverlabel": {
           "align": "left"
          },
          "hovermode": "closest",
          "mapbox": {
           "style": "light"
          },
          "paper_bgcolor": "white",
          "plot_bgcolor": "white",
          "polar": {
           "angularaxis": {
            "gridcolor": "#EBF0F8",
            "linecolor": "#EBF0F8",
            "ticks": ""
           },
           "bgcolor": "white",
           "radialaxis": {
            "gridcolor": "#EBF0F8",
            "linecolor": "#EBF0F8",
            "ticks": ""
           }
          },
          "scene": {
           "xaxis": {
            "backgroundcolor": "white",
            "gridcolor": "#DFE8F3",
            "gridwidth": 2,
            "linecolor": "#EBF0F8",
            "showbackground": true,
            "ticks": "",
            "zerolinecolor": "#EBF0F8"
           },
           "yaxis": {
            "backgroundcolor": "white",
            "gridcolor": "#DFE8F3",
            "gridwidth": 2,
            "linecolor": "#EBF0F8",
            "showbackground": true,
            "ticks": "",
            "zerolinecolor": "#EBF0F8"
           },
           "zaxis": {
            "backgroundcolor": "white",
            "gridcolor": "#DFE8F3",
            "gridwidth": 2,
            "linecolor": "#EBF0F8",
            "showbackground": true,
            "ticks": "",
            "zerolinecolor": "#EBF0F8"
           }
          },
          "shapedefaults": {
           "line": {
            "color": "#2a3f5f"
           }
          },
          "ternary": {
           "aaxis": {
            "gridcolor": "#DFE8F3",
            "linecolor": "#A2B1C6",
            "ticks": ""
           },
           "baxis": {
            "gridcolor": "#DFE8F3",
            "linecolor": "#A2B1C6",
            "ticks": ""
           },
           "bgcolor": "white",
           "caxis": {
            "gridcolor": "#DFE8F3",
            "linecolor": "#A2B1C6",
            "ticks": ""
           }
          },
          "title": {
           "x": 0.05
          },
          "xaxis": {
           "automargin": true,
           "gridcolor": "#EBF0F8",
           "linecolor": "#EBF0F8",
           "ticks": "",
           "title": {
            "standoff": 15
           },
           "zerolinecolor": "#EBF0F8",
           "zerolinewidth": 2
          },
          "yaxis": {
           "automargin": true,
           "gridcolor": "#EBF0F8",
           "linecolor": "#EBF0F8",
           "ticks": "",
           "title": {
            "standoff": 15
           },
           "zerolinecolor": "#EBF0F8",
           "zerolinewidth": 2
          }
         }
        },
        "title": {
         "text": "Money Spent by Organisation Per Launch"
        },
        "width": 1100,
        "xaxis": {
         "anchor": "y",
         "autorange": true,
         "domain": [
          0,
          1
         ],
         "range": [
          -0.5,
          55.5
         ],
         "tickangle": 90,
         "title": {
          "text": "Organisations"
         },
         "type": "category"
        },
        "yaxis": {
         "anchor": "x",
         "autorange": true,
         "domain": [
          0,
          1
         ],
         "range": [
          0,
          5263.1578947368425
         ],
         "title": {
          "text": "Money Spent in Million $"
         },
         "type": "linear"
        }
       }
      }
     },
     "metadata": {},
     "output_type": "display_data"
    }
   ],
   "source": [
    "fig = px.bar(x=money_spent_by_org['Organisation'], y=money_spent_by_org['Average_Spent'], title='Money Spent by Organisation Per Launch')\n",
    "fig.update_traces(texttemplate='%{y}', textposition='outside')\n",
    "fig.update_xaxes(title_text=\"Organisations\",tickangle=90)\n",
    "fig.update_yaxes(title_text=\"Money Spent in Million $\")\n",
    "fig.update_layout(\n",
    "    height=600, \n",
    "    width=1100,\n",
    "    template=\"plotly_white\"\n",
    ")\n",
    "\n",
    "fig.show()"
   ]
  },
  {
   "cell_type": "markdown",
   "metadata": {
    "id": "yRa1BbPoa-qf",
    "papermill": {
     "duration": 0.042662,
     "end_time": "2020-10-20T21:34:09.943196",
     "exception": false,
     "start_time": "2020-10-20T21:34:09.900534",
     "status": "completed"
    },
    "tags": []
   },
   "source": [
    "# Chart the Number of Launches per Year"
   ]
  },
  {
   "cell_type": "code",
   "execution_count": 426,
   "metadata": {
    "id": "_9FohVh3pcAJ"
   },
   "outputs": [],
   "source": [
    "cleaned_data['Date'] = pd.to_datetime(cleaned_data['Date'], format='%a %b %d, %Y %H:%M %Z', errors='coerce')\n",
    "cleaned_data = cleaned_data.dropna(subset=['Date'])\n",
    "cleaned_data['Year'] = cleaned_data['Date'].dt.year\n",
    "cleaned_data['Month'] = cleaned_data['Date'].dt.month_name()\n",
    "launches_per_year = cleaned_data.groupby('Year').size().reset_index(name='Launch_Count')\n"
   ]
  },
  {
   "cell_type": "code",
   "execution_count": 427,
   "metadata": {
    "id": "b2pggcZBpb4x"
   },
   "outputs": [
    {
     "data": {
      "application/vnd.plotly.v1+json": {
       "config": {
        "plotlyServerURL": "https://plot.ly"
       },
       "data": [
        {
         "hovertemplate": "x=%{x}<br>y=%{y}<extra></extra>",
         "legendgroup": "",
         "marker": {
          "color": "#636efa",
          "pattern": {
           "shape": ""
          }
         },
         "name": "",
         "orientation": "v",
         "showlegend": false,
         "textposition": "outside",
         "texttemplate": "%{y}",
         "type": "bar",
         "x": {
          "_inputArray": {
           "0": 1957,
           "1": 1958,
           "10": 1967,
           "11": 1968,
           "12": 1969,
           "13": 1970,
           "14": 1971,
           "15": 1972,
           "16": 1973,
           "17": 1974,
           "18": 1975,
           "19": 1976,
           "2": 1959,
           "20": 1977,
           "21": 1978,
           "22": 1979,
           "23": 1980,
           "24": 1981,
           "25": 1982,
           "26": 1983,
           "27": 1984,
           "28": 1985,
           "29": 1986,
           "3": 1960,
           "30": 1987,
           "31": 1988,
           "32": 1989,
           "33": 1990,
           "34": 1991,
           "35": 1992,
           "36": 1993,
           "37": 1994,
           "38": 1995,
           "39": 1996,
           "4": 1961,
           "40": 1997,
           "41": 1998,
           "42": 1999,
           "43": 2000,
           "44": 2001,
           "45": 2002,
           "46": 2003,
           "47": 2004,
           "48": 2005,
           "49": 2006,
           "5": 1962,
           "50": 2007,
           "51": 2008,
           "52": 2009,
           "53": 2010,
           "54": 2011,
           "55": 2012,
           "56": 2013,
           "57": 2014,
           "58": 2015,
           "59": 2016,
           "6": 1963,
           "60": 2017,
           "61": 2018,
           "62": 2019,
           "63": 2020,
           "7": 1964,
           "8": 1965,
           "9": 1966,
           "bdata": "pQcAAKYHAACnBwAAqAcAAKkHAACqBwAAqwcAAKwHAACtBwAArgcAAK8HAACwBwAAsQcAALIHAACzBwAAtAcAALUHAAC2BwAAtwcAALgHAAC5BwAAugcAALsHAAC8BwAAvQcAAL4HAAC/BwAAwAcAAMEHAADCBwAAwwcAAMQHAADFBwAAxgcAAMcHAADIBwAAyQcAAMoHAADLBwAAzAcAAM0HAADOBwAAzwcAANAHAADRBwAA0gcAANMHAADUBwAA1QcAANYHAADXBwAA2AcAANkHAADaBwAA2wcAANwHAADdBwAA3gcAAN8HAADgBwAA4QcAAOIHAADjBwAA5AcAAA==",
           "dtype": "i4",
           "shape": "64"
          },
          "bdata": "pQcAAKYHAACnBwAAqAcAAKkHAACqBwAAqwcAAKwHAACtBwAArgcAAK8HAACwBwAAsQcAALIHAACzBwAAtAcAALUHAAC2BwAAtwcAALgHAAC5BwAAugcAALsHAAC8BwAAvQcAAL4HAAC/BwAAwAcAAMEHAADCBwAAwwcAAMQHAADFBwAAxgcAAMcHAADIBwAAyQcAAMoHAADLBwAAzAcAAM0HAADOBwAAzwcAANAHAADRBwAA0gcAANMHAADUBwAA1QcAANYHAADXBwAA2AcAANkHAADaBwAA2wcAANwHAADdBwAA3gcAAN8HAADgBwAA4QcAAOIHAADjBwAA5AcAAA==",
          "dtype": "i4"
         },
         "xaxis": "x",
         "y": {
          "_inputArray": {
           "0": 3,
           "1": 22,
           "10": 102,
           "11": 100,
           "12": 101,
           "13": 106,
           "14": 116,
           "15": 96,
           "16": 99,
           "17": 97,
           "18": 112,
           "19": 109,
           "2": 20,
           "20": 109,
           "21": 93,
           "22": 46,
           "23": 52,
           "24": 66,
           "25": 66,
           "26": 64,
           "27": 67,
           "28": 71,
           "29": 61,
           "3": 38,
           "30": 54,
           "31": 56,
           "32": 50,
           "33": 76,
           "34": 57,
           "35": 62,
           "36": 61,
           "37": 62,
           "38": 60,
           "39": 60,
           "4": 52,
           "40": 69,
           "41": 67,
           "42": 53,
           "43": 57,
           "44": 42,
           "45": 46,
           "46": 49,
           "47": 39,
           "48": 37,
           "49": 49,
           "5": 81,
           "50": 49,
           "51": 47,
           "52": 49,
           "53": 36,
           "54": 41,
           "55": 34,
           "56": 46,
           "57": 52,
           "58": 46,
           "59": 88,
           "6": 38,
           "60": 90,
           "61": 117,
           "62": 107,
           "63": 63,
           "7": 56,
           "8": 86,
           "9": 98,
           "bdata": "AxYUJjRRJjhWYmZkZWp0YGNhcG1tXS40QkJAQ0c9NjgyTDk+PT48PEVDNTkqLjEnJTExLzEkKSIuNC5YWnVrPw==",
           "dtype": "i1",
           "shape": "64"
          },
          "bdata": "AxYUJjRRJjhWYmZkZWp0YGNhcG1tXS40QkJAQ0c9NjgyTDk+PT48PEVDNTkqLjEnJTExLzEkKSIuNC5YWnVrPw==",
          "dtype": "i1"
         },
         "yaxis": "y"
        }
       ],
       "layout": {
        "barmode": "relative",
        "height": 600,
        "legend": {
         "tracegroupgap": 0
        },
        "template": {
         "data": {
          "bar": [
           {
            "error_x": {
             "color": "#2a3f5f"
            },
            "error_y": {
             "color": "#2a3f5f"
            },
            "marker": {
             "line": {
              "color": "white",
              "width": 0.5
             },
             "pattern": {
              "fillmode": "overlay",
              "size": 10,
              "solidity": 0.2
             }
            },
            "type": "bar"
           }
          ],
          "barpolar": [
           {
            "marker": {
             "line": {
              "color": "white",
              "width": 0.5
             },
             "pattern": {
              "fillmode": "overlay",
              "size": 10,
              "solidity": 0.2
             }
            },
            "type": "barpolar"
           }
          ],
          "carpet": [
           {
            "aaxis": {
             "endlinecolor": "#2a3f5f",
             "gridcolor": "#C8D4E3",
             "linecolor": "#C8D4E3",
             "minorgridcolor": "#C8D4E3",
             "startlinecolor": "#2a3f5f"
            },
            "baxis": {
             "endlinecolor": "#2a3f5f",
             "gridcolor": "#C8D4E3",
             "linecolor": "#C8D4E3",
             "minorgridcolor": "#C8D4E3",
             "startlinecolor": "#2a3f5f"
            },
            "type": "carpet"
           }
          ],
          "choropleth": [
           {
            "colorbar": {
             "outlinewidth": 0,
             "ticks": ""
            },
            "type": "choropleth"
           }
          ],
          "contour": [
           {
            "colorbar": {
             "outlinewidth": 0,
             "ticks": ""
            },
            "colorscale": [
             [
              0,
              "#0d0887"
             ],
             [
              0.1111111111111111,
              "#46039f"
             ],
             [
              0.2222222222222222,
              "#7201a8"
             ],
             [
              0.3333333333333333,
              "#9c179e"
             ],
             [
              0.4444444444444444,
              "#bd3786"
             ],
             [
              0.5555555555555556,
              "#d8576b"
             ],
             [
              0.6666666666666666,
              "#ed7953"
             ],
             [
              0.7777777777777778,
              "#fb9f3a"
             ],
             [
              0.8888888888888888,
              "#fdca26"
             ],
             [
              1,
              "#f0f921"
             ]
            ],
            "type": "contour"
           }
          ],
          "contourcarpet": [
           {
            "colorbar": {
             "outlinewidth": 0,
             "ticks": ""
            },
            "type": "contourcarpet"
           }
          ],
          "heatmap": [
           {
            "colorbar": {
             "outlinewidth": 0,
             "ticks": ""
            },
            "colorscale": [
             [
              0,
              "#0d0887"
             ],
             [
              0.1111111111111111,
              "#46039f"
             ],
             [
              0.2222222222222222,
              "#7201a8"
             ],
             [
              0.3333333333333333,
              "#9c179e"
             ],
             [
              0.4444444444444444,
              "#bd3786"
             ],
             [
              0.5555555555555556,
              "#d8576b"
             ],
             [
              0.6666666666666666,
              "#ed7953"
             ],
             [
              0.7777777777777778,
              "#fb9f3a"
             ],
             [
              0.8888888888888888,
              "#fdca26"
             ],
             [
              1,
              "#f0f921"
             ]
            ],
            "type": "heatmap"
           }
          ],
          "histogram": [
           {
            "marker": {
             "pattern": {
              "fillmode": "overlay",
              "size": 10,
              "solidity": 0.2
             }
            },
            "type": "histogram"
           }
          ],
          "histogram2d": [
           {
            "colorbar": {
             "outlinewidth": 0,
             "ticks": ""
            },
            "colorscale": [
             [
              0,
              "#0d0887"
             ],
             [
              0.1111111111111111,
              "#46039f"
             ],
             [
              0.2222222222222222,
              "#7201a8"
             ],
             [
              0.3333333333333333,
              "#9c179e"
             ],
             [
              0.4444444444444444,
              "#bd3786"
             ],
             [
              0.5555555555555556,
              "#d8576b"
             ],
             [
              0.6666666666666666,
              "#ed7953"
             ],
             [
              0.7777777777777778,
              "#fb9f3a"
             ],
             [
              0.8888888888888888,
              "#fdca26"
             ],
             [
              1,
              "#f0f921"
             ]
            ],
            "type": "histogram2d"
           }
          ],
          "histogram2dcontour": [
           {
            "colorbar": {
             "outlinewidth": 0,
             "ticks": ""
            },
            "colorscale": [
             [
              0,
              "#0d0887"
             ],
             [
              0.1111111111111111,
              "#46039f"
             ],
             [
              0.2222222222222222,
              "#7201a8"
             ],
             [
              0.3333333333333333,
              "#9c179e"
             ],
             [
              0.4444444444444444,
              "#bd3786"
             ],
             [
              0.5555555555555556,
              "#d8576b"
             ],
             [
              0.6666666666666666,
              "#ed7953"
             ],
             [
              0.7777777777777778,
              "#fb9f3a"
             ],
             [
              0.8888888888888888,
              "#fdca26"
             ],
             [
              1,
              "#f0f921"
             ]
            ],
            "type": "histogram2dcontour"
           }
          ],
          "mesh3d": [
           {
            "colorbar": {
             "outlinewidth": 0,
             "ticks": ""
            },
            "type": "mesh3d"
           }
          ],
          "parcoords": [
           {
            "line": {
             "colorbar": {
              "outlinewidth": 0,
              "ticks": ""
             }
            },
            "type": "parcoords"
           }
          ],
          "pie": [
           {
            "automargin": true,
            "type": "pie"
           }
          ],
          "scatter": [
           {
            "fillpattern": {
             "fillmode": "overlay",
             "size": 10,
             "solidity": 0.2
            },
            "type": "scatter"
           }
          ],
          "scatter3d": [
           {
            "line": {
             "colorbar": {
              "outlinewidth": 0,
              "ticks": ""
             }
            },
            "marker": {
             "colorbar": {
              "outlinewidth": 0,
              "ticks": ""
             }
            },
            "type": "scatter3d"
           }
          ],
          "scattercarpet": [
           {
            "marker": {
             "colorbar": {
              "outlinewidth": 0,
              "ticks": ""
             }
            },
            "type": "scattercarpet"
           }
          ],
          "scattergeo": [
           {
            "marker": {
             "colorbar": {
              "outlinewidth": 0,
              "ticks": ""
             }
            },
            "type": "scattergeo"
           }
          ],
          "scattergl": [
           {
            "marker": {
             "colorbar": {
              "outlinewidth": 0,
              "ticks": ""
             }
            },
            "type": "scattergl"
           }
          ],
          "scattermap": [
           {
            "marker": {
             "colorbar": {
              "outlinewidth": 0,
              "ticks": ""
             }
            },
            "type": "scattermap"
           }
          ],
          "scattermapbox": [
           {
            "marker": {
             "colorbar": {
              "outlinewidth": 0,
              "ticks": ""
             }
            },
            "type": "scattermapbox"
           }
          ],
          "scatterpolar": [
           {
            "marker": {
             "colorbar": {
              "outlinewidth": 0,
              "ticks": ""
             }
            },
            "type": "scatterpolar"
           }
          ],
          "scatterpolargl": [
           {
            "marker": {
             "colorbar": {
              "outlinewidth": 0,
              "ticks": ""
             }
            },
            "type": "scatterpolargl"
           }
          ],
          "scatterternary": [
           {
            "marker": {
             "colorbar": {
              "outlinewidth": 0,
              "ticks": ""
             }
            },
            "type": "scatterternary"
           }
          ],
          "surface": [
           {
            "colorbar": {
             "outlinewidth": 0,
             "ticks": ""
            },
            "colorscale": [
             [
              0,
              "#0d0887"
             ],
             [
              0.1111111111111111,
              "#46039f"
             ],
             [
              0.2222222222222222,
              "#7201a8"
             ],
             [
              0.3333333333333333,
              "#9c179e"
             ],
             [
              0.4444444444444444,
              "#bd3786"
             ],
             [
              0.5555555555555556,
              "#d8576b"
             ],
             [
              0.6666666666666666,
              "#ed7953"
             ],
             [
              0.7777777777777778,
              "#fb9f3a"
             ],
             [
              0.8888888888888888,
              "#fdca26"
             ],
             [
              1,
              "#f0f921"
             ]
            ],
            "type": "surface"
           }
          ],
          "table": [
           {
            "cells": {
             "fill": {
              "color": "#EBF0F8"
             },
             "line": {
              "color": "white"
             }
            },
            "header": {
             "fill": {
              "color": "#C8D4E3"
             },
             "line": {
              "color": "white"
             }
            },
            "type": "table"
           }
          ]
         },
         "layout": {
          "annotationdefaults": {
           "arrowcolor": "#2a3f5f",
           "arrowhead": 0,
           "arrowwidth": 1
          },
          "autotypenumbers": "strict",
          "coloraxis": {
           "colorbar": {
            "outlinewidth": 0,
            "ticks": ""
           }
          },
          "colorscale": {
           "diverging": [
            [
             0,
             "#8e0152"
            ],
            [
             0.1,
             "#c51b7d"
            ],
            [
             0.2,
             "#de77ae"
            ],
            [
             0.3,
             "#f1b6da"
            ],
            [
             0.4,
             "#fde0ef"
            ],
            [
             0.5,
             "#f7f7f7"
            ],
            [
             0.6,
             "#e6f5d0"
            ],
            [
             0.7,
             "#b8e186"
            ],
            [
             0.8,
             "#7fbc41"
            ],
            [
             0.9,
             "#4d9221"
            ],
            [
             1,
             "#276419"
            ]
           ],
           "sequential": [
            [
             0,
             "#0d0887"
            ],
            [
             0.1111111111111111,
             "#46039f"
            ],
            [
             0.2222222222222222,
             "#7201a8"
            ],
            [
             0.3333333333333333,
             "#9c179e"
            ],
            [
             0.4444444444444444,
             "#bd3786"
            ],
            [
             0.5555555555555556,
             "#d8576b"
            ],
            [
             0.6666666666666666,
             "#ed7953"
            ],
            [
             0.7777777777777778,
             "#fb9f3a"
            ],
            [
             0.8888888888888888,
             "#fdca26"
            ],
            [
             1,
             "#f0f921"
            ]
           ],
           "sequentialminus": [
            [
             0,
             "#0d0887"
            ],
            [
             0.1111111111111111,
             "#46039f"
            ],
            [
             0.2222222222222222,
             "#7201a8"
            ],
            [
             0.3333333333333333,
             "#9c179e"
            ],
            [
             0.4444444444444444,
             "#bd3786"
            ],
            [
             0.5555555555555556,
             "#d8576b"
            ],
            [
             0.6666666666666666,
             "#ed7953"
            ],
            [
             0.7777777777777778,
             "#fb9f3a"
            ],
            [
             0.8888888888888888,
             "#fdca26"
            ],
            [
             1,
             "#f0f921"
            ]
           ]
          },
          "colorway": [
           "#636efa",
           "#EF553B",
           "#00cc96",
           "#ab63fa",
           "#FFA15A",
           "#19d3f3",
           "#FF6692",
           "#B6E880",
           "#FF97FF",
           "#FECB52"
          ],
          "font": {
           "color": "#2a3f5f"
          },
          "geo": {
           "bgcolor": "white",
           "lakecolor": "white",
           "landcolor": "white",
           "showlakes": true,
           "showland": true,
           "subunitcolor": "#C8D4E3"
          },
          "hoverlabel": {
           "align": "left"
          },
          "hovermode": "closest",
          "mapbox": {
           "style": "light"
          },
          "paper_bgcolor": "white",
          "plot_bgcolor": "white",
          "polar": {
           "angularaxis": {
            "gridcolor": "#EBF0F8",
            "linecolor": "#EBF0F8",
            "ticks": ""
           },
           "bgcolor": "white",
           "radialaxis": {
            "gridcolor": "#EBF0F8",
            "linecolor": "#EBF0F8",
            "ticks": ""
           }
          },
          "scene": {
           "xaxis": {
            "backgroundcolor": "white",
            "gridcolor": "#DFE8F3",
            "gridwidth": 2,
            "linecolor": "#EBF0F8",
            "showbackground": true,
            "ticks": "",
            "zerolinecolor": "#EBF0F8"
           },
           "yaxis": {
            "backgroundcolor": "white",
            "gridcolor": "#DFE8F3",
            "gridwidth": 2,
            "linecolor": "#EBF0F8",
            "showbackground": true,
            "ticks": "",
            "zerolinecolor": "#EBF0F8"
           },
           "zaxis": {
            "backgroundcolor": "white",
            "gridcolor": "#DFE8F3",
            "gridwidth": 2,
            "linecolor": "#EBF0F8",
            "showbackground": true,
            "ticks": "",
            "zerolinecolor": "#EBF0F8"
           }
          },
          "shapedefaults": {
           "line": {
            "color": "#2a3f5f"
           }
          },
          "ternary": {
           "aaxis": {
            "gridcolor": "#DFE8F3",
            "linecolor": "#A2B1C6",
            "ticks": ""
           },
           "baxis": {
            "gridcolor": "#DFE8F3",
            "linecolor": "#A2B1C6",
            "ticks": ""
           },
           "bgcolor": "white",
           "caxis": {
            "gridcolor": "#DFE8F3",
            "linecolor": "#A2B1C6",
            "ticks": ""
           }
          },
          "title": {
           "x": 0.05
          },
          "xaxis": {
           "automargin": true,
           "gridcolor": "#EBF0F8",
           "linecolor": "#EBF0F8",
           "ticks": "",
           "title": {
            "standoff": 15
           },
           "zerolinecolor": "#EBF0F8",
           "zerolinewidth": 2
          },
          "yaxis": {
           "automargin": true,
           "gridcolor": "#EBF0F8",
           "linecolor": "#EBF0F8",
           "ticks": "",
           "title": {
            "standoff": 15
           },
           "zerolinecolor": "#EBF0F8",
           "zerolinewidth": 2
          }
         }
        },
        "title": {
         "text": "Number of Launches per Year"
        },
        "width": 1100,
        "xaxis": {
         "anchor": "y",
         "autorange": true,
         "domain": [
          0,
          1
         ],
         "range": [
          1956.5,
          2020.5
         ],
         "title": {
          "text": "Years"
         },
         "type": "linear"
        },
        "yaxis": {
         "anchor": "x",
         "autorange": true,
         "domain": [
          0,
          1
         ],
         "range": [
          0,
          123.15789473684211
         ],
         "title": {
          "text": "Launch Count"
         },
         "type": "linear"
        }
       }
      }
     },
     "metadata": {},
     "output_type": "display_data"
    }
   ],
   "source": [
    "fig = px.bar(x=launches_per_year['Year'], y=launches_per_year['Launch_Count'], title='Number of Launches per Year')\n",
    "fig.update_traces(texttemplate='%{y}',textposition='outside')\n",
    "fig.update_xaxes(title_text='Years')\n",
    "fig.update_yaxes(title_text='Launch Count')\n",
    "fig.update_layout(\n",
    "    height=600,\n",
    "    width=1100,\n",
    "    template='plotly_white'\n",
    ")\n",
    "fig.show()"
   ]
  },
  {
   "cell_type": "markdown",
   "metadata": {
    "id": "NomJVLi3tIaM"
   },
   "source": [
    "# Number of Launches Month-on-Month until the Present"
   ]
  },
  {
   "cell_type": "code",
   "execution_count": 428,
   "metadata": {
    "id": "H1N2aBs5tH9z"
   },
   "outputs": [],
   "source": [
    "launches_per_month = cleaned_data.groupby('Month').size().reset_index(name='Launch_Count')\n",
    "month_order = [\n",
    "    'January', 'February', 'March', 'April', 'May', 'June',\n",
    "    'July', 'August', 'September', 'October', 'November', 'December'\n",
    "]\n",
    "\n",
    "\n",
    "launches_per_month['Month'] = pd.Categorical(\n",
    "    launches_per_month['Month'],\n",
    "    categories=month_order,\n",
    "    ordered=True\n",
    ")\n",
    "launches_per_month = launches_per_month.sort_values('Month')\n"
   ]
  },
  {
   "cell_type": "code",
   "execution_count": 429,
   "metadata": {
    "id": "pfw0aX1lpdRv"
   },
   "outputs": [
    {
     "data": {
      "application/vnd.plotly.v1+json": {
       "config": {
        "plotlyServerURL": "https://plot.ly"
       },
       "data": [
        {
         "hovertemplate": "x=%{x}<br>y=%{y}<extra></extra>",
         "legendgroup": "",
         "marker": {
          "color": "#636efa",
          "pattern": {
           "shape": ""
          }
         },
         "name": "",
         "orientation": "v",
         "showlegend": false,
         "textposition": "outside",
         "texttemplate": "%{y}",
         "type": "bar",
         "x": [
          "January",
          "February",
          "March",
          "April",
          "May",
          "June",
          "July",
          "August",
          "September",
          "October",
          "November",
          "December"
         ],
         "xaxis": "x",
         "y": {
          "_inputArray": {
           "0": 265,
           "1": 323,
           "10": 325,
           "11": 430,
           "2": 349,
           "3": 366,
           "4": 320,
           "5": 386,
           "6": 347,
           "7": 358,
           "8": 354,
           "9": 375,
           "bdata": "CQFDAV0BbgFAAYIBWwFmAWIBdwFFAa4B",
           "dtype": "i2",
           "shape": "12"
          },
          "bdata": "CQFDAV0BbgFAAYIBWwFmAWIBdwFFAa4B",
          "dtype": "i2"
         },
         "yaxis": "y"
        }
       ],
       "layout": {
        "barmode": "relative",
        "height": 600,
        "legend": {
         "tracegroupgap": 0
        },
        "template": {
         "data": {
          "bar": [
           {
            "error_x": {
             "color": "#2a3f5f"
            },
            "error_y": {
             "color": "#2a3f5f"
            },
            "marker": {
             "line": {
              "color": "white",
              "width": 0.5
             },
             "pattern": {
              "fillmode": "overlay",
              "size": 10,
              "solidity": 0.2
             }
            },
            "type": "bar"
           }
          ],
          "barpolar": [
           {
            "marker": {
             "line": {
              "color": "white",
              "width": 0.5
             },
             "pattern": {
              "fillmode": "overlay",
              "size": 10,
              "solidity": 0.2
             }
            },
            "type": "barpolar"
           }
          ],
          "carpet": [
           {
            "aaxis": {
             "endlinecolor": "#2a3f5f",
             "gridcolor": "#C8D4E3",
             "linecolor": "#C8D4E3",
             "minorgridcolor": "#C8D4E3",
             "startlinecolor": "#2a3f5f"
            },
            "baxis": {
             "endlinecolor": "#2a3f5f",
             "gridcolor": "#C8D4E3",
             "linecolor": "#C8D4E3",
             "minorgridcolor": "#C8D4E3",
             "startlinecolor": "#2a3f5f"
            },
            "type": "carpet"
           }
          ],
          "choropleth": [
           {
            "colorbar": {
             "outlinewidth": 0,
             "ticks": ""
            },
            "type": "choropleth"
           }
          ],
          "contour": [
           {
            "colorbar": {
             "outlinewidth": 0,
             "ticks": ""
            },
            "colorscale": [
             [
              0,
              "#0d0887"
             ],
             [
              0.1111111111111111,
              "#46039f"
             ],
             [
              0.2222222222222222,
              "#7201a8"
             ],
             [
              0.3333333333333333,
              "#9c179e"
             ],
             [
              0.4444444444444444,
              "#bd3786"
             ],
             [
              0.5555555555555556,
              "#d8576b"
             ],
             [
              0.6666666666666666,
              "#ed7953"
             ],
             [
              0.7777777777777778,
              "#fb9f3a"
             ],
             [
              0.8888888888888888,
              "#fdca26"
             ],
             [
              1,
              "#f0f921"
             ]
            ],
            "type": "contour"
           }
          ],
          "contourcarpet": [
           {
            "colorbar": {
             "outlinewidth": 0,
             "ticks": ""
            },
            "type": "contourcarpet"
           }
          ],
          "heatmap": [
           {
            "colorbar": {
             "outlinewidth": 0,
             "ticks": ""
            },
            "colorscale": [
             [
              0,
              "#0d0887"
             ],
             [
              0.1111111111111111,
              "#46039f"
             ],
             [
              0.2222222222222222,
              "#7201a8"
             ],
             [
              0.3333333333333333,
              "#9c179e"
             ],
             [
              0.4444444444444444,
              "#bd3786"
             ],
             [
              0.5555555555555556,
              "#d8576b"
             ],
             [
              0.6666666666666666,
              "#ed7953"
             ],
             [
              0.7777777777777778,
              "#fb9f3a"
             ],
             [
              0.8888888888888888,
              "#fdca26"
             ],
             [
              1,
              "#f0f921"
             ]
            ],
            "type": "heatmap"
           }
          ],
          "histogram": [
           {
            "marker": {
             "pattern": {
              "fillmode": "overlay",
              "size": 10,
              "solidity": 0.2
             }
            },
            "type": "histogram"
           }
          ],
          "histogram2d": [
           {
            "colorbar": {
             "outlinewidth": 0,
             "ticks": ""
            },
            "colorscale": [
             [
              0,
              "#0d0887"
             ],
             [
              0.1111111111111111,
              "#46039f"
             ],
             [
              0.2222222222222222,
              "#7201a8"
             ],
             [
              0.3333333333333333,
              "#9c179e"
             ],
             [
              0.4444444444444444,
              "#bd3786"
             ],
             [
              0.5555555555555556,
              "#d8576b"
             ],
             [
              0.6666666666666666,
              "#ed7953"
             ],
             [
              0.7777777777777778,
              "#fb9f3a"
             ],
             [
              0.8888888888888888,
              "#fdca26"
             ],
             [
              1,
              "#f0f921"
             ]
            ],
            "type": "histogram2d"
           }
          ],
          "histogram2dcontour": [
           {
            "colorbar": {
             "outlinewidth": 0,
             "ticks": ""
            },
            "colorscale": [
             [
              0,
              "#0d0887"
             ],
             [
              0.1111111111111111,
              "#46039f"
             ],
             [
              0.2222222222222222,
              "#7201a8"
             ],
             [
              0.3333333333333333,
              "#9c179e"
             ],
             [
              0.4444444444444444,
              "#bd3786"
             ],
             [
              0.5555555555555556,
              "#d8576b"
             ],
             [
              0.6666666666666666,
              "#ed7953"
             ],
             [
              0.7777777777777778,
              "#fb9f3a"
             ],
             [
              0.8888888888888888,
              "#fdca26"
             ],
             [
              1,
              "#f0f921"
             ]
            ],
            "type": "histogram2dcontour"
           }
          ],
          "mesh3d": [
           {
            "colorbar": {
             "outlinewidth": 0,
             "ticks": ""
            },
            "type": "mesh3d"
           }
          ],
          "parcoords": [
           {
            "line": {
             "colorbar": {
              "outlinewidth": 0,
              "ticks": ""
             }
            },
            "type": "parcoords"
           }
          ],
          "pie": [
           {
            "automargin": true,
            "type": "pie"
           }
          ],
          "scatter": [
           {
            "fillpattern": {
             "fillmode": "overlay",
             "size": 10,
             "solidity": 0.2
            },
            "type": "scatter"
           }
          ],
          "scatter3d": [
           {
            "line": {
             "colorbar": {
              "outlinewidth": 0,
              "ticks": ""
             }
            },
            "marker": {
             "colorbar": {
              "outlinewidth": 0,
              "ticks": ""
             }
            },
            "type": "scatter3d"
           }
          ],
          "scattercarpet": [
           {
            "marker": {
             "colorbar": {
              "outlinewidth": 0,
              "ticks": ""
             }
            },
            "type": "scattercarpet"
           }
          ],
          "scattergeo": [
           {
            "marker": {
             "colorbar": {
              "outlinewidth": 0,
              "ticks": ""
             }
            },
            "type": "scattergeo"
           }
          ],
          "scattergl": [
           {
            "marker": {
             "colorbar": {
              "outlinewidth": 0,
              "ticks": ""
             }
            },
            "type": "scattergl"
           }
          ],
          "scattermap": [
           {
            "marker": {
             "colorbar": {
              "outlinewidth": 0,
              "ticks": ""
             }
            },
            "type": "scattermap"
           }
          ],
          "scattermapbox": [
           {
            "marker": {
             "colorbar": {
              "outlinewidth": 0,
              "ticks": ""
             }
            },
            "type": "scattermapbox"
           }
          ],
          "scatterpolar": [
           {
            "marker": {
             "colorbar": {
              "outlinewidth": 0,
              "ticks": ""
             }
            },
            "type": "scatterpolar"
           }
          ],
          "scatterpolargl": [
           {
            "marker": {
             "colorbar": {
              "outlinewidth": 0,
              "ticks": ""
             }
            },
            "type": "scatterpolargl"
           }
          ],
          "scatterternary": [
           {
            "marker": {
             "colorbar": {
              "outlinewidth": 0,
              "ticks": ""
             }
            },
            "type": "scatterternary"
           }
          ],
          "surface": [
           {
            "colorbar": {
             "outlinewidth": 0,
             "ticks": ""
            },
            "colorscale": [
             [
              0,
              "#0d0887"
             ],
             [
              0.1111111111111111,
              "#46039f"
             ],
             [
              0.2222222222222222,
              "#7201a8"
             ],
             [
              0.3333333333333333,
              "#9c179e"
             ],
             [
              0.4444444444444444,
              "#bd3786"
             ],
             [
              0.5555555555555556,
              "#d8576b"
             ],
             [
              0.6666666666666666,
              "#ed7953"
             ],
             [
              0.7777777777777778,
              "#fb9f3a"
             ],
             [
              0.8888888888888888,
              "#fdca26"
             ],
             [
              1,
              "#f0f921"
             ]
            ],
            "type": "surface"
           }
          ],
          "table": [
           {
            "cells": {
             "fill": {
              "color": "#EBF0F8"
             },
             "line": {
              "color": "white"
             }
            },
            "header": {
             "fill": {
              "color": "#C8D4E3"
             },
             "line": {
              "color": "white"
             }
            },
            "type": "table"
           }
          ]
         },
         "layout": {
          "annotationdefaults": {
           "arrowcolor": "#2a3f5f",
           "arrowhead": 0,
           "arrowwidth": 1
          },
          "autotypenumbers": "strict",
          "coloraxis": {
           "colorbar": {
            "outlinewidth": 0,
            "ticks": ""
           }
          },
          "colorscale": {
           "diverging": [
            [
             0,
             "#8e0152"
            ],
            [
             0.1,
             "#c51b7d"
            ],
            [
             0.2,
             "#de77ae"
            ],
            [
             0.3,
             "#f1b6da"
            ],
            [
             0.4,
             "#fde0ef"
            ],
            [
             0.5,
             "#f7f7f7"
            ],
            [
             0.6,
             "#e6f5d0"
            ],
            [
             0.7,
             "#b8e186"
            ],
            [
             0.8,
             "#7fbc41"
            ],
            [
             0.9,
             "#4d9221"
            ],
            [
             1,
             "#276419"
            ]
           ],
           "sequential": [
            [
             0,
             "#0d0887"
            ],
            [
             0.1111111111111111,
             "#46039f"
            ],
            [
             0.2222222222222222,
             "#7201a8"
            ],
            [
             0.3333333333333333,
             "#9c179e"
            ],
            [
             0.4444444444444444,
             "#bd3786"
            ],
            [
             0.5555555555555556,
             "#d8576b"
            ],
            [
             0.6666666666666666,
             "#ed7953"
            ],
            [
             0.7777777777777778,
             "#fb9f3a"
            ],
            [
             0.8888888888888888,
             "#fdca26"
            ],
            [
             1,
             "#f0f921"
            ]
           ],
           "sequentialminus": [
            [
             0,
             "#0d0887"
            ],
            [
             0.1111111111111111,
             "#46039f"
            ],
            [
             0.2222222222222222,
             "#7201a8"
            ],
            [
             0.3333333333333333,
             "#9c179e"
            ],
            [
             0.4444444444444444,
             "#bd3786"
            ],
            [
             0.5555555555555556,
             "#d8576b"
            ],
            [
             0.6666666666666666,
             "#ed7953"
            ],
            [
             0.7777777777777778,
             "#fb9f3a"
            ],
            [
             0.8888888888888888,
             "#fdca26"
            ],
            [
             1,
             "#f0f921"
            ]
           ]
          },
          "colorway": [
           "#636efa",
           "#EF553B",
           "#00cc96",
           "#ab63fa",
           "#FFA15A",
           "#19d3f3",
           "#FF6692",
           "#B6E880",
           "#FF97FF",
           "#FECB52"
          ],
          "font": {
           "color": "#2a3f5f"
          },
          "geo": {
           "bgcolor": "white",
           "lakecolor": "white",
           "landcolor": "white",
           "showlakes": true,
           "showland": true,
           "subunitcolor": "#C8D4E3"
          },
          "hoverlabel": {
           "align": "left"
          },
          "hovermode": "closest",
          "mapbox": {
           "style": "light"
          },
          "paper_bgcolor": "white",
          "plot_bgcolor": "white",
          "polar": {
           "angularaxis": {
            "gridcolor": "#EBF0F8",
            "linecolor": "#EBF0F8",
            "ticks": ""
           },
           "bgcolor": "white",
           "radialaxis": {
            "gridcolor": "#EBF0F8",
            "linecolor": "#EBF0F8",
            "ticks": ""
           }
          },
          "scene": {
           "xaxis": {
            "backgroundcolor": "white",
            "gridcolor": "#DFE8F3",
            "gridwidth": 2,
            "linecolor": "#EBF0F8",
            "showbackground": true,
            "ticks": "",
            "zerolinecolor": "#EBF0F8"
           },
           "yaxis": {
            "backgroundcolor": "white",
            "gridcolor": "#DFE8F3",
            "gridwidth": 2,
            "linecolor": "#EBF0F8",
            "showbackground": true,
            "ticks": "",
            "zerolinecolor": "#EBF0F8"
           },
           "zaxis": {
            "backgroundcolor": "white",
            "gridcolor": "#DFE8F3",
            "gridwidth": 2,
            "linecolor": "#EBF0F8",
            "showbackground": true,
            "ticks": "",
            "zerolinecolor": "#EBF0F8"
           }
          },
          "shapedefaults": {
           "line": {
            "color": "#2a3f5f"
           }
          },
          "ternary": {
           "aaxis": {
            "gridcolor": "#DFE8F3",
            "linecolor": "#A2B1C6",
            "ticks": ""
           },
           "baxis": {
            "gridcolor": "#DFE8F3",
            "linecolor": "#A2B1C6",
            "ticks": ""
           },
           "bgcolor": "white",
           "caxis": {
            "gridcolor": "#DFE8F3",
            "linecolor": "#A2B1C6",
            "ticks": ""
           }
          },
          "title": {
           "x": 0.05
          },
          "xaxis": {
           "automargin": true,
           "gridcolor": "#EBF0F8",
           "linecolor": "#EBF0F8",
           "ticks": "",
           "title": {
            "standoff": 15
           },
           "zerolinecolor": "#EBF0F8",
           "zerolinewidth": 2
          },
          "yaxis": {
           "automargin": true,
           "gridcolor": "#EBF0F8",
           "linecolor": "#EBF0F8",
           "ticks": "",
           "title": {
            "standoff": 15
           },
           "zerolinecolor": "#EBF0F8",
           "zerolinewidth": 2
          }
         }
        },
        "title": {
         "text": "Number of Launches per Month"
        },
        "width": 900,
        "xaxis": {
         "anchor": "y",
         "autorange": true,
         "domain": [
          0,
          1
         ],
         "range": [
          -0.5,
          11.5
         ],
         "title": {
          "text": "Month"
         },
         "type": "category"
        },
        "yaxis": {
         "anchor": "x",
         "autorange": true,
         "domain": [
          0,
          1
         ],
         "range": [
          0,
          452.63157894736844
         ],
         "title": {
          "text": "Launch Count"
         },
         "type": "linear"
        }
       }
      }
     },
     "metadata": {},
     "output_type": "display_data"
    }
   ],
   "source": [
    "fig = px.bar(x=launches_per_month['Month'], y=launches_per_month['Launch_Count'], title='Number of Launches per Month')\n",
    "fig.update_traces(texttemplate='%{y}',textposition='outside')\n",
    "fig.update_xaxes(title_text='Month')\n",
    "fig.update_yaxes(title_text='Launch Count')\n",
    "fig.update_layout(\n",
    "    height=600,\n",
    "    width=900,\n",
    "    template='plotly_white'\n",
    ")\n",
    "fig.show()"
   ]
  },
  {
   "cell_type": "markdown",
   "metadata": {
    "id": "t-avMIZoa-qh",
    "papermill": {
     "duration": 0.044409,
     "end_time": "2020-10-20T21:34:10.162592",
     "exception": false,
     "start_time": "2020-10-20T21:34:10.118183",
     "status": "completed"
    },
    "tags": []
   },
   "source": [
    "# Launches per Month: Which months are most popular and least popular for launches?"
   ]
  },
  {
   "cell_type": "code",
   "execution_count": 430,
   "metadata": {
    "id": "zmtp5uBHppFG"
   },
   "outputs": [
    {
     "name": "stdout",
     "output_type": "stream",
     "text": [
      "      Month  Launch_Count\n",
      "2  December           430\n",
      "     Month  Launch_Count\n",
      "4  January           265\n"
     ]
    }
   ],
   "source": [
    "print(launches_per_month[launches_per_month['Launch_Count']==launches_per_month['Launch_Count'].max()])\n",
    "print(launches_per_month[launches_per_month['Launch_Count']==launches_per_month['Launch_Count'].min()])"
   ]
  },
  {
   "cell_type": "markdown",
   "metadata": {
    "id": "dPQ_N_sfa-qo",
    "papermill": {
     "duration": 0.067915,
     "end_time": "2020-10-20T21:34:11.122539",
     "exception": false,
     "start_time": "2020-10-20T21:34:11.054624",
     "status": "completed"
    },
    "tags": []
   },
   "source": [
    "# How has the Launch Price varied Over Time? "
   ]
  },
  {
   "cell_type": "code",
   "execution_count": 431,
   "metadata": {
    "id": "hFc-2M5-qCrv"
   },
   "outputs": [
    {
     "data": {
      "application/vnd.plotly.v1+json": {
       "config": {
        "plotlyServerURL": "https://plot.ly"
       },
       "data": [
        {
         "hovertemplate": "Year=%{x}<br>Price=%{y}<extra></extra>",
         "legendgroup": "",
         "line": {
          "color": "#636efa",
          "dash": "solid"
         },
         "marker": {
          "symbol": "circle"
         },
         "mode": "lines",
         "name": "",
         "orientation": "v",
         "showlegend": false,
         "type": "scatter",
         "x": {
          "_inputArray": {
           "0": 1957,
           "1": 1958,
           "10": 1967,
           "11": 1968,
           "12": 1969,
           "13": 1970,
           "14": 1971,
           "15": 1972,
           "16": 1973,
           "17": 1974,
           "18": 1975,
           "19": 1976,
           "2": 1959,
           "20": 1977,
           "21": 1978,
           "22": 1979,
           "23": 1980,
           "24": 1981,
           "25": 1982,
           "26": 1983,
           "27": 1984,
           "28": 1985,
           "29": 1986,
           "3": 1960,
           "30": 1987,
           "31": 1988,
           "32": 1989,
           "33": 1990,
           "34": 1991,
           "35": 1992,
           "36": 1993,
           "37": 1994,
           "38": 1995,
           "39": 1996,
           "4": 1961,
           "40": 1997,
           "41": 1998,
           "42": 1999,
           "43": 2000,
           "44": 2001,
           "45": 2002,
           "46": 2003,
           "47": 2004,
           "48": 2005,
           "49": 2006,
           "5": 1962,
           "50": 2007,
           "51": 2008,
           "52": 2009,
           "53": 2010,
           "54": 2011,
           "55": 2012,
           "56": 2013,
           "57": 2014,
           "58": 2015,
           "59": 2016,
           "6": 1963,
           "60": 2017,
           "61": 2018,
           "62": 2019,
           "63": 2020,
           "7": 1964,
           "8": 1965,
           "9": 1966,
           "bdata": "pQcAAKYHAACnBwAAqAcAAKkHAACqBwAAqwcAAKwHAACtBwAArgcAAK8HAACwBwAAsQcAALIHAACzBwAAtAcAALUHAAC2BwAAtwcAALgHAAC5BwAAugcAALsHAAC8BwAAvQcAAL4HAAC/BwAAwAcAAMEHAADCBwAAwwcAAMQHAADFBwAAxgcAAMcHAADIBwAAyQcAAMoHAADLBwAAzAcAAM0HAADOBwAAzwcAANAHAADRBwAA0gcAANMHAADUBwAA1QcAANYHAADXBwAA2AcAANkHAADaBwAA2wcAANwHAADdBwAA3gcAAN8HAADgBwAA4QcAAOIHAADjBwAA5AcAAA==",
           "dtype": "i4",
           "shape": "64"
          },
          "bdata": "pQcAAKYHAACnBwAAqAcAAKkHAACqBwAAqwcAAKwHAACtBwAArgcAAK8HAACwBwAAsQcAALIHAACzBwAAtAcAALUHAAC2BwAAtwcAALgHAAC5BwAAugcAALsHAAC8BwAAvQcAAL4HAAC/BwAAwAcAAMEHAADCBwAAwwcAAMQHAADFBwAAxgcAAMcHAADIBwAAyQcAAMoHAADLBwAAzAcAAM0HAADOBwAAzwcAANAHAADRBwAA0gcAANMHAADUBwAA1QcAANYHAADXBwAA2AcAANkHAADaBwAA2wcAANwHAADdBwAA3gcAAN8HAADgBwAA4QcAAOIHAADjBwAA5AcAAA==",
          "dtype": "i4"
         },
         "xaxis": "x",
         "y": {
          "_inputArray": {
           "0": null,
           "1": null,
           "10": 216.28571428571428,
           "11": 279.2,
           "12": 609.5,
           "13": 1160,
           "14": 1160,
           "15": 1160,
           "16": 1160,
           "17": null,
           "18": null,
           "19": null,
           "2": null,
           "20": null,
           "21": null,
           "22": null,
           "23": null,
           "24": 450,
           "25": 345.2,
           "26": 366.15999999999997,
           "27": 380.1333333333334,
           "28": 408.08000000000004,
           "29": 310.26666666666665,
           "3": null,
           "30": 1687.2,
           "31": 1193.16,
           "32": 380.8333333333333,
           "33": 289.1454545454545,
           "34": 391.42857142857144,
           "35": 319.34583333333336,
           "36": 276.73333333333335,
           "37": 221.509375,
           "38": 325,
           "39": 243.19642857142858,
           "4": null,
           "40": 221.7388888888889,
           "41": 152.1222222222222,
           "42": 136.16615384615386,
           "43": 173.11875,
           "44": 290.7,
           "45": 195.3725,
           "46": 80.5115,
           "47": 92.73588235294118,
           "48": 95.79333333333334,
           "49": 138.60592592592593,
           "5": null,
           "50": 125.6951724137931,
           "51": 129.74821428571428,
           "52": 180.28709677419354,
           "53": 148.4,
           "54": 146.59655172413792,
           "55": 126.09583333333335,
           "56": 90.55151515151515,
           "57": 102.55121951219513,
           "58": 95.94864864864864,
           "59": 79.45734375,
           "6": null,
           "60": 69.4910606060606,
           "61": 64.74977272727273,
           "62": 59.609726027397265,
           "63": 56.65019230769231,
           "7": 63.23,
           "8": 63.23,
           "9": 59,
           "bdata": "AAAAAAAA+H8AAAAAAAD4fwAAAAAAAPh/AAAAAAAA+H8AAAAAAAD4fwAAAAAAAPh/AAAAAAAA+H89CtejcJ1PQD0K16NwnU9AAAAAAACATUCSJEmSJAlrQDMzMzMzc3FAAAAAAAAMg0AAAAAAACCSQAAAAAAAIJJAAAAAAAAgkkAAAAAAACCSQAAAAAAAAPh/AAAAAAAA+H8AAAAAAAD4fwAAAAAAAPh/AAAAAAAA+H8AAAAAAAD4fwAAAAAAAPh/AAAAAAAgfEAzMzMzM5N1QML1KFyP4nZAIyIiIiLCd0DiehSuR4F5QEREREREZHNAzczMzMxcmkBxPQrXo6SSQFVVVVVVzXdAgjwlyFMSckBu27Zt23Z4QImIiIiI9XNAvLu7u7tLcUDNzMzMTLBrQAAAAAAAUHRAJUmSJElmbkD7pE/6pLdrQD7pkz7pA2NAvOreIVEFYUDNzMzMzKNlQDMzMzMzK3JAUrgehetraEDb+X5qvCBUQH/lS7IYL1dAk18s+cXyV0DQdMS+Y1NhQKiUb7R9bF9AX/EVX/E3YEBZ/pLlL4lmQM3MzMzMjGJAbzGk8xZTYkAjIiIiIoZfQGPANAZMo1ZA5HI0LkejWUDLVdKotvxXQOxRuB5F3VNAl9h2iW1fUUBsxL9G/C9QQHuYoYALzk1AGtNkgDlTTEA=",
           "dtype": "f8",
           "shape": "64"
          },
          "bdata": "AAAAAAAA+H8AAAAAAAD4fwAAAAAAAPh/AAAAAAAA+H8AAAAAAAD4fwAAAAAAAPh/AAAAAAAA+H89CtejcJ1PQD0K16NwnU9AAAAAAACATUCSJEmSJAlrQDMzMzMzc3FAAAAAAAAMg0AAAAAAACCSQAAAAAAAIJJAAAAAAAAgkkAAAAAAACCSQAAAAAAAAPh/AAAAAAAA+H8AAAAAAAD4fwAAAAAAAPh/AAAAAAAA+H8AAAAAAAD4fwAAAAAAAPh/AAAAAAAgfEAzMzMzM5N1QML1KFyP4nZAIyIiIiLCd0DiehSuR4F5QEREREREZHNAzczMzMxcmkBxPQrXo6SSQFVVVVVVzXdAgjwlyFMSckBu27Zt23Z4QImIiIiI9XNAvLu7u7tLcUDNzMzMTLBrQAAAAAAAUHRAJUmSJElmbkD7pE/6pLdrQD7pkz7pA2NAvOreIVEFYUDNzMzMzKNlQDMzMzMzK3JAUrgehetraEDb+X5qvCBUQH/lS7IYL1dAk18s+cXyV0DQdMS+Y1NhQKiUb7R9bF9AX/EVX/E3YEBZ/pLlL4lmQM3MzMzMjGJAbzGk8xZTYkAjIiIiIoZfQGPANAZMo1ZA5HI0LkejWUDLVdKotvxXQOxRuB5F3VNAl9h2iW1fUUBsxL9G/C9QQHuYoYALzk1AGtNkgDlTTEA=",
          "dtype": "f8"
         },
         "yaxis": "y"
        }
       ],
       "layout": {
        "height": 600,
        "legend": {
         "tracegroupgap": 0
        },
        "margin": {
         "t": 60
        },
        "template": {
         "data": {
          "bar": [
           {
            "error_x": {
             "color": "#2a3f5f"
            },
            "error_y": {
             "color": "#2a3f5f"
            },
            "marker": {
             "line": {
              "color": "white",
              "width": 0.5
             },
             "pattern": {
              "fillmode": "overlay",
              "size": 10,
              "solidity": 0.2
             }
            },
            "type": "bar"
           }
          ],
          "barpolar": [
           {
            "marker": {
             "line": {
              "color": "white",
              "width": 0.5
             },
             "pattern": {
              "fillmode": "overlay",
              "size": 10,
              "solidity": 0.2
             }
            },
            "type": "barpolar"
           }
          ],
          "carpet": [
           {
            "aaxis": {
             "endlinecolor": "#2a3f5f",
             "gridcolor": "#C8D4E3",
             "linecolor": "#C8D4E3",
             "minorgridcolor": "#C8D4E3",
             "startlinecolor": "#2a3f5f"
            },
            "baxis": {
             "endlinecolor": "#2a3f5f",
             "gridcolor": "#C8D4E3",
             "linecolor": "#C8D4E3",
             "minorgridcolor": "#C8D4E3",
             "startlinecolor": "#2a3f5f"
            },
            "type": "carpet"
           }
          ],
          "choropleth": [
           {
            "colorbar": {
             "outlinewidth": 0,
             "ticks": ""
            },
            "type": "choropleth"
           }
          ],
          "contour": [
           {
            "colorbar": {
             "outlinewidth": 0,
             "ticks": ""
            },
            "colorscale": [
             [
              0,
              "#0d0887"
             ],
             [
              0.1111111111111111,
              "#46039f"
             ],
             [
              0.2222222222222222,
              "#7201a8"
             ],
             [
              0.3333333333333333,
              "#9c179e"
             ],
             [
              0.4444444444444444,
              "#bd3786"
             ],
             [
              0.5555555555555556,
              "#d8576b"
             ],
             [
              0.6666666666666666,
              "#ed7953"
             ],
             [
              0.7777777777777778,
              "#fb9f3a"
             ],
             [
              0.8888888888888888,
              "#fdca26"
             ],
             [
              1,
              "#f0f921"
             ]
            ],
            "type": "contour"
           }
          ],
          "contourcarpet": [
           {
            "colorbar": {
             "outlinewidth": 0,
             "ticks": ""
            },
            "type": "contourcarpet"
           }
          ],
          "heatmap": [
           {
            "colorbar": {
             "outlinewidth": 0,
             "ticks": ""
            },
            "colorscale": [
             [
              0,
              "#0d0887"
             ],
             [
              0.1111111111111111,
              "#46039f"
             ],
             [
              0.2222222222222222,
              "#7201a8"
             ],
             [
              0.3333333333333333,
              "#9c179e"
             ],
             [
              0.4444444444444444,
              "#bd3786"
             ],
             [
              0.5555555555555556,
              "#d8576b"
             ],
             [
              0.6666666666666666,
              "#ed7953"
             ],
             [
              0.7777777777777778,
              "#fb9f3a"
             ],
             [
              0.8888888888888888,
              "#fdca26"
             ],
             [
              1,
              "#f0f921"
             ]
            ],
            "type": "heatmap"
           }
          ],
          "histogram": [
           {
            "marker": {
             "pattern": {
              "fillmode": "overlay",
              "size": 10,
              "solidity": 0.2
             }
            },
            "type": "histogram"
           }
          ],
          "histogram2d": [
           {
            "colorbar": {
             "outlinewidth": 0,
             "ticks": ""
            },
            "colorscale": [
             [
              0,
              "#0d0887"
             ],
             [
              0.1111111111111111,
              "#46039f"
             ],
             [
              0.2222222222222222,
              "#7201a8"
             ],
             [
              0.3333333333333333,
              "#9c179e"
             ],
             [
              0.4444444444444444,
              "#bd3786"
             ],
             [
              0.5555555555555556,
              "#d8576b"
             ],
             [
              0.6666666666666666,
              "#ed7953"
             ],
             [
              0.7777777777777778,
              "#fb9f3a"
             ],
             [
              0.8888888888888888,
              "#fdca26"
             ],
             [
              1,
              "#f0f921"
             ]
            ],
            "type": "histogram2d"
           }
          ],
          "histogram2dcontour": [
           {
            "colorbar": {
             "outlinewidth": 0,
             "ticks": ""
            },
            "colorscale": [
             [
              0,
              "#0d0887"
             ],
             [
              0.1111111111111111,
              "#46039f"
             ],
             [
              0.2222222222222222,
              "#7201a8"
             ],
             [
              0.3333333333333333,
              "#9c179e"
             ],
             [
              0.4444444444444444,
              "#bd3786"
             ],
             [
              0.5555555555555556,
              "#d8576b"
             ],
             [
              0.6666666666666666,
              "#ed7953"
             ],
             [
              0.7777777777777778,
              "#fb9f3a"
             ],
             [
              0.8888888888888888,
              "#fdca26"
             ],
             [
              1,
              "#f0f921"
             ]
            ],
            "type": "histogram2dcontour"
           }
          ],
          "mesh3d": [
           {
            "colorbar": {
             "outlinewidth": 0,
             "ticks": ""
            },
            "type": "mesh3d"
           }
          ],
          "parcoords": [
           {
            "line": {
             "colorbar": {
              "outlinewidth": 0,
              "ticks": ""
             }
            },
            "type": "parcoords"
           }
          ],
          "pie": [
           {
            "automargin": true,
            "type": "pie"
           }
          ],
          "scatter": [
           {
            "fillpattern": {
             "fillmode": "overlay",
             "size": 10,
             "solidity": 0.2
            },
            "type": "scatter"
           }
          ],
          "scatter3d": [
           {
            "line": {
             "colorbar": {
              "outlinewidth": 0,
              "ticks": ""
             }
            },
            "marker": {
             "colorbar": {
              "outlinewidth": 0,
              "ticks": ""
             }
            },
            "type": "scatter3d"
           }
          ],
          "scattercarpet": [
           {
            "marker": {
             "colorbar": {
              "outlinewidth": 0,
              "ticks": ""
             }
            },
            "type": "scattercarpet"
           }
          ],
          "scattergeo": [
           {
            "marker": {
             "colorbar": {
              "outlinewidth": 0,
              "ticks": ""
             }
            },
            "type": "scattergeo"
           }
          ],
          "scattergl": [
           {
            "marker": {
             "colorbar": {
              "outlinewidth": 0,
              "ticks": ""
             }
            },
            "type": "scattergl"
           }
          ],
          "scattermap": [
           {
            "marker": {
             "colorbar": {
              "outlinewidth": 0,
              "ticks": ""
             }
            },
            "type": "scattermap"
           }
          ],
          "scattermapbox": [
           {
            "marker": {
             "colorbar": {
              "outlinewidth": 0,
              "ticks": ""
             }
            },
            "type": "scattermapbox"
           }
          ],
          "scatterpolar": [
           {
            "marker": {
             "colorbar": {
              "outlinewidth": 0,
              "ticks": ""
             }
            },
            "type": "scatterpolar"
           }
          ],
          "scatterpolargl": [
           {
            "marker": {
             "colorbar": {
              "outlinewidth": 0,
              "ticks": ""
             }
            },
            "type": "scatterpolargl"
           }
          ],
          "scatterternary": [
           {
            "marker": {
             "colorbar": {
              "outlinewidth": 0,
              "ticks": ""
             }
            },
            "type": "scatterternary"
           }
          ],
          "surface": [
           {
            "colorbar": {
             "outlinewidth": 0,
             "ticks": ""
            },
            "colorscale": [
             [
              0,
              "#0d0887"
             ],
             [
              0.1111111111111111,
              "#46039f"
             ],
             [
              0.2222222222222222,
              "#7201a8"
             ],
             [
              0.3333333333333333,
              "#9c179e"
             ],
             [
              0.4444444444444444,
              "#bd3786"
             ],
             [
              0.5555555555555556,
              "#d8576b"
             ],
             [
              0.6666666666666666,
              "#ed7953"
             ],
             [
              0.7777777777777778,
              "#fb9f3a"
             ],
             [
              0.8888888888888888,
              "#fdca26"
             ],
             [
              1,
              "#f0f921"
             ]
            ],
            "type": "surface"
           }
          ],
          "table": [
           {
            "cells": {
             "fill": {
              "color": "#EBF0F8"
             },
             "line": {
              "color": "white"
             }
            },
            "header": {
             "fill": {
              "color": "#C8D4E3"
             },
             "line": {
              "color": "white"
             }
            },
            "type": "table"
           }
          ]
         },
         "layout": {
          "annotationdefaults": {
           "arrowcolor": "#2a3f5f",
           "arrowhead": 0,
           "arrowwidth": 1
          },
          "autotypenumbers": "strict",
          "coloraxis": {
           "colorbar": {
            "outlinewidth": 0,
            "ticks": ""
           }
          },
          "colorscale": {
           "diverging": [
            [
             0,
             "#8e0152"
            ],
            [
             0.1,
             "#c51b7d"
            ],
            [
             0.2,
             "#de77ae"
            ],
            [
             0.3,
             "#f1b6da"
            ],
            [
             0.4,
             "#fde0ef"
            ],
            [
             0.5,
             "#f7f7f7"
            ],
            [
             0.6,
             "#e6f5d0"
            ],
            [
             0.7,
             "#b8e186"
            ],
            [
             0.8,
             "#7fbc41"
            ],
            [
             0.9,
             "#4d9221"
            ],
            [
             1,
             "#276419"
            ]
           ],
           "sequential": [
            [
             0,
             "#0d0887"
            ],
            [
             0.1111111111111111,
             "#46039f"
            ],
            [
             0.2222222222222222,
             "#7201a8"
            ],
            [
             0.3333333333333333,
             "#9c179e"
            ],
            [
             0.4444444444444444,
             "#bd3786"
            ],
            [
             0.5555555555555556,
             "#d8576b"
            ],
            [
             0.6666666666666666,
             "#ed7953"
            ],
            [
             0.7777777777777778,
             "#fb9f3a"
            ],
            [
             0.8888888888888888,
             "#fdca26"
            ],
            [
             1,
             "#f0f921"
            ]
           ],
           "sequentialminus": [
            [
             0,
             "#0d0887"
            ],
            [
             0.1111111111111111,
             "#46039f"
            ],
            [
             0.2222222222222222,
             "#7201a8"
            ],
            [
             0.3333333333333333,
             "#9c179e"
            ],
            [
             0.4444444444444444,
             "#bd3786"
            ],
            [
             0.5555555555555556,
             "#d8576b"
            ],
            [
             0.6666666666666666,
             "#ed7953"
            ],
            [
             0.7777777777777778,
             "#fb9f3a"
            ],
            [
             0.8888888888888888,
             "#fdca26"
            ],
            [
             1,
             "#f0f921"
            ]
           ]
          },
          "colorway": [
           "#636efa",
           "#EF553B",
           "#00cc96",
           "#ab63fa",
           "#FFA15A",
           "#19d3f3",
           "#FF6692",
           "#B6E880",
           "#FF97FF",
           "#FECB52"
          ],
          "font": {
           "color": "#2a3f5f"
          },
          "geo": {
           "bgcolor": "white",
           "lakecolor": "white",
           "landcolor": "white",
           "showlakes": true,
           "showland": true,
           "subunitcolor": "#C8D4E3"
          },
          "hoverlabel": {
           "align": "left"
          },
          "hovermode": "closest",
          "mapbox": {
           "style": "light"
          },
          "paper_bgcolor": "white",
          "plot_bgcolor": "white",
          "polar": {
           "angularaxis": {
            "gridcolor": "#EBF0F8",
            "linecolor": "#EBF0F8",
            "ticks": ""
           },
           "bgcolor": "white",
           "radialaxis": {
            "gridcolor": "#EBF0F8",
            "linecolor": "#EBF0F8",
            "ticks": ""
           }
          },
          "scene": {
           "xaxis": {
            "backgroundcolor": "white",
            "gridcolor": "#DFE8F3",
            "gridwidth": 2,
            "linecolor": "#EBF0F8",
            "showbackground": true,
            "ticks": "",
            "zerolinecolor": "#EBF0F8"
           },
           "yaxis": {
            "backgroundcolor": "white",
            "gridcolor": "#DFE8F3",
            "gridwidth": 2,
            "linecolor": "#EBF0F8",
            "showbackground": true,
            "ticks": "",
            "zerolinecolor": "#EBF0F8"
           },
           "zaxis": {
            "backgroundcolor": "white",
            "gridcolor": "#DFE8F3",
            "gridwidth": 2,
            "linecolor": "#EBF0F8",
            "showbackground": true,
            "ticks": "",
            "zerolinecolor": "#EBF0F8"
           }
          },
          "shapedefaults": {
           "line": {
            "color": "#2a3f5f"
           }
          },
          "ternary": {
           "aaxis": {
            "gridcolor": "#DFE8F3",
            "linecolor": "#A2B1C6",
            "ticks": ""
           },
           "baxis": {
            "gridcolor": "#DFE8F3",
            "linecolor": "#A2B1C6",
            "ticks": ""
           },
           "bgcolor": "white",
           "caxis": {
            "gridcolor": "#DFE8F3",
            "linecolor": "#A2B1C6",
            "ticks": ""
           }
          },
          "title": {
           "x": 0.05
          },
          "xaxis": {
           "automargin": true,
           "gridcolor": "#EBF0F8",
           "linecolor": "#EBF0F8",
           "ticks": "",
           "title": {
            "standoff": 15
           },
           "zerolinecolor": "#EBF0F8",
           "zerolinewidth": 2
          },
          "yaxis": {
           "automargin": true,
           "gridcolor": "#EBF0F8",
           "linecolor": "#EBF0F8",
           "ticks": "",
           "title": {
            "standoff": 15
           },
           "zerolinecolor": "#EBF0F8",
           "zerolinewidth": 2
          }
         }
        },
        "width": 1100,
        "xaxis": {
         "anchor": "y",
         "autorange": true,
         "domain": [
          0,
          1
         ],
         "range": [
          1957,
          2020
         ],
         "tickangle": 90,
         "tickmode": "array",
         "tickvals": {
          "_inputArray": {
           "0": 1957,
           "1": 1958,
           "10": 1967,
           "11": 1968,
           "12": 1969,
           "13": 1970,
           "14": 1971,
           "15": 1972,
           "16": 1973,
           "17": 1974,
           "18": 1975,
           "19": 1976,
           "2": 1959,
           "20": 1977,
           "21": 1978,
           "22": 1979,
           "23": 1980,
           "24": 1981,
           "25": 1982,
           "26": 1983,
           "27": 1984,
           "28": 1985,
           "29": 1986,
           "3": 1960,
           "30": 1987,
           "31": 1988,
           "32": 1989,
           "33": 1990,
           "34": 1991,
           "35": 1992,
           "36": 1993,
           "37": 1994,
           "38": 1995,
           "39": 1996,
           "4": 1961,
           "40": 1997,
           "41": 1998,
           "42": 1999,
           "43": 2000,
           "44": 2001,
           "45": 2002,
           "46": 2003,
           "47": 2004,
           "48": 2005,
           "49": 2006,
           "5": 1962,
           "50": 2007,
           "51": 2008,
           "52": 2009,
           "53": 2010,
           "54": 2011,
           "55": 2012,
           "56": 2013,
           "57": 2014,
           "58": 2015,
           "59": 2016,
           "6": 1963,
           "60": 2017,
           "61": 2018,
           "62": 2019,
           "63": 2020,
           "7": 1964,
           "8": 1965,
           "9": 1966,
           "bdata": "pQcAAKYHAACnBwAAqAcAAKkHAACqBwAAqwcAAKwHAACtBwAArgcAAK8HAACwBwAAsQcAALIHAACzBwAAtAcAALUHAAC2BwAAtwcAALgHAAC5BwAAugcAALsHAAC8BwAAvQcAAL4HAAC/BwAAwAcAAMEHAADCBwAAwwcAAMQHAADFBwAAxgcAAMcHAADIBwAAyQcAAMoHAADLBwAAzAcAAM0HAADOBwAAzwcAANAHAADRBwAA0gcAANMHAADUBwAA1QcAANYHAADXBwAA2AcAANkHAADaBwAA2wcAANwHAADdBwAA3gcAAN8HAADgBwAA4QcAAOIHAADjBwAA5AcAAA==",
           "dtype": "i4",
           "shape": "64"
          },
          "bdata": "pQcAAKYHAACnBwAAqAcAAKkHAACqBwAAqwcAAKwHAACtBwAArgcAAK8HAACwBwAAsQcAALIHAACzBwAAtAcAALUHAAC2BwAAtwcAALgHAAC5BwAAugcAALsHAAC8BwAAvQcAAL4HAAC/BwAAwAcAAMEHAADCBwAAwwcAAMQHAADFBwAAxgcAAMcHAADIBwAAyQcAAMoHAADLBwAAzAcAAM0HAADOBwAAzwcAANAHAADRBwAA0gcAANMHAADUBwAA1QcAANYHAADXBwAA2AcAANkHAADaBwAA2wcAANwHAADdBwAA3gcAAN8HAADgBwAA4QcAAOIHAADjBwAA5AcAAA==",
          "dtype": "i4"
         },
         "title": {
          "text": "Year"
         },
         "type": "linear"
        },
        "yaxis": {
         "anchor": "x",
         "autorange": true,
         "domain": [
          0,
          1
         ],
         "range": [
          -33.93590811965812,
          1777.7861004273504
         ],
         "title": {
          "text": "Price"
         },
         "type": "linear"
        }
       }
      }
     },
     "metadata": {},
     "output_type": "display_data"
    }
   ],
   "source": [
    "avg_price_ov_time= cleaned_data.groupby('Year').agg({'Price':'mean'}).reset_index()\n",
    "fig = px.line(avg_price_ov_time,x='Year',y='Price')\n",
    "fig.update_layout(\n",
    "    height=600,\n",
    "    width=1100,\n",
    "    template='plotly_white',\n",
    "    xaxis=dict(\n",
    "        tickmode='array',\n",
    "        tickvals=avg_price_ov_time['Year'],\n",
    "        tickangle=90)\n",
    ")\n",
    "\n",
    "fig.show()"
   ]
  },
  {
   "cell_type": "markdown",
   "metadata": {
    "id": "Os-3A5vLa-q9",
    "papermill": {
     "duration": 0.054318,
     "end_time": "2020-10-20T21:34:14.089604",
     "exception": false,
     "start_time": "2020-10-20T21:34:14.035286",
     "status": "completed"
    },
    "tags": []
   },
   "source": [
    "# Plotly Pie Chart comparing the total number of launches of the USSR and the USA\n"
   ]
  },
  {
   "cell_type": "code",
   "execution_count": 432,
   "metadata": {
    "id": "1irc6_W9rD59"
   },
   "outputs": [
    {
     "data": {
      "text/html": [
       "<div>\n",
       "<style scoped>\n",
       "    .dataframe tbody tr th:only-of-type {\n",
       "        vertical-align: middle;\n",
       "    }\n",
       "\n",
       "    .dataframe tbody tr th {\n",
       "        vertical-align: top;\n",
       "    }\n",
       "\n",
       "    .dataframe thead th {\n",
       "        text-align: right;\n",
       "    }\n",
       "</style>\n",
       "<table border=\"1\" class=\"dataframe\">\n",
       "  <thead>\n",
       "    <tr style=\"text-align: right;\">\n",
       "      <th></th>\n",
       "      <th>Country</th>\n",
       "      <th>index</th>\n",
       "    </tr>\n",
       "  </thead>\n",
       "  <tbody>\n",
       "    <tr>\n",
       "      <th>0</th>\n",
       "      <td>Russian Federation</td>\n",
       "      <td>1354</td>\n",
       "    </tr>\n",
       "    <tr>\n",
       "      <th>1</th>\n",
       "      <td>USA</td>\n",
       "      <td>1327</td>\n",
       "    </tr>\n",
       "  </tbody>\n",
       "</table>\n",
       "</div>"
      ],
      "text/plain": [
       "              Country  index\n",
       "0  Russian Federation   1354\n",
       "1                 USA   1327"
      ]
     },
     "execution_count": 432,
     "metadata": {},
     "output_type": "execute_result"
    }
   ],
   "source": [
    "# total number of launches of the USSR and the USA\n",
    "launches_us_vs_rassia = cleaned_data[cleaned_data['Country'].isin(['USA','Russian Federation'])]\n",
    "launches_us_vs_rassia_grouped = launches_us_vs_rassia.groupby('Country').agg({'index':'count'}).reset_index()\n",
    "launches_us_vs_rassia_grouped"
   ]
  },
  {
   "cell_type": "code",
   "execution_count": 433,
   "metadata": {
    "id": "OhhuLQycrEE-"
   },
   "outputs": [
    {
     "data": {
      "application/vnd.plotly.v1+json": {
       "config": {
        "plotlyServerURL": "https://plot.ly"
       },
       "data": [
        {
         "domain": {
          "x": [
           0,
           1
          ],
          "y": [
           0,
           1
          ]
         },
         "hovertemplate": "Country=%{label}<br>index=%{value}<extra></extra>",
         "labels": [
          "Russian Federation",
          "USA"
         ],
         "legendgroup": "",
         "name": "",
         "showlegend": true,
         "type": "pie",
         "values": {
          "_inputArray": {
           "0": 1354,
           "1": 1327,
           "bdata": "SgUvBQ==",
           "dtype": "i2",
           "shape": "2"
          },
          "bdata": "SgUvBQ==",
          "dtype": "i2"
         }
        }
       ],
       "layout": {
        "autosize": true,
        "legend": {
         "tracegroupgap": 0
        },
        "template": {
         "data": {
          "bar": [
           {
            "error_x": {
             "color": "#2a3f5f"
            },
            "error_y": {
             "color": "#2a3f5f"
            },
            "marker": {
             "line": {
              "color": "#E5ECF6",
              "width": 0.5
             },
             "pattern": {
              "fillmode": "overlay",
              "size": 10,
              "solidity": 0.2
             }
            },
            "type": "bar"
           }
          ],
          "barpolar": [
           {
            "marker": {
             "line": {
              "color": "#E5ECF6",
              "width": 0.5
             },
             "pattern": {
              "fillmode": "overlay",
              "size": 10,
              "solidity": 0.2
             }
            },
            "type": "barpolar"
           }
          ],
          "carpet": [
           {
            "aaxis": {
             "endlinecolor": "#2a3f5f",
             "gridcolor": "white",
             "linecolor": "white",
             "minorgridcolor": "white",
             "startlinecolor": "#2a3f5f"
            },
            "baxis": {
             "endlinecolor": "#2a3f5f",
             "gridcolor": "white",
             "linecolor": "white",
             "minorgridcolor": "white",
             "startlinecolor": "#2a3f5f"
            },
            "type": "carpet"
           }
          ],
          "choropleth": [
           {
            "colorbar": {
             "outlinewidth": 0,
             "ticks": ""
            },
            "type": "choropleth"
           }
          ],
          "contour": [
           {
            "colorbar": {
             "outlinewidth": 0,
             "ticks": ""
            },
            "colorscale": [
             [
              0,
              "#0d0887"
             ],
             [
              0.1111111111111111,
              "#46039f"
             ],
             [
              0.2222222222222222,
              "#7201a8"
             ],
             [
              0.3333333333333333,
              "#9c179e"
             ],
             [
              0.4444444444444444,
              "#bd3786"
             ],
             [
              0.5555555555555556,
              "#d8576b"
             ],
             [
              0.6666666666666666,
              "#ed7953"
             ],
             [
              0.7777777777777778,
              "#fb9f3a"
             ],
             [
              0.8888888888888888,
              "#fdca26"
             ],
             [
              1,
              "#f0f921"
             ]
            ],
            "type": "contour"
           }
          ],
          "contourcarpet": [
           {
            "colorbar": {
             "outlinewidth": 0,
             "ticks": ""
            },
            "type": "contourcarpet"
           }
          ],
          "heatmap": [
           {
            "colorbar": {
             "outlinewidth": 0,
             "ticks": ""
            },
            "colorscale": [
             [
              0,
              "#0d0887"
             ],
             [
              0.1111111111111111,
              "#46039f"
             ],
             [
              0.2222222222222222,
              "#7201a8"
             ],
             [
              0.3333333333333333,
              "#9c179e"
             ],
             [
              0.4444444444444444,
              "#bd3786"
             ],
             [
              0.5555555555555556,
              "#d8576b"
             ],
             [
              0.6666666666666666,
              "#ed7953"
             ],
             [
              0.7777777777777778,
              "#fb9f3a"
             ],
             [
              0.8888888888888888,
              "#fdca26"
             ],
             [
              1,
              "#f0f921"
             ]
            ],
            "type": "heatmap"
           }
          ],
          "histogram": [
           {
            "marker": {
             "pattern": {
              "fillmode": "overlay",
              "size": 10,
              "solidity": 0.2
             }
            },
            "type": "histogram"
           }
          ],
          "histogram2d": [
           {
            "colorbar": {
             "outlinewidth": 0,
             "ticks": ""
            },
            "colorscale": [
             [
              0,
              "#0d0887"
             ],
             [
              0.1111111111111111,
              "#46039f"
             ],
             [
              0.2222222222222222,
              "#7201a8"
             ],
             [
              0.3333333333333333,
              "#9c179e"
             ],
             [
              0.4444444444444444,
              "#bd3786"
             ],
             [
              0.5555555555555556,
              "#d8576b"
             ],
             [
              0.6666666666666666,
              "#ed7953"
             ],
             [
              0.7777777777777778,
              "#fb9f3a"
             ],
             [
              0.8888888888888888,
              "#fdca26"
             ],
             [
              1,
              "#f0f921"
             ]
            ],
            "type": "histogram2d"
           }
          ],
          "histogram2dcontour": [
           {
            "colorbar": {
             "outlinewidth": 0,
             "ticks": ""
            },
            "colorscale": [
             [
              0,
              "#0d0887"
             ],
             [
              0.1111111111111111,
              "#46039f"
             ],
             [
              0.2222222222222222,
              "#7201a8"
             ],
             [
              0.3333333333333333,
              "#9c179e"
             ],
             [
              0.4444444444444444,
              "#bd3786"
             ],
             [
              0.5555555555555556,
              "#d8576b"
             ],
             [
              0.6666666666666666,
              "#ed7953"
             ],
             [
              0.7777777777777778,
              "#fb9f3a"
             ],
             [
              0.8888888888888888,
              "#fdca26"
             ],
             [
              1,
              "#f0f921"
             ]
            ],
            "type": "histogram2dcontour"
           }
          ],
          "mesh3d": [
           {
            "colorbar": {
             "outlinewidth": 0,
             "ticks": ""
            },
            "type": "mesh3d"
           }
          ],
          "parcoords": [
           {
            "line": {
             "colorbar": {
              "outlinewidth": 0,
              "ticks": ""
             }
            },
            "type": "parcoords"
           }
          ],
          "pie": [
           {
            "automargin": true,
            "type": "pie"
           }
          ],
          "scatter": [
           {
            "fillpattern": {
             "fillmode": "overlay",
             "size": 10,
             "solidity": 0.2
            },
            "type": "scatter"
           }
          ],
          "scatter3d": [
           {
            "line": {
             "colorbar": {
              "outlinewidth": 0,
              "ticks": ""
             }
            },
            "marker": {
             "colorbar": {
              "outlinewidth": 0,
              "ticks": ""
             }
            },
            "type": "scatter3d"
           }
          ],
          "scattercarpet": [
           {
            "marker": {
             "colorbar": {
              "outlinewidth": 0,
              "ticks": ""
             }
            },
            "type": "scattercarpet"
           }
          ],
          "scattergeo": [
           {
            "marker": {
             "colorbar": {
              "outlinewidth": 0,
              "ticks": ""
             }
            },
            "type": "scattergeo"
           }
          ],
          "scattergl": [
           {
            "marker": {
             "colorbar": {
              "outlinewidth": 0,
              "ticks": ""
             }
            },
            "type": "scattergl"
           }
          ],
          "scattermap": [
           {
            "marker": {
             "colorbar": {
              "outlinewidth": 0,
              "ticks": ""
             }
            },
            "type": "scattermap"
           }
          ],
          "scattermapbox": [
           {
            "marker": {
             "colorbar": {
              "outlinewidth": 0,
              "ticks": ""
             }
            },
            "type": "scattermapbox"
           }
          ],
          "scatterpolar": [
           {
            "marker": {
             "colorbar": {
              "outlinewidth": 0,
              "ticks": ""
             }
            },
            "type": "scatterpolar"
           }
          ],
          "scatterpolargl": [
           {
            "marker": {
             "colorbar": {
              "outlinewidth": 0,
              "ticks": ""
             }
            },
            "type": "scatterpolargl"
           }
          ],
          "scatterternary": [
           {
            "marker": {
             "colorbar": {
              "outlinewidth": 0,
              "ticks": ""
             }
            },
            "type": "scatterternary"
           }
          ],
          "surface": [
           {
            "colorbar": {
             "outlinewidth": 0,
             "ticks": ""
            },
            "colorscale": [
             [
              0,
              "#0d0887"
             ],
             [
              0.1111111111111111,
              "#46039f"
             ],
             [
              0.2222222222222222,
              "#7201a8"
             ],
             [
              0.3333333333333333,
              "#9c179e"
             ],
             [
              0.4444444444444444,
              "#bd3786"
             ],
             [
              0.5555555555555556,
              "#d8576b"
             ],
             [
              0.6666666666666666,
              "#ed7953"
             ],
             [
              0.7777777777777778,
              "#fb9f3a"
             ],
             [
              0.8888888888888888,
              "#fdca26"
             ],
             [
              1,
              "#f0f921"
             ]
            ],
            "type": "surface"
           }
          ],
          "table": [
           {
            "cells": {
             "fill": {
              "color": "#EBF0F8"
             },
             "line": {
              "color": "white"
             }
            },
            "header": {
             "fill": {
              "color": "#C8D4E3"
             },
             "line": {
              "color": "white"
             }
            },
            "type": "table"
           }
          ]
         },
         "layout": {
          "annotationdefaults": {
           "arrowcolor": "#2a3f5f",
           "arrowhead": 0,
           "arrowwidth": 1
          },
          "autotypenumbers": "strict",
          "coloraxis": {
           "colorbar": {
            "outlinewidth": 0,
            "ticks": ""
           }
          },
          "colorscale": {
           "diverging": [
            [
             0,
             "#8e0152"
            ],
            [
             0.1,
             "#c51b7d"
            ],
            [
             0.2,
             "#de77ae"
            ],
            [
             0.3,
             "#f1b6da"
            ],
            [
             0.4,
             "#fde0ef"
            ],
            [
             0.5,
             "#f7f7f7"
            ],
            [
             0.6,
             "#e6f5d0"
            ],
            [
             0.7,
             "#b8e186"
            ],
            [
             0.8,
             "#7fbc41"
            ],
            [
             0.9,
             "#4d9221"
            ],
            [
             1,
             "#276419"
            ]
           ],
           "sequential": [
            [
             0,
             "#0d0887"
            ],
            [
             0.1111111111111111,
             "#46039f"
            ],
            [
             0.2222222222222222,
             "#7201a8"
            ],
            [
             0.3333333333333333,
             "#9c179e"
            ],
            [
             0.4444444444444444,
             "#bd3786"
            ],
            [
             0.5555555555555556,
             "#d8576b"
            ],
            [
             0.6666666666666666,
             "#ed7953"
            ],
            [
             0.7777777777777778,
             "#fb9f3a"
            ],
            [
             0.8888888888888888,
             "#fdca26"
            ],
            [
             1,
             "#f0f921"
            ]
           ],
           "sequentialminus": [
            [
             0,
             "#0d0887"
            ],
            [
             0.1111111111111111,
             "#46039f"
            ],
            [
             0.2222222222222222,
             "#7201a8"
            ],
            [
             0.3333333333333333,
             "#9c179e"
            ],
            [
             0.4444444444444444,
             "#bd3786"
            ],
            [
             0.5555555555555556,
             "#d8576b"
            ],
            [
             0.6666666666666666,
             "#ed7953"
            ],
            [
             0.7777777777777778,
             "#fb9f3a"
            ],
            [
             0.8888888888888888,
             "#fdca26"
            ],
            [
             1,
             "#f0f921"
            ]
           ]
          },
          "colorway": [
           "#636efa",
           "#EF553B",
           "#00cc96",
           "#ab63fa",
           "#FFA15A",
           "#19d3f3",
           "#FF6692",
           "#B6E880",
           "#FF97FF",
           "#FECB52"
          ],
          "font": {
           "color": "#2a3f5f"
          },
          "geo": {
           "bgcolor": "white",
           "lakecolor": "white",
           "landcolor": "#E5ECF6",
           "showlakes": true,
           "showland": true,
           "subunitcolor": "white"
          },
          "hoverlabel": {
           "align": "left"
          },
          "hovermode": "closest",
          "mapbox": {
           "style": "light"
          },
          "paper_bgcolor": "white",
          "plot_bgcolor": "#E5ECF6",
          "polar": {
           "angularaxis": {
            "gridcolor": "white",
            "linecolor": "white",
            "ticks": ""
           },
           "bgcolor": "#E5ECF6",
           "radialaxis": {
            "gridcolor": "white",
            "linecolor": "white",
            "ticks": ""
           }
          },
          "scene": {
           "xaxis": {
            "backgroundcolor": "#E5ECF6",
            "gridcolor": "white",
            "gridwidth": 2,
            "linecolor": "white",
            "showbackground": true,
            "ticks": "",
            "zerolinecolor": "white"
           },
           "yaxis": {
            "backgroundcolor": "#E5ECF6",
            "gridcolor": "white",
            "gridwidth": 2,
            "linecolor": "white",
            "showbackground": true,
            "ticks": "",
            "zerolinecolor": "white"
           },
           "zaxis": {
            "backgroundcolor": "#E5ECF6",
            "gridcolor": "white",
            "gridwidth": 2,
            "linecolor": "white",
            "showbackground": true,
            "ticks": "",
            "zerolinecolor": "white"
           }
          },
          "shapedefaults": {
           "line": {
            "color": "#2a3f5f"
           }
          },
          "ternary": {
           "aaxis": {
            "gridcolor": "white",
            "linecolor": "white",
            "ticks": ""
           },
           "baxis": {
            "gridcolor": "white",
            "linecolor": "white",
            "ticks": ""
           },
           "bgcolor": "#E5ECF6",
           "caxis": {
            "gridcolor": "white",
            "linecolor": "white",
            "ticks": ""
           }
          },
          "title": {
           "x": 0.05
          },
          "xaxis": {
           "automargin": true,
           "gridcolor": "white",
           "linecolor": "white",
           "ticks": "",
           "title": {
            "standoff": 15
           },
           "zerolinecolor": "white",
           "zerolinewidth": 2
          },
          "yaxis": {
           "automargin": true,
           "gridcolor": "white",
           "linecolor": "white",
           "ticks": "",
           "title": {
            "standoff": 15
           },
           "zerolinecolor": "white",
           "zerolinewidth": 2
          }
         }
        },
        "title": {
         "text": "USA VS Russian Federation launches"
        }
       }
      },
      "image/png": "[encoded data removed]"
     },
     "metadata": {},
     "output_type": "display_data"
    }
   ],
   "source": [
    "fig = px.pie(launches_us_vs_rassia_grouped, values='index', names='Country', title='USA VS Russian Federation launches')\n",
    "fig.show()"
   ]
  },
  {
   "cell_type": "markdown",
   "metadata": {
    "id": "0C29Zz4xa-rA",
    "papermill": {
     "duration": 0.052921,
     "end_time": "2020-10-20T21:34:14.340085",
     "exception": false,
     "start_time": "2020-10-20T21:34:14.287164",
     "status": "completed"
    },
    "tags": []
   },
   "source": [
    "# Total Number of Launches Year-On-Year by the Two Superpowers"
   ]
  },
  {
   "cell_type": "code",
   "execution_count": 434,
   "metadata": {
    "id": "9ISKvOiCrS73"
   },
   "outputs": [],
   "source": [
    "launches_us_vs_rassia_YoY = launches_us_vs_rassia.groupby(['Year', 'Country']).size().reset_index(name='Launch_Count')"
   ]
  },
  {
   "cell_type": "code",
   "execution_count": 435,
   "metadata": {
    "id": "oCc7VTzGrTK-"
   },
   "outputs": [
    {
     "data": {
      "application/vnd.plotly.v1+json": {
       "config": {
        "plotlyServerURL": "https://plot.ly"
       },
       "data": [
        {
         "customdata": [
          [
           "USA"
          ],
          [
           "USA"
          ],
          [
           "USA"
          ],
          [
           "USA"
          ],
          [
           "USA"
          ],
          [
           "USA"
          ],
          [
           "USA"
          ],
          [
           "USA"
          ],
          [
           "USA"
          ],
          [
           "USA"
          ],
          [
           "USA"
          ],
          [
           "USA"
          ],
          [
           "USA"
          ],
          [
           "USA"
          ],
          [
           "USA"
          ],
          [
           "USA"
          ],
          [
           "USA"
          ],
          [
           "USA"
          ],
          [
           "USA"
          ],
          [
           "USA"
          ],
          [
           "USA"
          ],
          [
           "USA"
          ],
          [
           "USA"
          ],
          [
           "USA"
          ],
          [
           "USA"
          ],
          [
           "USA"
          ],
          [
           "USA"
          ],
          [
           "USA"
          ],
          [
           "USA"
          ],
          [
           "USA"
          ],
          [
           "USA"
          ],
          [
           "USA"
          ],
          [
           "USA"
          ],
          [
           "USA"
          ],
          [
           "USA"
          ],
          [
           "USA"
          ],
          [
           "USA"
          ],
          [
           "USA"
          ],
          [
           "USA"
          ],
          [
           "USA"
          ],
          [
           "USA"
          ],
          [
           "USA"
          ],
          [
           "USA"
          ],
          [
           "USA"
          ],
          [
           "USA"
          ],
          [
           "USA"
          ],
          [
           "USA"
          ],
          [
           "USA"
          ],
          [
           "USA"
          ],
          [
           "USA"
          ],
          [
           "USA"
          ],
          [
           "USA"
          ],
          [
           "USA"
          ],
          [
           "USA"
          ],
          [
           "USA"
          ],
          [
           "USA"
          ],
          [
           "USA"
          ],
          [
           "USA"
          ],
          [
           "USA"
          ],
          [
           "USA"
          ],
          [
           "USA"
          ],
          [
           "USA"
          ],
          [
           "USA"
          ],
          [
           "USA"
          ]
         ],
         "hovertemplate": "Country=%{customdata[0]}<br>Year=%{x}<br>Launch_Count=%{y}<extra></extra>",
         "legendgroup": "USA",
         "marker": {
          "color": "#636efa",
          "pattern": {
           "shape": ""
          }
         },
         "name": "USA",
         "orientation": "v",
         "showlegend": true,
         "textposition": "auto",
         "type": "bar",
         "x": {
          "_inputArray": {
           "0": 1957,
           "1": 1958,
           "10": 1967,
           "11": 1968,
           "12": 1969,
           "13": 1970,
           "14": 1971,
           "15": 1972,
           "16": 1973,
           "17": 1974,
           "18": 1975,
           "19": 1976,
           "2": 1959,
           "20": 1977,
           "21": 1978,
           "22": 1979,
           "23": 1980,
           "24": 1981,
           "25": 1982,
           "26": 1983,
           "27": 1984,
           "28": 1985,
           "29": 1986,
           "3": 1960,
           "30": 1987,
           "31": 1988,
           "32": 1989,
           "33": 1990,
           "34": 1991,
           "35": 1992,
           "36": 1993,
           "37": 1994,
           "38": 1995,
           "39": 1996,
           "4": 1961,
           "40": 1997,
           "41": 1998,
           "42": 1999,
           "43": 2000,
           "44": 2001,
           "45": 2002,
           "46": 2003,
           "47": 2004,
           "48": 2005,
           "49": 2006,
           "5": 1962,
           "50": 2007,
           "51": 2008,
           "52": 2009,
           "53": 2010,
           "54": 2011,
           "55": 2012,
           "56": 2013,
           "57": 2014,
           "58": 2015,
           "59": 2016,
           "6": 1963,
           "60": 2017,
           "61": 2018,
           "62": 2019,
           "63": 2020,
           "7": 1964,
           "8": 1965,
           "9": 1966,
           "bdata": "pQcAAKYHAACnBwAAqAcAAKkHAACqBwAAqwcAAKwHAACtBwAArgcAAK8HAACwBwAAsQcAALIHAACzBwAAtAcAALUHAAC2BwAAtwcAALgHAAC5BwAAugcAALsHAAC8BwAAvQcAAL4HAAC/BwAAwAcAAMEHAADCBwAAwwcAAMQHAADFBwAAxgcAAMcHAADIBwAAyQcAAMoHAADLBwAAzAcAAM0HAADOBwAAzwcAANAHAADRBwAA0gcAANMHAADUBwAA1QcAANYHAADXBwAA2AcAANkHAADaBwAA2wcAANwHAADdBwAA3gcAAN8HAADgBwAA4QcAAOIHAADjBwAA5AcAAA==",
           "dtype": "i4",
           "shape": "64"
          },
          "bdata": "pQcAAKYHAACnBwAAqAcAAKkHAACqBwAAqwcAAKwHAACtBwAArgcAAK8HAACwBwAAsQcAALIHAACzBwAAtAcAALUHAAC2BwAAtwcAALgHAAC5BwAAugcAALsHAAC8BwAAvQcAAL4HAAC/BwAAwAcAAMEHAADCBwAAwwcAAMQHAADFBwAAxgcAAMcHAADIBwAAyQcAAMoHAADLBwAAzAcAAM0HAADOBwAAzwcAANAHAADRBwAA0gcAANMHAADUBwAA1QcAANYHAADXBwAA2AcAANkHAADaBwAA2wcAANwHAADdBwAA3gcAAN8HAADgBwAA4QcAAOIHAADjBwAA5AcAAA==",
          "dtype": "i4"
         },
         "xaxis": "x",
         "y": {
          "_inputArray": {
           "0": 1,
           "1": 17,
           "10": 25,
           "11": 22,
           "12": 17,
           "13": 11,
           "14": 16,
           "15": 17,
           "16": 16,
           "17": 10,
           "18": 15,
           "19": 11,
           "2": 16,
           "20": 14,
           "21": 20,
           "22": 9,
           "23": 10,
           "24": 13,
           "25": 10,
           "26": 13,
           "27": 17,
           "28": 15,
           "29": 6,
           "3": 30,
           "30": 6,
           "31": 7,
           "32": 16,
           "33": 26,
           "34": 18,
           "35": 27,
           "36": 24,
           "37": 26,
           "38": 30,
           "39": 33,
           "4": 43,
           "40": 38,
           "41": 36,
           "42": 31,
           "43": 28,
           "44": 22,
           "45": 17,
           "46": 23,
           "47": 16,
           "48": 12,
           "49": 18,
           "5": 59,
           "50": 19,
           "51": 15,
           "52": 25,
           "53": 15,
           "54": 18,
           "55": 13,
           "56": 19,
           "57": 23,
           "58": 19,
           "59": 25,
           "6": 15,
           "60": 29,
           "61": 34,
           "62": 27,
           "63": 21,
           "7": 23,
           "8": 33,
           "9": 47,
           "bdata": "AREQHis7DxchLxkWEQsQERAKDwsOFAkKDQoNEQ8GBgcQGhIbGBoeISYkHxwWERcQDBITDxkPEg0TFxMZHSIbFQ==",
           "dtype": "i1",
           "shape": "64"
          },
          "bdata": "AREQHis7DxchLxkWEQsQERAKDwsOFAkKDQoNEQ8GBgcQGhIbGBoeISYkHxwWERcQDBITDxkPEg0TFxMZHSIbFQ==",
          "dtype": "i1"
         },
         "yaxis": "y"
        },
        {
         "customdata": [
          [
           "Russian Federation"
          ],
          [
           "Russian Federation"
          ],
          [
           "Russian Federation"
          ],
          [
           "Russian Federation"
          ],
          [
           "Russian Federation"
          ],
          [
           "Russian Federation"
          ],
          [
           "Russian Federation"
          ],
          [
           "Russian Federation"
          ],
          [
           "Russian Federation"
          ],
          [
           "Russian Federation"
          ],
          [
           "Russian Federation"
          ],
          [
           "Russian Federation"
          ],
          [
           "Russian Federation"
          ],
          [
           "Russian Federation"
          ],
          [
           "Russian Federation"
          ],
          [
           "Russian Federation"
          ],
          [
           "Russian Federation"
          ],
          [
           "Russian Federation"
          ],
          [
           "Russian Federation"
          ],
          [
           "Russian Federation"
          ],
          [
           "Russian Federation"
          ],
          [
           "Russian Federation"
          ],
          [
           "Russian Federation"
          ],
          [
           "Russian Federation"
          ],
          [
           "Russian Federation"
          ],
          [
           "Russian Federation"
          ],
          [
           "Russian Federation"
          ],
          [
           "Russian Federation"
          ],
          [
           "Russian Federation"
          ],
          [
           "Russian Federation"
          ],
          [
           "Russian Federation"
          ],
          [
           "Russian Federation"
          ],
          [
           "Russian Federation"
          ],
          [
           "Russian Federation"
          ],
          [
           "Russian Federation"
          ],
          [
           "Russian Federation"
          ],
          [
           "Russian Federation"
          ],
          [
           "Russian Federation"
          ],
          [
           "Russian Federation"
          ],
          [
           "Russian Federation"
          ],
          [
           "Russian Federation"
          ],
          [
           "Russian Federation"
          ],
          [
           "Russian Federation"
          ],
          [
           "Russian Federation"
          ],
          [
           "Russian Federation"
          ],
          [
           "Russian Federation"
          ],
          [
           "Russian Federation"
          ],
          [
           "Russian Federation"
          ],
          [
           "Russian Federation"
          ],
          [
           "Russian Federation"
          ],
          [
           "Russian Federation"
          ],
          [
           "Russian Federation"
          ],
          [
           "Russian Federation"
          ],
          [
           "Russian Federation"
          ],
          [
           "Russian Federation"
          ],
          [
           "Russian Federation"
          ],
          [
           "Russian Federation"
          ],
          [
           "Russian Federation"
          ],
          [
           "Russian Federation"
          ],
          [
           "Russian Federation"
          ]
         ],
         "hovertemplate": "Country=%{customdata[0]}<br>Year=%{x}<br>Launch_Count=%{y}<extra></extra>",
         "legendgroup": "Russian Federation",
         "marker": {
          "color": "#EF553B",
          "pattern": {
           "shape": ""
          }
         },
         "name": "Russian Federation",
         "orientation": "v",
         "showlegend": true,
         "textposition": "auto",
         "type": "bar",
         "x": {
          "_inputArray": {
           "0": 1961,
           "1": 1962,
           "10": 1971,
           "11": 1972,
           "12": 1973,
           "13": 1974,
           "14": 1975,
           "15": 1976,
           "16": 1977,
           "17": 1978,
           "18": 1979,
           "19": 1980,
           "2": 1963,
           "20": 1981,
           "21": 1982,
           "22": 1983,
           "23": 1984,
           "24": 1985,
           "25": 1986,
           "26": 1987,
           "27": 1988,
           "28": 1989,
           "29": 1990,
           "3": 1964,
           "30": 1991,
           "31": 1992,
           "32": 1993,
           "33": 1994,
           "34": 1995,
           "35": 1996,
           "36": 1997,
           "37": 1998,
           "38": 1999,
           "39": 2000,
           "4": 1965,
           "40": 2001,
           "41": 2002,
           "42": 2003,
           "43": 2004,
           "44": 2005,
           "45": 2006,
           "46": 2007,
           "47": 2008,
           "48": 2009,
           "49": 2010,
           "5": 1966,
           "50": 2011,
           "51": 2012,
           "52": 2013,
           "53": 2014,
           "54": 2015,
           "55": 2016,
           "56": 2017,
           "57": 2018,
           "58": 2019,
           "59": 2020,
           "6": 1967,
           "7": 1968,
           "8": 1969,
           "9": 1970,
           "bdata": "qQcAAKoHAACrBwAArAcAAK0HAACuBwAArwcAALAHAACxBwAAsgcAALMHAAC0BwAAtQcAALYHAAC3BwAAuAcAALkHAAC6BwAAuwcAALwHAAC9BwAAvgcAAL8HAADABwAAwQcAAMIHAADDBwAAxAcAAMUHAADGBwAAxwcAAMgHAADJBwAAygcAAMsHAADMBwAAzQcAAM4HAADPBwAA0AcAANEHAADSBwAA0wcAANQHAADVBwAA1gcAANcHAADYBwAA2QcAANoHAADbBwAA3AcAAN0HAADeBwAA3wcAAOAHAADhBwAA4gcAAOMHAADkBwAA",
           "dtype": "i4",
           "shape": "60"
          },
          "bdata": "qQcAAKoHAACrBwAArAcAAK0HAACuBwAArwcAALAHAACxBwAAsgcAALMHAAC0BwAAtQcAALYHAAC3BwAAuAcAALkHAAC6BwAAuwcAALwHAAC9BwAAvgcAAL8HAADABwAAwQcAAMIHAADDBwAAxAcAAMUHAADGBwAAxwcAAMgHAADJBwAAygcAAMsHAADMBwAAzQcAAM4HAADPBwAA0AcAANEHAADSBwAA0wcAANQHAADVBwAA1gcAANcHAADYBwAA2QcAANoHAADbBwAA3AcAAN0HAADeBwAA3wcAAOAHAADhBwAA4gcAAOMHAADkBwAA",
          "dtype": "i4"
         },
         "xaxis": "x",
         "y": {
          "_inputArray": {
           "0": 2,
           "1": 8,
           "10": 59,
           "11": 57,
           "12": 65,
           "13": 60,
           "14": 66,
           "15": 65,
           "16": 68,
           "17": 60,
           "18": 30,
           "19": 33,
           "2": 7,
           "20": 36,
           "21": 43,
           "22": 39,
           "23": 36,
           "24": 38,
           "25": 41,
           "26": 28,
           "27": 25,
           "28": 20,
           "29": 28,
           "3": 7,
           "30": 24,
           "31": 20,
           "32": 21,
           "33": 14,
           "34": 10,
           "35": 8,
           "36": 7,
           "37": 8,
           "38": 3,
           "39": 6,
           "4": 9,
           "40": 5,
           "41": 8,
           "42": 7,
           "43": 5,
           "44": 7,
           "45": 6,
           "46": 5,
           "47": 6,
           "48": 5,
           "49": 5,
           "5": 14,
           "50": 2,
           "51": 1,
           "52": 7,
           "53": 6,
           "54": 4,
           "55": 6,
           "56": 6,
           "57": 8,
           "58": 9,
           "59": 3,
           "6": 36,
           "7": 39,
           "8": 45,
           "9": 58,
           "bdata": "AggHBwkOJCctOjs5QTxCQUQ8HiEkKyckJikcGRQcGBQVDgoIBwgDBgUIBwUHBgUGBQUCAQcGBAYGCAkD",
           "dtype": "i1",
           "shape": "60"
          },
          "bdata": "AggHBwkOJCctOjs5QTxCQUQ8HiEkKyckJikcGRQcGBQVDgoIBwgDBgUIBwUHBgUGBQUCAQcGBAYGCAkD",
          "dtype": "i1"
         },
         "yaxis": "y"
        }
       ],
       "layout": {
        "barmode": "relative",
        "height": 500,
        "legend": {
         "title": {
          "text": "Country"
         },
         "tracegroupgap": 0
        },
        "margin": {
         "t": 60
        },
        "template": {
         "data": {
          "bar": [
           {
            "error_x": {
             "color": "#2a3f5f"
            },
            "error_y": {
             "color": "#2a3f5f"
            },
            "marker": {
             "line": {
              "color": "white",
              "width": 0.5
             },
             "pattern": {
              "fillmode": "overlay",
              "size": 10,
              "solidity": 0.2
             }
            },
            "type": "bar"
           }
          ],
          "barpolar": [
           {
            "marker": {
             "line": {
              "color": "white",
              "width": 0.5
             },
             "pattern": {
              "fillmode": "overlay",
              "size": 10,
              "solidity": 0.2
             }
            },
            "type": "barpolar"
           }
          ],
          "carpet": [
           {
            "aaxis": {
             "endlinecolor": "#2a3f5f",
             "gridcolor": "#C8D4E3",
             "linecolor": "#C8D4E3",
             "minorgridcolor": "#C8D4E3",
             "startlinecolor": "#2a3f5f"
            },
            "baxis": {
             "endlinecolor": "#2a3f5f",
             "gridcolor": "#C8D4E3",
             "linecolor": "#C8D4E3",
             "minorgridcolor": "#C8D4E3",
             "startlinecolor": "#2a3f5f"
            },
            "type": "carpet"
           }
          ],
          "choropleth": [
           {
            "colorbar": {
             "outlinewidth": 0,
             "ticks": ""
            },
            "type": "choropleth"
           }
          ],
          "contour": [
           {
            "colorbar": {
             "outlinewidth": 0,
             "ticks": ""
            },
            "colorscale": [
             [
              0,
              "#0d0887"
             ],
             [
              0.1111111111111111,
              "#46039f"
             ],
             [
              0.2222222222222222,
              "#7201a8"
             ],
             [
              0.3333333333333333,
              "#9c179e"
             ],
             [
              0.4444444444444444,
              "#bd3786"
             ],
             [
              0.5555555555555556,
              "#d8576b"
             ],
             [
              0.6666666666666666,
              "#ed7953"
             ],
             [
              0.7777777777777778,
              "#fb9f3a"
             ],
             [
              0.8888888888888888,
              "#fdca26"
             ],
             [
              1,
              "#f0f921"
             ]
            ],
            "type": "contour"
           }
          ],
          "contourcarpet": [
           {
            "colorbar": {
             "outlinewidth": 0,
             "ticks": ""
            },
            "type": "contourcarpet"
           }
          ],
          "heatmap": [
           {
            "colorbar": {
             "outlinewidth": 0,
             "ticks": ""
            },
            "colorscale": [
             [
              0,
              "#0d0887"
             ],
             [
              0.1111111111111111,
              "#46039f"
             ],
             [
              0.2222222222222222,
              "#7201a8"
             ],
             [
              0.3333333333333333,
              "#9c179e"
             ],
             [
              0.4444444444444444,
              "#bd3786"
             ],
             [
              0.5555555555555556,
              "#d8576b"
             ],
             [
              0.6666666666666666,
              "#ed7953"
             ],
             [
              0.7777777777777778,
              "#fb9f3a"
             ],
             [
              0.8888888888888888,
              "#fdca26"
             ],
             [
              1,
              "#f0f921"
             ]
            ],
            "type": "heatmap"
           }
          ],
          "histogram": [
           {
            "marker": {
             "pattern": {
              "fillmode": "overlay",
              "size": 10,
              "solidity": 0.2
             }
            },
            "type": "histogram"
           }
          ],
          "histogram2d": [
           {
            "colorbar": {
             "outlinewidth": 0,
             "ticks": ""
            },
            "colorscale": [
             [
              0,
              "#0d0887"
             ],
             [
              0.1111111111111111,
              "#46039f"
             ],
             [
              0.2222222222222222,
              "#7201a8"
             ],
             [
              0.3333333333333333,
              "#9c179e"
             ],
             [
              0.4444444444444444,
              "#bd3786"
             ],
             [
              0.5555555555555556,
              "#d8576b"
             ],
             [
              0.6666666666666666,
              "#ed7953"
             ],
             [
              0.7777777777777778,
              "#fb9f3a"
             ],
             [
              0.8888888888888888,
              "#fdca26"
             ],
             [
              1,
              "#f0f921"
             ]
            ],
            "type": "histogram2d"
           }
          ],
          "histogram2dcontour": [
           {
            "colorbar": {
             "outlinewidth": 0,
             "ticks": ""
            },
            "colorscale": [
             [
              0,
              "#0d0887"
             ],
             [
              0.1111111111111111,
              "#46039f"
             ],
             [
              0.2222222222222222,
              "#7201a8"
             ],
             [
              0.3333333333333333,
              "#9c179e"
             ],
             [
              0.4444444444444444,
              "#bd3786"
             ],
             [
              0.5555555555555556,
              "#d8576b"
             ],
             [
              0.6666666666666666,
              "#ed7953"
             ],
             [
              0.7777777777777778,
              "#fb9f3a"
             ],
             [
              0.8888888888888888,
              "#fdca26"
             ],
             [
              1,
              "#f0f921"
             ]
            ],
            "type": "histogram2dcontour"
           }
          ],
          "mesh3d": [
           {
            "colorbar": {
             "outlinewidth": 0,
             "ticks": ""
            },
            "type": "mesh3d"
           }
          ],
          "parcoords": [
           {
            "line": {
             "colorbar": {
              "outlinewidth": 0,
              "ticks": ""
             }
            },
            "type": "parcoords"
           }
          ],
          "pie": [
           {
            "automargin": true,
            "type": "pie"
           }
          ],
          "scatter": [
           {
            "fillpattern": {
             "fillmode": "overlay",
             "size": 10,
             "solidity": 0.2
            },
            "type": "scatter"
           }
          ],
          "scatter3d": [
           {
            "line": {
             "colorbar": {
              "outlinewidth": 0,
              "ticks": ""
             }
            },
            "marker": {
             "colorbar": {
              "outlinewidth": 0,
              "ticks": ""
             }
            },
            "type": "scatter3d"
           }
          ],
          "scattercarpet": [
           {
            "marker": {
             "colorbar": {
              "outlinewidth": 0,
              "ticks": ""
             }
            },
            "type": "scattercarpet"
           }
          ],
          "scattergeo": [
           {
            "marker": {
             "colorbar": {
              "outlinewidth": 0,
              "ticks": ""
             }
            },
            "type": "scattergeo"
           }
          ],
          "scattergl": [
           {
            "marker": {
             "colorbar": {
              "outlinewidth": 0,
              "ticks": ""
             }
            },
            "type": "scattergl"
           }
          ],
          "scattermap": [
           {
            "marker": {
             "colorbar": {
              "outlinewidth": 0,
              "ticks": ""
             }
            },
            "type": "scattermap"
           }
          ],
          "scattermapbox": [
           {
            "marker": {
             "colorbar": {
              "outlinewidth": 0,
              "ticks": ""
             }
            },
            "type": "scattermapbox"
           }
          ],
          "scatterpolar": [
           {
            "marker": {
             "colorbar": {
              "outlinewidth": 0,
              "ticks": ""
             }
            },
            "type": "scatterpolar"
           }
          ],
          "scatterpolargl": [
           {
            "marker": {
             "colorbar": {
              "outlinewidth": 0,
              "ticks": ""
             }
            },
            "type": "scatterpolargl"
           }
          ],
          "scatterternary": [
           {
            "marker": {
             "colorbar": {
              "outlinewidth": 0,
              "ticks": ""
             }
            },
            "type": "scatterternary"
           }
          ],
          "surface": [
           {
            "colorbar": {
             "outlinewidth": 0,
             "ticks": ""
            },
            "colorscale": [
             [
              0,
              "#0d0887"
             ],
             [
              0.1111111111111111,
              "#46039f"
             ],
             [
              0.2222222222222222,
              "#7201a8"
             ],
             [
              0.3333333333333333,
              "#9c179e"
             ],
             [
              0.4444444444444444,
              "#bd3786"
             ],
             [
              0.5555555555555556,
              "#d8576b"
             ],
             [
              0.6666666666666666,
              "#ed7953"
             ],
             [
              0.7777777777777778,
              "#fb9f3a"
             ],
             [
              0.8888888888888888,
              "#fdca26"
             ],
             [
              1,
              "#f0f921"
             ]
            ],
            "type": "surface"
           }
          ],
          "table": [
           {
            "cells": {
             "fill": {
              "color": "#EBF0F8"
             },
             "line": {
              "color": "white"
             }
            },
            "header": {
             "fill": {
              "color": "#C8D4E3"
             },
             "line": {
              "color": "white"
             }
            },
            "type": "table"
           }
          ]
         },
         "layout": {
          "annotationdefaults": {
           "arrowcolor": "#2a3f5f",
           "arrowhead": 0,
           "arrowwidth": 1
          },
          "autotypenumbers": "strict",
          "coloraxis": {
           "colorbar": {
            "outlinewidth": 0,
            "ticks": ""
           }
          },
          "colorscale": {
           "diverging": [
            [
             0,
             "#8e0152"
            ],
            [
             0.1,
             "#c51b7d"
            ],
            [
             0.2,
             "#de77ae"
            ],
            [
             0.3,
             "#f1b6da"
            ],
            [
             0.4,
             "#fde0ef"
            ],
            [
             0.5,
             "#f7f7f7"
            ],
            [
             0.6,
             "#e6f5d0"
            ],
            [
             0.7,
             "#b8e186"
            ],
            [
             0.8,
             "#7fbc41"
            ],
            [
             0.9,
             "#4d9221"
            ],
            [
             1,
             "#276419"
            ]
           ],
           "sequential": [
            [
             0,
             "#0d0887"
            ],
            [
             0.1111111111111111,
             "#46039f"
            ],
            [
             0.2222222222222222,
             "#7201a8"
            ],
            [
             0.3333333333333333,
             "#9c179e"
            ],
            [
             0.4444444444444444,
             "#bd3786"
            ],
            [
             0.5555555555555556,
             "#d8576b"
            ],
            [
             0.6666666666666666,
             "#ed7953"
            ],
            [
             0.7777777777777778,
             "#fb9f3a"
            ],
            [
             0.8888888888888888,
             "#fdca26"
            ],
            [
             1,
             "#f0f921"
            ]
           ],
           "sequentialminus": [
            [
             0,
             "#0d0887"
            ],
            [
             0.1111111111111111,
             "#46039f"
            ],
            [
             0.2222222222222222,
             "#7201a8"
            ],
            [
             0.3333333333333333,
             "#9c179e"
            ],
            [
             0.4444444444444444,
             "#bd3786"
            ],
            [
             0.5555555555555556,
             "#d8576b"
            ],
            [
             0.6666666666666666,
             "#ed7953"
            ],
            [
             0.7777777777777778,
             "#fb9f3a"
            ],
            [
             0.8888888888888888,
             "#fdca26"
            ],
            [
             1,
             "#f0f921"
            ]
           ]
          },
          "colorway": [
           "#636efa",
           "#EF553B",
           "#00cc96",
           "#ab63fa",
           "#FFA15A",
           "#19d3f3",
           "#FF6692",
           "#B6E880",
           "#FF97FF",
           "#FECB52"
          ],
          "font": {
           "color": "#2a3f5f"
          },
          "geo": {
           "bgcolor": "white",
           "lakecolor": "white",
           "landcolor": "white",
           "showlakes": true,
           "showland": true,
           "subunitcolor": "#C8D4E3"
          },
          "hoverlabel": {
           "align": "left"
          },
          "hovermode": "closest",
          "mapbox": {
           "style": "light"
          },
          "paper_bgcolor": "white",
          "plot_bgcolor": "white",
          "polar": {
           "angularaxis": {
            "gridcolor": "#EBF0F8",
            "linecolor": "#EBF0F8",
            "ticks": ""
           },
           "bgcolor": "white",
           "radialaxis": {
            "gridcolor": "#EBF0F8",
            "linecolor": "#EBF0F8",
            "ticks": ""
           }
          },
          "scene": {
           "xaxis": {
            "backgroundcolor": "white",
            "gridcolor": "#DFE8F3",
            "gridwidth": 2,
            "linecolor": "#EBF0F8",
            "showbackground": true,
            "ticks": "",
            "zerolinecolor": "#EBF0F8"
           },
           "yaxis": {
            "backgroundcolor": "white",
            "gridcolor": "#DFE8F3",
            "gridwidth": 2,
            "linecolor": "#EBF0F8",
            "showbackground": true,
            "ticks": "",
            "zerolinecolor": "#EBF0F8"
           },
           "zaxis": {
            "backgroundcolor": "white",
            "gridcolor": "#DFE8F3",
            "gridwidth": 2,
            "linecolor": "#EBF0F8",
            "showbackground": true,
            "ticks": "",
            "zerolinecolor": "#EBF0F8"
           }
          },
          "shapedefaults": {
           "line": {
            "color": "#2a3f5f"
           }
          },
          "ternary": {
           "aaxis": {
            "gridcolor": "#DFE8F3",
            "linecolor": "#A2B1C6",
            "ticks": ""
           },
           "baxis": {
            "gridcolor": "#DFE8F3",
            "linecolor": "#A2B1C6",
            "ticks": ""
           },
           "bgcolor": "white",
           "caxis": {
            "gridcolor": "#DFE8F3",
            "linecolor": "#A2B1C6",
            "ticks": ""
           }
          },
          "title": {
           "x": 0.05
          },
          "xaxis": {
           "automargin": true,
           "gridcolor": "#EBF0F8",
           "linecolor": "#EBF0F8",
           "ticks": "",
           "title": {
            "standoff": 15
           },
           "zerolinecolor": "#EBF0F8",
           "zerolinewidth": 2
          },
          "yaxis": {
           "automargin": true,
           "gridcolor": "#EBF0F8",
           "linecolor": "#EBF0F8",
           "ticks": "",
           "title": {
            "standoff": 15
           },
           "zerolinecolor": "#EBF0F8",
           "zerolinewidth": 2
          }
         }
        },
        "width": 1100,
        "xaxis": {
         "anchor": "y",
         "autorange": true,
         "domain": [
          0,
          1
         ],
         "range": [
          1956.5,
          2020.5
         ],
         "title": {
          "text": "Year"
         },
         "type": "linear"
        },
        "yaxis": {
         "anchor": "x",
         "autorange": true,
         "domain": [
          0,
          1
         ],
         "range": [
          0,
          86.3157894736842
         ],
         "title": {
          "text": "Launch_Count"
         },
         "type": "linear"
        }
       }
      }
     },
     "metadata": {},
     "output_type": "display_data"
    }
   ],
   "source": [
    "fig = px.bar(launches_us_vs_rassia_YoY, x='Year', y='Launch_Count',\n",
    "             hover_data=['Country'], color='Country',\n",
    "             labels={'pop':'population of Oceania'}, height=400)\n",
    "fig.update_layout(\n",
    "    height=500,\n",
    "    width=1100,\n",
    "    template='plotly_white'\n",
    ")\n",
    "fig.show()"
   ]
  },
  {
   "cell_type": "markdown",
   "metadata": {
    "id": "eWv4iZmra-rE",
    "papermill": {
     "duration": 0.079311,
     "end_time": "2020-10-20T21:34:14.933058",
     "exception": false,
     "start_time": "2020-10-20T21:34:14.853747",
     "status": "completed"
    },
    "tags": []
   },
   "source": [
    "# Total Number of Mission Failures Year on Year."
   ]
  },
  {
   "cell_type": "code",
   "execution_count": 436,
   "metadata": {
    "id": "I-Zss5-Mre-4"
   },
   "outputs": [],
   "source": [
    "failures_yoy = cleaned_data.loc[cleaned_data['Mission_Status'] == 'Failure'].groupby('Year').size().reset_index(name=\"failures_count\")\n"
   ]
  },
  {
   "cell_type": "code",
   "execution_count": 437,
   "metadata": {
    "id": "7Ps9Iq_crfYl"
   },
   "outputs": [
    {
     "data": {
      "application/vnd.plotly.v1+json": {
       "config": {
        "plotlyServerURL": "https://plot.ly"
       },
       "data": [
        {
         "hovertemplate": "Year=%{x}<br>failures_count=%{y}<extra></extra>",
         "legendgroup": "",
         "marker": {
          "color": "#636efa",
          "pattern": {
           "shape": ""
          }
         },
         "name": "",
         "orientation": "v",
         "showlegend": false,
         "textposition": "outside",
         "texttemplate": "%{y}",
         "type": "bar",
         "x": {
          "_inputArray": {
           "0": 1957,
           "1": 1958,
           "10": 1967,
           "11": 1968,
           "12": 1969,
           "13": 1970,
           "14": 1971,
           "15": 1972,
           "16": 1973,
           "17": 1974,
           "18": 1975,
           "19": 1976,
           "2": 1959,
           "20": 1977,
           "21": 1978,
           "22": 1979,
           "23": 1980,
           "24": 1981,
           "25": 1982,
           "26": 1983,
           "27": 1984,
           "28": 1985,
           "29": 1986,
           "3": 1960,
           "30": 1987,
           "31": 1988,
           "32": 1989,
           "33": 1990,
           "34": 1991,
           "35": 1992,
           "36": 1993,
           "37": 1994,
           "38": 1995,
           "39": 1996,
           "4": 1961,
           "40": 1997,
           "41": 1998,
           "42": 1999,
           "43": 2000,
           "44": 2001,
           "45": 2002,
           "46": 2003,
           "47": 2005,
           "48": 2006,
           "49": 2007,
           "5": 1962,
           "50": 2008,
           "51": 2009,
           "52": 2010,
           "53": 2011,
           "54": 2012,
           "55": 2013,
           "56": 2014,
           "57": 2015,
           "58": 2016,
           "59": 2017,
           "6": 1963,
           "60": 2018,
           "61": 2019,
           "62": 2020,
           "7": 1964,
           "8": 1965,
           "9": 1966,
           "bdata": "pQcAAKYHAACnBwAAqAcAAKkHAACqBwAAqwcAAKwHAACtBwAArgcAAK8HAACwBwAAsQcAALIHAACzBwAAtAcAALUHAAC2BwAAtwcAALgHAAC5BwAAugcAALsHAAC8BwAAvQcAAL4HAAC/BwAAwAcAAMEHAADCBwAAwwcAAMQHAADFBwAAxgcAAMcHAADIBwAAyQcAAMoHAADLBwAAzAcAAM0HAADOBwAAzwcAANAHAADRBwAA0gcAANMHAADVBwAA1gcAANcHAADYBwAA2QcAANoHAADbBwAA3AcAAN0HAADeBwAA3wcAAOAHAADhBwAA4gcAAOMHAADkBwAA",
           "dtype": "i4",
           "shape": "63"
          },
          "bdata": "pQcAAKYHAACnBwAAqAcAAKkHAACqBwAAqwcAAKwHAACtBwAArgcAAK8HAACwBwAAsQcAALIHAACzBwAAtAcAALUHAAC2BwAAtwcAALgHAAC5BwAAugcAALsHAAC8BwAAvQcAAL4HAAC/BwAAwAcAAMEHAADCBwAAwwcAAMQHAADFBwAAxgcAAMcHAADIBwAAyQcAAMoHAADLBwAAzAcAAM0HAADOBwAAzwcAANAHAADRBwAA0gcAANMHAADVBwAA1gcAANcHAADYBwAA2QcAANoHAADbBwAA3AcAAN0HAADeBwAA3wcAAOAHAADhBwAA4gcAAOMHAADkBwAA",
          "dtype": "i4"
         },
         "xaxis": "x",
         "y": {
          "_inputArray": {
           "0": 1,
           "1": 14,
           "10": 8,
           "11": 4,
           "12": 15,
           "13": 10,
           "14": 12,
           "15": 7,
           "16": 5,
           "17": 7,
           "18": 6,
           "19": 3,
           "2": 9,
           "20": 4,
           "21": 1,
           "22": 2,
           "23": 3,
           "24": 2,
           "25": 3,
           "26": 1,
           "27": 1,
           "28": 5,
           "29": 4,
           "3": 19,
           "30": 2,
           "31": 1,
           "32": 1,
           "33": 3,
           "34": 3,
           "35": 3,
           "36": 4,
           "37": 4,
           "38": 5,
           "39": 3,
           "4": 17,
           "40": 2,
           "41": 4,
           "42": 6,
           "43": 4,
           "44": 1,
           "45": 1,
           "46": 2,
           "47": 3,
           "48": 3,
           "49": 2,
           "5": 14,
           "50": 1,
           "51": 3,
           "52": 3,
           "53": 1,
           "54": 1,
           "55": 2,
           "56": 1,
           "57": 1,
           "58": 2,
           "59": 5,
           "6": 9,
           "60": 2,
           "61": 5,
           "62": 6,
           "7": 7,
           "8": 10,
           "9": 7,
           "bdata": "AQ4JExEOCQcKBwgEDwoMBwUHBgMEAQIDAgMBAQUEAgEBAwMDBAQFAwIEBgQBAQIDAwIBAwMBAQIBAQIFAgUG",
           "dtype": "i1",
           "shape": "63"
          },
          "bdata": "AQ4JExEOCQcKBwgEDwoMBwUHBgMEAQIDAgMBAQUEAgEBAwMDBAQFAwIEBgQBAQIDAwIBAwMBAQIBAQIFAgUG",
          "dtype": "i1"
         },
         "yaxis": "y"
        }
       ],
       "layout": {
        "barmode": "relative",
        "height": 500,
        "legend": {
         "tracegroupgap": 0
        },
        "margin": {
         "t": 60
        },
        "template": {
         "data": {
          "bar": [
           {
            "error_x": {
             "color": "#2a3f5f"
            },
            "error_y": {
             "color": "#2a3f5f"
            },
            "marker": {
             "line": {
              "color": "white",
              "width": 0.5
             },
             "pattern": {
              "fillmode": "overlay",
              "size": 10,
              "solidity": 0.2
             }
            },
            "type": "bar"
           }
          ],
          "barpolar": [
           {
            "marker": {
             "line": {
              "color": "white",
              "width": 0.5
             },
             "pattern": {
              "fillmode": "overlay",
              "size": 10,
              "solidity": 0.2
             }
            },
            "type": "barpolar"
           }
          ],
          "carpet": [
           {
            "aaxis": {
             "endlinecolor": "#2a3f5f",
             "gridcolor": "#C8D4E3",
             "linecolor": "#C8D4E3",
             "minorgridcolor": "#C8D4E3",
             "startlinecolor": "#2a3f5f"
            },
            "baxis": {
             "endlinecolor": "#2a3f5f",
             "gridcolor": "#C8D4E3",
             "linecolor": "#C8D4E3",
             "minorgridcolor": "#C8D4E3",
             "startlinecolor": "#2a3f5f"
            },
            "type": "carpet"
           }
          ],
          "choropleth": [
           {
            "colorbar": {
             "outlinewidth": 0,
             "ticks": ""
            },
            "type": "choropleth"
           }
          ],
          "contour": [
           {
            "colorbar": {
             "outlinewidth": 0,
             "ticks": ""
            },
            "colorscale": [
             [
              0,
              "#0d0887"
             ],
             [
              0.1111111111111111,
              "#46039f"
             ],
             [
              0.2222222222222222,
              "#7201a8"
             ],
             [
              0.3333333333333333,
              "#9c179e"
             ],
             [
              0.4444444444444444,
              "#bd3786"
             ],
             [
              0.5555555555555556,
              "#d8576b"
             ],
             [
              0.6666666666666666,
              "#ed7953"
             ],
             [
              0.7777777777777778,
              "#fb9f3a"
             ],
             [
              0.8888888888888888,
              "#fdca26"
             ],
             [
              1,
              "#f0f921"
             ]
            ],
            "type": "contour"
           }
          ],
          "contourcarpet": [
           {
            "colorbar": {
             "outlinewidth": 0,
             "ticks": ""
            },
            "type": "contourcarpet"
           }
          ],
          "heatmap": [
           {
            "colorbar": {
             "outlinewidth": 0,
             "ticks": ""
            },
            "colorscale": [
             [
              0,
              "#0d0887"
             ],
             [
              0.1111111111111111,
              "#46039f"
             ],
             [
              0.2222222222222222,
              "#7201a8"
             ],
             [
              0.3333333333333333,
              "#9c179e"
             ],
             [
              0.4444444444444444,
              "#bd3786"
             ],
             [
              0.5555555555555556,
              "#d8576b"
             ],
             [
              0.6666666666666666,
              "#ed7953"
             ],
             [
              0.7777777777777778,
              "#fb9f3a"
             ],
             [
              0.8888888888888888,
              "#fdca26"
             ],
             [
              1,
              "#f0f921"
             ]
            ],
            "type": "heatmap"
           }
          ],
          "histogram": [
           {
            "marker": {
             "pattern": {
              "fillmode": "overlay",
              "size": 10,
              "solidity": 0.2
             }
            },
            "type": "histogram"
           }
          ],
          "histogram2d": [
           {
            "colorbar": {
             "outlinewidth": 0,
             "ticks": ""
            },
            "colorscale": [
             [
              0,
              "#0d0887"
             ],
             [
              0.1111111111111111,
              "#46039f"
             ],
             [
              0.2222222222222222,
              "#7201a8"
             ],
             [
              0.3333333333333333,
              "#9c179e"
             ],
             [
              0.4444444444444444,
              "#bd3786"
             ],
             [
              0.5555555555555556,
              "#d8576b"
             ],
             [
              0.6666666666666666,
              "#ed7953"
             ],
             [
              0.7777777777777778,
              "#fb9f3a"
             ],
             [
              0.8888888888888888,
              "#fdca26"
             ],
             [
              1,
              "#f0f921"
             ]
            ],
            "type": "histogram2d"
           }
          ],
          "histogram2dcontour": [
           {
            "colorbar": {
             "outlinewidth": 0,
             "ticks": ""
            },
            "colorscale": [
             [
              0,
              "#0d0887"
             ],
             [
              0.1111111111111111,
              "#46039f"
             ],
             [
              0.2222222222222222,
              "#7201a8"
             ],
             [
              0.3333333333333333,
              "#9c179e"
             ],
             [
              0.4444444444444444,
              "#bd3786"
             ],
             [
              0.5555555555555556,
              "#d8576b"
             ],
             [
              0.6666666666666666,
              "#ed7953"
             ],
             [
              0.7777777777777778,
              "#fb9f3a"
             ],
             [
              0.8888888888888888,
              "#fdca26"
             ],
             [
              1,
              "#f0f921"
             ]
            ],
            "type": "histogram2dcontour"
           }
          ],
          "mesh3d": [
           {
            "colorbar": {
             "outlinewidth": 0,
             "ticks": ""
            },
            "type": "mesh3d"
           }
          ],
          "parcoords": [
           {
            "line": {
             "colorbar": {
              "outlinewidth": 0,
              "ticks": ""
             }
            },
            "type": "parcoords"
           }
          ],
          "pie": [
           {
            "automargin": true,
            "type": "pie"
           }
          ],
          "scatter": [
           {
            "fillpattern": {
             "fillmode": "overlay",
             "size": 10,
             "solidity": 0.2
            },
            "type": "scatter"
           }
          ],
          "scatter3d": [
           {
            "line": {
             "colorbar": {
              "outlinewidth": 0,
              "ticks": ""
             }
            },
            "marker": {
             "colorbar": {
              "outlinewidth": 0,
              "ticks": ""
             }
            },
            "type": "scatter3d"
           }
          ],
          "scattercarpet": [
           {
            "marker": {
             "colorbar": {
              "outlinewidth": 0,
              "ticks": ""
             }
            },
            "type": "scattercarpet"
           }
          ],
          "scattergeo": [
           {
            "marker": {
             "colorbar": {
              "outlinewidth": 0,
              "ticks": ""
             }
            },
            "type": "scattergeo"
           }
          ],
          "scattergl": [
           {
            "marker": {
             "colorbar": {
              "outlinewidth": 0,
              "ticks": ""
             }
            },
            "type": "scattergl"
           }
          ],
          "scattermap": [
           {
            "marker": {
             "colorbar": {
              "outlinewidth": 0,
              "ticks": ""
             }
            },
            "type": "scattermap"
           }
          ],
          "scattermapbox": [
           {
            "marker": {
             "colorbar": {
              "outlinewidth": 0,
              "ticks": ""
             }
            },
            "type": "scattermapbox"
           }
          ],
          "scatterpolar": [
           {
            "marker": {
             "colorbar": {
              "outlinewidth": 0,
              "ticks": ""
             }
            },
            "type": "scatterpolar"
           }
          ],
          "scatterpolargl": [
           {
            "marker": {
             "colorbar": {
              "outlinewidth": 0,
              "ticks": ""
             }
            },
            "type": "scatterpolargl"
           }
          ],
          "scatterternary": [
           {
            "marker": {
             "colorbar": {
              "outlinewidth": 0,
              "ticks": ""
             }
            },
            "type": "scatterternary"
           }
          ],
          "surface": [
           {
            "colorbar": {
             "outlinewidth": 0,
             "ticks": ""
            },
            "colorscale": [
             [
              0,
              "#0d0887"
             ],
             [
              0.1111111111111111,
              "#46039f"
             ],
             [
              0.2222222222222222,
              "#7201a8"
             ],
             [
              0.3333333333333333,
              "#9c179e"
             ],
             [
              0.4444444444444444,
              "#bd3786"
             ],
             [
              0.5555555555555556,
              "#d8576b"
             ],
             [
              0.6666666666666666,
              "#ed7953"
             ],
             [
              0.7777777777777778,
              "#fb9f3a"
             ],
             [
              0.8888888888888888,
              "#fdca26"
             ],
             [
              1,
              "#f0f921"
             ]
            ],
            "type": "surface"
           }
          ],
          "table": [
           {
            "cells": {
             "fill": {
              "color": "#EBF0F8"
             },
             "line": {
              "color": "white"
             }
            },
            "header": {
             "fill": {
              "color": "#C8D4E3"
             },
             "line": {
              "color": "white"
             }
            },
            "type": "table"
           }
          ]
         },
         "layout": {
          "annotationdefaults": {
           "arrowcolor": "#2a3f5f",
           "arrowhead": 0,
           "arrowwidth": 1
          },
          "autotypenumbers": "strict",
          "coloraxis": {
           "colorbar": {
            "outlinewidth": 0,
            "ticks": ""
           }
          },
          "colorscale": {
           "diverging": [
            [
             0,
             "#8e0152"
            ],
            [
             0.1,
             "#c51b7d"
            ],
            [
             0.2,
             "#de77ae"
            ],
            [
             0.3,
             "#f1b6da"
            ],
            [
             0.4,
             "#fde0ef"
            ],
            [
             0.5,
             "#f7f7f7"
            ],
            [
             0.6,
             "#e6f5d0"
            ],
            [
             0.7,
             "#b8e186"
            ],
            [
             0.8,
             "#7fbc41"
            ],
            [
             0.9,
             "#4d9221"
            ],
            [
             1,
             "#276419"
            ]
           ],
           "sequential": [
            [
             0,
             "#0d0887"
            ],
            [
             0.1111111111111111,
             "#46039f"
            ],
            [
             0.2222222222222222,
             "#7201a8"
            ],
            [
             0.3333333333333333,
             "#9c179e"
            ],
            [
             0.4444444444444444,
             "#bd3786"
            ],
            [
             0.5555555555555556,
             "#d8576b"
            ],
            [
             0.6666666666666666,
             "#ed7953"
            ],
            [
             0.7777777777777778,
             "#fb9f3a"
            ],
            [
             0.8888888888888888,
             "#fdca26"
            ],
            [
             1,
             "#f0f921"
            ]
           ],
           "sequentialminus": [
            [
             0,
             "#0d0887"
            ],
            [
             0.1111111111111111,
             "#46039f"
            ],
            [
             0.2222222222222222,
             "#7201a8"
            ],
            [
             0.3333333333333333,
             "#9c179e"
            ],
            [
             0.4444444444444444,
             "#bd3786"
            ],
            [
             0.5555555555555556,
             "#d8576b"
            ],
            [
             0.6666666666666666,
             "#ed7953"
            ],
            [
             0.7777777777777778,
             "#fb9f3a"
            ],
            [
             0.8888888888888888,
             "#fdca26"
            ],
            [
             1,
             "#f0f921"
            ]
           ]
          },
          "colorway": [
           "#636efa",
           "#EF553B",
           "#00cc96",
           "#ab63fa",
           "#FFA15A",
           "#19d3f3",
           "#FF6692",
           "#B6E880",
           "#FF97FF",
           "#FECB52"
          ],
          "font": {
           "color": "#2a3f5f"
          },
          "geo": {
           "bgcolor": "white",
           "lakecolor": "white",
           "landcolor": "white",
           "showlakes": true,
           "showland": true,
           "subunitcolor": "#C8D4E3"
          },
          "hoverlabel": {
           "align": "left"
          },
          "hovermode": "closest",
          "mapbox": {
           "style": "light"
          },
          "paper_bgcolor": "white",
          "plot_bgcolor": "white",
          "polar": {
           "angularaxis": {
            "gridcolor": "#EBF0F8",
            "linecolor": "#EBF0F8",
            "ticks": ""
           },
           "bgcolor": "white",
           "radialaxis": {
            "gridcolor": "#EBF0F8",
            "linecolor": "#EBF0F8",
            "ticks": ""
           }
          },
          "scene": {
           "xaxis": {
            "backgroundcolor": "white",
            "gridcolor": "#DFE8F3",
            "gridwidth": 2,
            "linecolor": "#EBF0F8",
            "showbackground": true,
            "ticks": "",
            "zerolinecolor": "#EBF0F8"
           },
           "yaxis": {
            "backgroundcolor": "white",
            "gridcolor": "#DFE8F3",
            "gridwidth": 2,
            "linecolor": "#EBF0F8",
            "showbackground": true,
            "ticks": "",
            "zerolinecolor": "#EBF0F8"
           },
           "zaxis": {
            "backgroundcolor": "white",
            "gridcolor": "#DFE8F3",
            "gridwidth": 2,
            "linecolor": "#EBF0F8",
            "showbackground": true,
            "ticks": "",
            "zerolinecolor": "#EBF0F8"
           }
          },
          "shapedefaults": {
           "line": {
            "color": "#2a3f5f"
           }
          },
          "ternary": {
           "aaxis": {
            "gridcolor": "#DFE8F3",
            "linecolor": "#A2B1C6",
            "ticks": ""
           },
           "baxis": {
            "gridcolor": "#DFE8F3",
            "linecolor": "#A2B1C6",
            "ticks": ""
           },
           "bgcolor": "white",
           "caxis": {
            "gridcolor": "#DFE8F3",
            "linecolor": "#A2B1C6",
            "ticks": ""
           }
          },
          "title": {
           "x": 0.05
          },
          "xaxis": {
           "automargin": true,
           "gridcolor": "#EBF0F8",
           "linecolor": "#EBF0F8",
           "ticks": "",
           "title": {
            "standoff": 15
           },
           "zerolinecolor": "#EBF0F8",
           "zerolinewidth": 2
          },
          "yaxis": {
           "automargin": true,
           "gridcolor": "#EBF0F8",
           "linecolor": "#EBF0F8",
           "ticks": "",
           "title": {
            "standoff": 15
           },
           "zerolinecolor": "#EBF0F8",
           "zerolinewidth": 2
          }
         }
        },
        "width": 1100,
        "xaxis": {
         "anchor": "y",
         "autorange": true,
         "domain": [
          0,
          1
         ],
         "range": [
          1956.5,
          2020.5
         ],
         "title": {
          "text": "Year"
         },
         "type": "linear"
        },
        "yaxis": {
         "anchor": "x",
         "autorange": true,
         "domain": [
          0,
          1
         ],
         "range": [
          0,
          20
         ],
         "title": {
          "text": "failures_count"
         },
         "type": "linear"
        }
       }
      }
     },
     "metadata": {},
     "output_type": "display_data"
    }
   ],
   "source": [
    "fig = px.bar(failures_yoy, x='Year', y='failures_count',\n",
    "            )\n",
    "fig.update_traces(texttemplate='%{y}',textposition='outside')\n",
    "fig.update_layout(\n",
    "    height=500,\n",
    "    width=1100,\n",
    "    template='plotly_white'\n",
    ")\n",
    "fig.show()"
   ]
  },
  {
   "cell_type": "markdown",
   "metadata": {
    "id": "XNp-NkrJriEF"
   },
   "source": [
    "# Percentage of Failures over Time\n"
   ]
  },
  {
   "cell_type": "code",
   "execution_count": 438,
   "metadata": {
    "id": "Kj3-zsI0rhOS"
   },
   "outputs": [],
   "source": [
    "failures_yoy['failure_per'] =  (failures_yoy['failures_count']/sum(launches_per_year['Launch_Count']) * 100)"
   ]
  },
  {
   "cell_type": "code",
   "execution_count": 439,
   "metadata": {
    "id": "nxnnzx89rwvH"
   },
   "outputs": [
    {
     "data": {
      "application/vnd.plotly.v1+json": {
       "config": {
        "plotlyServerURL": "https://plot.ly"
       },
       "data": [
        {
         "hovertemplate": "Year=%{x}<br>failure_per=%{y}<extra></extra>",
         "legendgroup": "",
         "marker": {
          "color": "#636efa",
          "pattern": {
           "shape": ""
          }
         },
         "name": "",
         "orientation": "v",
         "showlegend": false,
         "textposition": "outside",
         "texttemplate": "%{y:.2f}",
         "type": "bar",
         "x": {
          "_inputArray": {
           "0": 1957,
           "1": 1958,
           "10": 1967,
           "11": 1968,
           "12": 1969,
           "13": 1970,
           "14": 1971,
           "15": 1972,
           "16": 1973,
           "17": 1974,
           "18": 1975,
           "19": 1976,
           "2": 1959,
           "20": 1977,
           "21": 1978,
           "22": 1979,
           "23": 1980,
           "24": 1981,
           "25": 1982,
           "26": 1983,
           "27": 1984,
           "28": 1985,
           "29": 1986,
           "3": 1960,
           "30": 1987,
           "31": 1988,
           "32": 1989,
           "33": 1990,
           "34": 1991,
           "35": 1992,
           "36": 1993,
           "37": 1994,
           "38": 1995,
           "39": 1996,
           "4": 1961,
           "40": 1997,
           "41": 1998,
           "42": 1999,
           "43": 2000,
           "44": 2001,
           "45": 2002,
           "46": 2003,
           "47": 2005,
           "48": 2006,
           "49": 2007,
           "5": 1962,
           "50": 2008,
           "51": 2009,
           "52": 2010,
           "53": 2011,
           "54": 2012,
           "55": 2013,
           "56": 2014,
           "57": 2015,
           "58": 2016,
           "59": 2017,
           "6": 1963,
           "60": 2018,
           "61": 2019,
           "62": 2020,
           "7": 1964,
           "8": 1965,
           "9": 1966,
           "bdata": "pQcAAKYHAACnBwAAqAcAAKkHAACqBwAAqwcAAKwHAACtBwAArgcAAK8HAACwBwAAsQcAALIHAACzBwAAtAcAALUHAAC2BwAAtwcAALgHAAC5BwAAugcAALsHAAC8BwAAvQcAAL4HAAC/BwAAwAcAAMEHAADCBwAAwwcAAMQHAADFBwAAxgcAAMcHAADIBwAAyQcAAMoHAADLBwAAzAcAAM0HAADOBwAAzwcAANAHAADRBwAA0gcAANMHAADVBwAA1gcAANcHAADYBwAA2QcAANoHAADbBwAA3AcAAN0HAADeBwAA3wcAAOAHAADhBwAA4gcAAOMHAADkBwAA",
           "dtype": "i4",
           "shape": "63"
          },
          "bdata": "pQcAAKYHAACnBwAAqAcAAKkHAACqBwAAqwcAAKwHAACtBwAArgcAAK8HAACwBwAAsQcAALIHAACzBwAAtAcAALUHAAC2BwAAtwcAALgHAAC5BwAAugcAALsHAAC8BwAAvQcAAL4HAAC/BwAAwAcAAMEHAADCBwAAwwcAAMQHAADFBwAAxgcAAMcHAADIBwAAyQcAAMoHAADLBwAAzAcAAM0HAADOBwAAzwcAANAHAADRBwAA0gcAANMHAADVBwAA1gcAANcHAADYBwAA2QcAANoHAADbBwAA3AcAAN0HAADeBwAA3wcAAOAHAADhBwAA4gcAAOMHAADkBwAA",
          "dtype": "i4"
         },
         "xaxis": "x",
         "y": {
          "_inputArray": {
           "0": 0.023820867079561697,
           "1": 0.3334921391138637,
           "10": 0.19056693663649357,
           "11": 0.09528346831824679,
           "12": 0.35731300619342543,
           "13": 0.23820867079561697,
           "14": 0.28585040495474034,
           "15": 0.16674606955693186,
           "16": 0.11910433539780849,
           "17": 0.16674606955693186,
           "18": 0.14292520247737017,
           "19": 0.07146260123868509,
           "2": 0.21438780371605526,
           "20": 0.09528346831824679,
           "21": 0.023820867079561697,
           "22": 0.04764173415912339,
           "23": 0.07146260123868509,
           "24": 0.04764173415912339,
           "25": 0.07146260123868509,
           "26": 0.023820867079561697,
           "27": 0.023820867079561697,
           "28": 0.11910433539780849,
           "29": 0.09528346831824679,
           "3": 0.45259647451167223,
           "30": 0.04764173415912339,
           "31": 0.023820867079561697,
           "32": 0.023820867079561697,
           "33": 0.07146260123868509,
           "34": 0.07146260123868509,
           "35": 0.07146260123868509,
           "36": 0.09528346831824679,
           "37": 0.09528346831824679,
           "38": 0.11910433539780849,
           "39": 0.07146260123868509,
           "4": 0.40495474035254886,
           "40": 0.04764173415912339,
           "41": 0.09528346831824679,
           "42": 0.14292520247737017,
           "43": 0.09528346831824679,
           "44": 0.023820867079561697,
           "45": 0.023820867079561697,
           "46": 0.04764173415912339,
           "47": 0.07146260123868509,
           "48": 0.07146260123868509,
           "49": 0.04764173415912339,
           "5": 0.3334921391138637,
           "50": 0.023820867079561697,
           "51": 0.07146260123868509,
           "52": 0.07146260123868509,
           "53": 0.023820867079561697,
           "54": 0.023820867079561697,
           "55": 0.04764173415912339,
           "56": 0.023820867079561697,
           "57": 0.023820867079561697,
           "58": 0.04764173415912339,
           "59": 0.11910433539780849,
           "6": 0.21438780371605526,
           "60": 0.04764173415912339,
           "61": 0.11910433539780849,
           "62": 0.14292520247737017,
           "7": 0.16674606955693186,
           "8": 0.23820867079561697,
           "9": 0.16674606955693186,
           "bdata": "C71GVH9kmD9p5b1p71fVP6yUzz4Pccs/fQAUNFf33D/cKItJx+rZP2nlvWnvV9U/rJTPPg9xyz9p5b1p71fFP05sWCmffc4/aeW9ae9XxT8LvUZUf2TIPwu9RlR/ZLg/OlECXzfe1j9ObFgpn33OP8gNNX9fS9I/aeW9ae9XxT9ObFgpn32+P2nlvWnvV8U/yA01f19Lwj/IDTV/X0uyPwu9RlR/ZLg/C71GVH9kmD8LvUZUf2SoP8gNNX9fS7I/C71GVH9kqD/IDTV/X0uyPwu9RlR/ZJg/C71GVH9kmD9ObFgpn32+Pwu9RlR/ZLg/C71GVH9kqD8LvUZUf2SYPwu9RlR/ZJg/yA01f19Lsj/IDTV/X0uyP8gNNX9fS7I/C71GVH9kuD8LvUZUf2S4P05sWCmffb4/yA01f19Lsj8LvUZUf2SoPwu9RlR/ZLg/yA01f19Lwj8LvUZUf2S4Pwu9RlR/ZJg/C71GVH9kmD8LvUZUf2SoP8gNNX9fS7I/yA01f19Lsj8LvUZUf2SoPwu9RlR/ZJg/yA01f19Lsj/IDTV/X0uyPwu9RlR/ZJg/C71GVH9kmD8LvUZUf2SoPwu9RlR/ZJg/C71GVH9kmD8LvUZUf2SoP05sWCmffb4/C71GVH9kqD9ObFgpn32+P8gNNX9fS8I/",
           "dtype": "f8",
           "shape": "63"
          },
          "bdata": "C71GVH9kmD9p5b1p71fVP6yUzz4Pccs/fQAUNFf33D/cKItJx+rZP2nlvWnvV9U/rJTPPg9xyz9p5b1p71fFP05sWCmffc4/aeW9ae9XxT8LvUZUf2TIPwu9RlR/ZLg/OlECXzfe1j9ObFgpn33OP8gNNX9fS9I/aeW9ae9XxT9ObFgpn32+P2nlvWnvV8U/yA01f19Lwj/IDTV/X0uyPwu9RlR/ZLg/C71GVH9kmD8LvUZUf2SoP8gNNX9fS7I/C71GVH9kqD/IDTV/X0uyPwu9RlR/ZJg/C71GVH9kmD9ObFgpn32+Pwu9RlR/ZLg/C71GVH9kqD8LvUZUf2SYPwu9RlR/ZJg/yA01f19Lsj/IDTV/X0uyP8gNNX9fS7I/C71GVH9kuD8LvUZUf2S4P05sWCmffb4/yA01f19Lsj8LvUZUf2SoPwu9RlR/ZLg/yA01f19Lwj8LvUZUf2S4Pwu9RlR/ZJg/C71GVH9kmD8LvUZUf2SoP8gNNX9fS7I/yA01f19Lsj8LvUZUf2SoPwu9RlR/ZJg/yA01f19Lsj/IDTV/X0uyPwu9RlR/ZJg/C71GVH9kmD8LvUZUf2SoPwu9RlR/ZJg/C71GVH9kmD8LvUZUf2SoP05sWCmffb4/C71GVH9kqD9ObFgpn32+P8gNNX9fS8I/",
          "dtype": "f8"
         },
         "yaxis": "y"
        }
       ],
       "layout": {
        "barmode": "relative",
        "height": 500,
        "legend": {
         "tracegroupgap": 0
        },
        "margin": {
         "t": 60
        },
        "template": {
         "data": {
          "bar": [
           {
            "error_x": {
             "color": "#2a3f5f"
            },
            "error_y": {
             "color": "#2a3f5f"
            },
            "marker": {
             "line": {
              "color": "white",
              "width": 0.5
             },
             "pattern": {
              "fillmode": "overlay",
              "size": 10,
              "solidity": 0.2
             }
            },
            "type": "bar"
           }
          ],
          "barpolar": [
           {
            "marker": {
             "line": {
              "color": "white",
              "width": 0.5
             },
             "pattern": {
              "fillmode": "overlay",
              "size": 10,
              "solidity": 0.2
             }
            },
            "type": "barpolar"
           }
          ],
          "carpet": [
           {
            "aaxis": {
             "endlinecolor": "#2a3f5f",
             "gridcolor": "#C8D4E3",
             "linecolor": "#C8D4E3",
             "minorgridcolor": "#C8D4E3",
             "startlinecolor": "#2a3f5f"
            },
            "baxis": {
             "endlinecolor": "#2a3f5f",
             "gridcolor": "#C8D4E3",
             "linecolor": "#C8D4E3",
             "minorgridcolor": "#C8D4E3",
             "startlinecolor": "#2a3f5f"
            },
            "type": "carpet"
           }
          ],
          "choropleth": [
           {
            "colorbar": {
             "outlinewidth": 0,
             "ticks": ""
            },
            "type": "choropleth"
           }
          ],
          "contour": [
           {
            "colorbar": {
             "outlinewidth": 0,
             "ticks": ""
            },
            "colorscale": [
             [
              0,
              "#0d0887"
             ],
             [
              0.1111111111111111,
              "#46039f"
             ],
             [
              0.2222222222222222,
              "#7201a8"
             ],
             [
              0.3333333333333333,
              "#9c179e"
             ],
             [
              0.4444444444444444,
              "#bd3786"
             ],
             [
              0.5555555555555556,
              "#d8576b"
             ],
             [
              0.6666666666666666,
              "#ed7953"
             ],
             [
              0.7777777777777778,
              "#fb9f3a"
             ],
             [
              0.8888888888888888,
              "#fdca26"
             ],
             [
              1,
              "#f0f921"
             ]
            ],
            "type": "contour"
           }
          ],
          "contourcarpet": [
           {
            "colorbar": {
             "outlinewidth": 0,
             "ticks": ""
            },
            "type": "contourcarpet"
           }
          ],
          "heatmap": [
           {
            "colorbar": {
             "outlinewidth": 0,
             "ticks": ""
            },
            "colorscale": [
             [
              0,
              "#0d0887"
             ],
             [
              0.1111111111111111,
              "#46039f"
             ],
             [
              0.2222222222222222,
              "#7201a8"
             ],
             [
              0.3333333333333333,
              "#9c179e"
             ],
             [
              0.4444444444444444,
              "#bd3786"
             ],
             [
              0.5555555555555556,
              "#d8576b"
             ],
             [
              0.6666666666666666,
              "#ed7953"
             ],
             [
              0.7777777777777778,
              "#fb9f3a"
             ],
             [
              0.8888888888888888,
              "#fdca26"
             ],
             [
              1,
              "#f0f921"
             ]
            ],
            "type": "heatmap"
           }
          ],
          "histogram": [
           {
            "marker": {
             "pattern": {
              "fillmode": "overlay",
              "size": 10,
              "solidity": 0.2
             }
            },
            "type": "histogram"
           }
          ],
          "histogram2d": [
           {
            "colorbar": {
             "outlinewidth": 0,
             "ticks": ""
            },
            "colorscale": [
             [
              0,
              "#0d0887"
             ],
             [
              0.1111111111111111,
              "#46039f"
             ],
             [
              0.2222222222222222,
              "#7201a8"
             ],
             [
              0.3333333333333333,
              "#9c179e"
             ],
             [
              0.4444444444444444,
              "#bd3786"
             ],
             [
              0.5555555555555556,
              "#d8576b"
             ],
             [
              0.6666666666666666,
              "#ed7953"
             ],
             [
              0.7777777777777778,
              "#fb9f3a"
             ],
             [
              0.8888888888888888,
              "#fdca26"
             ],
             [
              1,
              "#f0f921"
             ]
            ],
            "type": "histogram2d"
           }
          ],
          "histogram2dcontour": [
           {
            "colorbar": {
             "outlinewidth": 0,
             "ticks": ""
            },
            "colorscale": [
             [
              0,
              "#0d0887"
             ],
             [
              0.1111111111111111,
              "#46039f"
             ],
             [
              0.2222222222222222,
              "#7201a8"
             ],
             [
              0.3333333333333333,
              "#9c179e"
             ],
             [
              0.4444444444444444,
              "#bd3786"
             ],
             [
              0.5555555555555556,
              "#d8576b"
             ],
             [
              0.6666666666666666,
              "#ed7953"
             ],
             [
              0.7777777777777778,
              "#fb9f3a"
             ],
             [
              0.8888888888888888,
              "#fdca26"
             ],
             [
              1,
              "#f0f921"
             ]
            ],
            "type": "histogram2dcontour"
           }
          ],
          "mesh3d": [
           {
            "colorbar": {
             "outlinewidth": 0,
             "ticks": ""
            },
            "type": "mesh3d"
           }
          ],
          "parcoords": [
           {
            "line": {
             "colorbar": {
              "outlinewidth": 0,
              "ticks": ""
             }
            },
            "type": "parcoords"
           }
          ],
          "pie": [
           {
            "automargin": true,
            "type": "pie"
           }
          ],
          "scatter": [
           {
            "fillpattern": {
             "fillmode": "overlay",
             "size": 10,
             "solidity": 0.2
            },
            "type": "scatter"
           }
          ],
          "scatter3d": [
           {
            "line": {
             "colorbar": {
              "outlinewidth": 0,
              "ticks": ""
             }
            },
            "marker": {
             "colorbar": {
              "outlinewidth": 0,
              "ticks": ""
             }
            },
            "type": "scatter3d"
           }
          ],
          "scattercarpet": [
           {
            "marker": {
             "colorbar": {
              "outlinewidth": 0,
              "ticks": ""
             }
            },
            "type": "scattercarpet"
           }
          ],
          "scattergeo": [
           {
            "marker": {
             "colorbar": {
              "outlinewidth": 0,
              "ticks": ""
             }
            },
            "type": "scattergeo"
           }
          ],
          "scattergl": [
           {
            "marker": {
             "colorbar": {
              "outlinewidth": 0,
              "ticks": ""
             }
            },
            "type": "scattergl"
           }
          ],
          "scattermap": [
           {
            "marker": {
             "colorbar": {
              "outlinewidth": 0,
              "ticks": ""
             }
            },
            "type": "scattermap"
           }
          ],
          "scattermapbox": [
           {
            "marker": {
             "colorbar": {
              "outlinewidth": 0,
              "ticks": ""
             }
            },
            "type": "scattermapbox"
           }
          ],
          "scatterpolar": [
           {
            "marker": {
             "colorbar": {
              "outlinewidth": 0,
              "ticks": ""
             }
            },
            "type": "scatterpolar"
           }
          ],
          "scatterpolargl": [
           {
            "marker": {
             "colorbar": {
              "outlinewidth": 0,
              "ticks": ""
             }
            },
            "type": "scatterpolargl"
           }
          ],
          "scatterternary": [
           {
            "marker": {
             "colorbar": {
              "outlinewidth": 0,
              "ticks": ""
             }
            },
            "type": "scatterternary"
           }
          ],
          "surface": [
           {
            "colorbar": {
             "outlinewidth": 0,
             "ticks": ""
            },
            "colorscale": [
             [
              0,
              "#0d0887"
             ],
             [
              0.1111111111111111,
              "#46039f"
             ],
             [
              0.2222222222222222,
              "#7201a8"
             ],
             [
              0.3333333333333333,
              "#9c179e"
             ],
             [
              0.4444444444444444,
              "#bd3786"
             ],
             [
              0.5555555555555556,
              "#d8576b"
             ],
             [
              0.6666666666666666,
              "#ed7953"
             ],
             [
              0.7777777777777778,
              "#fb9f3a"
             ],
             [
              0.8888888888888888,
              "#fdca26"
             ],
             [
              1,
              "#f0f921"
             ]
            ],
            "type": "surface"
           }
          ],
          "table": [
           {
            "cells": {
             "fill": {
              "color": "#EBF0F8"
             },
             "line": {
              "color": "white"
             }
            },
            "header": {
             "fill": {
              "color": "#C8D4E3"
             },
             "line": {
              "color": "white"
             }
            },
            "type": "table"
           }
          ]
         },
         "layout": {
          "annotationdefaults": {
           "arrowcolor": "#2a3f5f",
           "arrowhead": 0,
           "arrowwidth": 1
          },
          "autotypenumbers": "strict",
          "coloraxis": {
           "colorbar": {
            "outlinewidth": 0,
            "ticks": ""
           }
          },
          "colorscale": {
           "diverging": [
            [
             0,
             "#8e0152"
            ],
            [
             0.1,
             "#c51b7d"
            ],
            [
             0.2,
             "#de77ae"
            ],
            [
             0.3,
             "#f1b6da"
            ],
            [
             0.4,
             "#fde0ef"
            ],
            [
             0.5,
             "#f7f7f7"
            ],
            [
             0.6,
             "#e6f5d0"
            ],
            [
             0.7,
             "#b8e186"
            ],
            [
             0.8,
             "#7fbc41"
            ],
            [
             0.9,
             "#4d9221"
            ],
            [
             1,
             "#276419"
            ]
           ],
           "sequential": [
            [
             0,
             "#0d0887"
            ],
            [
             0.1111111111111111,
             "#46039f"
            ],
            [
             0.2222222222222222,
             "#7201a8"
            ],
            [
             0.3333333333333333,
             "#9c179e"
            ],
            [
             0.4444444444444444,
             "#bd3786"
            ],
            [
             0.5555555555555556,
             "#d8576b"
            ],
            [
             0.6666666666666666,
             "#ed7953"
            ],
            [
             0.7777777777777778,
             "#fb9f3a"
            ],
            [
             0.8888888888888888,
             "#fdca26"
            ],
            [
             1,
             "#f0f921"
            ]
           ],
           "sequentialminus": [
            [
             0,
             "#0d0887"
            ],
            [
             0.1111111111111111,
             "#46039f"
            ],
            [
             0.2222222222222222,
             "#7201a8"
            ],
            [
             0.3333333333333333,
             "#9c179e"
            ],
            [
             0.4444444444444444,
             "#bd3786"
            ],
            [
             0.5555555555555556,
             "#d8576b"
            ],
            [
             0.6666666666666666,
             "#ed7953"
            ],
            [
             0.7777777777777778,
             "#fb9f3a"
            ],
            [
             0.8888888888888888,
             "#fdca26"
            ],
            [
             1,
             "#f0f921"
            ]
           ]
          },
          "colorway": [
           "#636efa",
           "#EF553B",
           "#00cc96",
           "#ab63fa",
           "#FFA15A",
           "#19d3f3",
           "#FF6692",
           "#B6E880",
           "#FF97FF",
           "#FECB52"
          ],
          "font": {
           "color": "#2a3f5f"
          },
          "geo": {
           "bgcolor": "white",
           "lakecolor": "white",
           "landcolor": "white",
           "showlakes": true,
           "showland": true,
           "subunitcolor": "#C8D4E3"
          },
          "hoverlabel": {
           "align": "left"
          },
          "hovermode": "closest",
          "mapbox": {
           "style": "light"
          },
          "paper_bgcolor": "white",
          "plot_bgcolor": "white",
          "polar": {
           "angularaxis": {
            "gridcolor": "#EBF0F8",
            "linecolor": "#EBF0F8",
            "ticks": ""
           },
           "bgcolor": "white",
           "radialaxis": {
            "gridcolor": "#EBF0F8",
            "linecolor": "#EBF0F8",
            "ticks": ""
           }
          },
          "scene": {
           "xaxis": {
            "backgroundcolor": "white",
            "gridcolor": "#DFE8F3",
            "gridwidth": 2,
            "linecolor": "#EBF0F8",
            "showbackground": true,
            "ticks": "",
            "zerolinecolor": "#EBF0F8"
           },
           "yaxis": {
            "backgroundcolor": "white",
            "gridcolor": "#DFE8F3",
            "gridwidth": 2,
            "linecolor": "#EBF0F8",
            "showbackground": true,
            "ticks": "",
            "zerolinecolor": "#EBF0F8"
           },
           "zaxis": {
            "backgroundcolor": "white",
            "gridcolor": "#DFE8F3",
            "gridwidth": 2,
            "linecolor": "#EBF0F8",
            "showbackground": true,
            "ticks": "",
            "zerolinecolor": "#EBF0F8"
           }
          },
          "shapedefaults": {
           "line": {
            "color": "#2a3f5f"
           }
          },
          "ternary": {
           "aaxis": {
            "gridcolor": "#DFE8F3",
            "linecolor": "#A2B1C6",
            "ticks": ""
           },
           "baxis": {
            "gridcolor": "#DFE8F3",
            "linecolor": "#A2B1C6",
            "ticks": ""
           },
           "bgcolor": "white",
           "caxis": {
            "gridcolor": "#DFE8F3",
            "linecolor": "#A2B1C6",
            "ticks": ""
           }
          },
          "title": {
           "x": 0.05
          },
          "xaxis": {
           "automargin": true,
           "gridcolor": "#EBF0F8",
           "linecolor": "#EBF0F8",
           "ticks": "",
           "title": {
            "standoff": 15
           },
           "zerolinecolor": "#EBF0F8",
           "zerolinewidth": 2
          },
          "yaxis": {
           "automargin": true,
           "gridcolor": "#EBF0F8",
           "linecolor": "#EBF0F8",
           "ticks": "",
           "title": {
            "standoff": 15
           },
           "zerolinecolor": "#EBF0F8",
           "zerolinewidth": 2
          }
         }
        },
        "width": 1100,
        "xaxis": {
         "anchor": "y",
         "autorange": true,
         "domain": [
          0,
          1
         ],
         "range": [
          1956.5,
          2020.5
         ],
         "title": {
          "text": "Year"
         },
         "type": "linear"
        },
        "yaxis": {
         "anchor": "x",
         "autorange": true,
         "domain": [
          0,
          1
         ],
         "range": [
          0,
          0.47641734159123394
         ],
         "title": {
          "text": "Failure Percentage"
         },
         "type": "linear"
        }
       }
      }
     },
     "metadata": {},
     "output_type": "display_data"
    }
   ],
   "source": [
    "fig = px.bar(failures_yoy, x='Year', y='failure_per',\n",
    "            )\n",
    "fig.update_traces(texttemplate='%{y:.2f}',textposition='outside')\n",
    "fig.update_layout(\n",
    "    height=500,\n",
    "    width=1100,\n",
    "    template='plotly_white'\n",
    ")\n",
    "fig.update_yaxes(title_text='Failure Percentage')\n",
    "fig.show()"
   ]
  },
  {
   "cell_type": "markdown",
   "metadata": {
    "id": "S5aOC7bGr2OX"
   },
   "source": [
    "# Lead Country in terms of Total Number of Launches"
   ]
  },
  {
   "cell_type": "code",
   "execution_count": 440,
   "metadata": {
    "id": "zgVysedmsOp4"
   },
   "outputs": [
    {
     "data": {
      "application/vnd.plotly.v1+json": {
       "config": {
        "plotlyServerURL": "https://plot.ly"
       },
       "data": [
        {
         "hovertemplate": "Country=%{text}<br>Year=%{x}<br>index=%{y}<extra></extra>",
         "legendgroup": "Kazakhstan",
         "marker": {
          "color": "#636efa",
          "pattern": {
           "shape": ""
          }
         },
         "name": "Kazakhstan",
         "orientation": "v",
         "showlegend": true,
         "text": [
          "Kazakhstan",
          "Kazakhstan",
          "Kazakhstan",
          "Kazakhstan",
          "Kazakhstan"
         ],
         "textposition": "outside",
         "type": "bar",
         "x": {
          "_inputArray": {
           "0": 1957,
           "1": 1963,
           "2": 1964,
           "3": 1965,
           "4": 1967,
           "bdata": "pQcAAKsHAACsBwAArQcAAK8HAAA=",
           "dtype": "i4",
           "shape": "5"
          },
          "bdata": "pQcAAKsHAACsBwAArQcAAK8HAAA=",
          "dtype": "i4"
         },
         "xaxis": "x",
         "y": {
          "_inputArray": {
           "0": 2,
           "1": 16,
           "2": 26,
           "3": 43,
           "4": 38,
           "bdata": "AhAaKyY=",
           "dtype": "i1",
           "shape": "5"
          },
          "bdata": "AhAaKyY=",
          "dtype": "i1"
         },
         "yaxis": "y"
        },
        {
         "hovertemplate": "Country=%{text}<br>Year=%{x}<br>index=%{y}<extra></extra>",
         "legendgroup": "USA",
         "marker": {
          "color": "#EF553B",
          "pattern": {
           "shape": ""
          }
         },
         "name": "USA",
         "orientation": "v",
         "showlegend": true,
         "text": [
          "USA",
          "USA",
          "USA",
          "USA",
          "USA",
          "USA",
          "USA",
          "USA",
          "USA",
          "USA",
          "USA",
          "USA",
          "USA",
          "USA",
          "USA",
          "USA",
          "USA",
          "USA",
          "USA",
          "USA",
          "USA",
          "USA",
          "USA",
          "USA",
          "USA",
          "USA",
          "USA",
          "USA",
          "USA",
          "USA",
          "USA",
          "USA"
         ],
         "textposition": "outside",
         "type": "bar",
         "x": {
          "_inputArray": {
           "0": 1958,
           "1": 1959,
           "10": 1996,
           "11": 1997,
           "12": 1998,
           "13": 1999,
           "14": 2000,
           "15": 2001,
           "16": 2002,
           "17": 2003,
           "18": 2004,
           "19": 2005,
           "2": 1960,
           "20": 2006,
           "21": 2007,
           "22": 2008,
           "23": 2009,
           "24": 2010,
           "25": 2011,
           "26": 2012,
           "27": 2013,
           "28": 2014,
           "29": 2015,
           "3": 1961,
           "30": 2016,
           "31": 2017,
           "4": 1962,
           "5": 1966,
           "6": 1992,
           "7": 1993,
           "8": 1994,
           "9": 1995,
           "bdata": "pgcAAKcHAACoBwAAqQcAAKoHAACuBwAAyAcAAMkHAADKBwAAywcAAMwHAADNBwAAzgcAAM8HAADQBwAA0QcAANIHAADTBwAA1AcAANUHAADWBwAA1wcAANgHAADZBwAA2gcAANsHAADcBwAA3QcAAN4HAADfBwAA4AcAAOEHAAA=",
           "dtype": "i4",
           "shape": "32"
          },
          "bdata": "pgcAAKcHAACoBwAAqQcAAKoHAACuBwAAyAcAAMkHAADKBwAAywcAAMwHAADNBwAAzgcAAM8HAADQBwAA0QcAANIHAADTBwAA1AcAANUHAADWBwAA1wcAANgHAADZBwAA2gcAANsHAADcBwAA3QcAAN4HAADfBwAA4AcAAOEHAAA=",
          "dtype": "i4"
         },
         "xaxis": "x",
         "y": {
          "_inputArray": {
           "0": 17,
           "1": 16,
           "10": 33,
           "11": 38,
           "12": 36,
           "13": 31,
           "14": 28,
           "15": 22,
           "16": 17,
           "17": 23,
           "18": 16,
           "19": 12,
           "2": 30,
           "20": 18,
           "21": 19,
           "22": 15,
           "23": 25,
           "24": 15,
           "25": 18,
           "26": 13,
           "27": 19,
           "28": 23,
           "29": 19,
           "3": 43,
           "30": 25,
           "31": 29,
           "4": 59,
           "5": 47,
           "6": 27,
           "7": 24,
           "8": 26,
           "9": 30,
           "bdata": "ERAeKzsvGxgaHiEmJB8cFhEXEAwSEw8ZDxINExcTGR0=",
           "dtype": "i1",
           "shape": "32"
          },
          "bdata": "ERAeKzsvGxgaHiEmJB8cFhEXEAwSEw8ZDxINExcTGR0=",
          "dtype": "i1"
         },
         "yaxis": "y"
        },
        {
         "hovertemplate": "Country=%{text}<br>Year=%{x}<br>index=%{y}<extra></extra>",
         "legendgroup": "Russian Federation",
         "marker": {
          "color": "#00cc96",
          "pattern": {
           "shape": ""
          }
         },
         "name": "Russian Federation",
         "orientation": "v",
         "showlegend": true,
         "text": [
          "Russian Federation",
          "Russian Federation",
          "Russian Federation",
          "Russian Federation",
          "Russian Federation",
          "Russian Federation",
          "Russian Federation",
          "Russian Federation",
          "Russian Federation",
          "Russian Federation",
          "Russian Federation",
          "Russian Federation",
          "Russian Federation",
          "Russian Federation",
          "Russian Federation",
          "Russian Federation",
          "Russian Federation",
          "Russian Federation",
          "Russian Federation",
          "Russian Federation",
          "Russian Federation",
          "Russian Federation",
          "Russian Federation",
          "Russian Federation"
         ],
         "textposition": "outside",
         "type": "bar",
         "x": {
          "_inputArray": {
           "0": 1968,
           "1": 1969,
           "10": 1978,
           "11": 1979,
           "12": 1980,
           "13": 1981,
           "14": 1982,
           "15": 1983,
           "16": 1984,
           "17": 1985,
           "18": 1986,
           "19": 1987,
           "2": 1970,
           "20": 1988,
           "21": 1989,
           "22": 1990,
           "23": 1991,
           "3": 1971,
           "4": 1972,
           "5": 1973,
           "6": 1974,
           "7": 1975,
           "8": 1976,
           "9": 1977,
           "bdata": "sAcAALEHAACyBwAAswcAALQHAAC1BwAAtgcAALcHAAC4BwAAuQcAALoHAAC7BwAAvAcAAL0HAAC+BwAAvwcAAMAHAADBBwAAwgcAAMMHAADEBwAAxQcAAMYHAADHBwAA",
           "dtype": "i4",
           "shape": "24"
          },
          "bdata": "sAcAALEHAACyBwAAswcAALQHAAC1BwAAtgcAALcHAAC4BwAAuQcAALoHAAC7BwAAvAcAAL0HAAC+BwAAvwcAAMAHAADBBwAAwgcAAMMHAADEBwAAxQcAAMYHAADHBwAA",
          "dtype": "i4"
         },
         "xaxis": "x",
         "y": {
          "_inputArray": {
           "0": 39,
           "1": 45,
           "10": 60,
           "11": 30,
           "12": 33,
           "13": 36,
           "14": 43,
           "15": 39,
           "16": 36,
           "17": 38,
           "18": 41,
           "19": 28,
           "2": 58,
           "20": 25,
           "21": 20,
           "22": 28,
           "23": 24,
           "3": 59,
           "4": 57,
           "5": 65,
           "6": 60,
           "7": 66,
           "8": 65,
           "9": 68,
           "bdata": "Jy06OzlBPEJBRDweISQrJyQmKRwZFBwY",
           "dtype": "i1",
           "shape": "24"
          },
          "bdata": "Jy06OzlBPEJBRDweISQrJyQmKRwZFBwY",
          "dtype": "i1"
         },
         "yaxis": "y"
        },
        {
         "hovertemplate": "Country=%{text}<br>Year=%{x}<br>index=%{y}<extra></extra>",
         "legendgroup": "China",
         "marker": {
          "color": "#ab63fa",
          "pattern": {
           "shape": ""
          }
         },
         "name": "China",
         "orientation": "v",
         "showlegend": true,
         "text": [
          "China",
          "China",
          "China"
         ],
         "textposition": "outside",
         "type": "bar",
         "x": {
          "_inputArray": {
           "0": 2018,
           "1": 2019,
           "2": 2020,
           "bdata": "4gcAAOMHAADkBwAA",
           "dtype": "i4",
           "shape": "3"
          },
          "bdata": "4gcAAOMHAADkBwAA",
          "dtype": "i4"
         },
         "xaxis": "x",
         "y": {
          "_inputArray": {
           "0": 39,
           "1": 34,
           "2": 22,
           "bdata": "JyIW",
           "dtype": "i1",
           "shape": "3"
          },
          "bdata": "JyIW",
          "dtype": "i1"
         },
         "yaxis": "y"
        }
       ],
       "layout": {
        "barmode": "relative",
        "height": 500,
        "legend": {
         "title": {
          "text": "Country"
         },
         "tracegroupgap": 0
        },
        "template": {
         "data": {
          "bar": [
           {
            "error_x": {
             "color": "#2a3f5f"
            },
            "error_y": {
             "color": "#2a3f5f"
            },
            "marker": {
             "line": {
              "color": "white",
              "width": 0.5
             },
             "pattern": {
              "fillmode": "overlay",
              "size": 10,
              "solidity": 0.2
             }
            },
            "type": "bar"
           }
          ],
          "barpolar": [
           {
            "marker": {
             "line": {
              "color": "white",
              "width": 0.5
             },
             "pattern": {
              "fillmode": "overlay",
              "size": 10,
              "solidity": 0.2
             }
            },
            "type": "barpolar"
           }
          ],
          "carpet": [
           {
            "aaxis": {
             "endlinecolor": "#2a3f5f",
             "gridcolor": "#C8D4E3",
             "linecolor": "#C8D4E3",
             "minorgridcolor": "#C8D4E3",
             "startlinecolor": "#2a3f5f"
            },
            "baxis": {
             "endlinecolor": "#2a3f5f",
             "gridcolor": "#C8D4E3",
             "linecolor": "#C8D4E3",
             "minorgridcolor": "#C8D4E3",
             "startlinecolor": "#2a3f5f"
            },
            "type": "carpet"
           }
          ],
          "choropleth": [
           {
            "colorbar": {
             "outlinewidth": 0,
             "ticks": ""
            },
            "type": "choropleth"
           }
          ],
          "contour": [
           {
            "colorbar": {
             "outlinewidth": 0,
             "ticks": ""
            },
            "colorscale": [
             [
              0,
              "#0d0887"
             ],
             [
              0.1111111111111111,
              "#46039f"
             ],
             [
              0.2222222222222222,
              "#7201a8"
             ],
             [
              0.3333333333333333,
              "#9c179e"
             ],
             [
              0.4444444444444444,
              "#bd3786"
             ],
             [
              0.5555555555555556,
              "#d8576b"
             ],
             [
              0.6666666666666666,
              "#ed7953"
             ],
             [
              0.7777777777777778,
              "#fb9f3a"
             ],
             [
              0.8888888888888888,
              "#fdca26"
             ],
             [
              1,
              "#f0f921"
             ]
            ],
            "type": "contour"
           }
          ],
          "contourcarpet": [
           {
            "colorbar": {
             "outlinewidth": 0,
             "ticks": ""
            },
            "type": "contourcarpet"
           }
          ],
          "heatmap": [
           {
            "colorbar": {
             "outlinewidth": 0,
             "ticks": ""
            },
            "colorscale": [
             [
              0,
              "#0d0887"
             ],
             [
              0.1111111111111111,
              "#46039f"
             ],
             [
              0.2222222222222222,
              "#7201a8"
             ],
             [
              0.3333333333333333,
              "#9c179e"
             ],
             [
              0.4444444444444444,
              "#bd3786"
             ],
             [
              0.5555555555555556,
              "#d8576b"
             ],
             [
              0.6666666666666666,
              "#ed7953"
             ],
             [
              0.7777777777777778,
              "#fb9f3a"
             ],
             [
              0.8888888888888888,
              "#fdca26"
             ],
             [
              1,
              "#f0f921"
             ]
            ],
            "type": "heatmap"
           }
          ],
          "histogram": [
           {
            "marker": {
             "pattern": {
              "fillmode": "overlay",
              "size": 10,
              "solidity": 0.2
             }
            },
            "type": "histogram"
           }
          ],
          "histogram2d": [
           {
            "colorbar": {
             "outlinewidth": 0,
             "ticks": ""
            },
            "colorscale": [
             [
              0,
              "#0d0887"
             ],
             [
              0.1111111111111111,
              "#46039f"
             ],
             [
              0.2222222222222222,
              "#7201a8"
             ],
             [
              0.3333333333333333,
              "#9c179e"
             ],
             [
              0.4444444444444444,
              "#bd3786"
             ],
             [
              0.5555555555555556,
              "#d8576b"
             ],
             [
              0.6666666666666666,
              "#ed7953"
             ],
             [
              0.7777777777777778,
              "#fb9f3a"
             ],
             [
              0.8888888888888888,
              "#fdca26"
             ],
             [
              1,
              "#f0f921"
             ]
            ],
            "type": "histogram2d"
           }
          ],
          "histogram2dcontour": [
           {
            "colorbar": {
             "outlinewidth": 0,
             "ticks": ""
            },
            "colorscale": [
             [
              0,
              "#0d0887"
             ],
             [
              0.1111111111111111,
              "#46039f"
             ],
             [
              0.2222222222222222,
              "#7201a8"
             ],
             [
              0.3333333333333333,
              "#9c179e"
             ],
             [
              0.4444444444444444,
              "#bd3786"
             ],
             [
              0.5555555555555556,
              "#d8576b"
             ],
             [
              0.6666666666666666,
              "#ed7953"
             ],
             [
              0.7777777777777778,
              "#fb9f3a"
             ],
             [
              0.8888888888888888,
              "#fdca26"
             ],
             [
              1,
              "#f0f921"
             ]
            ],
            "type": "histogram2dcontour"
           }
          ],
          "mesh3d": [
           {
            "colorbar": {
             "outlinewidth": 0,
             "ticks": ""
            },
            "type": "mesh3d"
           }
          ],
          "parcoords": [
           {
            "line": {
             "colorbar": {
              "outlinewidth": 0,
              "ticks": ""
             }
            },
            "type": "parcoords"
           }
          ],
          "pie": [
           {
            "automargin": true,
            "type": "pie"
           }
          ],
          "scatter": [
           {
            "fillpattern": {
             "fillmode": "overlay",
             "size": 10,
             "solidity": 0.2
            },
            "type": "scatter"
           }
          ],
          "scatter3d": [
           {
            "line": {
             "colorbar": {
              "outlinewidth": 0,
              "ticks": ""
             }
            },
            "marker": {
             "colorbar": {
              "outlinewidth": 0,
              "ticks": ""
             }
            },
            "type": "scatter3d"
           }
          ],
          "scattercarpet": [
           {
            "marker": {
             "colorbar": {
              "outlinewidth": 0,
              "ticks": ""
             }
            },
            "type": "scattercarpet"
           }
          ],
          "scattergeo": [
           {
            "marker": {
             "colorbar": {
              "outlinewidth": 0,
              "ticks": ""
             }
            },
            "type": "scattergeo"
           }
          ],
          "scattergl": [
           {
            "marker": {
             "colorbar": {
              "outlinewidth": 0,
              "ticks": ""
             }
            },
            "type": "scattergl"
           }
          ],
          "scattermap": [
           {
            "marker": {
             "colorbar": {
              "outlinewidth": 0,
              "ticks": ""
             }
            },
            "type": "scattermap"
           }
          ],
          "scattermapbox": [
           {
            "marker": {
             "colorbar": {
              "outlinewidth": 0,
              "ticks": ""
             }
            },
            "type": "scattermapbox"
           }
          ],
          "scatterpolar": [
           {
            "marker": {
             "colorbar": {
              "outlinewidth": 0,
              "ticks": ""
             }
            },
            "type": "scatterpolar"
           }
          ],
          "scatterpolargl": [
           {
            "marker": {
             "colorbar": {
              "outlinewidth": 0,
              "ticks": ""
             }
            },
            "type": "scatterpolargl"
           }
          ],
          "scatterternary": [
           {
            "marker": {
             "colorbar": {
              "outlinewidth": 0,
              "ticks": ""
             }
            },
            "type": "scatterternary"
           }
          ],
          "surface": [
           {
            "colorbar": {
             "outlinewidth": 0,
             "ticks": ""
            },
            "colorscale": [
             [
              0,
              "#0d0887"
             ],
             [
              0.1111111111111111,
              "#46039f"
             ],
             [
              0.2222222222222222,
              "#7201a8"
             ],
             [
              0.3333333333333333,
              "#9c179e"
             ],
             [
              0.4444444444444444,
              "#bd3786"
             ],
             [
              0.5555555555555556,
              "#d8576b"
             ],
             [
              0.6666666666666666,
              "#ed7953"
             ],
             [
              0.7777777777777778,
              "#fb9f3a"
             ],
             [
              0.8888888888888888,
              "#fdca26"
             ],
             [
              1,
              "#f0f921"
             ]
            ],
            "type": "surface"
           }
          ],
          "table": [
           {
            "cells": {
             "fill": {
              "color": "#EBF0F8"
             },
             "line": {
              "color": "white"
             }
            },
            "header": {
             "fill": {
              "color": "#C8D4E3"
             },
             "line": {
              "color": "white"
             }
            },
            "type": "table"
           }
          ]
         },
         "layout": {
          "annotationdefaults": {
           "arrowcolor": "#2a3f5f",
           "arrowhead": 0,
           "arrowwidth": 1
          },
          "autotypenumbers": "strict",
          "coloraxis": {
           "colorbar": {
            "outlinewidth": 0,
            "ticks": ""
           }
          },
          "colorscale": {
           "diverging": [
            [
             0,
             "#8e0152"
            ],
            [
             0.1,
             "#c51b7d"
            ],
            [
             0.2,
             "#de77ae"
            ],
            [
             0.3,
             "#f1b6da"
            ],
            [
             0.4,
             "#fde0ef"
            ],
            [
             0.5,
             "#f7f7f7"
            ],
            [
             0.6,
             "#e6f5d0"
            ],
            [
             0.7,
             "#b8e186"
            ],
            [
             0.8,
             "#7fbc41"
            ],
            [
             0.9,
             "#4d9221"
            ],
            [
             1,
             "#276419"
            ]
           ],
           "sequential": [
            [
             0,
             "#0d0887"
            ],
            [
             0.1111111111111111,
             "#46039f"
            ],
            [
             0.2222222222222222,
             "#7201a8"
            ],
            [
             0.3333333333333333,
             "#9c179e"
            ],
            [
             0.4444444444444444,
             "#bd3786"
            ],
            [
             0.5555555555555556,
             "#d8576b"
            ],
            [
             0.6666666666666666,
             "#ed7953"
            ],
            [
             0.7777777777777778,
             "#fb9f3a"
            ],
            [
             0.8888888888888888,
             "#fdca26"
            ],
            [
             1,
             "#f0f921"
            ]
           ],
           "sequentialminus": [
            [
             0,
             "#0d0887"
            ],
            [
             0.1111111111111111,
             "#46039f"
            ],
            [
             0.2222222222222222,
             "#7201a8"
            ],
            [
             0.3333333333333333,
             "#9c179e"
            ],
            [
             0.4444444444444444,
             "#bd3786"
            ],
            [
             0.5555555555555556,
             "#d8576b"
            ],
            [
             0.6666666666666666,
             "#ed7953"
            ],
            [
             0.7777777777777778,
             "#fb9f3a"
            ],
            [
             0.8888888888888888,
             "#fdca26"
            ],
            [
             1,
             "#f0f921"
            ]
           ]
          },
          "colorway": [
           "#636efa",
           "#EF553B",
           "#00cc96",
           "#ab63fa",
           "#FFA15A",
           "#19d3f3",
           "#FF6692",
           "#B6E880",
           "#FF97FF",
           "#FECB52"
          ],
          "font": {
           "color": "#2a3f5f"
          },
          "geo": {
           "bgcolor": "white",
           "lakecolor": "white",
           "landcolor": "white",
           "showlakes": true,
           "showland": true,
           "subunitcolor": "#C8D4E3"
          },
          "hoverlabel": {
           "align": "left"
          },
          "hovermode": "closest",
          "mapbox": {
           "style": "light"
          },
          "paper_bgcolor": "white",
          "plot_bgcolor": "white",
          "polar": {
           "angularaxis": {
            "gridcolor": "#EBF0F8",
            "linecolor": "#EBF0F8",
            "ticks": ""
           },
           "bgcolor": "white",
           "radialaxis": {
            "gridcolor": "#EBF0F8",
            "linecolor": "#EBF0F8",
            "ticks": ""
           }
          },
          "scene": {
           "xaxis": {
            "backgroundcolor": "white",
            "gridcolor": "#DFE8F3",
            "gridwidth": 2,
            "linecolor": "#EBF0F8",
            "showbackground": true,
            "ticks": "",
            "zerolinecolor": "#EBF0F8"
           },
           "yaxis": {
            "backgroundcolor": "white",
            "gridcolor": "#DFE8F3",
            "gridwidth": 2,
            "linecolor": "#EBF0F8",
            "showbackground": true,
            "ticks": "",
            "zerolinecolor": "#EBF0F8"
           },
           "zaxis": {
            "backgroundcolor": "white",
            "gridcolor": "#DFE8F3",
            "gridwidth": 2,
            "linecolor": "#EBF0F8",
            "showbackground": true,
            "ticks": "",
            "zerolinecolor": "#EBF0F8"
           }
          },
          "shapedefaults": {
           "line": {
            "color": "#2a3f5f"
           }
          },
          "ternary": {
           "aaxis": {
            "gridcolor": "#DFE8F3",
            "linecolor": "#A2B1C6",
            "ticks": ""
           },
           "baxis": {
            "gridcolor": "#DFE8F3",
            "linecolor": "#A2B1C6",
            "ticks": ""
           },
           "bgcolor": "white",
           "caxis": {
            "gridcolor": "#DFE8F3",
            "linecolor": "#A2B1C6",
            "ticks": ""
           }
          },
          "title": {
           "x": 0.05
          },
          "xaxis": {
           "automargin": true,
           "gridcolor": "#EBF0F8",
           "linecolor": "#EBF0F8",
           "ticks": "",
           "title": {
            "standoff": 15
           },
           "zerolinecolor": "#EBF0F8",
           "zerolinewidth": 2
          },
          "yaxis": {
           "automargin": true,
           "gridcolor": "#EBF0F8",
           "linecolor": "#EBF0F8",
           "ticks": "",
           "title": {
            "standoff": 15
           },
           "zerolinecolor": "#EBF0F8",
           "zerolinewidth": 2
          }
         }
        },
        "title": {
         "text": "Lead Country by Rocket Launches (Year-wise)"
        },
        "width": 1100,
        "xaxis": {
         "anchor": "y",
         "autorange": true,
         "domain": [
          0,
          1
         ],
         "dtick": 1,
         "range": [
          1956.5,
          2020.5
         ],
         "title": {
          "text": "Year"
         },
         "type": "linear"
        },
        "yaxis": {
         "anchor": "x",
         "autorange": true,
         "domain": [
          0,
          1
         ],
         "range": [
          0,
          71.57894736842105
         ],
         "title": {
          "text": "index"
         },
         "type": "linear"
        }
       }
      }
     },
     "metadata": {},
     "output_type": "display_data"
    }
   ],
   "source": [
    "lead_country = cleaned_data.groupby(['Year','Country']).agg({'index':'count'}).reset_index()\n",
    "\n",
    "lead_country = (\n",
    "    lead_country.loc[lead_country.groupby('Year')['index'].idxmax()]\n",
    "    .reset_index(drop=True)\n",
    ")\n",
    "\n",
    "fig = px.bar(\n",
    "    lead_country,\n",
    "    x='Year',\n",
    "    y='index',            \n",
    "    color='Country',      \n",
    "    text='Country',         \n",
    "    title='Lead Country by Rocket Launches (Year-wise)',\n",
    "    height=500,\n",
    "    width=1100\n",
    ")\n",
    "\n",
    "fig.update_traces(textposition='outside')\n",
    "fig.update_layout(template='plotly_white', xaxis=dict(dtick=1))\n",
    "fig.show()"
   ]
  },
  {
   "cell_type": "markdown",
   "metadata": {
    "id": "jQcqBfJ8serG"
   },
   "source": [
    "# Year-on-Year Chart Showing the Organisation Doing the Most Number of Launches"
   ]
  },
  {
   "cell_type": "code",
   "execution_count": 441,
   "metadata": {
    "id": "jc9ImQEWsztG"
   },
   "outputs": [],
   "source": [
    "lead_org = cleaned_data.groupby(['Year','Organisation']).agg({'index':'count'}).reset_index()\n",
    "\n",
    "lead_org = (\n",
    "    lead_org.loc[lead_org.groupby('Year')['index'].idxmax()]\n",
    "    .reset_index(drop=True)\n",
    ")\n"
   ]
  },
  {
   "cell_type": "code",
   "execution_count": 442,
   "metadata": {
    "id": "r5frxzwlsz5W"
   },
   "outputs": [
    {
     "data": {
      "application/vnd.plotly.v1+json": {
       "config": {
        "plotlyServerURL": "https://plot.ly"
       },
       "data": [
        {
         "hovertemplate": "Organisation=%{text}<br>Year=%{x}<br>index=%{y}<extra></extra>",
         "legendgroup": "RVSN USSR",
         "marker": {
          "color": "#636efa",
          "pattern": {
           "shape": ""
          }
         },
         "name": "RVSN USSR",
         "orientation": "v",
         "showlegend": true,
         "text": [
          "RVSN USSR",
          "RVSN USSR",
          "RVSN USSR",
          "RVSN USSR",
          "RVSN USSR",
          "RVSN USSR",
          "RVSN USSR",
          "RVSN USSR",
          "RVSN USSR",
          "RVSN USSR",
          "RVSN USSR",
          "RVSN USSR",
          "RVSN USSR",
          "RVSN USSR",
          "RVSN USSR",
          "RVSN USSR",
          "RVSN USSR",
          "RVSN USSR",
          "RVSN USSR",
          "RVSN USSR",
          "RVSN USSR",
          "RVSN USSR",
          "RVSN USSR",
          "RVSN USSR",
          "RVSN USSR",
          "RVSN USSR",
          "RVSN USSR",
          "RVSN USSR",
          "RVSN USSR",
          "RVSN USSR"
         ],
         "textposition": "outside",
         "type": "bar",
         "x": {
          "_inputArray": {
           "0": 1957,
           "1": 1963,
           "10": 1972,
           "11": 1973,
           "12": 1974,
           "13": 1975,
           "14": 1976,
           "15": 1977,
           "16": 1978,
           "17": 1979,
           "18": 1980,
           "19": 1981,
           "2": 1964,
           "20": 1982,
           "21": 1983,
           "22": 1984,
           "23": 1985,
           "24": 1986,
           "25": 1987,
           "26": 1988,
           "27": 1989,
           "28": 1990,
           "29": 1991,
           "3": 1965,
           "4": 1966,
           "5": 1967,
           "6": 1968,
           "7": 1969,
           "8": 1970,
           "9": 1971,
           "bdata": "pQcAAKsHAACsBwAArQcAAK4HAACvBwAAsAcAALEHAACyBwAAswcAALQHAAC1BwAAtgcAALcHAAC4BwAAuQcAALoHAAC7BwAAvAcAAL0HAAC+BwAAvwcAAMAHAADBBwAAwgcAAMMHAADEBwAAxQcAAMYHAADHBwAA",
           "dtype": "i4",
           "shape": "30"
          },
          "bdata": "pQcAAKsHAACsBwAArQcAAK4HAACvBwAAsAcAALEHAACyBwAAswcAALQHAAC1BwAAtgcAALcHAAC4BwAAuQcAALoHAAC7BwAAvAcAAL0HAAC+BwAAvwcAAMAHAADBBwAAwgcAAMMHAADEBwAAxQcAAMYHAADHBwAA",
          "dtype": "i4"
         },
         "xaxis": "x",
         "y": {
          "_inputArray": {
           "0": 2,
           "1": 23,
           "10": 76,
           "11": 81,
           "12": 82,
           "13": 88,
           "14": 93,
           "15": 92,
           "16": 68,
           "17": 33,
           "18": 38,
           "19": 46,
           "2": 33,
           "20": 53,
           "21": 44,
           "22": 40,
           "23": 49,
           "24": 48,
           "25": 40,
           "26": 34,
           "27": 24,
           "28": 34,
           "29": 26,
           "3": 52,
           "4": 50,
           "5": 73,
           "6": 77,
           "7": 82,
           "8": 86,
           "9": 90,
           "bdata": "AhchNDJJTVJWWkxRUlhdXEQhJi41LCgxMCgiGCIa",
           "dtype": "i1",
           "shape": "30"
          },
          "bdata": "AhchNDJJTVJWWkxRUlhdXEQhJi41LCgxMCgiGCIa",
          "dtype": "i1"
         },
         "yaxis": "y"
        },
        {
         "hovertemplate": "Organisation=%{text}<br>Year=%{x}<br>index=%{y}<extra></extra>",
         "legendgroup": "AMBA",
         "marker": {
          "color": "#EF553B",
          "pattern": {
           "shape": ""
          }
         },
         "name": "AMBA",
         "orientation": "v",
         "showlegend": true,
         "text": [
          "AMBA"
         ],
         "textposition": "outside",
         "type": "bar",
         "x": {
          "_inputArray": {
           "0": 1958,
           "bdata": "pgcAAA==",
           "dtype": "i4",
           "shape": "1"
          },
          "bdata": "pgcAAA==",
          "dtype": "i4"
         },
         "xaxis": "x",
         "y": {
          "_inputArray": {
           "0": 7,
           "bdata": "Bw==",
           "dtype": "i1",
           "shape": "1"
          },
          "bdata": "Bw==",
          "dtype": "i1"
         },
         "yaxis": "y"
        },
        {
         "hovertemplate": "Organisation=%{text}<br>Year=%{x}<br>index=%{y}<extra></extra>",
         "legendgroup": "US Air Force",
         "marker": {
          "color": "#00cc96",
          "pattern": {
           "shape": ""
          }
         },
         "name": "US Air Force",
         "orientation": "v",
         "showlegend": true,
         "text": [
          "US Air Force",
          "US Air Force",
          "US Air Force",
          "US Air Force"
         ],
         "textposition": "outside",
         "type": "bar",
         "x": {
          "_inputArray": {
           "0": 1959,
           "1": 1960,
           "2": 1961,
           "3": 1962,
           "bdata": "pwcAAKgHAACpBwAAqgcAAA==",
           "dtype": "i4",
           "shape": "4"
          },
          "bdata": "pwcAAKgHAACpBwAAqgcAAA==",
          "dtype": "i4"
         },
         "xaxis": "x",
         "y": {
          "_inputArray": {
           "0": 10,
           "1": 21,
           "2": 23,
           "3": 40,
           "bdata": "ChUXKA==",
           "dtype": "i1",
           "shape": "4"
          },
          "bdata": "ChUXKA==",
          "dtype": "i1"
         },
         "yaxis": "y"
        },
        {
         "hovertemplate": "Organisation=%{text}<br>Year=%{x}<br>index=%{y}<extra></extra>",
         "legendgroup": "VKS RF",
         "marker": {
          "color": "#ab63fa",
          "pattern": {
           "shape": ""
          }
         },
         "name": "VKS RF",
         "orientation": "v",
         "showlegend": true,
         "text": [
          "VKS RF",
          "VKS RF",
          "VKS RF"
         ],
         "textposition": "outside",
         "type": "bar",
         "x": {
          "_inputArray": {
           "0": 1992,
           "1": 1993,
           "2": 1994,
           "bdata": "yAcAAMkHAADKBwAA",
           "dtype": "i4",
           "shape": "3"
          },
          "bdata": "yAcAAMkHAADKBwAA",
          "dtype": "i4"
         },
         "xaxis": "x",
         "y": {
          "_inputArray": {
           "0": 14,
           "1": 26,
           "2": 19,
           "bdata": "DhoT",
           "dtype": "i1",
           "shape": "3"
          },
          "bdata": "DhoT",
          "dtype": "i1"
         },
         "yaxis": "y"
        },
        {
         "hovertemplate": "Organisation=%{text}<br>Year=%{x}<br>index=%{y}<extra></extra>",
         "legendgroup": "Lockheed",
         "marker": {
          "color": "#FFA15A",
          "pattern": {
           "shape": ""
          }
         },
         "name": "Lockheed",
         "orientation": "v",
         "showlegend": true,
         "text": [
          "Lockheed"
         ],
         "textposition": "outside",
         "type": "bar",
         "x": {
          "_inputArray": {
           "0": 1995,
           "bdata": "ywcAAA==",
           "dtype": "i4",
           "shape": "1"
          },
          "bdata": "ywcAAA==",
          "dtype": "i4"
         },
         "xaxis": "x",
         "y": {
          "_inputArray": {
           "0": 12,
           "bdata": "DA==",
           "dtype": "i1",
           "shape": "1"
          },
          "bdata": "DA==",
          "dtype": "i1"
         },
         "yaxis": "y"
        },
        {
         "hovertemplate": "Organisation=%{text}<br>Year=%{x}<br>index=%{y}<extra></extra>",
         "legendgroup": "Arianespace",
         "marker": {
          "color": "#19d3f3",
          "pattern": {
           "shape": ""
          }
         },
         "name": "Arianespace",
         "orientation": "v",
         "showlegend": true,
         "text": [
          "Arianespace",
          "Arianespace",
          "Arianespace",
          "Arianespace",
          "Arianespace",
          "Arianespace",
          "Arianespace"
         ],
         "textposition": "outside",
         "type": "bar",
         "x": {
          "_inputArray": {
           "0": 1996,
           "1": 1997,
           "2": 2000,
           "3": 2001,
           "4": 2002,
           "5": 2005,
           "6": 2015,
           "bdata": "zAcAAM0HAADQBwAA0QcAANIHAADVBwAA3wcAAA==",
           "dtype": "i4",
           "shape": "7"
          },
          "bdata": "zAcAAM0HAADQBwAA0QcAANIHAADVBwAA3wcAAA==",
          "dtype": "i4"
         },
         "xaxis": "x",
         "y": {
          "_inputArray": {
           "0": 10,
           "1": 11,
           "2": 12,
           "3": 8,
           "4": 12,
           "5": 5,
           "6": 12,
           "bdata": "CgsMCAwFDA==",
           "dtype": "i1",
           "shape": "7"
          },
          "bdata": "CgsMCAwFDA==",
          "dtype": "i1"
         },
         "yaxis": "y"
        },
        {
         "hovertemplate": "Organisation=%{text}<br>Year=%{x}<br>index=%{y}<extra></extra>",
         "legendgroup": "Boeing",
         "marker": {
          "color": "#FF6692",
          "pattern": {
           "shape": ""
          }
         },
         "name": "Boeing",
         "orientation": "v",
         "showlegend": true,
         "text": [
          "Boeing",
          "Boeing",
          "Boeing",
          "Boeing",
          "Boeing"
         ],
         "textposition": "outside",
         "type": "bar",
         "x": {
          "_inputArray": {
           "0": 1998,
           "1": 1999,
           "2": 2003,
           "3": 2004,
           "4": 2006,
           "bdata": "zgcAAM8HAADTBwAA1AcAANYHAAA=",
           "dtype": "i4",
           "shape": "5"
          },
          "bdata": "zgcAAM8HAADTBwAA1AcAANYHAAA=",
          "dtype": "i4"
         },
         "xaxis": "x",
         "y": {
          "_inputArray": {
           "0": 13,
           "1": 11,
           "2": 9,
           "3": 8,
           "4": 8,
           "bdata": "DQsJCAg=",
           "dtype": "i1",
           "shape": "5"
          },
          "bdata": "DQsJCAg=",
          "dtype": "i1"
         },
         "yaxis": "y"
        },
        {
         "hovertemplate": "Organisation=%{text}<br>Year=%{x}<br>index=%{y}<extra></extra>",
         "legendgroup": "ULA",
         "marker": {
          "color": "#B6E880",
          "pattern": {
           "shape": ""
          }
         },
         "name": "ULA",
         "orientation": "v",
         "showlegend": true,
         "text": [
          "ULA",
          "ULA",
          "ULA",
          "ULA",
          "ULA",
          "ULA",
          "ULA"
         ],
         "textposition": "outside",
         "type": "bar",
         "x": {
          "_inputArray": {
           "0": 2007,
           "1": 2009,
           "2": 2010,
           "3": 2011,
           "4": 2012,
           "5": 2013,
           "6": 2014,
           "bdata": "1wcAANkHAADaBwAA2wcAANwHAADdBwAA3gcAAA==",
           "dtype": "i4",
           "shape": "7"
          },
          "bdata": "1wcAANkHAADaBwAA2wcAANwHAADdBwAA3gcAAA==",
          "dtype": "i4"
         },
         "xaxis": "x",
         "y": {
          "_inputArray": {
           "0": 13,
           "1": 16,
           "2": 8,
           "3": 11,
           "4": 10,
           "5": 11,
           "6": 14,
           "bdata": "DRAICwoLDg==",
           "dtype": "i1",
           "shape": "7"
          },
          "bdata": "DRAICwoLDg==",
          "dtype": "i1"
         },
         "yaxis": "y"
        },
        {
         "hovertemplate": "Organisation=%{text}<br>Year=%{x}<br>index=%{y}<extra></extra>",
         "legendgroup": "CASC",
         "marker": {
          "color": "#FF97FF",
          "pattern": {
           "shape": ""
          }
         },
         "name": "CASC",
         "orientation": "v",
         "showlegend": true,
         "text": [
          "CASC",
          "CASC",
          "CASC",
          "CASC",
          "CASC"
         ],
         "textposition": "outside",
         "type": "bar",
         "x": {
          "_inputArray": {
           "0": 2008,
           "1": 2016,
           "2": 2018,
           "3": 2019,
           "4": 2020,
           "bdata": "2AcAAOAHAADiBwAA4wcAAOQHAAA=",
           "dtype": "i4",
           "shape": "5"
          },
          "bdata": "2AcAAOAHAADiBwAA4wcAAOQHAAA=",
          "dtype": "i4"
         },
         "xaxis": "x",
         "y": {
          "_inputArray": {
           "0": 9,
           "1": 22,
           "2": 37,
           "3": 27,
           "4": 19,
           "bdata": "CRYlGxM=",
           "dtype": "i1",
           "shape": "5"
          },
          "bdata": "CRYlGxM=",
          "dtype": "i1"
         },
         "yaxis": "y"
        },
        {
         "hovertemplate": "Organisation=%{text}<br>Year=%{x}<br>index=%{y}<extra></extra>",
         "legendgroup": "SpaceX",
         "marker": {
          "color": "#FECB52",
          "pattern": {
           "shape": ""
          }
         },
         "name": "SpaceX",
         "orientation": "v",
         "showlegend": true,
         "text": [
          "SpaceX"
         ],
         "textposition": "outside",
         "type": "bar",
         "x": {
          "_inputArray": {
           "0": 2017,
           "bdata": "4QcAAA==",
           "dtype": "i4",
           "shape": "1"
          },
          "bdata": "4QcAAA==",
          "dtype": "i4"
         },
         "xaxis": "x",
         "y": {
          "_inputArray": {
           "0": 18,
           "bdata": "Eg==",
           "dtype": "i1",
           "shape": "1"
          },
          "bdata": "Eg==",
          "dtype": "i1"
         },
         "yaxis": "y"
        }
       ],
       "layout": {
        "barmode": "relative",
        "height": 500,
        "legend": {
         "title": {
          "text": "Organisation"
         },
         "tracegroupgap": 0
        },
        "template": {
         "data": {
          "bar": [
           {
            "error_x": {
             "color": "#2a3f5f"
            },
            "error_y": {
             "color": "#2a3f5f"
            },
            "marker": {
             "line": {
              "color": "white",
              "width": 0.5
             },
             "pattern": {
              "fillmode": "overlay",
              "size": 10,
              "solidity": 0.2
             }
            },
            "type": "bar"
           }
          ],
          "barpolar": [
           {
            "marker": {
             "line": {
              "color": "white",
              "width": 0.5
             },
             "pattern": {
              "fillmode": "overlay",
              "size": 10,
              "solidity": 0.2
             }
            },
            "type": "barpolar"
           }
          ],
          "carpet": [
           {
            "aaxis": {
             "endlinecolor": "#2a3f5f",
             "gridcolor": "#C8D4E3",
             "linecolor": "#C8D4E3",
             "minorgridcolor": "#C8D4E3",
             "startlinecolor": "#2a3f5f"
            },
            "baxis": {
             "endlinecolor": "#2a3f5f",
             "gridcolor": "#C8D4E3",
             "linecolor": "#C8D4E3",
             "minorgridcolor": "#C8D4E3",
             "startlinecolor": "#2a3f5f"
            },
            "type": "carpet"
           }
          ],
          "choropleth": [
           {
            "colorbar": {
             "outlinewidth": 0,
             "ticks": ""
            },
            "type": "choropleth"
           }
          ],
          "contour": [
           {
            "colorbar": {
             "outlinewidth": 0,
             "ticks": ""
            },
            "colorscale": [
             [
              0,
              "#0d0887"
             ],
             [
              0.1111111111111111,
              "#46039f"
             ],
             [
              0.2222222222222222,
              "#7201a8"
             ],
             [
              0.3333333333333333,
              "#9c179e"
             ],
             [
              0.4444444444444444,
              "#bd3786"
             ],
             [
              0.5555555555555556,
              "#d8576b"
             ],
             [
              0.6666666666666666,
              "#ed7953"
             ],
             [
              0.7777777777777778,
              "#fb9f3a"
             ],
             [
              0.8888888888888888,
              "#fdca26"
             ],
             [
              1,
              "#f0f921"
             ]
            ],
            "type": "contour"
           }
          ],
          "contourcarpet": [
           {
            "colorbar": {
             "outlinewidth": 0,
             "ticks": ""
            },
            "type": "contourcarpet"
           }
          ],
          "heatmap": [
           {
            "colorbar": {
             "outlinewidth": 0,
             "ticks": ""
            },
            "colorscale": [
             [
              0,
              "#0d0887"
             ],
             [
              0.1111111111111111,
              "#46039f"
             ],
             [
              0.2222222222222222,
              "#7201a8"
             ],
             [
              0.3333333333333333,
              "#9c179e"
             ],
             [
              0.4444444444444444,
              "#bd3786"
             ],
             [
              0.5555555555555556,
              "#d8576b"
             ],
             [
              0.6666666666666666,
              "#ed7953"
             ],
             [
              0.7777777777777778,
              "#fb9f3a"
             ],
             [
              0.8888888888888888,
              "#fdca26"
             ],
             [
              1,
              "#f0f921"
             ]
            ],
            "type": "heatmap"
           }
          ],
          "histogram": [
           {
            "marker": {
             "pattern": {
              "fillmode": "overlay",
              "size": 10,
              "solidity": 0.2
             }
            },
            "type": "histogram"
           }
          ],
          "histogram2d": [
           {
            "colorbar": {
             "outlinewidth": 0,
             "ticks": ""
            },
            "colorscale": [
             [
              0,
              "#0d0887"
             ],
             [
              0.1111111111111111,
              "#46039f"
             ],
             [
              0.2222222222222222,
              "#7201a8"
             ],
             [
              0.3333333333333333,
              "#9c179e"
             ],
             [
              0.4444444444444444,
              "#bd3786"
             ],
             [
              0.5555555555555556,
              "#d8576b"
             ],
             [
              0.6666666666666666,
              "#ed7953"
             ],
             [
              0.7777777777777778,
              "#fb9f3a"
             ],
             [
              0.8888888888888888,
              "#fdca26"
             ],
             [
              1,
              "#f0f921"
             ]
            ],
            "type": "histogram2d"
           }
          ],
          "histogram2dcontour": [
           {
            "colorbar": {
             "outlinewidth": 0,
             "ticks": ""
            },
            "colorscale": [
             [
              0,
              "#0d0887"
             ],
             [
              0.1111111111111111,
              "#46039f"
             ],
             [
              0.2222222222222222,
              "#7201a8"
             ],
             [
              0.3333333333333333,
              "#9c179e"
             ],
             [
              0.4444444444444444,
              "#bd3786"
             ],
             [
              0.5555555555555556,
              "#d8576b"
             ],
             [
              0.6666666666666666,
              "#ed7953"
             ],
             [
              0.7777777777777778,
              "#fb9f3a"
             ],
             [
              0.8888888888888888,
              "#fdca26"
             ],
             [
              1,
              "#f0f921"
             ]
            ],
            "type": "histogram2dcontour"
           }
          ],
          "mesh3d": [
           {
            "colorbar": {
             "outlinewidth": 0,
             "ticks": ""
            },
            "type": "mesh3d"
           }
          ],
          "parcoords": [
           {
            "line": {
             "colorbar": {
              "outlinewidth": 0,
              "ticks": ""
             }
            },
            "type": "parcoords"
           }
          ],
          "pie": [
           {
            "automargin": true,
            "type": "pie"
           }
          ],
          "scatter": [
           {
            "fillpattern": {
             "fillmode": "overlay",
             "size": 10,
             "solidity": 0.2
            },
            "type": "scatter"
           }
          ],
          "scatter3d": [
           {
            "line": {
             "colorbar": {
              "outlinewidth": 0,
              "ticks": ""
             }
            },
            "marker": {
             "colorbar": {
              "outlinewidth": 0,
              "ticks": ""
             }
            },
            "type": "scatter3d"
           }
          ],
          "scattercarpet": [
           {
            "marker": {
             "colorbar": {
              "outlinewidth": 0,
              "ticks": ""
             }
            },
            "type": "scattercarpet"
           }
          ],
          "scattergeo": [
           {
            "marker": {
             "colorbar": {
              "outlinewidth": 0,
              "ticks": ""
             }
            },
            "type": "scattergeo"
           }
          ],
          "scattergl": [
           {
            "marker": {
             "colorbar": {
              "outlinewidth": 0,
              "ticks": ""
             }
            },
            "type": "scattergl"
           }
          ],
          "scattermap": [
           {
            "marker": {
             "colorbar": {
              "outlinewidth": 0,
              "ticks": ""
             }
            },
            "type": "scattermap"
           }
          ],
          "scattermapbox": [
           {
            "marker": {
             "colorbar": {
              "outlinewidth": 0,
              "ticks": ""
             }
            },
            "type": "scattermapbox"
           }
          ],
          "scatterpolar": [
           {
            "marker": {
             "colorbar": {
              "outlinewidth": 0,
              "ticks": ""
             }
            },
            "type": "scatterpolar"
           }
          ],
          "scatterpolargl": [
           {
            "marker": {
             "colorbar": {
              "outlinewidth": 0,
              "ticks": ""
             }
            },
            "type": "scatterpolargl"
           }
          ],
          "scatterternary": [
           {
            "marker": {
             "colorbar": {
              "outlinewidth": 0,
              "ticks": ""
             }
            },
            "type": "scatterternary"
           }
          ],
          "surface": [
           {
            "colorbar": {
             "outlinewidth": 0,
             "ticks": ""
            },
            "colorscale": [
             [
              0,
              "#0d0887"
             ],
             [
              0.1111111111111111,
              "#46039f"
             ],
             [
              0.2222222222222222,
              "#7201a8"
             ],
             [
              0.3333333333333333,
              "#9c179e"
             ],
             [
              0.4444444444444444,
              "#bd3786"
             ],
             [
              0.5555555555555556,
              "#d8576b"
             ],
             [
              0.6666666666666666,
              "#ed7953"
             ],
             [
              0.7777777777777778,
              "#fb9f3a"
             ],
             [
              0.8888888888888888,
              "#fdca26"
             ],
             [
              1,
              "#f0f921"
             ]
            ],
            "type": "surface"
           }
          ],
          "table": [
           {
            "cells": {
             "fill": {
              "color": "#EBF0F8"
             },
             "line": {
              "color": "white"
             }
            },
            "header": {
             "fill": {
              "color": "#C8D4E3"
             },
             "line": {
              "color": "white"
             }
            },
            "type": "table"
           }
          ]
         },
         "layout": {
          "annotationdefaults": {
           "arrowcolor": "#2a3f5f",
           "arrowhead": 0,
           "arrowwidth": 1
          },
          "autotypenumbers": "strict",
          "coloraxis": {
           "colorbar": {
            "outlinewidth": 0,
            "ticks": ""
           }
          },
          "colorscale": {
           "diverging": [
            [
             0,
             "#8e0152"
            ],
            [
             0.1,
             "#c51b7d"
            ],
            [
             0.2,
             "#de77ae"
            ],
            [
             0.3,
             "#f1b6da"
            ],
            [
             0.4,
             "#fde0ef"
            ],
            [
             0.5,
             "#f7f7f7"
            ],
            [
             0.6,
             "#e6f5d0"
            ],
            [
             0.7,
             "#b8e186"
            ],
            [
             0.8,
             "#7fbc41"
            ],
            [
             0.9,
             "#4d9221"
            ],
            [
             1,
             "#276419"
            ]
           ],
           "sequential": [
            [
             0,
             "#0d0887"
            ],
            [
             0.1111111111111111,
             "#46039f"
            ],
            [
             0.2222222222222222,
             "#7201a8"
            ],
            [
             0.3333333333333333,
             "#9c179e"
            ],
            [
             0.4444444444444444,
             "#bd3786"
            ],
            [
             0.5555555555555556,
             "#d8576b"
            ],
            [
             0.6666666666666666,
             "#ed7953"
            ],
            [
             0.7777777777777778,
             "#fb9f3a"
            ],
            [
             0.8888888888888888,
             "#fdca26"
            ],
            [
             1,
             "#f0f921"
            ]
           ],
           "sequentialminus": [
            [
             0,
             "#0d0887"
            ],
            [
             0.1111111111111111,
             "#46039f"
            ],
            [
             0.2222222222222222,
             "#7201a8"
            ],
            [
             0.3333333333333333,
             "#9c179e"
            ],
            [
             0.4444444444444444,
             "#bd3786"
            ],
            [
             0.5555555555555556,
             "#d8576b"
            ],
            [
             0.6666666666666666,
             "#ed7953"
            ],
            [
             0.7777777777777778,
             "#fb9f3a"
            ],
            [
             0.8888888888888888,
             "#fdca26"
            ],
            [
             1,
             "#f0f921"
            ]
           ]
          },
          "colorway": [
           "#636efa",
           "#EF553B",
           "#00cc96",
           "#ab63fa",
           "#FFA15A",
           "#19d3f3",
           "#FF6692",
           "#B6E880",
           "#FF97FF",
           "#FECB52"
          ],
          "font": {
           "color": "#2a3f5f"
          },
          "geo": {
           "bgcolor": "white",
           "lakecolor": "white",
           "landcolor": "white",
           "showlakes": true,
           "showland": true,
           "subunitcolor": "#C8D4E3"
          },
          "hoverlabel": {
           "align": "left"
          },
          "hovermode": "closest",
          "mapbox": {
           "style": "light"
          },
          "paper_bgcolor": "white",
          "plot_bgcolor": "white",
          "polar": {
           "angularaxis": {
            "gridcolor": "#EBF0F8",
            "linecolor": "#EBF0F8",
            "ticks": ""
           },
           "bgcolor": "white",
           "radialaxis": {
            "gridcolor": "#EBF0F8",
            "linecolor": "#EBF0F8",
            "ticks": ""
           }
          },
          "scene": {
           "xaxis": {
            "backgroundcolor": "white",
            "gridcolor": "#DFE8F3",
            "gridwidth": 2,
            "linecolor": "#EBF0F8",
            "showbackground": true,
            "ticks": "",
            "zerolinecolor": "#EBF0F8"
           },
           "yaxis": {
            "backgroundcolor": "white",
            "gridcolor": "#DFE8F3",
            "gridwidth": 2,
            "linecolor": "#EBF0F8",
            "showbackground": true,
            "ticks": "",
            "zerolinecolor": "#EBF0F8"
           },
           "zaxis": {
            "backgroundcolor": "white",
            "gridcolor": "#DFE8F3",
            "gridwidth": 2,
            "linecolor": "#EBF0F8",
            "showbackground": true,
            "ticks": "",
            "zerolinecolor": "#EBF0F8"
           }
          },
          "shapedefaults": {
           "line": {
            "color": "#2a3f5f"
           }
          },
          "ternary": {
           "aaxis": {
            "gridcolor": "#DFE8F3",
            "linecolor": "#A2B1C6",
            "ticks": ""
           },
           "baxis": {
            "gridcolor": "#DFE8F3",
            "linecolor": "#A2B1C6",
            "ticks": ""
           },
           "bgcolor": "white",
           "caxis": {
            "gridcolor": "#DFE8F3",
            "linecolor": "#A2B1C6",
            "ticks": ""
           }
          },
          "title": {
           "x": 0.05
          },
          "xaxis": {
           "automargin": true,
           "gridcolor": "#EBF0F8",
           "linecolor": "#EBF0F8",
           "ticks": "",
           "title": {
            "standoff": 15
           },
           "zerolinecolor": "#EBF0F8",
           "zerolinewidth": 2
          },
          "yaxis": {
           "automargin": true,
           "gridcolor": "#EBF0F8",
           "linecolor": "#EBF0F8",
           "ticks": "",
           "title": {
            "standoff": 15
           },
           "zerolinecolor": "#EBF0F8",
           "zerolinewidth": 2
          }
         }
        },
        "title": {
         "text": "Lead Organisation by Rocket Launches (Year-wise)"
        },
        "width": 1100,
        "xaxis": {
         "anchor": "y",
         "autorange": true,
         "domain": [
          0,
          1
         ],
         "dtick": 1,
         "range": [
          1956.5,
          2020.5
         ],
         "title": {
          "text": "Year"
         },
         "type": "linear"
        },
        "yaxis": {
         "anchor": "x",
         "autorange": true,
         "domain": [
          0,
          1
         ],
         "range": [
          0,
          97.89473684210526
         ],
         "title": {
          "text": "index"
         },
         "type": "linear"
        }
       }
      },
      "image/png": "[encoded data removed]"
     },
     "metadata": {},
     "output_type": "display_data"
    }
   ],
   "source": [
    "fig = px.bar(\n",
    "    lead_org,\n",
    "    x='Year',\n",
    "    y='index',            \n",
    "    color='Organisation',      \n",
    "    text='Organisation',         \n",
    "    title='Lead Organisation by Rocket Launches (Year-wise)',\n",
    "    height=500,\n",
    "    width=1100\n",
    ")\n",
    "\n",
    "fig.update_traces(textposition='outside')\n",
    "fig.update_layout(template='plotly_white', xaxis=dict(dtick=1))\n",
    "fig.show()"
   ]
  }
 ],
 "metadata": {
  "colab": {
   "name": "Space Missions Analysis (start).ipynb",
   "provenance": []
  },
  "kernelspec": {
   "display_name": "Python 3 (ipykernel)",
   "language": "python",
   "name": "python3"
  },
  "language_info": {
   "codemirror_mode": {
    "name": "ipython",
    "version": 3
   },
   "file_extension": ".py",
   "mimetype": "text/x-python",
   "name": "python",
   "nbconvert_exporter": "python",
   "pygments_lexer": "ipython3",
   "version": "3.12.7"
  },
  "papermill": {
   "duration": 28.468597,
   "end_time": "2020-10-20T21:34:26.910951",
   "environment_variables": {},
   "exception": null,
   "input_path": "__notebook__.ipynb",
   "output_path": "__notebook__.ipynb",
   "parameters": {},
   "start_time": "2020-10-20T21:33:58.442354",
   "version": "2.1.0"
  }
 },
 "nbformat": 4,
 "nbformat_minor": 4
}
